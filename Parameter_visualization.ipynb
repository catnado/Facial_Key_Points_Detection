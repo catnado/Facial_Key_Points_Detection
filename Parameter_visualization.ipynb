{
 "cells": [
  {
   "cell_type": "code",
   "execution_count": 1,
   "metadata": {},
   "outputs": [],
   "source": [
    "import pandas as pd\n",
    "import numpy as np\n",
    "\n",
    "from matplotlib import pyplot as plt\n",
    "%matplotlib inline"
   ]
  },
  {
   "cell_type": "code",
   "execution_count": 2,
   "metadata": {},
   "outputs": [],
   "source": [
    "# load data\n",
    "rand_search_output = np.load('random_search_output.npy')\n",
    "result = pd.DataFrame(rand_search_output, columns=['Model_Num', 'Description', 'Validation_RMSE']) "
   ]
  },
  {
   "cell_type": "code",
   "execution_count": 3,
   "metadata": {},
   "outputs": [
    {
     "data": {
      "text/html": [
       "<div>\n",
       "<style scoped>\n",
       "    .dataframe tbody tr th:only-of-type {\n",
       "        vertical-align: middle;\n",
       "    }\n",
       "\n",
       "    .dataframe tbody tr th {\n",
       "        vertical-align: top;\n",
       "    }\n",
       "\n",
       "    .dataframe thead th {\n",
       "        text-align: right;\n",
       "    }\n",
       "</style>\n",
       "<table border=\"1\" class=\"dataframe\">\n",
       "  <thead>\n",
       "    <tr style=\"text-align: right;\">\n",
       "      <th></th>\n",
       "      <th>Model_Num</th>\n",
       "      <th>Description</th>\n",
       "      <th>Validation_RMSE</th>\n",
       "    </tr>\n",
       "  </thead>\n",
       "  <tbody>\n",
       "    <tr>\n",
       "      <th>91</th>\n",
       "      <td>92</td>\n",
       "      <td>ConvLayer-5-Filter-8-64-64-96-128-DenseLayer-2-Neuron-96-32-DropoutLayer-0.00-Activation-PReLU</td>\n",
       "      <td>1.955190703528268</td>\n",
       "    </tr>\n",
       "    <tr>\n",
       "      <th>24</th>\n",
       "      <td>25</td>\n",
       "      <td>ConvLayer-5-Filter-28-64-64-64-256-DenseLayer-2-Neuron-96-96-DropoutLayer-0.00-Activation-relu</td>\n",
       "      <td>1.9595165484292167</td>\n",
       "    </tr>\n",
       "    <tr>\n",
       "      <th>19</th>\n",
       "      <td>20</td>\n",
       "      <td>ConvLayer-5-Filter-8-32-64-128-256-DenseLayer-2-Neuron-96-96-DropoutLayer-0.00-Activation-relu</td>\n",
       "      <td>1.9775424017224994</td>\n",
       "    </tr>\n",
       "    <tr>\n",
       "      <th>58</th>\n",
       "      <td>59</td>\n",
       "      <td>ConvLayer-5-Filter-8-32-128-64-256-DenseLayer-2-Neuron-64-128-DropoutLayer-0.00-Activation-PReLU</td>\n",
       "      <td>1.9776926027025494</td>\n",
       "    </tr>\n",
       "    <tr>\n",
       "      <th>49</th>\n",
       "      <td>50</td>\n",
       "      <td>ConvLayer-5-Filter-16-32-96-64-128-DenseLayer-1-Neuron-96-0-DropoutLayer-0.00-Activation-relu</td>\n",
       "      <td>1.9957137489318848</td>\n",
       "    </tr>\n",
       "  </tbody>\n",
       "</table>\n",
       "</div>"
      ],
      "text/plain": [
       "   Model_Num  \\\n",
       "91        92   \n",
       "24        25   \n",
       "19        20   \n",
       "58        59   \n",
       "49        50   \n",
       "\n",
       "                                                                                         Description  \\\n",
       "91    ConvLayer-5-Filter-8-64-64-96-128-DenseLayer-2-Neuron-96-32-DropoutLayer-0.00-Activation-PReLU   \n",
       "24    ConvLayer-5-Filter-28-64-64-64-256-DenseLayer-2-Neuron-96-96-DropoutLayer-0.00-Activation-relu   \n",
       "19    ConvLayer-5-Filter-8-32-64-128-256-DenseLayer-2-Neuron-96-96-DropoutLayer-0.00-Activation-relu   \n",
       "58  ConvLayer-5-Filter-8-32-128-64-256-DenseLayer-2-Neuron-64-128-DropoutLayer-0.00-Activation-PReLU   \n",
       "49     ConvLayer-5-Filter-16-32-96-64-128-DenseLayer-1-Neuron-96-0-DropoutLayer-0.00-Activation-relu   \n",
       "\n",
       "       Validation_RMSE  \n",
       "91   1.955190703528268  \n",
       "24  1.9595165484292167  \n",
       "19  1.9775424017224994  \n",
       "58  1.9776926027025494  \n",
       "49  1.9957137489318848  "
      ]
     },
     "execution_count": 3,
     "metadata": {},
     "output_type": "execute_result"
    }
   ],
   "source": [
    "pd.options.display.max_colwidth = 1010\n",
    "result.sort_values('Validation_RMSE').head()"
   ]
  },
  {
   "cell_type": "code",
   "execution_count": 4,
   "metadata": {},
   "outputs": [],
   "source": [
    "parameter = []\n",
    "for i in range(result.shape[0]):\n",
    "    par = result['Description'][i].split('-')\n",
    "    parameter.append(par)"
   ]
  },
  {
   "cell_type": "code",
   "execution_count": 5,
   "metadata": {},
   "outputs": [],
   "source": [
    "parameter_df = pd.DataFrame(parameter, columns=['remove1','n_conv_layer','remove2','filter1','filter2','filter3','filter4','filter5','remove3','n_dense_layer','remove4','neuron1','neuron2','remove5','dropout','remove6','activation'])"
   ]
  },
  {
   "cell_type": "code",
   "execution_count": 6,
   "metadata": {},
   "outputs": [],
   "source": [
    "parameter_df.drop(columns=['remove1','remove2','remove3','remove4','remove5','remove6'], inplace=True)"
   ]
  },
  {
   "cell_type": "code",
   "execution_count": 7,
   "metadata": {
    "scrolled": true
   },
   "outputs": [
    {
     "data": {
      "text/html": [
       "<div>\n",
       "<style scoped>\n",
       "    .dataframe tbody tr th:only-of-type {\n",
       "        vertical-align: middle;\n",
       "    }\n",
       "\n",
       "    .dataframe tbody tr th {\n",
       "        vertical-align: top;\n",
       "    }\n",
       "\n",
       "    .dataframe thead th {\n",
       "        text-align: right;\n",
       "    }\n",
       "</style>\n",
       "<table border=\"1\" class=\"dataframe\">\n",
       "  <thead>\n",
       "    <tr style=\"text-align: right;\">\n",
       "      <th></th>\n",
       "      <th>n_conv_layer</th>\n",
       "      <th>filter1</th>\n",
       "      <th>filter2</th>\n",
       "      <th>filter3</th>\n",
       "      <th>filter4</th>\n",
       "      <th>filter5</th>\n",
       "      <th>n_dense_layer</th>\n",
       "      <th>neuron1</th>\n",
       "      <th>neuron2</th>\n",
       "      <th>dropout</th>\n",
       "      <th>activation</th>\n",
       "    </tr>\n",
       "  </thead>\n",
       "  <tbody>\n",
       "    <tr>\n",
       "      <th>0</th>\n",
       "      <td>3</td>\n",
       "      <td>28</td>\n",
       "      <td>28</td>\n",
       "      <td>64</td>\n",
       "      <td>0</td>\n",
       "      <td>0</td>\n",
       "      <td>2</td>\n",
       "      <td>128</td>\n",
       "      <td>128</td>\n",
       "      <td>0.00</td>\n",
       "      <td>drop_activation</td>\n",
       "    </tr>\n",
       "    <tr>\n",
       "      <th>1</th>\n",
       "      <td>4</td>\n",
       "      <td>16</td>\n",
       "      <td>28</td>\n",
       "      <td>96</td>\n",
       "      <td>128</td>\n",
       "      <td>0</td>\n",
       "      <td>1</td>\n",
       "      <td>256</td>\n",
       "      <td>0</td>\n",
       "      <td>0.00</td>\n",
       "      <td>randomized_relu</td>\n",
       "    </tr>\n",
       "    <tr>\n",
       "      <th>2</th>\n",
       "      <td>5</td>\n",
       "      <td>8</td>\n",
       "      <td>32</td>\n",
       "      <td>128</td>\n",
       "      <td>96</td>\n",
       "      <td>256</td>\n",
       "      <td>2</td>\n",
       "      <td>64</td>\n",
       "      <td>32</td>\n",
       "      <td>0.00</td>\n",
       "      <td>relu</td>\n",
       "    </tr>\n",
       "    <tr>\n",
       "      <th>3</th>\n",
       "      <td>3</td>\n",
       "      <td>28</td>\n",
       "      <td>32</td>\n",
       "      <td>128</td>\n",
       "      <td>0</td>\n",
       "      <td>0</td>\n",
       "      <td>1</td>\n",
       "      <td>64</td>\n",
       "      <td>0</td>\n",
       "      <td>0.00</td>\n",
       "      <td>LeakyReLU</td>\n",
       "    </tr>\n",
       "    <tr>\n",
       "      <th>4</th>\n",
       "      <td>3</td>\n",
       "      <td>28</td>\n",
       "      <td>28</td>\n",
       "      <td>64</td>\n",
       "      <td>0</td>\n",
       "      <td>0</td>\n",
       "      <td>1</td>\n",
       "      <td>256</td>\n",
       "      <td>0</td>\n",
       "      <td>0.00</td>\n",
       "      <td>relu</td>\n",
       "    </tr>\n",
       "  </tbody>\n",
       "</table>\n",
       "</div>"
      ],
      "text/plain": [
       "  n_conv_layer filter1 filter2 filter3 filter4 filter5 n_dense_layer neuron1  \\\n",
       "0            3      28      28      64       0       0             2     128   \n",
       "1            4      16      28      96     128       0             1     256   \n",
       "2            5       8      32     128      96     256             2      64   \n",
       "3            3      28      32     128       0       0             1      64   \n",
       "4            3      28      28      64       0       0             1     256   \n",
       "\n",
       "  neuron2 dropout       activation  \n",
       "0     128    0.00  drop_activation  \n",
       "1       0    0.00  randomized_relu  \n",
       "2      32    0.00             relu  \n",
       "3       0    0.00        LeakyReLU  \n",
       "4       0    0.00             relu  "
      ]
     },
     "execution_count": 7,
     "metadata": {},
     "output_type": "execute_result"
    }
   ],
   "source": [
    "parameter_df.head()"
   ]
  },
  {
   "cell_type": "code",
   "execution_count": 8,
   "metadata": {},
   "outputs": [],
   "source": [
    "result2 = pd.concat([result, parameter_df], axis=1)"
   ]
  },
  {
   "cell_type": "code",
   "execution_count": 9,
   "metadata": {
    "scrolled": true
   },
   "outputs": [
    {
     "data": {
      "text/html": [
       "<div>\n",
       "<style scoped>\n",
       "    .dataframe tbody tr th:only-of-type {\n",
       "        vertical-align: middle;\n",
       "    }\n",
       "\n",
       "    .dataframe tbody tr th {\n",
       "        vertical-align: top;\n",
       "    }\n",
       "\n",
       "    .dataframe thead th {\n",
       "        text-align: right;\n",
       "    }\n",
       "</style>\n",
       "<table border=\"1\" class=\"dataframe\">\n",
       "  <thead>\n",
       "    <tr style=\"text-align: right;\">\n",
       "      <th></th>\n",
       "      <th>Model_Num</th>\n",
       "      <th>Description</th>\n",
       "      <th>Validation_RMSE</th>\n",
       "      <th>n_conv_layer</th>\n",
       "      <th>filter1</th>\n",
       "      <th>filter2</th>\n",
       "      <th>filter3</th>\n",
       "      <th>filter4</th>\n",
       "      <th>filter5</th>\n",
       "      <th>n_dense_layer</th>\n",
       "      <th>neuron1</th>\n",
       "      <th>neuron2</th>\n",
       "      <th>dropout</th>\n",
       "      <th>activation</th>\n",
       "    </tr>\n",
       "  </thead>\n",
       "  <tbody>\n",
       "    <tr>\n",
       "      <th>0</th>\n",
       "      <td>1</td>\n",
       "      <td>ConvLayer-3-Filter-28-28-64-0-0-DenseLayer-2-Neuron-128-128-DropoutLayer-0.00-Activation-drop_activation</td>\n",
       "      <td>2.206572147096906</td>\n",
       "      <td>3</td>\n",
       "      <td>28</td>\n",
       "      <td>28</td>\n",
       "      <td>64</td>\n",
       "      <td>0</td>\n",
       "      <td>0</td>\n",
       "      <td>2</td>\n",
       "      <td>128</td>\n",
       "      <td>128</td>\n",
       "      <td>0.00</td>\n",
       "      <td>drop_activation</td>\n",
       "    </tr>\n",
       "    <tr>\n",
       "      <th>1</th>\n",
       "      <td>2</td>\n",
       "      <td>ConvLayer-4-Filter-16-28-96-128-0-DenseLayer-1-Neuron-256-0-DropoutLayer-0.00-Activation-randomized_relu</td>\n",
       "      <td>2.2464510686056953</td>\n",
       "      <td>4</td>\n",
       "      <td>16</td>\n",
       "      <td>28</td>\n",
       "      <td>96</td>\n",
       "      <td>128</td>\n",
       "      <td>0</td>\n",
       "      <td>1</td>\n",
       "      <td>256</td>\n",
       "      <td>0</td>\n",
       "      <td>0.00</td>\n",
       "      <td>randomized_relu</td>\n",
       "    </tr>\n",
       "    <tr>\n",
       "      <th>2</th>\n",
       "      <td>3</td>\n",
       "      <td>ConvLayer-5-Filter-8-32-128-96-256-DenseLayer-2-Neuron-64-32-DropoutLayer-0.00-Activation-relu</td>\n",
       "      <td>2.2190891333988736</td>\n",
       "      <td>5</td>\n",
       "      <td>8</td>\n",
       "      <td>32</td>\n",
       "      <td>128</td>\n",
       "      <td>96</td>\n",
       "      <td>256</td>\n",
       "      <td>2</td>\n",
       "      <td>64</td>\n",
       "      <td>32</td>\n",
       "      <td>0.00</td>\n",
       "      <td>relu</td>\n",
       "    </tr>\n",
       "    <tr>\n",
       "      <th>3</th>\n",
       "      <td>4</td>\n",
       "      <td>ConvLayer-3-Filter-28-32-128-0-0-DenseLayer-1-Neuron-64-0-DropoutLayer-0.00-Activation-LeakyReLU</td>\n",
       "      <td>2.5826294817243305</td>\n",
       "      <td>3</td>\n",
       "      <td>28</td>\n",
       "      <td>32</td>\n",
       "      <td>128</td>\n",
       "      <td>0</td>\n",
       "      <td>0</td>\n",
       "      <td>1</td>\n",
       "      <td>64</td>\n",
       "      <td>0</td>\n",
       "      <td>0.00</td>\n",
       "      <td>LeakyReLU</td>\n",
       "    </tr>\n",
       "    <tr>\n",
       "      <th>4</th>\n",
       "      <td>5</td>\n",
       "      <td>ConvLayer-3-Filter-28-28-64-0-0-DenseLayer-1-Neuron-256-0-DropoutLayer-0.00-Activation-relu</td>\n",
       "      <td>2.457849260057722</td>\n",
       "      <td>3</td>\n",
       "      <td>28</td>\n",
       "      <td>28</td>\n",
       "      <td>64</td>\n",
       "      <td>0</td>\n",
       "      <td>0</td>\n",
       "      <td>1</td>\n",
       "      <td>256</td>\n",
       "      <td>0</td>\n",
       "      <td>0.00</td>\n",
       "      <td>relu</td>\n",
       "    </tr>\n",
       "  </tbody>\n",
       "</table>\n",
       "</div>"
      ],
      "text/plain": [
       "  Model_Num  \\\n",
       "0         1   \n",
       "1         2   \n",
       "2         3   \n",
       "3         4   \n",
       "4         5   \n",
       "\n",
       "                                                                                                Description  \\\n",
       "0  ConvLayer-3-Filter-28-28-64-0-0-DenseLayer-2-Neuron-128-128-DropoutLayer-0.00-Activation-drop_activation   \n",
       "1  ConvLayer-4-Filter-16-28-96-128-0-DenseLayer-1-Neuron-256-0-DropoutLayer-0.00-Activation-randomized_relu   \n",
       "2            ConvLayer-5-Filter-8-32-128-96-256-DenseLayer-2-Neuron-64-32-DropoutLayer-0.00-Activation-relu   \n",
       "3          ConvLayer-3-Filter-28-32-128-0-0-DenseLayer-1-Neuron-64-0-DropoutLayer-0.00-Activation-LeakyReLU   \n",
       "4               ConvLayer-3-Filter-28-28-64-0-0-DenseLayer-1-Neuron-256-0-DropoutLayer-0.00-Activation-relu   \n",
       "\n",
       "      Validation_RMSE n_conv_layer filter1 filter2 filter3 filter4 filter5  \\\n",
       "0   2.206572147096906            3      28      28      64       0       0   \n",
       "1  2.2464510686056953            4      16      28      96     128       0   \n",
       "2  2.2190891333988736            5       8      32     128      96     256   \n",
       "3  2.5826294817243305            3      28      32     128       0       0   \n",
       "4   2.457849260057722            3      28      28      64       0       0   \n",
       "\n",
       "  n_dense_layer neuron1 neuron2 dropout       activation  \n",
       "0             2     128     128    0.00  drop_activation  \n",
       "1             1     256       0    0.00  randomized_relu  \n",
       "2             2      64      32    0.00             relu  \n",
       "3             1      64       0    0.00        LeakyReLU  \n",
       "4             1     256       0    0.00             relu  "
      ]
     },
     "execution_count": 9,
     "metadata": {},
     "output_type": "execute_result"
    }
   ],
   "source": [
    "result2.head()"
   ]
  },
  {
   "cell_type": "code",
   "execution_count": 11,
   "metadata": {},
   "outputs": [],
   "source": [
    "result2['Validation_RMSE'] = result2['Validation_RMSE'].astype(float)"
   ]
  },
  {
   "cell_type": "code",
   "execution_count": 12,
   "metadata": {},
   "outputs": [
    {
     "data": {
      "text/plain": [
       "2.3464978591733066"
      ]
     },
     "execution_count": 12,
     "metadata": {},
     "output_type": "execute_result"
    }
   ],
   "source": [
    "result2['Validation_RMSE'].mean()"
   ]
  },
  {
   "cell_type": "code",
   "execution_count": 13,
   "metadata": {},
   "outputs": [
    {
     "data": {
      "text/plain": [
       "activation\n",
       "LeakyReLU          2.477025\n",
       "PReLU              2.235025\n",
       "drop_activation    2.270841\n",
       "randomized_relu    2.362754\n",
       "relu               2.360527\n",
       "Name: Validation_RMSE, dtype: float64"
      ]
     },
     "execution_count": 13,
     "metadata": {},
     "output_type": "execute_result"
    }
   ],
   "source": [
    "group_activation = result2.groupby('activation')['Validation_RMSE'].mean()\n",
    "group_activation"
   ]
  },
  {
   "cell_type": "code",
   "execution_count": 14,
   "metadata": {},
   "outputs": [
    {
     "data": {
      "text/plain": [
       "n_conv_layer\n",
       "2    2.673213\n",
       "3    2.423291\n",
       "4    2.216832\n",
       "5    2.150855\n",
       "Name: Validation_RMSE, dtype: float64"
      ]
     },
     "execution_count": 14,
     "metadata": {},
     "output_type": "execute_result"
    }
   ],
   "source": [
    "group_conv_layer = result2.groupby('n_conv_layer')['Validation_RMSE'].mean()\n",
    "group_conv_layer"
   ]
  },
  {
   "cell_type": "code",
   "execution_count": 15,
   "metadata": {},
   "outputs": [
    {
     "data": {
      "text/plain": [
       "n_dense_layer\n",
       "1    2.419166\n",
       "2    2.279253\n",
       "Name: Validation_RMSE, dtype: float64"
      ]
     },
     "execution_count": 15,
     "metadata": {},
     "output_type": "execute_result"
    }
   ],
   "source": [
    "group_dense_layer = result2.groupby('n_dense_layer')['Validation_RMSE'].mean()\n",
    "group_dense_layer"
   ]
  },
  {
   "cell_type": "code",
   "execution_count": 16,
   "metadata": {},
   "outputs": [],
   "source": [
    "result2['dropout_layer'] = (result2['dropout']!='0.00')"
   ]
  },
  {
   "cell_type": "code",
   "execution_count": 17,
   "metadata": {},
   "outputs": [
    {
     "data": {
      "text/plain": [
       "dropout_layer\n",
       "False    2.324616\n",
       "True     5.147373\n",
       "Name: Validation_RMSE, dtype: float64"
      ]
     },
     "execution_count": 17,
     "metadata": {},
     "output_type": "execute_result"
    }
   ],
   "source": [
    "group_dropout = result2.groupby('dropout_layer')['Validation_RMSE'].mean()\n",
    "group_dropout"
   ]
  },
  {
   "cell_type": "code",
   "execution_count": 18,
   "metadata": {
    "scrolled": true
   },
   "outputs": [
    {
     "data": {
      "text/plain": [
       "activation\n",
       "LeakyReLU          2.477025\n",
       "PReLU              2.235025\n",
       "drop_activation    2.270841\n",
       "randomized_relu    2.362754\n",
       "relu               2.360527\n",
       "Name: Validation_RMSE, dtype: float64"
      ]
     },
     "execution_count": 18,
     "metadata": {},
     "output_type": "execute_result"
    }
   ],
   "source": [
    "group_activation"
   ]
  },
  {
   "cell_type": "code",
   "execution_count": 19,
   "metadata": {},
   "outputs": [],
   "source": [
    "group_activation2 = group_activation.to_frame().reset_index()\n",
    "group_conv_layer2 = group_conv_layer.to_frame().reset_index()\n",
    "group_dense_layer2 = group_dense_layer.to_frame().reset_index()\n",
    "group_dropout2 = group_dropout.to_frame().reset_index()"
   ]
  },
  {
   "cell_type": "code",
   "execution_count": 25,
   "metadata": {
    "scrolled": true
   },
   "outputs": [],
   "source": [
    "group_activation2.loc[2, 'activation'] = 'Drop Activation'\n",
    "group_activation2.loc[3, 'activation'] = 'Randomized ReLU'\n",
    "group_activation2.loc[4, 'activation'] = 'ReLU'"
   ]
  },
  {
   "cell_type": "code",
   "execution_count": 26,
   "metadata": {},
   "outputs": [
    {
     "data": {
      "text/html": [
       "<div>\n",
       "<style scoped>\n",
       "    .dataframe tbody tr th:only-of-type {\n",
       "        vertical-align: middle;\n",
       "    }\n",
       "\n",
       "    .dataframe tbody tr th {\n",
       "        vertical-align: top;\n",
       "    }\n",
       "\n",
       "    .dataframe thead th {\n",
       "        text-align: right;\n",
       "    }\n",
       "</style>\n",
       "<table border=\"1\" class=\"dataframe\">\n",
       "  <thead>\n",
       "    <tr style=\"text-align: right;\">\n",
       "      <th></th>\n",
       "      <th>activation</th>\n",
       "      <th>Validation_RMSE</th>\n",
       "    </tr>\n",
       "  </thead>\n",
       "  <tbody>\n",
       "    <tr>\n",
       "      <th>0</th>\n",
       "      <td>LeakyReLU</td>\n",
       "      <td>2.477025</td>\n",
       "    </tr>\n",
       "    <tr>\n",
       "      <th>1</th>\n",
       "      <td>PReLU</td>\n",
       "      <td>2.235025</td>\n",
       "    </tr>\n",
       "    <tr>\n",
       "      <th>2</th>\n",
       "      <td>Drop Activation</td>\n",
       "      <td>2.270841</td>\n",
       "    </tr>\n",
       "    <tr>\n",
       "      <th>3</th>\n",
       "      <td>Randomized ReLU</td>\n",
       "      <td>2.362754</td>\n",
       "    </tr>\n",
       "    <tr>\n",
       "      <th>4</th>\n",
       "      <td>ReLU</td>\n",
       "      <td>2.360527</td>\n",
       "    </tr>\n",
       "  </tbody>\n",
       "</table>\n",
       "</div>"
      ],
      "text/plain": [
       "        activation  Validation_RMSE\n",
       "0        LeakyReLU         2.477025\n",
       "1            PReLU         2.235025\n",
       "2  Drop Activation         2.270841\n",
       "3  Randomized ReLU         2.362754\n",
       "4             ReLU         2.360527"
      ]
     },
     "execution_count": 26,
     "metadata": {},
     "output_type": "execute_result"
    }
   ],
   "source": [
    "group_activation2"
   ]
  },
  {
   "cell_type": "code",
   "execution_count": 27,
   "metadata": {},
   "outputs": [
    {
     "data": {
      "image/png": "[encoded data removed]",
      "text/plain": [
       "<Figure size 648x360 with 1 Axes>"
      ]
     },
     "metadata": {},
     "output_type": "display_data"
    }
   ],
   "source": [
    "fig = plt.subplots(figsize=(9, 5))\n",
    "plt.bar(group_activation2['activation'], group_activation2['Validation_RMSE'])\n",
    "plt.xlabel('Activation', fontsize=10)\n",
    "plt.ylabel('Validation RMSE', fontsize=10)\n",
    "plt.title('Validation RMSE by Activation')\n",
    "plt.ylim([2,2.5])\n",
    "plt.show()"
   ]
  },
  {
   "cell_type": "code",
   "execution_count": 74,
   "metadata": {},
   "outputs": [
    {
     "data": {
      "image/png": "[encoded data removed]",
      "text/plain": [
       "<Figure size 648x360 with 1 Axes>"
      ]
     },
     "metadata": {},
     "output_type": "display_data"
    }
   ],
   "source": [
    "fig = plt.subplots(figsize=(9, 5))\n",
    "plt.bar(group_conv_layer2['n_conv_layer'], group_conv_layer2['Validation_RMSE'])\n",
    "plt.xlabel('Number of Convolutional Layers', fontsize=10)\n",
    "plt.ylabel('Validation RMSE', fontsize=10)\n",
    "plt.title('Validation RMSE by Number of Convolutional Layers')\n",
    "plt.ylim([2,2.8])\n",
    "plt.show()"
   ]
  },
  {
   "cell_type": "code",
   "execution_count": 78,
   "metadata": {
    "scrolled": true
   },
   "outputs": [
    {
     "data": {
      "image/png": "[encoded data removed]",
      "text/plain": [
       "<Figure size 648x360 with 1 Axes>"
      ]
     },
     "metadata": {},
     "output_type": "display_data"
    }
   ],
   "source": [
    "fig = plt.subplots(figsize=(9, 5))\n",
    "plt.bar(group_dense_layer2['n_dense_layer'], group_dense_layer2['Validation_RMSE'])\n",
    "plt.xlabel('Number of Dense Layers', fontsize=10)\n",
    "plt.ylabel('Validation RMSE', fontsize=10)\n",
    "plt.title('Validation RMSE by Number of Dense Layers')\n",
    "plt.ylim([2,2.5])\n",
    "plt.show()"
   ]
  },
  {
   "cell_type": "code",
   "execution_count": 83,
   "metadata": {},
   "outputs": [
    {
     "data": {
      "image/png": "[encoded data removed]",
      "text/plain": [
       "<Figure size 648x360 with 1 Axes>"
      ]
     },
     "metadata": {},
     "output_type": "display_data"
    }
   ],
   "source": [
    "fig = plt.subplots(figsize=(9, 5))\n",
    "plt.bar(group_dropout2['dropout_layer'], group_dropout2['Validation_RMSE'])\n",
    "plt.xlabel('Dropout Layer', fontsize=10)\n",
    "plt.ylabel('Validation RMSE', fontsize=10)\n",
    "plt.title('Validation RMSE by Dropout Layer')\n",
    "plt.ylim([2,5.5])\n",
    "plt.show()"
   ]
  },
  {
   "cell_type": "code",
   "execution_count": null,
   "metadata": {},
   "outputs": [],
   "source": []
  }
 ],
 "metadata": {
  "kernelspec": {
   "display_name": "Python 3",
   "language": "python",
   "name": "python3"
  },
  "language_info": {
   "codemirror_mode": {
    "name": "ipython",
    "version": 3
   },
   "file_extension": ".py",
   "mimetype": "text/x-python",
   "name": "python",
   "nbconvert_exporter": "python",
   "pygments_lexer": "ipython3",
   "version": "3.6.4"
  }
 },
 "nbformat": 4,
 "nbformat_minor": 2
}
