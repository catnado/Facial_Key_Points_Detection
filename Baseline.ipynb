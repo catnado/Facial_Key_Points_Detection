{
 "cells": [
  {
   "cell_type": "code",
   "execution_count": 1,
   "metadata": {},
   "outputs": [
    {
     "name": "stderr",
     "output_type": "stream",
     "text": [
      "/anaconda3/lib/python3.6/site-packages/h5py/__init__.py:36: FutureWarning: Conversion of the second argument of issubdtype from `float` to `np.floating` is deprecated. In future, it will be treated as `np.float64 == np.dtype(float).type`.\n",
      "  from ._conv import register_converters as _register_converters\n",
      "Using TensorFlow backend.\n"
     ]
    }
   ],
   "source": [
    "import pandas as pd\n",
    "import numpy as np\n",
    " \n",
    "from keras.models import Sequential\n",
    "from keras.layers import Dense, Dropout, Activation, Flatten\n",
    "from keras.layers import Conv2D, MaxPooling2D, ZeroPadding2D\n",
    "from keras.utils import np_utils\n",
    "from keras import backend as K\n",
    "\n",
    "from matplotlib import pyplot as plt\n",
    "%matplotlib inline"
   ]
  },
  {
   "cell_type": "code",
   "execution_count": 2,
   "metadata": {},
   "outputs": [],
   "source": [
    "# read in data\n",
    "training = pd.read_csv(\"all/training.csv\")"
   ]
  },
  {
   "cell_type": "code",
   "execution_count": 3,
   "metadata": {},
   "outputs": [
    {
     "data": {
      "text/plain": [
       "(7049, 31)"
      ]
     },
     "execution_count": 3,
     "metadata": {},
     "output_type": "execute_result"
    }
   ],
   "source": [
    "training.shape"
   ]
  },
  {
   "cell_type": "code",
   "execution_count": 4,
   "metadata": {
    "scrolled": false
   },
   "outputs": [
    {
     "data": {
      "text/plain": [
       "Index(['left_eye_center_x', 'left_eye_center_y', 'right_eye_center_x',\n",
       "       'right_eye_center_y', 'left_eye_inner_corner_x',\n",
       "       'left_eye_inner_corner_y', 'left_eye_outer_corner_x',\n",
       "       'left_eye_outer_corner_y', 'right_eye_inner_corner_x',\n",
       "       'right_eye_inner_corner_y', 'right_eye_outer_corner_x',\n",
       "       'right_eye_outer_corner_y', 'left_eyebrow_inner_end_x',\n",
       "       'left_eyebrow_inner_end_y', 'left_eyebrow_outer_end_x',\n",
       "       'left_eyebrow_outer_end_y', 'right_eyebrow_inner_end_x',\n",
       "       'right_eyebrow_inner_end_y', 'right_eyebrow_outer_end_x',\n",
       "       'right_eyebrow_outer_end_y', 'nose_tip_x', 'nose_tip_y',\n",
       "       'mouth_left_corner_x', 'mouth_left_corner_y', 'mouth_right_corner_x',\n",
       "       'mouth_right_corner_y', 'mouth_center_top_lip_x',\n",
       "       'mouth_center_top_lip_y', 'mouth_center_bottom_lip_x',\n",
       "       'mouth_center_bottom_lip_y', 'Image'],\n",
       "      dtype='object')"
      ]
     },
     "execution_count": 4,
     "metadata": {},
     "output_type": "execute_result"
    }
   ],
   "source": [
    "training.columns"
   ]
  },
  {
   "cell_type": "code",
   "execution_count": 5,
   "metadata": {
    "scrolled": true
   },
   "outputs": [],
   "source": [
    "# shuffle dataset for training/validation split later\n",
    "np.random.seed(666)\n",
    "shuffle = np.random.permutation(np.arange(training.shape[0]))\n",
    "training = training.iloc[shuffle].reset_index(drop=True)"
   ]
  },
  {
   "cell_type": "code",
   "execution_count": 6,
   "metadata": {},
   "outputs": [],
   "source": [
    "# split out image values\n",
    "image = []\n",
    "for i in range(training.shape[0]):\n",
    "    img = training['Image'][i].split(' ')\n",
    "    img = ['0' if j == '' else j for j in img]\n",
    "    image.append(img)"
   ]
  },
  {
   "cell_type": "code",
   "execution_count": 7,
   "metadata": {},
   "outputs": [
    {
     "name": "stdout",
     "output_type": "stream",
     "text": [
      "(5640, 9216) (1409, 9216)\n"
     ]
    }
   ],
   "source": [
    "# create training and validation set (80/20 split)\n",
    "X = np.array(image, dtype = 'float')\n",
    "X_train, X_val = X[:5640], X[5640:]\n",
    "print(X_train.shape, X_val.shape)"
   ]
  },
  {
   "cell_type": "code",
   "execution_count": 8,
   "metadata": {},
   "outputs": [
    {
     "name": "stdout",
     "output_type": "stream",
     "text": [
      "(5640, 30) (1409, 30)\n"
     ]
    }
   ],
   "source": [
    "# create training and validation labels (80/20 split)\n",
    "labels = training.drop('Image', axis=1)\n",
    "y = np.array(labels, dtype = 'float')\n",
    "y_train, y_val = y[:5640], y[5640:]\n",
    "print(y_train.shape, y_val.shape)"
   ]
  },
  {
   "cell_type": "code",
   "execution_count": 9,
   "metadata": {},
   "outputs": [
    {
     "name": "stdout",
     "output_type": "stream",
     "text": [
      "(1692, 9216)\n",
      "(1692, 30)\n",
      "(448, 9216)\n",
      "(448, 30)\n"
     ]
    }
   ],
   "source": [
    "# remove missing labels for now\n",
    "X_train_nm = X_train[~np.isnan(y_train).any(axis=1)]\n",
    "y_train_nm = y_train[~np.isnan(y_train).any(axis=1)]\n",
    "X_val_nm = X_val[~np.isnan(y_val).any(axis=1)]\n",
    "y_val_nm = y_val[~np.isnan(y_val).any(axis=1)]\n",
    "print(X_train_nm.shape)\n",
    "print(y_train_nm.shape)\n",
    "print(X_val_nm.shape)\n",
    "print(y_val_nm.shape)"
   ]
  },
  {
   "cell_type": "code",
   "execution_count": 18,
   "metadata": {
    "scrolled": true
   },
   "outputs": [
    {
     "data": {
      "image/png": "[encoded data removed]",
      "text/plain": [
       "<Figure size 432x288 with 1 Axes>"
      ]
     },
     "metadata": {},
     "output_type": "display_data"
    }
   ],
   "source": [
    "# show image\n",
    "plt.imshow(X_train[666].reshape(96,96),cmap='gray')\n",
    "plt.show()"
   ]
  },
  {
   "cell_type": "markdown",
   "metadata": {},
   "source": [
    "## Baseline: Single Layer CNN with 10 Filters"
   ]
  },
  {
   "cell_type": "code",
   "execution_count": 11,
   "metadata": {},
   "outputs": [],
   "source": [
    "# reshape data for CNN input\n",
    "X_train_nm = X_train_nm.reshape(-1,96,96,1)\n",
    "X_val_nm = X_val_nm.reshape(-1,96,96,1)"
   ]
  },
  {
   "cell_type": "code",
   "execution_count": 12,
   "metadata": {},
   "outputs": [
    {
     "name": "stdout",
     "output_type": "stream",
     "text": [
      "Train on 1692 samples, validate on 448 samples\n",
      "Epoch 1/100\n",
      " - 2s - loss: 157.4355 - rmse: 157.4355 - mean_absolute_error: 134.8308 - mean_absolute_percentage_error: 334.0724 - val_loss: 19.5005 - val_rmse: 19.5005 - val_mean_absolute_error: 15.6962 - val_mean_absolute_percentage_error: 36.8571\n",
      "Epoch 2/100\n",
      " - 0s - loss: 15.7564 - rmse: 15.7564 - mean_absolute_error: 12.1876 - mean_absolute_percentage_error: 28.3079 - val_loss: 13.4240 - val_rmse: 13.4240 - val_mean_absolute_error: 10.3125 - val_mean_absolute_percentage_error: 23.3446\n",
      "Epoch 3/100\n",
      " - 0s - loss: 10.5585 - rmse: 10.5585 - mean_absolute_error: 8.0859 - mean_absolute_percentage_error: 18.4176 - val_loss: 10.1900 - val_rmse: 10.1900 - val_mean_absolute_error: 7.7567 - val_mean_absolute_percentage_error: 16.9041\n",
      "Epoch 4/100\n",
      " - 0s - loss: 8.4136 - rmse: 8.4136 - mean_absolute_error: 6.3866 - mean_absolute_percentage_error: 14.2490 - val_loss: 9.4508 - val_rmse: 9.4508 - val_mean_absolute_error: 7.0419 - val_mean_absolute_percentage_error: 15.9689\n",
      "Epoch 5/100\n",
      " - 1s - loss: 6.8254 - rmse: 6.8254 - mean_absolute_error: 5.1126 - mean_absolute_percentage_error: 11.4190 - val_loss: 10.5169 - val_rmse: 10.5169 - val_mean_absolute_error: 7.5069 - val_mean_absolute_percentage_error: 16.4543\n",
      "Epoch 6/100\n",
      " - 0s - loss: 6.3029 - rmse: 6.3029 - mean_absolute_error: 4.6754 - mean_absolute_percentage_error: 10.4583 - val_loss: 9.0679 - val_rmse: 9.0679 - val_mean_absolute_error: 6.7814 - val_mean_absolute_percentage_error: 14.8319\n",
      "Epoch 7/100\n",
      " - 0s - loss: 6.3349 - rmse: 6.3349 - mean_absolute_error: 4.5957 - mean_absolute_percentage_error: 10.5376 - val_loss: 9.0581 - val_rmse: 9.0581 - val_mean_absolute_error: 6.4682 - val_mean_absolute_percentage_error: 14.3704\n",
      "Epoch 8/100\n",
      " - 0s - loss: 5.4924 - rmse: 5.4924 - mean_absolute_error: 3.9511 - mean_absolute_percentage_error: 9.1347 - val_loss: 9.0570 - val_rmse: 9.0570 - val_mean_absolute_error: 6.5526 - val_mean_absolute_percentage_error: 14.7974\n",
      "Epoch 9/100\n",
      " - 0s - loss: 5.4109 - rmse: 5.4109 - mean_absolute_error: 3.8297 - mean_absolute_percentage_error: 8.8312 - val_loss: 8.6533 - val_rmse: 8.6533 - val_mean_absolute_error: 6.2661 - val_mean_absolute_percentage_error: 13.8580\n",
      "Epoch 10/100\n",
      " - 1s - loss: 5.0485 - rmse: 5.0485 - mean_absolute_error: 3.5849 - mean_absolute_percentage_error: 8.3202 - val_loss: 9.2085 - val_rmse: 9.2085 - val_mean_absolute_error: 6.4536 - val_mean_absolute_percentage_error: 14.2997\n",
      "Epoch 11/100\n",
      " - 0s - loss: 5.0655 - rmse: 5.0655 - mean_absolute_error: 3.6317 - mean_absolute_percentage_error: 8.4340 - val_loss: 8.5190 - val_rmse: 8.5190 - val_mean_absolute_error: 6.2044 - val_mean_absolute_percentage_error: 13.7953\n",
      "Epoch 12/100\n",
      " - 0s - loss: 4.6858 - rmse: 4.6858 - mean_absolute_error: 3.2193 - mean_absolute_percentage_error: 7.5868 - val_loss: 8.8624 - val_rmse: 8.8624 - val_mean_absolute_error: 6.4384 - val_mean_absolute_percentage_error: 14.5376\n",
      "Epoch 13/100\n",
      " - 1s - loss: 4.8804 - rmse: 4.8804 - mean_absolute_error: 3.3359 - mean_absolute_percentage_error: 7.9401 - val_loss: 8.7081 - val_rmse: 8.7081 - val_mean_absolute_error: 6.2497 - val_mean_absolute_percentage_error: 13.9149\n",
      "Epoch 14/100\n",
      " - 0s - loss: 4.7930 - rmse: 4.7930 - mean_absolute_error: 3.3627 - mean_absolute_percentage_error: 7.8935 - val_loss: 9.0038 - val_rmse: 9.0038 - val_mean_absolute_error: 6.8966 - val_mean_absolute_percentage_error: 15.5183\n",
      "Epoch 15/100\n",
      " - 0s - loss: 5.0240 - rmse: 5.0240 - mean_absolute_error: 3.6461 - mean_absolute_percentage_error: 8.5648 - val_loss: 9.3595 - val_rmse: 9.3595 - val_mean_absolute_error: 7.3132 - val_mean_absolute_percentage_error: 15.7489\n",
      "Epoch 16/100\n",
      " - 0s - loss: 4.8110 - rmse: 4.8110 - mean_absolute_error: 3.4660 - mean_absolute_percentage_error: 8.0519 - val_loss: 9.4426 - val_rmse: 9.4426 - val_mean_absolute_error: 6.6325 - val_mean_absolute_percentage_error: 14.6799\n",
      "Epoch 17/100\n",
      " - 0s - loss: 4.5499 - rmse: 4.5499 - mean_absolute_error: 3.2286 - mean_absolute_percentage_error: 7.4337 - val_loss: 9.2376 - val_rmse: 9.2376 - val_mean_absolute_error: 6.5315 - val_mean_absolute_percentage_error: 14.2410\n",
      "Epoch 18/100\n",
      " - 0s - loss: 4.2293 - rmse: 4.2293 - mean_absolute_error: 2.8634 - mean_absolute_percentage_error: 6.7027 - val_loss: 8.5530 - val_rmse: 8.5530 - val_mean_absolute_error: 6.2392 - val_mean_absolute_percentage_error: 13.7175\n",
      "Epoch 19/100\n",
      " - 1s - loss: 4.4035 - rmse: 4.4035 - mean_absolute_error: 3.0156 - mean_absolute_percentage_error: 7.1060 - val_loss: 8.6593 - val_rmse: 8.6593 - val_mean_absolute_error: 6.1096 - val_mean_absolute_percentage_error: 13.4351\n",
      "Epoch 20/100\n",
      " - 1s - loss: 4.1795 - rmse: 4.1795 - mean_absolute_error: 2.8328 - mean_absolute_percentage_error: 6.7346 - val_loss: 8.6659 - val_rmse: 8.6659 - val_mean_absolute_error: 6.2193 - val_mean_absolute_percentage_error: 13.7014\n",
      "Epoch 21/100\n",
      " - 1s - loss: 4.3147 - rmse: 4.3147 - mean_absolute_error: 2.8861 - mean_absolute_percentage_error: 6.8678 - val_loss: 8.7083 - val_rmse: 8.7083 - val_mean_absolute_error: 6.3559 - val_mean_absolute_percentage_error: 13.8876\n",
      "Epoch 22/100\n",
      " - 0s - loss: 4.3164 - rmse: 4.3164 - mean_absolute_error: 2.8730 - mean_absolute_percentage_error: 6.8646 - val_loss: 8.8308 - val_rmse: 8.8308 - val_mean_absolute_error: 6.2851 - val_mean_absolute_percentage_error: 13.7991\n",
      "Epoch 23/100\n",
      " - 0s - loss: 4.8324 - rmse: 4.8324 - mean_absolute_error: 3.5082 - mean_absolute_percentage_error: 8.2212 - val_loss: 8.7279 - val_rmse: 8.7279 - val_mean_absolute_error: 6.4481 - val_mean_absolute_percentage_error: 14.2333\n",
      "Epoch 24/100\n",
      " - 0s - loss: 4.1095 - rmse: 4.1095 - mean_absolute_error: 2.9701 - mean_absolute_percentage_error: 7.0927 - val_loss: 8.5880 - val_rmse: 8.5880 - val_mean_absolute_error: 6.2421 - val_mean_absolute_percentage_error: 13.7628\n",
      "Epoch 25/100\n",
      " - 1s - loss: 3.8153 - rmse: 3.8153 - mean_absolute_error: 2.6519 - mean_absolute_percentage_error: 6.3962 - val_loss: 8.7800 - val_rmse: 8.7800 - val_mean_absolute_error: 6.2728 - val_mean_absolute_percentage_error: 13.8323\n",
      "Epoch 26/100\n",
      " - 1s - loss: 3.8847 - rmse: 3.8847 - mean_absolute_error: 2.5771 - mean_absolute_percentage_error: 6.4591 - val_loss: 8.7356 - val_rmse: 8.7356 - val_mean_absolute_error: 6.3906 - val_mean_absolute_percentage_error: 14.3036\n",
      "Epoch 27/100\n",
      " - 0s - loss: 4.1833 - rmse: 4.1833 - mean_absolute_error: 2.8450 - mean_absolute_percentage_error: 7.0574 - val_loss: 8.8401 - val_rmse: 8.8401 - val_mean_absolute_error: 6.6435 - val_mean_absolute_percentage_error: 14.5767\n",
      "Epoch 28/100\n",
      " - 0s - loss: 4.4327 - rmse: 4.4327 - mean_absolute_error: 3.2745 - mean_absolute_percentage_error: 7.7480 - val_loss: 9.7509 - val_rmse: 9.7509 - val_mean_absolute_error: 6.8750 - val_mean_absolute_percentage_error: 15.1421\n",
      "Epoch 29/100\n",
      " - 0s - loss: 3.7972 - rmse: 3.7972 - mean_absolute_error: 2.6422 - mean_absolute_percentage_error: 6.3525 - val_loss: 8.6919 - val_rmse: 8.6919 - val_mean_absolute_error: 6.3433 - val_mean_absolute_percentage_error: 13.9823\n",
      "Epoch 30/100\n",
      " - 0s - loss: 3.7886 - rmse: 3.7886 - mean_absolute_error: 2.5668 - mean_absolute_percentage_error: 6.2282 - val_loss: 9.1012 - val_rmse: 9.1012 - val_mean_absolute_error: 6.9239 - val_mean_absolute_percentage_error: 15.0610\n",
      "Epoch 31/100\n",
      " - 0s - loss: 4.4995 - rmse: 4.4995 - mean_absolute_error: 3.2244 - mean_absolute_percentage_error: 7.6728 - val_loss: 8.8032 - val_rmse: 8.8032 - val_mean_absolute_error: 6.3155 - val_mean_absolute_percentage_error: 13.8243\n",
      "Epoch 32/100\n",
      " - 0s - loss: 3.8929 - rmse: 3.8929 - mean_absolute_error: 2.6682 - mean_absolute_percentage_error: 6.5660 - val_loss: 9.0694 - val_rmse: 9.0694 - val_mean_absolute_error: 6.4201 - val_mean_absolute_percentage_error: 14.1507\n",
      "Epoch 33/100\n",
      " - 1s - loss: 3.9662 - rmse: 3.9662 - mean_absolute_error: 2.7283 - mean_absolute_percentage_error: 6.7546 - val_loss: 8.9575 - val_rmse: 8.9575 - val_mean_absolute_error: 6.7485 - val_mean_absolute_percentage_error: 14.6774\n",
      "Epoch 34/100\n",
      " - 1s - loss: 4.0389 - rmse: 4.0389 - mean_absolute_error: 2.8700 - mean_absolute_percentage_error: 6.9608 - val_loss: 9.4505 - val_rmse: 9.4505 - val_mean_absolute_error: 6.6658 - val_mean_absolute_percentage_error: 14.5898\n",
      "Epoch 35/100\n",
      " - 1s - loss: 3.9489 - rmse: 3.9489 - mean_absolute_error: 2.8048 - mean_absolute_percentage_error: 6.6722 - val_loss: 9.7988 - val_rmse: 9.7988 - val_mean_absolute_error: 6.9295 - val_mean_absolute_percentage_error: 15.2153\n"
     ]
    },
    {
     "name": "stdout",
     "output_type": "stream",
     "text": [
      "Epoch 36/100\n",
      " - 1s - loss: 3.5233 - rmse: 3.5233 - mean_absolute_error: 2.4354 - mean_absolute_percentage_error: 5.8302 - val_loss: 8.9047 - val_rmse: 8.9047 - val_mean_absolute_error: 6.5613 - val_mean_absolute_percentage_error: 14.3101\n",
      "Epoch 37/100\n",
      " - 1s - loss: 3.8023 - rmse: 3.8023 - mean_absolute_error: 2.5212 - mean_absolute_percentage_error: 6.1638 - val_loss: 9.5900 - val_rmse: 9.5900 - val_mean_absolute_error: 6.7553 - val_mean_absolute_percentage_error: 14.8338\n",
      "Epoch 38/100\n",
      " - 1s - loss: 4.0162 - rmse: 4.0162 - mean_absolute_error: 2.8085 - mean_absolute_percentage_error: 6.6643 - val_loss: 9.1558 - val_rmse: 9.1558 - val_mean_absolute_error: 6.4546 - val_mean_absolute_percentage_error: 14.1441\n",
      "Epoch 39/100\n",
      " - 0s - loss: 3.8536 - rmse: 3.8536 - mean_absolute_error: 2.7318 - mean_absolute_percentage_error: 6.3953 - val_loss: 9.7143 - val_rmse: 9.7143 - val_mean_absolute_error: 6.8401 - val_mean_absolute_percentage_error: 14.9489\n",
      "Epoch 40/100\n",
      " - 1s - loss: 3.9173 - rmse: 3.9173 - mean_absolute_error: 2.7632 - mean_absolute_percentage_error: 6.4542 - val_loss: 9.0139 - val_rmse: 9.0139 - val_mean_absolute_error: 6.5971 - val_mean_absolute_percentage_error: 14.2654\n",
      "Epoch 41/100\n",
      " - 0s - loss: 4.0353 - rmse: 4.0353 - mean_absolute_error: 2.8977 - mean_absolute_percentage_error: 6.7009 - val_loss: 9.4521 - val_rmse: 9.4521 - val_mean_absolute_error: 6.6530 - val_mean_absolute_percentage_error: 14.4776\n",
      "Epoch 42/100\n",
      " - 1s - loss: 3.9795 - rmse: 3.9795 - mean_absolute_error: 2.8568 - mean_absolute_percentage_error: 6.7069 - val_loss: 9.0902 - val_rmse: 9.0902 - val_mean_absolute_error: 6.4667 - val_mean_absolute_percentage_error: 14.1083\n",
      "Epoch 43/100\n",
      " - 0s - loss: 3.7174 - rmse: 3.7174 - mean_absolute_error: 2.5718 - mean_absolute_percentage_error: 6.2031 - val_loss: 9.2423 - val_rmse: 9.2423 - val_mean_absolute_error: 6.5146 - val_mean_absolute_percentage_error: 14.2317\n",
      "Epoch 44/100\n",
      " - 1s - loss: 3.8221 - rmse: 3.8221 - mean_absolute_error: 2.6803 - mean_absolute_percentage_error: 6.4847 - val_loss: 9.2786 - val_rmse: 9.2786 - val_mean_absolute_error: 7.0076 - val_mean_absolute_percentage_error: 15.3065\n",
      "Epoch 45/100\n",
      " - 0s - loss: 3.8585 - rmse: 3.8585 - mean_absolute_error: 2.7790 - mean_absolute_percentage_error: 6.6090 - val_loss: 9.2070 - val_rmse: 9.2070 - val_mean_absolute_error: 6.7944 - val_mean_absolute_percentage_error: 14.8237\n",
      "Epoch 46/100\n",
      " - 0s - loss: 3.4709 - rmse: 3.4709 - mean_absolute_error: 2.4193 - mean_absolute_percentage_error: 5.8419 - val_loss: 9.2443 - val_rmse: 9.2443 - val_mean_absolute_error: 6.6232 - val_mean_absolute_percentage_error: 14.3906\n",
      "Epoch 47/100\n",
      " - 0s - loss: 3.7943 - rmse: 3.7943 - mean_absolute_error: 2.5827 - mean_absolute_percentage_error: 6.1865 - val_loss: 9.2107 - val_rmse: 9.2107 - val_mean_absolute_error: 6.7760 - val_mean_absolute_percentage_error: 14.8573\n",
      "Epoch 48/100\n",
      " - 0s - loss: 3.5629 - rmse: 3.5629 - mean_absolute_error: 2.3690 - mean_absolute_percentage_error: 5.8017 - val_loss: 9.3564 - val_rmse: 9.3564 - val_mean_absolute_error: 6.6566 - val_mean_absolute_percentage_error: 14.5508\n",
      "Epoch 49/100\n",
      " - 0s - loss: 3.7206 - rmse: 3.7206 - mean_absolute_error: 2.5967 - mean_absolute_percentage_error: 6.2747 - val_loss: 9.5740 - val_rmse: 9.5740 - val_mean_absolute_error: 6.7907 - val_mean_absolute_percentage_error: 14.8265\n",
      "Epoch 50/100\n",
      " - 0s - loss: 3.6756 - rmse: 3.6756 - mean_absolute_error: 2.5944 - mean_absolute_percentage_error: 6.2041 - val_loss: 9.7953 - val_rmse: 9.7953 - val_mean_absolute_error: 6.8560 - val_mean_absolute_percentage_error: 14.8803\n",
      "Epoch 51/100\n",
      " - 1s - loss: 3.4948 - rmse: 3.4948 - mean_absolute_error: 2.5166 - mean_absolute_percentage_error: 5.9706 - val_loss: 9.5967 - val_rmse: 9.5967 - val_mean_absolute_error: 6.6917 - val_mean_absolute_percentage_error: 14.5005\n",
      "Epoch 52/100\n",
      " - 1s - loss: 4.1419 - rmse: 4.1419 - mean_absolute_error: 3.0991 - mean_absolute_percentage_error: 7.0886 - val_loss: 9.1891 - val_rmse: 9.1891 - val_mean_absolute_error: 6.5908 - val_mean_absolute_percentage_error: 14.2860\n",
      "Epoch 53/100\n",
      " - 1s - loss: 3.3549 - rmse: 3.3549 - mean_absolute_error: 2.3601 - mean_absolute_percentage_error: 5.5663 - val_loss: 9.3877 - val_rmse: 9.3877 - val_mean_absolute_error: 6.6118 - val_mean_absolute_percentage_error: 14.3602\n",
      "Epoch 54/100\n",
      " - 1s - loss: 3.5517 - rmse: 3.5517 - mean_absolute_error: 2.3964 - mean_absolute_percentage_error: 5.7538 - val_loss: 9.9867 - val_rmse: 9.9867 - val_mean_absolute_error: 6.9483 - val_mean_absolute_percentage_error: 15.0770\n",
      "Epoch 55/100\n",
      " - 1s - loss: 3.5688 - rmse: 3.5688 - mean_absolute_error: 2.4906 - mean_absolute_percentage_error: 5.9662 - val_loss: 9.7186 - val_rmse: 9.7186 - val_mean_absolute_error: 6.8508 - val_mean_absolute_percentage_error: 14.9795\n",
      "Epoch 56/100\n",
      " - 1s - loss: 3.4378 - rmse: 3.4378 - mean_absolute_error: 2.3636 - mean_absolute_percentage_error: 5.7083 - val_loss: 9.2129 - val_rmse: 9.2129 - val_mean_absolute_error: 6.5817 - val_mean_absolute_percentage_error: 14.3249\n",
      "Epoch 57/100\n",
      " - 0s - loss: 4.2684 - rmse: 4.2684 - mean_absolute_error: 3.1688 - mean_absolute_percentage_error: 7.3411 - val_loss: 9.3740 - val_rmse: 9.3740 - val_mean_absolute_error: 6.8046 - val_mean_absolute_percentage_error: 14.6830\n",
      "Epoch 58/100\n",
      " - 0s - loss: 3.6400 - rmse: 3.6400 - mean_absolute_error: 2.6535 - mean_absolute_percentage_error: 6.1826 - val_loss: 9.4012 - val_rmse: 9.4012 - val_mean_absolute_error: 6.9768 - val_mean_absolute_percentage_error: 15.0515\n",
      "Epoch 59/100\n",
      " - 0s - loss: 3.3029 - rmse: 3.3029 - mean_absolute_error: 2.2265 - mean_absolute_percentage_error: 5.3754 - val_loss: 9.3736 - val_rmse: 9.3736 - val_mean_absolute_error: 6.7262 - val_mean_absolute_percentage_error: 14.6765\n",
      "Epoch 60/100\n",
      " - 0s - loss: 3.7541 - rmse: 3.7541 - mean_absolute_error: 2.6408 - mean_absolute_percentage_error: 6.3326 - val_loss: 9.3354 - val_rmse: 9.3354 - val_mean_absolute_error: 6.7043 - val_mean_absolute_percentage_error: 14.4588\n",
      "Epoch 61/100\n",
      " - 0s - loss: 3.6378 - rmse: 3.6378 - mean_absolute_error: 2.6322 - mean_absolute_percentage_error: 6.1333 - val_loss: 10.6008 - val_rmse: 10.6008 - val_mean_absolute_error: 7.4493 - val_mean_absolute_percentage_error: 16.3277\n",
      "Epoch 62/100\n",
      " - 1s - loss: 3.7871 - rmse: 3.7871 - mean_absolute_error: 2.6986 - mean_absolute_percentage_error: 6.3085 - val_loss: 9.5144 - val_rmse: 9.5144 - val_mean_absolute_error: 6.7560 - val_mean_absolute_percentage_error: 14.7805\n",
      "Epoch 63/100\n",
      " - 0s - loss: 3.6899 - rmse: 3.6899 - mean_absolute_error: 2.6007 - mean_absolute_percentage_error: 6.1333 - val_loss: 9.6205 - val_rmse: 9.6205 - val_mean_absolute_error: 6.9559 - val_mean_absolute_percentage_error: 14.9899\n",
      "Epoch 64/100\n",
      " - 0s - loss: 3.4480 - rmse: 3.4480 - mean_absolute_error: 2.4315 - mean_absolute_percentage_error: 5.7293 - val_loss: 9.6511 - val_rmse: 9.6511 - val_mean_absolute_error: 7.2358 - val_mean_absolute_percentage_error: 15.6354\n",
      "Epoch 65/100\n",
      " - 0s - loss: 3.5726 - rmse: 3.5726 - mean_absolute_error: 2.4956 - mean_absolute_percentage_error: 5.8308 - val_loss: 9.5354 - val_rmse: 9.5354 - val_mean_absolute_error: 6.7593 - val_mean_absolute_percentage_error: 14.6887\n",
      "Epoch 66/100\n",
      " - 1s - loss: 3.4770 - rmse: 3.4770 - mean_absolute_error: 2.5007 - mean_absolute_percentage_error: 6.0113 - val_loss: 9.4802 - val_rmse: 9.4802 - val_mean_absolute_error: 6.7835 - val_mean_absolute_percentage_error: 14.7034\n",
      "Epoch 67/100\n",
      " - 0s - loss: 4.0994 - rmse: 4.0994 - mean_absolute_error: 3.1567 - mean_absolute_percentage_error: 7.2272 - val_loss: 10.0698 - val_rmse: 10.0698 - val_mean_absolute_error: 7.0151 - val_mean_absolute_percentage_error: 15.2272\n",
      "Epoch 68/100\n",
      " - 0s - loss: 3.0469 - rmse: 3.0469 - mean_absolute_error: 2.1458 - mean_absolute_percentage_error: 5.1700 - val_loss: 9.9315 - val_rmse: 9.9315 - val_mean_absolute_error: 6.9173 - val_mean_absolute_percentage_error: 15.0476\n",
      "Epoch 69/100\n",
      " - 0s - loss: 3.8103 - rmse: 3.8103 - mean_absolute_error: 2.7034 - mean_absolute_percentage_error: 6.2913 - val_loss: 10.5769 - val_rmse: 10.5769 - val_mean_absolute_error: 7.3887 - val_mean_absolute_percentage_error: 16.2452\n",
      "Epoch 70/100\n",
      " - 0s - loss: 3.2345 - rmse: 3.2345 - mean_absolute_error: 2.2539 - mean_absolute_percentage_error: 5.4927 - val_loss: 10.1154 - val_rmse: 10.1154 - val_mean_absolute_error: 7.0499 - val_mean_absolute_percentage_error: 15.3510\n"
     ]
    },
    {
     "name": "stdout",
     "output_type": "stream",
     "text": [
      "Epoch 71/100\n",
      " - 0s - loss: 3.6728 - rmse: 3.6728 - mean_absolute_error: 2.6189 - mean_absolute_percentage_error: 6.1841 - val_loss: 9.9722 - val_rmse: 9.9722 - val_mean_absolute_error: 6.9441 - val_mean_absolute_percentage_error: 15.1284\n",
      "Epoch 72/100\n",
      " - 0s - loss: 3.2800 - rmse: 3.2800 - mean_absolute_error: 2.3310 - mean_absolute_percentage_error: 5.5873 - val_loss: 9.6851 - val_rmse: 9.6851 - val_mean_absolute_error: 6.7862 - val_mean_absolute_percentage_error: 14.7143\n",
      "Epoch 73/100\n",
      " - 0s - loss: 3.4031 - rmse: 3.4031 - mean_absolute_error: 2.3245 - mean_absolute_percentage_error: 5.5809 - val_loss: 10.0083 - val_rmse: 10.0083 - val_mean_absolute_error: 6.9762 - val_mean_absolute_percentage_error: 15.1982\n",
      "Epoch 74/100\n",
      " - 1s - loss: 3.2670 - rmse: 3.2670 - mean_absolute_error: 2.2868 - mean_absolute_percentage_error: 5.6042 - val_loss: 9.8779 - val_rmse: 9.8779 - val_mean_absolute_error: 6.8811 - val_mean_absolute_percentage_error: 14.9216\n",
      "Epoch 75/100\n",
      " - 0s - loss: 3.9276 - rmse: 3.9276 - mean_absolute_error: 2.9046 - mean_absolute_percentage_error: 6.7483 - val_loss: 9.8728 - val_rmse: 9.8728 - val_mean_absolute_error: 7.0409 - val_mean_absolute_percentage_error: 15.3432\n",
      "Epoch 76/100\n",
      " - 0s - loss: 3.1387 - rmse: 3.1387 - mean_absolute_error: 2.1815 - mean_absolute_percentage_error: 5.2869 - val_loss: 9.9377 - val_rmse: 9.9377 - val_mean_absolute_error: 6.8917 - val_mean_absolute_percentage_error: 14.9196\n",
      "Epoch 77/100\n",
      " - 0s - loss: 3.4894 - rmse: 3.4894 - mean_absolute_error: 2.3808 - mean_absolute_percentage_error: 5.7114 - val_loss: 10.5078 - val_rmse: 10.5078 - val_mean_absolute_error: 7.2543 - val_mean_absolute_percentage_error: 15.6725\n",
      "Epoch 78/100\n",
      " - 0s - loss: 3.3637 - rmse: 3.3637 - mean_absolute_error: 2.4571 - mean_absolute_percentage_error: 5.8502 - val_loss: 9.6627 - val_rmse: 9.6627 - val_mean_absolute_error: 6.8142 - val_mean_absolute_percentage_error: 14.7271\n",
      "Epoch 79/100\n",
      " - 0s - loss: 3.1648 - rmse: 3.1648 - mean_absolute_error: 2.1796 - mean_absolute_percentage_error: 5.3632 - val_loss: 9.9402 - val_rmse: 9.9402 - val_mean_absolute_error: 6.9628 - val_mean_absolute_percentage_error: 15.2501\n",
      "Epoch 80/100\n",
      " - 0s - loss: 3.2492 - rmse: 3.2492 - mean_absolute_error: 2.3337 - mean_absolute_percentage_error: 5.5928 - val_loss: 9.6001 - val_rmse: 9.6001 - val_mean_absolute_error: 6.8545 - val_mean_absolute_percentage_error: 14.8622\n",
      "Epoch 81/100\n",
      " - 0s - loss: 3.2988 - rmse: 3.2988 - mean_absolute_error: 2.2945 - mean_absolute_percentage_error: 5.5217 - val_loss: 10.1812 - val_rmse: 10.1812 - val_mean_absolute_error: 7.0741 - val_mean_absolute_percentage_error: 15.3675\n",
      "Epoch 82/100\n",
      " - 0s - loss: 3.3765 - rmse: 3.3765 - mean_absolute_error: 2.3936 - mean_absolute_percentage_error: 5.7161 - val_loss: 9.7108 - val_rmse: 9.7108 - val_mean_absolute_error: 6.8545 - val_mean_absolute_percentage_error: 14.9264\n",
      "Epoch 83/100\n",
      " - 0s - loss: 3.3071 - rmse: 3.3071 - mean_absolute_error: 2.3463 - mean_absolute_percentage_error: 5.6144 - val_loss: 9.7516 - val_rmse: 9.7516 - val_mean_absolute_error: 6.9268 - val_mean_absolute_percentage_error: 14.9913\n",
      "Epoch 84/100\n",
      " - 0s - loss: 4.1354 - rmse: 4.1354 - mean_absolute_error: 3.1873 - mean_absolute_percentage_error: 7.2393 - val_loss: 9.9788 - val_rmse: 9.9788 - val_mean_absolute_error: 7.4505 - val_mean_absolute_percentage_error: 16.0164\n",
      "Epoch 85/100\n",
      " - 0s - loss: 3.7437 - rmse: 3.7437 - mean_absolute_error: 2.8382 - mean_absolute_percentage_error: 6.5313 - val_loss: 9.7537 - val_rmse: 9.7537 - val_mean_absolute_error: 6.8964 - val_mean_absolute_percentage_error: 14.9062\n",
      "Epoch 86/100\n",
      " - 0s - loss: 2.9888 - rmse: 2.9888 - mean_absolute_error: 2.1775 - mean_absolute_percentage_error: 5.1031 - val_loss: 9.8727 - val_rmse: 9.8727 - val_mean_absolute_error: 7.1154 - val_mean_absolute_percentage_error: 15.3252\n",
      "Epoch 87/100\n",
      " - 0s - loss: 4.1591 - rmse: 4.1591 - mean_absolute_error: 3.2493 - mean_absolute_percentage_error: 7.2735 - val_loss: 9.7787 - val_rmse: 9.7787 - val_mean_absolute_error: 7.0698 - val_mean_absolute_percentage_error: 15.1757\n",
      "Epoch 88/100\n",
      " - 0s - loss: 3.1114 - rmse: 3.1114 - mean_absolute_error: 2.2990 - mean_absolute_percentage_error: 5.2877 - val_loss: 10.5153 - val_rmse: 10.5153 - val_mean_absolute_error: 7.2925 - val_mean_absolute_percentage_error: 15.7878\n",
      "Epoch 89/100\n",
      " - 0s - loss: 3.1312 - rmse: 3.1312 - mean_absolute_error: 2.2503 - mean_absolute_percentage_error: 5.1999 - val_loss: 10.3262 - val_rmse: 10.3262 - val_mean_absolute_error: 7.1393 - val_mean_absolute_percentage_error: 15.3668\n",
      "Epoch 90/100\n",
      " - 0s - loss: 3.1843 - rmse: 3.1843 - mean_absolute_error: 2.3298 - mean_absolute_percentage_error: 5.3787 - val_loss: 10.2766 - val_rmse: 10.2766 - val_mean_absolute_error: 7.1659 - val_mean_absolute_percentage_error: 15.6132\n",
      "Epoch 91/100\n",
      " - 1s - loss: 2.9076 - rmse: 2.9076 - mean_absolute_error: 2.0252 - mean_absolute_percentage_error: 4.8121 - val_loss: 10.8030 - val_rmse: 10.8030 - val_mean_absolute_error: 7.5001 - val_mean_absolute_percentage_error: 16.3824\n",
      "Epoch 92/100\n",
      " - 0s - loss: 3.3309 - rmse: 3.3309 - mean_absolute_error: 2.3493 - mean_absolute_percentage_error: 5.5008 - val_loss: 9.8003 - val_rmse: 9.8003 - val_mean_absolute_error: 7.0553 - val_mean_absolute_percentage_error: 15.2909\n",
      "Epoch 93/100\n",
      " - 0s - loss: 4.8541 - rmse: 4.8541 - mean_absolute_error: 3.9373 - mean_absolute_percentage_error: 8.7560 - val_loss: 10.0924 - val_rmse: 10.0924 - val_mean_absolute_error: 7.4496 - val_mean_absolute_percentage_error: 16.0668\n",
      "Epoch 94/100\n",
      " - 0s - loss: 2.9991 - rmse: 2.9991 - mean_absolute_error: 2.1894 - mean_absolute_percentage_error: 5.1022 - val_loss: 10.1001 - val_rmse: 10.1001 - val_mean_absolute_error: 6.9560 - val_mean_absolute_percentage_error: 15.0144\n",
      "Epoch 95/100\n",
      " - 0s - loss: 3.1790 - rmse: 3.1790 - mean_absolute_error: 2.2571 - mean_absolute_percentage_error: 5.2931 - val_loss: 9.8414 - val_rmse: 9.8414 - val_mean_absolute_error: 7.0637 - val_mean_absolute_percentage_error: 15.1880\n",
      "Epoch 96/100\n",
      " - 0s - loss: 3.1555 - rmse: 3.1555 - mean_absolute_error: 2.2860 - mean_absolute_percentage_error: 5.3385 - val_loss: 10.0051 - val_rmse: 10.0051 - val_mean_absolute_error: 7.0183 - val_mean_absolute_percentage_error: 15.1707\n",
      "Epoch 97/100\n",
      " - 1s - loss: 2.8911 - rmse: 2.8911 - mean_absolute_error: 2.0328 - mean_absolute_percentage_error: 4.9021 - val_loss: 9.8861 - val_rmse: 9.8861 - val_mean_absolute_error: 7.0870 - val_mean_absolute_percentage_error: 15.2687\n",
      "Epoch 98/100\n",
      " - 0s - loss: 3.4227 - rmse: 3.4227 - mean_absolute_error: 2.4561 - mean_absolute_percentage_error: 5.8764 - val_loss: 10.8085 - val_rmse: 10.8085 - val_mean_absolute_error: 7.4750 - val_mean_absolute_percentage_error: 16.0949\n",
      "Epoch 99/100\n",
      " - 0s - loss: 3.2184 - rmse: 3.2184 - mean_absolute_error: 2.3906 - mean_absolute_percentage_error: 5.6358 - val_loss: 10.2361 - val_rmse: 10.2361 - val_mean_absolute_error: 7.0832 - val_mean_absolute_percentage_error: 15.3046\n",
      "Epoch 100/100\n",
      " - 0s - loss: 2.7429 - rmse: 2.7429 - mean_absolute_error: 1.9323 - mean_absolute_percentage_error: 4.6334 - val_loss: 9.9266 - val_rmse: 9.9266 - val_mean_absolute_error: 6.9696 - val_mean_absolute_percentage_error: 15.0880\n",
      "Wall time: 51.7 s\n"
     ]
    }
   ],
   "source": [
    "# Single Layer CNN\n",
    "np.random.seed(666)\n",
    "\n",
    "# create model\n",
    "model = Sequential()\n",
    "model.add(Conv2D(10, (3, 3), activation='relu', input_shape=(96,96,1), data_format='channels_last'))\n",
    "model.add(Flatten())\n",
    "model.add(Dense(30))\n",
    "\n",
    "# define RMSE\n",
    "def rmse (y_true, y_pred):\n",
    "    return K.sqrt(K.mean(K.square(y_pred - y_true)))\n",
    "\n",
    "# compile model\n",
    "model.compile(loss=rmse, optimizer='adam', metrics=[rmse, 'mae', 'mape'])\n",
    "\n",
    "# fit model\n",
    "%time history_cnn = model.fit(X_train_nm, y_train_nm, epochs=100, shuffle=True, batch_size=32, validation_data=(X_val_nm, y_val_nm), verbose=2)\n"
   ]
  },
  {
   "cell_type": "code",
   "execution_count": 13,
   "metadata": {
    "scrolled": true
   },
   "outputs": [
    {
     "data": {
      "image/png": "[encoded data removed]",
      "text/plain": [
       "<Figure size 432x288 with 1 Axes>"
      ]
     },
     "metadata": {
      "needs_background": "light"
     },
     "output_type": "display_data"
    }
   ],
   "source": [
    "# plot metrics\n",
    "plt.plot(history_cnn.history['rmse'][3:])\n",
    "plt.plot(history_cnn.history['val_rmse'][3:])\n",
    "plt.show()"
   ]
  },
  {
   "cell_type": "code",
   "execution_count": 14,
   "metadata": {},
   "outputs": [
    {
     "name": "stdout",
     "output_type": "stream",
     "text": [
      "Train on 1692 samples, validate on 448 samples\n",
      "Epoch 1/13\n",
      " - 1s - loss: 157.4355 - rmse: 157.4355 - mean_absolute_error: 134.8308 - mean_absolute_percentage_error: 334.0724 - val_loss: 19.5005 - val_rmse: 19.5005 - val_mean_absolute_error: 15.6962 - val_mean_absolute_percentage_error: 36.8571\n",
      "Epoch 2/13\n",
      " - 0s - loss: 15.7564 - rmse: 15.7564 - mean_absolute_error: 12.1876 - mean_absolute_percentage_error: 28.3079 - val_loss: 13.4240 - val_rmse: 13.4240 - val_mean_absolute_error: 10.3125 - val_mean_absolute_percentage_error: 23.3445\n",
      "Epoch 3/13\n",
      " - 0s - loss: 10.5585 - rmse: 10.5585 - mean_absolute_error: 8.0859 - mean_absolute_percentage_error: 18.4176 - val_loss: 10.1900 - val_rmse: 10.1900 - val_mean_absolute_error: 7.7567 - val_mean_absolute_percentage_error: 16.9041\n",
      "Epoch 4/13\n",
      " - 0s - loss: 8.4136 - rmse: 8.4136 - mean_absolute_error: 6.3866 - mean_absolute_percentage_error: 14.2490 - val_loss: 9.4508 - val_rmse: 9.4508 - val_mean_absolute_error: 7.0419 - val_mean_absolute_percentage_error: 15.9689\n",
      "Epoch 5/13\n",
      " - 0s - loss: 6.8254 - rmse: 6.8254 - mean_absolute_error: 5.1126 - mean_absolute_percentage_error: 11.4190 - val_loss: 10.5167 - val_rmse: 10.5167 - val_mean_absolute_error: 7.5068 - val_mean_absolute_percentage_error: 16.4541\n",
      "Epoch 6/13\n",
      " - 0s - loss: 6.3029 - rmse: 6.3029 - mean_absolute_error: 4.6754 - mean_absolute_percentage_error: 10.4583 - val_loss: 9.0680 - val_rmse: 9.0680 - val_mean_absolute_error: 6.7814 - val_mean_absolute_percentage_error: 14.8319\n",
      "Epoch 7/13\n",
      " - 0s - loss: 6.3350 - rmse: 6.3350 - mean_absolute_error: 4.5957 - mean_absolute_percentage_error: 10.5377 - val_loss: 9.0572 - val_rmse: 9.0572 - val_mean_absolute_error: 6.4677 - val_mean_absolute_percentage_error: 14.3690\n",
      "Epoch 8/13\n",
      " - 0s - loss: 5.4926 - rmse: 5.4926 - mean_absolute_error: 3.9511 - mean_absolute_percentage_error: 9.1347 - val_loss: 9.0562 - val_rmse: 9.0562 - val_mean_absolute_error: 6.5522 - val_mean_absolute_percentage_error: 14.7963\n",
      "Epoch 9/13\n",
      " - 0s - loss: 5.4105 - rmse: 5.4105 - mean_absolute_error: 3.8295 - mean_absolute_percentage_error: 8.8307 - val_loss: 8.6538 - val_rmse: 8.6538 - val_mean_absolute_error: 6.2657 - val_mean_absolute_percentage_error: 13.8576\n",
      "Epoch 10/13\n",
      " - 0s - loss: 5.0495 - rmse: 5.0495 - mean_absolute_error: 3.5858 - mean_absolute_percentage_error: 8.3223 - val_loss: 9.2100 - val_rmse: 9.2100 - val_mean_absolute_error: 6.4546 - val_mean_absolute_percentage_error: 14.3019\n",
      "Epoch 11/13\n",
      " - 1s - loss: 5.0652 - rmse: 5.0652 - mean_absolute_error: 3.6318 - mean_absolute_percentage_error: 8.4341 - val_loss: 8.5194 - val_rmse: 8.5194 - val_mean_absolute_error: 6.2042 - val_mean_absolute_percentage_error: 13.7954\n",
      "Epoch 12/13\n",
      " - 0s - loss: 4.6862 - rmse: 4.6862 - mean_absolute_error: 3.2194 - mean_absolute_percentage_error: 7.5871 - val_loss: 8.8623 - val_rmse: 8.8623 - val_mean_absolute_error: 6.4383 - val_mean_absolute_percentage_error: 14.5378\n",
      "Epoch 13/13\n",
      " - 0s - loss: 4.8798 - rmse: 4.8798 - mean_absolute_error: 3.3354 - mean_absolute_percentage_error: 7.9396 - val_loss: 8.7078 - val_rmse: 8.7078 - val_mean_absolute_error: 6.2493 - val_mean_absolute_percentage_error: 13.9141\n",
      "Wall time: 6.9 s\n"
     ]
    }
   ],
   "source": [
    "# overfitted, redo with 13 epochs\n",
    "np.random.seed(666)\n",
    "\n",
    "# create model\n",
    "model = Sequential()\n",
    "model.add(Conv2D(10, (3, 3), activation='relu', input_shape=(96,96,1), data_format='channels_last'))\n",
    "model.add(Flatten())\n",
    "model.add(Dense(30))\n",
    "\n",
    "# compile model\n",
    "model.compile(loss=rmse, optimizer='adam', metrics=[rmse, 'mae', 'mape'])\n",
    "\n",
    "%time history_cnn2= model.fit(X_train_nm, y_train_nm, epochs=13, shuffle=True, batch_size=32, validation_data=(X_val_nm, y_val_nm), verbose=2)\n"
   ]
  },
  {
   "cell_type": "code",
   "execution_count": 15,
   "metadata": {
    "scrolled": true
   },
   "outputs": [
    {
     "data": {
      "image/png": "[encoded data removed]",
      "text/plain": [
       "<Figure size 432x288 with 1 Axes>"
      ]
     },
     "metadata": {
      "needs_background": "light"
     },
     "output_type": "display_data"
    }
   ],
   "source": [
    "# plot metrics\n",
    "plt.plot(history_cnn2.history['rmse'])\n",
    "plt.plot(history_cnn2.history['val_rmse'])\n",
    "plt.show()"
   ]
  },
  {
   "cell_type": "code",
   "execution_count": 16,
   "metadata": {},
   "outputs": [
    {
     "name": "stdout",
     "output_type": "stream",
     "text": [
      "8.70781489780971\n",
      "4.879832740089291\n"
     ]
    }
   ],
   "source": [
    "# look at final RMSE value after 10 epochs\n",
    "print(history_cnn2.history.get('val_rmse')[-1])\n",
    "print(history_cnn2.history.get('rmse')[-1])"
   ]
  },
  {
   "cell_type": "markdown",
   "metadata": {},
   "source": [
    "### Baseline Validation RMSE: 8.7078"
   ]
  }
 ],
 "metadata": {
  "kernelspec": {
   "display_name": "Python 3",
   "language": "python",
   "name": "python3"
  },
  "language_info": {
   "codemirror_mode": {
    "name": "ipython",
    "version": 3
   },
   "file_extension": ".py",
   "mimetype": "text/x-python",
   "name": "python",
   "nbconvert_exporter": "python",
   "pygments_lexer": "ipython3",
   "version": "3.6.5"
  }
 },
 "nbformat": 4,
 "nbformat_minor": 2
}
