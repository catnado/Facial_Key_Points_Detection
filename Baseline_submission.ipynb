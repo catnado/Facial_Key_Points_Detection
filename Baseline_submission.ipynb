{
 "cells": [
  {
   "cell_type": "code",
   "execution_count": 1,
   "metadata": {},
   "outputs": [
    {
     "name": "stderr",
     "output_type": "stream",
     "text": [
      "/anaconda3/lib/python3.6/site-packages/h5py/__init__.py:36: FutureWarning: Conversion of the second argument of issubdtype from `float` to `np.floating` is deprecated. In future, it will be treated as `np.float64 == np.dtype(float).type`.\n",
      "  from ._conv import register_converters as _register_converters\n",
      "Using TensorFlow backend.\n"
     ]
    }
   ],
   "source": [
    "import pandas as pd\n",
    "import numpy as np\n",
    " \n",
    "from keras.models import Sequential\n",
    "from keras.layers import Dense, Dropout, Activation, Flatten\n",
    "from keras.layers import Conv2D, MaxPooling2D, ZeroPadding2D\n",
    "from keras.utils import np_utils\n",
    "from keras import backend as K\n",
    "\n",
    "from matplotlib import pyplot as plt\n",
    "%matplotlib inline"
   ]
  },
  {
   "cell_type": "code",
   "execution_count": 2,
   "metadata": {},
   "outputs": [],
   "source": [
    "# read in data\n",
    "training = pd.read_csv(\"all/training.csv\")"
   ]
  },
  {
   "cell_type": "code",
   "execution_count": 3,
   "metadata": {},
   "outputs": [],
   "source": [
    "# split out image values\n",
    "image = []\n",
    "for i in range(training.shape[0]):\n",
    "    img = training['Image'][i].split(' ')\n",
    "    img = ['0' if j == '' else j for j in img]\n",
    "    image.append(img)"
   ]
  },
  {
   "cell_type": "code",
   "execution_count": 4,
   "metadata": {},
   "outputs": [
    {
     "name": "stdout",
     "output_type": "stream",
     "text": [
      "(5640, 9216) (1409, 9216)\n",
      "(5640, 30) (1409, 30)\n"
     ]
    }
   ],
   "source": [
    "# create training and validation set (80/20 split)\n",
    "X = np.array(image, dtype = 'float')\n",
    "X_train, X_val = X[:5640], X[5640:]\n",
    "print(X_train.shape, X_val.shape)\n",
    "\n",
    "# create training and validation labels (80/20 split)\n",
    "labels = training.drop('Image', axis=1)\n",
    "y = np.array(labels, dtype = 'float')\n",
    "y_train, y_val = y[:5640], y[5640:]\n",
    "print(y_train.shape, y_val.shape)"
   ]
  },
  {
   "cell_type": "code",
   "execution_count": 5,
   "metadata": {},
   "outputs": [],
   "source": [
    "# remove missing\n",
    "X_nm = X[~np.isnan(y).any(axis=1)]\n",
    "y_nm = y[~np.isnan(y).any(axis=1)]"
   ]
  },
  {
   "cell_type": "code",
   "execution_count": 6,
   "metadata": {},
   "outputs": [],
   "source": [
    "# reshape data for CNN input\n",
    "X_nm = X_nm.reshape(-1,96,96,1)"
   ]
  },
  {
   "cell_type": "code",
   "execution_count": 9,
   "metadata": {
    "scrolled": true
   },
   "outputs": [
    {
     "name": "stdout",
     "output_type": "stream",
     "text": [
      "Train on 2033 samples, validate on 107 samples\n",
      "Epoch 1/50\n",
      " - 6s - loss: 124.7827 - rmse: 124.7827 - mean_absolute_error: 106.3785 - mean_absolute_percentage_error: 263.5231 - val_loss: 16.7047 - val_rmse: 16.7047 - val_mean_absolute_error: 13.4835 - val_mean_absolute_percentage_error: 35.2429\n",
      "Epoch 2/50\n",
      " - 4s - loss: 13.7858 - rmse: 13.7858 - mean_absolute_error: 10.7005 - mean_absolute_percentage_error: 24.9157 - val_loss: 12.0847 - val_rmse: 12.0847 - val_mean_absolute_error: 9.5082 - val_mean_absolute_percentage_error: 21.9362\n",
      "Epoch 3/50\n",
      " - 5s - loss: 9.2708 - rmse: 9.2708 - mean_absolute_error: 7.1635 - mean_absolute_percentage_error: 16.2102 - val_loss: 12.2429 - val_rmse: 12.2429 - val_mean_absolute_error: 9.1862 - val_mean_absolute_percentage_error: 20.3666\n",
      "Epoch 4/50\n",
      " - 5s - loss: 7.6325 - rmse: 7.6325 - mean_absolute_error: 5.7822 - mean_absolute_percentage_error: 12.8677 - val_loss: 11.0196 - val_rmse: 11.0196 - val_mean_absolute_error: 8.1901 - val_mean_absolute_percentage_error: 17.9229\n",
      "Epoch 5/50\n",
      " - 5s - loss: 6.5851 - rmse: 6.5851 - mean_absolute_error: 4.8780 - mean_absolute_percentage_error: 10.8231 - val_loss: 11.5017 - val_rmse: 11.5017 - val_mean_absolute_error: 9.0110 - val_mean_absolute_percentage_error: 19.6272\n",
      "Epoch 6/50\n",
      " - 5s - loss: 6.1821 - rmse: 6.1821 - mean_absolute_error: 4.5658 - mean_absolute_percentage_error: 10.2133 - val_loss: 10.5209 - val_rmse: 10.5209 - val_mean_absolute_error: 8.0021 - val_mean_absolute_percentage_error: 17.4720\n",
      "Epoch 7/50\n",
      " - 5s - loss: 5.4167 - rmse: 5.4167 - mean_absolute_error: 3.8419 - mean_absolute_percentage_error: 8.6908 - val_loss: 10.2394 - val_rmse: 10.2394 - val_mean_absolute_error: 7.7638 - val_mean_absolute_percentage_error: 17.0098\n",
      "Epoch 8/50\n",
      " - 5s - loss: 5.2085 - rmse: 5.2085 - mean_absolute_error: 3.7435 - mean_absolute_percentage_error: 8.4970 - val_loss: 10.6662 - val_rmse: 10.6662 - val_mean_absolute_error: 8.1857 - val_mean_absolute_percentage_error: 17.9166\n",
      "Epoch 9/50\n",
      " - 5s - loss: 5.1957 - rmse: 5.1957 - mean_absolute_error: 3.6354 - mean_absolute_percentage_error: 8.4187 - val_loss: 10.7147 - val_rmse: 10.7147 - val_mean_absolute_error: 8.1338 - val_mean_absolute_percentage_error: 18.3508\n",
      "Epoch 10/50\n",
      " - 5s - loss: 5.1204 - rmse: 5.1204 - mean_absolute_error: 3.6804 - mean_absolute_percentage_error: 8.4993 - val_loss: 10.2474 - val_rmse: 10.2474 - val_mean_absolute_error: 7.5274 - val_mean_absolute_percentage_error: 16.5208\n",
      "Epoch 11/50\n",
      " - 5s - loss: 4.9392 - rmse: 4.9392 - mean_absolute_error: 3.4292 - mean_absolute_percentage_error: 8.0146 - val_loss: 10.4905 - val_rmse: 10.4905 - val_mean_absolute_error: 7.9905 - val_mean_absolute_percentage_error: 17.5539\n",
      "Epoch 12/50\n",
      " - 5s - loss: 5.1078 - rmse: 5.1078 - mean_absolute_error: 3.6186 - mean_absolute_percentage_error: 8.4069 - val_loss: 10.1613 - val_rmse: 10.1613 - val_mean_absolute_error: 7.6526 - val_mean_absolute_percentage_error: 16.8888\n",
      "Epoch 13/50\n",
      " - 5s - loss: 4.6000 - rmse: 4.6000 - mean_absolute_error: 3.2502 - mean_absolute_percentage_error: 7.5950 - val_loss: 10.2596 - val_rmse: 10.2596 - val_mean_absolute_error: 7.7078 - val_mean_absolute_percentage_error: 17.2295\n",
      "Epoch 14/50\n",
      " - 5s - loss: 4.9245 - rmse: 4.9245 - mean_absolute_error: 3.3166 - mean_absolute_percentage_error: 7.9693 - val_loss: 9.9823 - val_rmse: 9.9823 - val_mean_absolute_error: 7.7128 - val_mean_absolute_percentage_error: 17.2033\n",
      "Epoch 15/50\n",
      " - 5s - loss: 4.6314 - rmse: 4.6314 - mean_absolute_error: 3.2255 - mean_absolute_percentage_error: 7.6391 - val_loss: 10.3655 - val_rmse: 10.3655 - val_mean_absolute_error: 7.9717 - val_mean_absolute_percentage_error: 17.4461\n",
      "Epoch 16/50\n",
      " - 4s - loss: 4.5530 - rmse: 4.5530 - mean_absolute_error: 3.2510 - mean_absolute_percentage_error: 7.6996 - val_loss: 10.3949 - val_rmse: 10.3949 - val_mean_absolute_error: 8.1129 - val_mean_absolute_percentage_error: 17.9557\n",
      "Epoch 17/50\n",
      " - 5s - loss: 5.4590 - rmse: 5.4590 - mean_absolute_error: 4.0506 - mean_absolute_percentage_error: 9.2901 - val_loss: 10.2254 - val_rmse: 10.2254 - val_mean_absolute_error: 7.8316 - val_mean_absolute_percentage_error: 17.1836\n",
      "Epoch 18/50\n",
      " - 5s - loss: 4.3814 - rmse: 4.3814 - mean_absolute_error: 3.0400 - mean_absolute_percentage_error: 7.0950 - val_loss: 10.8099 - val_rmse: 10.8099 - val_mean_absolute_error: 7.9657 - val_mean_absolute_percentage_error: 17.4936\n",
      "Epoch 19/50\n",
      " - 4s - loss: 4.3133 - rmse: 4.3133 - mean_absolute_error: 2.9504 - mean_absolute_percentage_error: 6.9612 - val_loss: 10.2695 - val_rmse: 10.2695 - val_mean_absolute_error: 7.8559 - val_mean_absolute_percentage_error: 17.2277\n",
      "Epoch 20/50\n",
      " - 4s - loss: 4.5828 - rmse: 4.5828 - mean_absolute_error: 3.2579 - mean_absolute_percentage_error: 7.4933 - val_loss: 10.1140 - val_rmse: 10.1140 - val_mean_absolute_error: 7.8339 - val_mean_absolute_percentage_error: 17.0407\n",
      "Epoch 21/50\n",
      " - 4s - loss: 4.2889 - rmse: 4.2889 - mean_absolute_error: 3.0564 - mean_absolute_percentage_error: 7.0663 - val_loss: 10.4477 - val_rmse: 10.4477 - val_mean_absolute_error: 7.8609 - val_mean_absolute_percentage_error: 17.4353\n",
      "Epoch 22/50\n",
      " - 4s - loss: 4.5657 - rmse: 4.5657 - mean_absolute_error: 3.2751 - mean_absolute_percentage_error: 7.5499 - val_loss: 10.0705 - val_rmse: 10.0705 - val_mean_absolute_error: 7.8403 - val_mean_absolute_percentage_error: 17.0390\n",
      "Epoch 23/50\n",
      " - 4s - loss: 4.2274 - rmse: 4.2274 - mean_absolute_error: 2.9766 - mean_absolute_percentage_error: 6.9688 - val_loss: 10.3442 - val_rmse: 10.3442 - val_mean_absolute_error: 8.0936 - val_mean_absolute_percentage_error: 17.6026\n",
      "Epoch 24/50\n",
      " - 4s - loss: 4.1633 - rmse: 4.1633 - mean_absolute_error: 2.8588 - mean_absolute_percentage_error: 6.7644 - val_loss: 10.7661 - val_rmse: 10.7661 - val_mean_absolute_error: 8.0412 - val_mean_absolute_percentage_error: 17.8692\n",
      "Epoch 25/50\n",
      " - 4s - loss: 3.9693 - rmse: 3.9693 - mean_absolute_error: 2.7221 - mean_absolute_percentage_error: 6.5061 - val_loss: 10.8535 - val_rmse: 10.8535 - val_mean_absolute_error: 8.1317 - val_mean_absolute_percentage_error: 17.9621\n",
      "Epoch 26/50\n",
      " - 4s - loss: 4.4109 - rmse: 4.4109 - mean_absolute_error: 3.0214 - mean_absolute_percentage_error: 7.2799 - val_loss: 10.1965 - val_rmse: 10.1965 - val_mean_absolute_error: 7.7917 - val_mean_absolute_percentage_error: 17.1939\n",
      "Epoch 27/50\n",
      " - 4s - loss: 4.3041 - rmse: 4.3041 - mean_absolute_error: 3.0295 - mean_absolute_percentage_error: 7.2784 - val_loss: 10.4621 - val_rmse: 10.4621 - val_mean_absolute_error: 7.8624 - val_mean_absolute_percentage_error: 17.1828\n",
      "Epoch 28/50\n",
      " - 5s - loss: 4.4703 - rmse: 4.4703 - mean_absolute_error: 3.1726 - mean_absolute_percentage_error: 7.5465 - val_loss: 10.2885 - val_rmse: 10.2885 - val_mean_absolute_error: 7.9854 - val_mean_absolute_percentage_error: 17.5772\n",
      "Epoch 29/50\n",
      " - 5s - loss: 4.0390 - rmse: 4.0390 - mean_absolute_error: 2.8503 - mean_absolute_percentage_error: 6.7354 - val_loss: 10.3326 - val_rmse: 10.3326 - val_mean_absolute_error: 7.8062 - val_mean_absolute_percentage_error: 17.0693\n",
      "Epoch 30/50\n",
      " - 4s - loss: 4.0265 - rmse: 4.0265 - mean_absolute_error: 2.7489 - mean_absolute_percentage_error: 6.5978 - val_loss: 10.3584 - val_rmse: 10.3584 - val_mean_absolute_error: 7.8111 - val_mean_absolute_percentage_error: 17.1865\n",
      "Epoch 31/50\n",
      " - 5s - loss: 3.8489 - rmse: 3.8489 - mean_absolute_error: 2.6460 - mean_absolute_percentage_error: 6.4212 - val_loss: 10.5186 - val_rmse: 10.5186 - val_mean_absolute_error: 8.0008 - val_mean_absolute_percentage_error: 17.5210\n",
      "Epoch 32/50\n",
      " - 5s - loss: 4.0611 - rmse: 4.0611 - mean_absolute_error: 2.8333 - mean_absolute_percentage_error: 6.8140 - val_loss: 10.2665 - val_rmse: 10.2665 - val_mean_absolute_error: 7.9705 - val_mean_absolute_percentage_error: 17.3540\n",
      "Epoch 33/50\n",
      " - 5s - loss: 4.1198 - rmse: 4.1198 - mean_absolute_error: 2.8828 - mean_absolute_percentage_error: 6.8539 - val_loss: 10.5118 - val_rmse: 10.5118 - val_mean_absolute_error: 8.2076 - val_mean_absolute_percentage_error: 17.8967\n",
      "Epoch 34/50\n",
      " - 4s - loss: 4.4270 - rmse: 4.4270 - mean_absolute_error: 3.2136 - mean_absolute_percentage_error: 7.5099 - val_loss: 10.9425 - val_rmse: 10.9425 - val_mean_absolute_error: 8.5762 - val_mean_absolute_percentage_error: 18.6242\n",
      "Epoch 35/50\n",
      " - 5s - loss: 4.4544 - rmse: 4.4544 - mean_absolute_error: 3.2640 - mean_absolute_percentage_error: 7.5465 - val_loss: 10.4276 - val_rmse: 10.4276 - val_mean_absolute_error: 7.9462 - val_mean_absolute_percentage_error: 17.4628\n"
     ]
    },
    {
     "name": "stdout",
     "output_type": "stream",
     "text": [
      "Epoch 36/50\n",
      " - 4s - loss: 3.8057 - rmse: 3.8057 - mean_absolute_error: 2.6633 - mean_absolute_percentage_error: 6.3004 - val_loss: 10.6759 - val_rmse: 10.6759 - val_mean_absolute_error: 8.1488 - val_mean_absolute_percentage_error: 17.8549\n",
      "Epoch 37/50\n",
      " - 4s - loss: 3.7322 - rmse: 3.7322 - mean_absolute_error: 2.5224 - mean_absolute_percentage_error: 6.1312 - val_loss: 11.1015 - val_rmse: 11.1015 - val_mean_absolute_error: 8.4073 - val_mean_absolute_percentage_error: 18.4311\n",
      "Epoch 38/50\n",
      " - 4s - loss: 3.7869 - rmse: 3.7869 - mean_absolute_error: 2.5510 - mean_absolute_percentage_error: 6.1189 - val_loss: 10.7213 - val_rmse: 10.7213 - val_mean_absolute_error: 8.1799 - val_mean_absolute_percentage_error: 17.8710\n",
      "Epoch 39/50\n",
      " - 4s - loss: 4.1505 - rmse: 4.1505 - mean_absolute_error: 2.9096 - mean_absolute_percentage_error: 6.7804 - val_loss: 10.6485 - val_rmse: 10.6485 - val_mean_absolute_error: 8.2830 - val_mean_absolute_percentage_error: 18.0576\n",
      "Epoch 40/50\n",
      " - 4s - loss: 3.9768 - rmse: 3.9768 - mean_absolute_error: 2.8669 - mean_absolute_percentage_error: 6.6330 - val_loss: 10.4629 - val_rmse: 10.4629 - val_mean_absolute_error: 8.0727 - val_mean_absolute_percentage_error: 17.8177\n",
      "Epoch 41/50\n",
      " - 4s - loss: 3.9162 - rmse: 3.9162 - mean_absolute_error: 2.8342 - mean_absolute_percentage_error: 6.5799 - val_loss: 10.8342 - val_rmse: 10.8342 - val_mean_absolute_error: 8.3187 - val_mean_absolute_percentage_error: 18.2074\n",
      "Epoch 42/50\n",
      " - 4s - loss: 3.8111 - rmse: 3.8111 - mean_absolute_error: 2.6353 - mean_absolute_percentage_error: 6.1632 - val_loss: 10.8360 - val_rmse: 10.8360 - val_mean_absolute_error: 8.2794 - val_mean_absolute_percentage_error: 18.1482\n",
      "Epoch 43/50\n",
      " - 4s - loss: 3.7923 - rmse: 3.7923 - mean_absolute_error: 2.5164 - mean_absolute_percentage_error: 6.0657 - val_loss: 10.5997 - val_rmse: 10.5997 - val_mean_absolute_error: 8.0938 - val_mean_absolute_percentage_error: 17.7200\n",
      "Epoch 44/50\n",
      " - 5s - loss: 3.7488 - rmse: 3.7488 - mean_absolute_error: 2.5676 - mean_absolute_percentage_error: 6.1279 - val_loss: 11.2185 - val_rmse: 11.2185 - val_mean_absolute_error: 8.5682 - val_mean_absolute_percentage_error: 18.7419\n",
      "Epoch 45/50\n",
      " - 4s - loss: 3.7780 - rmse: 3.7780 - mean_absolute_error: 2.5757 - mean_absolute_percentage_error: 6.1381 - val_loss: 10.6212 - val_rmse: 10.6212 - val_mean_absolute_error: 8.2283 - val_mean_absolute_percentage_error: 17.9263\n",
      "Epoch 46/50\n",
      " - 4s - loss: 3.7492 - rmse: 3.7492 - mean_absolute_error: 2.5835 - mean_absolute_percentage_error: 6.1446 - val_loss: 10.9435 - val_rmse: 10.9435 - val_mean_absolute_error: 8.4400 - val_mean_absolute_percentage_error: 18.3964\n",
      "Epoch 47/50\n",
      " - 4s - loss: 3.3973 - rmse: 3.3973 - mean_absolute_error: 2.3112 - mean_absolute_percentage_error: 5.5612 - val_loss: 10.7364 - val_rmse: 10.7364 - val_mean_absolute_error: 8.2496 - val_mean_absolute_percentage_error: 18.1735\n",
      "Epoch 48/50\n",
      " - 4s - loss: 3.5866 - rmse: 3.5866 - mean_absolute_error: 2.3902 - mean_absolute_percentage_error: 5.9298 - val_loss: 10.9034 - val_rmse: 10.9034 - val_mean_absolute_error: 8.4345 - val_mean_absolute_percentage_error: 18.2889\n",
      "Epoch 49/50\n",
      " - 4s - loss: 4.2883 - rmse: 4.2883 - mean_absolute_error: 3.2056 - mean_absolute_percentage_error: 7.4560 - val_loss: 10.9523 - val_rmse: 10.9523 - val_mean_absolute_error: 8.5951 - val_mean_absolute_percentage_error: 18.5985\n",
      "Epoch 50/50\n",
      " - 5s - loss: 3.5751 - rmse: 3.5751 - mean_absolute_error: 2.5426 - mean_absolute_percentage_error: 5.9450 - val_loss: 11.2065 - val_rmse: 11.2065 - val_mean_absolute_error: 8.6470 - val_mean_absolute_percentage_error: 18.9073\n",
      "CPU times: user 17min 7s, sys: 28.7 s, total: 17min 36s\n",
      "Wall time: 3min 45s\n"
     ]
    }
   ],
   "source": [
    "# Single Layer CNN\n",
    "np.random.seed(666)\n",
    "\n",
    "# create model\n",
    "model = Sequential()\n",
    "model.add(Conv2D(10, (3, 3), activation='relu', input_shape=(96,96,1), data_format='channels_last'))\n",
    "model.add(Flatten())\n",
    "model.add(Dense(30))\n",
    "\n",
    "# define RMSE\n",
    "def rmse (y_true, y_pred):\n",
    "    return K.sqrt(K.mean(K.square(y_pred - y_true)))\n",
    "\n",
    "# compile model\n",
    "model.compile(loss=rmse, optimizer='adam', metrics=[rmse, 'mae', 'mape'])\n",
    "\n",
    "# fit model\n",
    "%time baseline = model.fit(X_nm, y_nm, epochs=50, shuffle=True, batch_size=32, validation_split=0.05, verbose=2)\n"
   ]
  },
  {
   "cell_type": "code",
   "execution_count": 10,
   "metadata": {
    "scrolled": true
   },
   "outputs": [
    {
     "name": "stdout",
     "output_type": "stream",
     "text": [
      "Train on 2033 samples, validate on 107 samples\n",
      "Epoch 1/50\n",
      " - 4s - loss: 4.9940 - rmse: 4.9940 - mean_absolute_error: 3.8602 - mean_absolute_percentage_error: 8.6238 - val_loss: 11.2413 - val_rmse: 11.2413 - val_mean_absolute_error: 8.9473 - val_mean_absolute_percentage_error: 19.4019\n",
      "Epoch 2/50\n",
      " - 4s - loss: 3.3767 - rmse: 3.3767 - mean_absolute_error: 2.4886 - mean_absolute_percentage_error: 5.7253 - val_loss: 11.3899 - val_rmse: 11.3899 - val_mean_absolute_error: 8.6888 - val_mean_absolute_percentage_error: 19.1025\n",
      "Epoch 3/50\n",
      " - 5s - loss: 3.3198 - rmse: 3.3198 - mean_absolute_error: 2.2668 - mean_absolute_percentage_error: 5.3712 - val_loss: 10.8465 - val_rmse: 10.8465 - val_mean_absolute_error: 8.3852 - val_mean_absolute_percentage_error: 18.2527\n",
      "Epoch 4/50\n",
      " - 5s - loss: 3.6631 - rmse: 3.6631 - mean_absolute_error: 2.5455 - mean_absolute_percentage_error: 6.0200 - val_loss: 11.5796 - val_rmse: 11.5796 - val_mean_absolute_error: 8.8840 - val_mean_absolute_percentage_error: 19.4786\n",
      "Epoch 5/50\n",
      " - 4s - loss: 3.6051 - rmse: 3.6051 - mean_absolute_error: 2.5107 - mean_absolute_percentage_error: 6.0001 - val_loss: 10.8476 - val_rmse: 10.8476 - val_mean_absolute_error: 8.4656 - val_mean_absolute_percentage_error: 18.5549\n",
      "Epoch 6/50\n",
      " - 4s - loss: 3.7911 - rmse: 3.7911 - mean_absolute_error: 2.5627 - mean_absolute_percentage_error: 6.2108 - val_loss: 10.7098 - val_rmse: 10.7098 - val_mean_absolute_error: 8.3377 - val_mean_absolute_percentage_error: 18.0551\n",
      "Epoch 7/50\n",
      " - 4s - loss: 3.5580 - rmse: 3.5580 - mean_absolute_error: 2.4555 - mean_absolute_percentage_error: 6.0274 - val_loss: 11.1258 - val_rmse: 11.1258 - val_mean_absolute_error: 8.5961 - val_mean_absolute_percentage_error: 18.7351\n",
      "Epoch 8/50\n",
      " - 5s - loss: 4.0029 - rmse: 4.0029 - mean_absolute_error: 2.8849 - mean_absolute_percentage_error: 6.8587 - val_loss: 11.5257 - val_rmse: 11.5257 - val_mean_absolute_error: 9.0214 - val_mean_absolute_percentage_error: 19.5835\n",
      "Epoch 9/50\n",
      " - 5s - loss: 3.9833 - rmse: 3.9833 - mean_absolute_error: 2.8459 - mean_absolute_percentage_error: 6.8250 - val_loss: 11.0047 - val_rmse: 11.0047 - val_mean_absolute_error: 8.3751 - val_mean_absolute_percentage_error: 18.3777\n",
      "Epoch 10/50\n",
      " - 4s - loss: 3.5506 - rmse: 3.5506 - mean_absolute_error: 2.4148 - mean_absolute_percentage_error: 5.7929 - val_loss: 11.3786 - val_rmse: 11.3786 - val_mean_absolute_error: 8.8044 - val_mean_absolute_percentage_error: 19.0851\n",
      "Epoch 11/50\n",
      " - 4s - loss: 3.7384 - rmse: 3.7384 - mean_absolute_error: 2.7485 - mean_absolute_percentage_error: 6.4097 - val_loss: 11.1392 - val_rmse: 11.1392 - val_mean_absolute_error: 8.4915 - val_mean_absolute_percentage_error: 18.4869\n",
      "Epoch 12/50\n",
      " - 4s - loss: 3.3063 - rmse: 3.3063 - mean_absolute_error: 2.3676 - mean_absolute_percentage_error: 5.5943 - val_loss: 10.5775 - val_rmse: 10.5775 - val_mean_absolute_error: 8.2134 - val_mean_absolute_percentage_error: 17.8015\n",
      "Epoch 13/50\n",
      " - 4s - loss: 4.2369 - rmse: 4.2369 - mean_absolute_error: 3.2412 - mean_absolute_percentage_error: 7.3518 - val_loss: 11.4770 - val_rmse: 11.4770 - val_mean_absolute_error: 8.8398 - val_mean_absolute_percentage_error: 19.3529\n",
      "Epoch 14/50\n",
      " - 4s - loss: 3.2061 - rmse: 3.2061 - mean_absolute_error: 2.2737 - mean_absolute_percentage_error: 5.3686 - val_loss: 11.0113 - val_rmse: 11.0113 - val_mean_absolute_error: 8.5460 - val_mean_absolute_percentage_error: 18.7128\n",
      "Epoch 15/50\n",
      " - 4s - loss: 3.6796 - rmse: 3.6796 - mean_absolute_error: 2.6398 - mean_absolute_percentage_error: 6.1205 - val_loss: 11.3795 - val_rmse: 11.3795 - val_mean_absolute_error: 8.8517 - val_mean_absolute_percentage_error: 19.2946\n",
      "Epoch 16/50\n",
      " - 4s - loss: 3.4056 - rmse: 3.4056 - mean_absolute_error: 2.4054 - mean_absolute_percentage_error: 5.7310 - val_loss: 12.7630 - val_rmse: 12.7630 - val_mean_absolute_error: 9.7291 - val_mean_absolute_percentage_error: 21.3089\n",
      "Epoch 17/50\n",
      " - 4s - loss: 3.5810 - rmse: 3.5810 - mean_absolute_error: 2.5857 - mean_absolute_percentage_error: 6.0475 - val_loss: 11.9213 - val_rmse: 11.9213 - val_mean_absolute_error: 9.2013 - val_mean_absolute_percentage_error: 19.9972\n",
      "Epoch 18/50\n",
      " - 5s - loss: 3.4741 - rmse: 3.4741 - mean_absolute_error: 2.4746 - mean_absolute_percentage_error: 5.7970 - val_loss: 11.0345 - val_rmse: 11.0345 - val_mean_absolute_error: 8.6682 - val_mean_absolute_percentage_error: 18.8564\n",
      "Epoch 19/50\n",
      " - 5s - loss: 4.1841 - rmse: 4.1841 - mean_absolute_error: 3.1924 - mean_absolute_percentage_error: 7.2551 - val_loss: 11.1534 - val_rmse: 11.1534 - val_mean_absolute_error: 8.7895 - val_mean_absolute_percentage_error: 19.0442\n",
      "Epoch 20/50\n",
      " - 6s - loss: 3.3445 - rmse: 3.3445 - mean_absolute_error: 2.4719 - mean_absolute_percentage_error: 5.7762 - val_loss: 10.9878 - val_rmse: 10.9878 - val_mean_absolute_error: 8.5733 - val_mean_absolute_percentage_error: 18.6831\n",
      "Epoch 21/50\n",
      " - 5s - loss: 3.5195 - rmse: 3.5195 - mean_absolute_error: 2.5203 - mean_absolute_percentage_error: 6.0025 - val_loss: 11.9022 - val_rmse: 11.9022 - val_mean_absolute_error: 9.1547 - val_mean_absolute_percentage_error: 20.1449\n",
      "Epoch 22/50\n",
      " - 5s - loss: 3.3557 - rmse: 3.3557 - mean_absolute_error: 2.3524 - mean_absolute_percentage_error: 5.6032 - val_loss: 10.9979 - val_rmse: 10.9979 - val_mean_absolute_error: 8.5456 - val_mean_absolute_percentage_error: 18.7782\n",
      "Epoch 23/50\n",
      " - 4s - loss: 3.4944 - rmse: 3.4944 - mean_absolute_error: 2.5226 - mean_absolute_percentage_error: 5.8951 - val_loss: 11.2422 - val_rmse: 11.2422 - val_mean_absolute_error: 8.8424 - val_mean_absolute_percentage_error: 19.2788\n",
      "Epoch 24/50\n",
      " - 4s - loss: 3.1098 - rmse: 3.1098 - mean_absolute_error: 2.2193 - mean_absolute_percentage_error: 5.3410 - val_loss: 11.1744 - val_rmse: 11.1744 - val_mean_absolute_error: 8.7547 - val_mean_absolute_percentage_error: 18.9706\n",
      "Epoch 25/50\n",
      " - 4s - loss: 3.2042 - rmse: 3.2042 - mean_absolute_error: 2.1440 - mean_absolute_percentage_error: 5.2027 - val_loss: 11.4694 - val_rmse: 11.4694 - val_mean_absolute_error: 8.9714 - val_mean_absolute_percentage_error: 19.7199\n",
      "Epoch 26/50\n",
      " - 4s - loss: 3.7338 - rmse: 3.7338 - mean_absolute_error: 2.5483 - mean_absolute_percentage_error: 6.0401 - val_loss: 10.9663 - val_rmse: 10.9663 - val_mean_absolute_error: 8.5981 - val_mean_absolute_percentage_error: 18.7286\n",
      "Epoch 27/50\n",
      " - 4s - loss: 3.0857 - rmse: 3.0857 - mean_absolute_error: 2.0321 - mean_absolute_percentage_error: 5.0646 - val_loss: 11.3897 - val_rmse: 11.3897 - val_mean_absolute_error: 8.9192 - val_mean_absolute_percentage_error: 19.5710\n",
      "Epoch 28/50\n",
      " - 4s - loss: 3.1698 - rmse: 3.1698 - mean_absolute_error: 2.1038 - mean_absolute_percentage_error: 5.2636 - val_loss: 10.9000 - val_rmse: 10.9000 - val_mean_absolute_error: 8.5354 - val_mean_absolute_percentage_error: 18.6074\n",
      "Epoch 29/50\n",
      " - 4s - loss: 3.6222 - rmse: 3.6222 - mean_absolute_error: 2.6340 - mean_absolute_percentage_error: 6.1989 - val_loss: 11.8059 - val_rmse: 11.8059 - val_mean_absolute_error: 9.2219 - val_mean_absolute_percentage_error: 20.3090\n",
      "Epoch 30/50\n",
      " - 4s - loss: 3.0841 - rmse: 3.0841 - mean_absolute_error: 2.1931 - mean_absolute_percentage_error: 5.2116 - val_loss: 11.0367 - val_rmse: 11.0367 - val_mean_absolute_error: 8.5866 - val_mean_absolute_percentage_error: 18.6944\n",
      "Epoch 31/50\n",
      " - 4s - loss: 3.2701 - rmse: 3.2701 - mean_absolute_error: 2.3064 - mean_absolute_percentage_error: 5.3763 - val_loss: 11.4039 - val_rmse: 11.4039 - val_mean_absolute_error: 8.8425 - val_mean_absolute_percentage_error: 19.4936\n",
      "Epoch 32/50\n",
      " - 4s - loss: 3.1941 - rmse: 3.1941 - mean_absolute_error: 2.2437 - mean_absolute_percentage_error: 5.2036 - val_loss: 11.2013 - val_rmse: 11.2013 - val_mean_absolute_error: 8.7858 - val_mean_absolute_percentage_error: 19.1303\n",
      "Epoch 33/50\n",
      " - 4s - loss: 3.6543 - rmse: 3.6543 - mean_absolute_error: 2.6596 - mean_absolute_percentage_error: 6.0917 - val_loss: 11.7119 - val_rmse: 11.7119 - val_mean_absolute_error: 9.0859 - val_mean_absolute_percentage_error: 19.9207\n",
      "Epoch 34/50\n",
      " - 4s - loss: 2.9499 - rmse: 2.9499 - mean_absolute_error: 2.0347 - mean_absolute_percentage_error: 4.8658 - val_loss: 11.8911 - val_rmse: 11.8911 - val_mean_absolute_error: 9.1811 - val_mean_absolute_percentage_error: 20.0202\n",
      "Epoch 35/50\n",
      " - 4s - loss: 3.1627 - rmse: 3.1627 - mean_absolute_error: 2.1913 - mean_absolute_percentage_error: 5.3063 - val_loss: 12.2528 - val_rmse: 12.2528 - val_mean_absolute_error: 9.4560 - val_mean_absolute_percentage_error: 20.7271\n"
     ]
    },
    {
     "name": "stdout",
     "output_type": "stream",
     "text": [
      "Epoch 36/50\n",
      " - 4s - loss: 3.1929 - rmse: 3.1929 - mean_absolute_error: 2.2188 - mean_absolute_percentage_error: 5.3014 - val_loss: 11.8940 - val_rmse: 11.8940 - val_mean_absolute_error: 9.1070 - val_mean_absolute_percentage_error: 19.9590\n",
      "Epoch 37/50\n",
      " - 4s - loss: 3.1377 - rmse: 3.1377 - mean_absolute_error: 2.1778 - mean_absolute_percentage_error: 5.1243 - val_loss: 11.1654 - val_rmse: 11.1654 - val_mean_absolute_error: 8.7769 - val_mean_absolute_percentage_error: 19.0601\n",
      "Epoch 38/50\n",
      " - 4s - loss: 3.1622 - rmse: 3.1622 - mean_absolute_error: 2.2521 - mean_absolute_percentage_error: 5.2692 - val_loss: 10.9572 - val_rmse: 10.9572 - val_mean_absolute_error: 8.5737 - val_mean_absolute_percentage_error: 18.6807\n",
      "Epoch 39/50\n",
      " - 4s - loss: 3.3696 - rmse: 3.3696 - mean_absolute_error: 2.4085 - mean_absolute_percentage_error: 5.5260 - val_loss: 11.5924 - val_rmse: 11.5924 - val_mean_absolute_error: 8.9955 - val_mean_absolute_percentage_error: 19.6485\n",
      "Epoch 40/50\n",
      " - 4s - loss: 2.8761 - rmse: 2.8761 - mean_absolute_error: 2.0398 - mean_absolute_percentage_error: 4.8764 - val_loss: 11.5301 - val_rmse: 11.5301 - val_mean_absolute_error: 8.9072 - val_mean_absolute_percentage_error: 19.3889\n",
      "Epoch 41/50\n",
      " - 4s - loss: 3.2185 - rmse: 3.2185 - mean_absolute_error: 2.3118 - mean_absolute_percentage_error: 5.5117 - val_loss: 12.0199 - val_rmse: 12.0199 - val_mean_absolute_error: 9.2576 - val_mean_absolute_percentage_error: 20.3291\n",
      "Epoch 42/50\n",
      " - 4s - loss: 3.2250 - rmse: 3.2250 - mean_absolute_error: 2.2719 - mean_absolute_percentage_error: 5.3901 - val_loss: 11.2328 - val_rmse: 11.2328 - val_mean_absolute_error: 8.7384 - val_mean_absolute_percentage_error: 19.1685\n",
      "Epoch 43/50\n",
      " - 4s - loss: 2.8310 - rmse: 2.8310 - mean_absolute_error: 1.8995 - mean_absolute_percentage_error: 4.6121 - val_loss: 11.6344 - val_rmse: 11.6344 - val_mean_absolute_error: 9.0156 - val_mean_absolute_percentage_error: 19.6892\n",
      "Epoch 44/50\n",
      " - 4s - loss: 3.3151 - rmse: 3.3151 - mean_absolute_error: 2.3235 - mean_absolute_percentage_error: 5.5545 - val_loss: 11.5016 - val_rmse: 11.5016 - val_mean_absolute_error: 8.8734 - val_mean_absolute_percentage_error: 19.3205\n",
      "Epoch 45/50\n",
      " - 4s - loss: 3.0094 - rmse: 3.0094 - mean_absolute_error: 2.1225 - mean_absolute_percentage_error: 5.0531 - val_loss: 11.6665 - val_rmse: 11.6665 - val_mean_absolute_error: 9.0008 - val_mean_absolute_percentage_error: 19.7691\n",
      "Epoch 46/50\n",
      " - 4s - loss: 3.2460 - rmse: 3.2460 - mean_absolute_error: 2.3687 - mean_absolute_percentage_error: 5.5458 - val_loss: 11.3543 - val_rmse: 11.3543 - val_mean_absolute_error: 8.8651 - val_mean_absolute_percentage_error: 19.1604\n",
      "Epoch 47/50\n",
      " - 4s - loss: 3.4364 - rmse: 3.4364 - mean_absolute_error: 2.5748 - mean_absolute_percentage_error: 6.0036 - val_loss: 12.2644 - val_rmse: 12.2644 - val_mean_absolute_error: 9.3229 - val_mean_absolute_percentage_error: 20.3292\n",
      "Epoch 48/50\n",
      " - 4s - loss: 3.0159 - rmse: 3.0159 - mean_absolute_error: 2.1102 - mean_absolute_percentage_error: 5.1985 - val_loss: 11.2469 - val_rmse: 11.2469 - val_mean_absolute_error: 8.7933 - val_mean_absolute_percentage_error: 19.0648\n",
      "Epoch 49/50\n",
      " - 4s - loss: 3.0208 - rmse: 3.0208 - mean_absolute_error: 2.1355 - mean_absolute_percentage_error: 5.2327 - val_loss: 11.0216 - val_rmse: 11.0216 - val_mean_absolute_error: 8.6679 - val_mean_absolute_percentage_error: 18.8280\n",
      "Epoch 50/50\n",
      " - 4s - loss: 3.1658 - rmse: 3.1658 - mean_absolute_error: 2.2541 - mean_absolute_percentage_error: 5.3207 - val_loss: 11.5833 - val_rmse: 11.5833 - val_mean_absolute_error: 8.9249 - val_mean_absolute_percentage_error: 19.3788\n"
     ]
    }
   ],
   "source": [
    "baseline = model.fit(X_nm, y_nm, epochs=50, shuffle=True, batch_size=32, validation_split=0.05, verbose=2)"
   ]
  },
  {
   "cell_type": "code",
   "execution_count": null,
   "metadata": {},
   "outputs": [],
   "source": [
    "# plot metrics\n",
    "plt.plot(baseline.history['rmse'][3:])\n",
    "plt.plot(baseline.history['val_rmse'][3:])\n",
    "plt.show()"
   ]
  },
  {
   "cell_type": "code",
   "execution_count": 12,
   "metadata": {},
   "outputs": [
    {
     "name": "stdout",
     "output_type": "stream",
     "text": [
      "(1783, 2)\n",
      "(27124, 4)\n",
      "(27124, 2)\n"
     ]
    }
   ],
   "source": [
    "# read in data\n",
    "training = pd.read_csv(\"all/training.csv\")\n",
    "test = pd.read_csv('all/test.csv')\n",
    "lookup = pd.read_csv('all/IdLookupTable.csv')\n",
    "sample_submission = pd.read_csv('all/SampleSubmission.csv')\n",
    "print(test.shape)\n",
    "print(lookup.shape)\n",
    "print(sample_submission.shape)"
   ]
  },
  {
   "cell_type": "code",
   "execution_count": 13,
   "metadata": {},
   "outputs": [
    {
     "data": {
      "text/plain": [
       "(1783, 96, 96, 1)"
      ]
     },
     "execution_count": 13,
     "metadata": {},
     "output_type": "execute_result"
    }
   ],
   "source": [
    "# split out image values\n",
    "image = []\n",
    "for i in range(test.shape[0]):\n",
    "    img = test['Image'][i].split(' ')\n",
    "    img = ['0' if j == '' else j for j in img]\n",
    "    image.append(img)\n",
    "    \n",
    "X_test = np.array(image, dtype = 'float').reshape(-1,96,96,1)\n",
    "X_test.shape"
   ]
  },
  {
   "cell_type": "code",
   "execution_count": 15,
   "metadata": {},
   "outputs": [
    {
     "name": "stderr",
     "output_type": "stream",
     "text": [
      "/anaconda3/lib/python3.6/site-packages/ipykernel_launcher.py:10: SettingWithCopyWarning: \n",
      "A value is trying to be set on a copy of a slice from a DataFrame\n",
      "\n",
      "See the caveats in the documentation: http://pandas.pydata.org/pandas-docs/stable/indexing.html#indexing-view-versus-copy\n",
      "  # Remove the CWD from sys.path while we load stuff.\n",
      "/anaconda3/lib/python3.6/site-packages/pandas/core/generic.py:5984: SettingWithCopyWarning: \n",
      "A value is trying to be set on a copy of a slice from a DataFrame\n",
      "\n",
      "See the caveats in the documentation: http://pandas.pydata.org/pandas-docs/stable/indexing.html#indexing-view-versus-copy\n",
      "  self._update_inplace(new_data)\n",
      "/anaconda3/lib/python3.6/site-packages/IPython/core/interactiveshell.py:2910: SettingWithCopyWarning: \n",
      "A value is trying to be set on a copy of a slice from a DataFrame\n",
      "\n",
      "See the caveats in the documentation: http://pandas.pydata.org/pandas-docs/stable/indexing.html#indexing-view-versus-copy\n",
      "  exec(code_obj, self.user_global_ns, self.user_ns)\n",
      "/anaconda3/lib/python3.6/site-packages/ipykernel_launcher.py:11: SettingWithCopyWarning: \n",
      "A value is trying to be set on a copy of a slice from a DataFrame\n",
      "\n",
      "See the caveats in the documentation: http://pandas.pydata.org/pandas-docs/stable/indexing.html#indexing-view-versus-copy\n",
      "  # This is added back by InteractiveShellApp.init_path()\n"
     ]
    },
    {
     "name": "stdout",
     "output_type": "stream",
     "text": [
      "(27124, 2)\n"
     ]
    },
    {
     "data": {
      "text/html": [
       "<div>\n",
       "<style scoped>\n",
       "    .dataframe tbody tr th:only-of-type {\n",
       "        vertical-align: middle;\n",
       "    }\n",
       "\n",
       "    .dataframe tbody tr th {\n",
       "        vertical-align: top;\n",
       "    }\n",
       "\n",
       "    .dataframe thead th {\n",
       "        text-align: right;\n",
       "    }\n",
       "</style>\n",
       "<table border=\"1\" class=\"dataframe\">\n",
       "  <thead>\n",
       "    <tr style=\"text-align: right;\">\n",
       "      <th></th>\n",
       "      <th>RowId</th>\n",
       "      <th>Location</th>\n",
       "    </tr>\n",
       "  </thead>\n",
       "  <tbody>\n",
       "    <tr>\n",
       "      <th>0</th>\n",
       "      <td>1</td>\n",
       "      <td>80.632698</td>\n",
       "    </tr>\n",
       "    <tr>\n",
       "      <th>1</th>\n",
       "      <td>2</td>\n",
       "      <td>49.795628</td>\n",
       "    </tr>\n",
       "    <tr>\n",
       "      <th>2</th>\n",
       "      <td>3</td>\n",
       "      <td>35.216061</td>\n",
       "    </tr>\n",
       "    <tr>\n",
       "      <th>3</th>\n",
       "      <td>4</td>\n",
       "      <td>43.981232</td>\n",
       "    </tr>\n",
       "    <tr>\n",
       "      <th>4</th>\n",
       "      <td>5</td>\n",
       "      <td>73.850967</td>\n",
       "    </tr>\n",
       "  </tbody>\n",
       "</table>\n",
       "</div>"
      ],
      "text/plain": [
       "   RowId   Location\n",
       "0      1  80.632698\n",
       "1      2  49.795628\n",
       "2      3  35.216061\n",
       "3      4  43.981232\n",
       "4      5  73.850967"
      ]
     },
     "execution_count": 15,
     "metadata": {},
     "output_type": "execute_result"
    }
   ],
   "source": [
    "# make prediction on test set\n",
    "y_test = model.predict(X_test, batch_size=None, verbose=0, steps=None)\n",
    "\n",
    "# prepare submission\n",
    "submission0 = pd.DataFrame(y_test, columns=training.columns[:-1])\n",
    "submission1 = pd.concat([test['ImageId'], submission0], axis=1)\n",
    "submission2 = pd.melt(submission1, id_vars=['ImageId'], value_vars=training.columns[:-1]).rename \\\n",
    "    (columns={\"variable\": \"FeatureName\", \"value\": \"Location\"})\n",
    "submission3 = pd.merge(lookup.drop(columns=['Location']), submission2, on=['ImageId','FeatureName'], how='left')\n",
    "submission4 = submission3[['RowId', 'Location']]\n",
    "submission4['Location'][submission4['Location']>96]=96\n",
    "submission4['Location'][submission4['Location']<0]=0\n",
    "submission4.to_csv('submission_baseline.csv', index=False)\n",
    "print(submission4.shape)\n",
    "submission4.head()"
   ]
  },
  {
   "cell_type": "code",
   "execution_count": null,
   "metadata": {},
   "outputs": [],
   "source": []
  },
  {
   "cell_type": "code",
   "execution_count": null,
   "metadata": {},
   "outputs": [],
   "source": []
  },
  {
   "cell_type": "code",
   "execution_count": null,
   "metadata": {},
   "outputs": [],
   "source": []
  },
  {
   "cell_type": "code",
   "execution_count": null,
   "metadata": {},
   "outputs": [],
   "source": []
  },
  {
   "cell_type": "code",
   "execution_count": null,
   "metadata": {},
   "outputs": [],
   "source": []
  },
  {
   "cell_type": "code",
   "execution_count": null,
   "metadata": {},
   "outputs": [],
   "source": []
  }
 ],
 "metadata": {
  "kernelspec": {
   "display_name": "Python 3",
   "language": "python",
   "name": "python3"
  },
  "language_info": {
   "codemirror_mode": {
    "name": "ipython",
    "version": 3
   },
   "file_extension": ".py",
   "mimetype": "text/x-python",
   "name": "python",
   "nbconvert_exporter": "python",
   "pygments_lexer": "ipython3",
   "version": "3.6.4"
  }
 },
 "nbformat": 4,
 "nbformat_minor": 2
}
