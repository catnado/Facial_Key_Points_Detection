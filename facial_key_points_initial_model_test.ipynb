{
 "cells": [
  {
   "cell_type": "code",
   "execution_count": 1,
   "metadata": {
    "scrolled": true
   },
   "outputs": [
    {
     "name": "stderr",
     "output_type": "stream",
     "text": [
      "/anaconda3/lib/python3.6/site-packages/h5py/__init__.py:36: FutureWarning: Conversion of the second argument of issubdtype from `float` to `np.floating` is deprecated. In future, it will be treated as `np.float64 == np.dtype(float).type`.\n",
      "  from ._conv import register_converters as _register_converters\n",
      "Using TensorFlow backend.\n"
     ]
    }
   ],
   "source": [
    "import pandas as pd\n",
    "import numpy as np\n",
    "np.random.seed(123)  # for reproducibility\n",
    " \n",
    "from keras.models import Sequential\n",
    "from keras.layers import Dense, Dropout, Activation, Flatten\n",
    "from keras.layers import Conv2D, MaxPooling2D, ZeroPadding2D\n",
    "from keras.utils import np_utils\n",
    "from keras import backend as K\n",
    "import tensorflow as tf\n",
    "\n",
    "from matplotlib import pyplot as plt\n",
    "%matplotlib inline"
   ]
  },
  {
   "cell_type": "code",
   "execution_count": 2,
   "metadata": {},
   "outputs": [
    {
     "data": {
      "text/plain": [
       "[]"
      ]
     },
     "execution_count": 2,
     "metadata": {},
     "output_type": "execute_result"
    }
   ],
   "source": [
    "K.tensorflow_backend._get_available_gpus()"
   ]
  },
  {
   "cell_type": "code",
   "execution_count": 3,
   "metadata": {},
   "outputs": [],
   "source": [
    "sess = tf.Session(config=tf.ConfigProto(log_device_placement=True))"
   ]
  },
  {
   "cell_type": "code",
   "execution_count": 17,
   "metadata": {},
   "outputs": [
    {
     "data": {
      "text/plain": [
       "(7049, 31)"
      ]
     },
     "execution_count": 17,
     "metadata": {},
     "output_type": "execute_result"
    }
   ],
   "source": [
    "# read in data\n",
    "training = pd.read_csv(\"all/training.csv\")\n",
    "training.shape"
   ]
  },
  {
   "cell_type": "code",
   "execution_count": 9,
   "metadata": {
    "scrolled": true
   },
   "outputs": [
    {
     "data": {
      "text/plain": [
       "Index(['left_eye_center_x', 'left_eye_center_y', 'right_eye_center_x',\n",
       "       'right_eye_center_y', 'left_eye_inner_corner_x',\n",
       "       'left_eye_inner_corner_y', 'left_eye_outer_corner_x',\n",
       "       'left_eye_outer_corner_y', 'right_eye_inner_corner_x',\n",
       "       'right_eye_inner_corner_y', 'right_eye_outer_corner_x',\n",
       "       'right_eye_outer_corner_y', 'left_eyebrow_inner_end_x',\n",
       "       'left_eyebrow_inner_end_y', 'left_eyebrow_outer_end_x',\n",
       "       'left_eyebrow_outer_end_y', 'right_eyebrow_inner_end_x',\n",
       "       'right_eyebrow_inner_end_y', 'right_eyebrow_outer_end_x',\n",
       "       'right_eyebrow_outer_end_y', 'nose_tip_x', 'nose_tip_y',\n",
       "       'mouth_left_corner_x', 'mouth_left_corner_y', 'mouth_right_corner_x',\n",
       "       'mouth_right_corner_y', 'mouth_center_top_lip_x',\n",
       "       'mouth_center_top_lip_y', 'mouth_center_bottom_lip_x',\n",
       "       'mouth_center_bottom_lip_y', 'Image'],\n",
       "      dtype='object')"
      ]
     },
     "execution_count": 9,
     "metadata": {},
     "output_type": "execute_result"
    }
   ],
   "source": [
    "training.columns"
   ]
  },
  {
   "cell_type": "code",
   "execution_count": 13,
   "metadata": {
    "scrolled": true
   },
   "outputs": [],
   "source": [
    "# shuffle dataset for training/validation split later\n",
    "np.random.seed(666)\n",
    "shuffle = np.random.permutation(np.arange(training.shape[0]))\n",
    "training = training.iloc[shuffle].reset_index(drop=True)"
   ]
  },
  {
   "cell_type": "code",
   "execution_count": 14,
   "metadata": {},
   "outputs": [],
   "source": [
    "# split out image values\n",
    "image = []\n",
    "for i in range(training.shape[0]):\n",
    "    img = training['Image'][i].split(' ')\n",
    "    img = ['0' if j == '' else j for j in img]\n",
    "    image.append(img)"
   ]
  },
  {
   "cell_type": "code",
   "execution_count": 15,
   "metadata": {},
   "outputs": [
    {
     "name": "stdout",
     "output_type": "stream",
     "text": [
      "(5640, 9216) (1409, 9216)\n"
     ]
    }
   ],
   "source": [
    "# create training and validation set (80/20 split)\n",
    "X = np.array(image, dtype = 'float')\n",
    "X_train, X_val = X[:5640], X[5640:]\n",
    "print(X_train.shape, X_val.shape)"
   ]
  },
  {
   "cell_type": "code",
   "execution_count": 16,
   "metadata": {},
   "outputs": [
    {
     "name": "stdout",
     "output_type": "stream",
     "text": [
      "(5640, 30) (1409, 30)\n"
     ]
    }
   ],
   "source": [
    "# create training and validation labels (80/20 split)\n",
    "labels = training.drop('Image', axis=1)\n",
    "y = np.array(labels, dtype = 'float')\n",
    "y_train, y_val = y[:5640], y[5640:]\n",
    "print(y_train.shape, y_val.shape)"
   ]
  },
  {
   "cell_type": "code",
   "execution_count": 16,
   "metadata": {},
   "outputs": [
    {
     "data": {
      "image/png": "[encoded data removed]",
      "text/plain": [
       "<Figure size 432x288 with 1 Axes>"
      ]
     },
     "metadata": {
      "needs_background": "light"
     },
     "output_type": "display_data"
    }
   ],
   "source": [
    "# show image\n",
    "plt.imshow(X_train[666].reshape(96,96),cmap='gray')\n",
    "plt.show()"
   ]
  },
  {
   "cell_type": "code",
   "execution_count": 14,
   "metadata": {},
   "outputs": [],
   "source": [
    "# remove missing labels for now\n",
    "X_train_nm = X_train[~np.isnan(y_train).any(axis=1)]\n",
    "y_train_nm = y_train[~np.isnan(y_train).any(axis=1)]"
   ]
  },
  {
   "cell_type": "code",
   "execution_count": 15,
   "metadata": {},
   "outputs": [
    {
     "data": {
      "text/plain": [
       "(2140, 9216)"
      ]
     },
     "execution_count": 15,
     "metadata": {},
     "output_type": "execute_result"
    }
   ],
   "source": [
    "X_train_nm.shape"
   ]
  },
  {
   "cell_type": "code",
   "execution_count": 16,
   "metadata": {},
   "outputs": [
    {
     "data": {
      "text/plain": [
       "(2140, 30)"
      ]
     },
     "execution_count": 16,
     "metadata": {},
     "output_type": "execute_result"
    }
   ],
   "source": [
    "y_train_nm.shape"
   ]
  },
  {
   "cell_type": "code",
   "execution_count": 17,
   "metadata": {},
   "outputs": [
    {
     "data": {
      "text/plain": [
       "(2140, 96, 96, 1)"
      ]
     },
     "execution_count": 17,
     "metadata": {},
     "output_type": "execute_result"
    }
   ],
   "source": [
    "# adjust dimension for CNN later\n",
    "X_train_nm2 = X_train_nm.reshape(-1,96,96,1)\n",
    "X_train_nm2.shape"
   ]
  },
  {
   "cell_type": "markdown",
   "metadata": {},
   "source": [
    "## Single Layer Fully Connected Network with 150 Epochs"
   ]
  },
  {
   "cell_type": "code",
   "execution_count": 36,
   "metadata": {},
   "outputs": [
    {
     "name": "stdout",
     "output_type": "stream",
     "text": [
      "Train on 1712 samples, validate on 428 samples\n",
      "Epoch 1/150\n",
      " - 7s - loss: 28.8374 - rmse: 28.8374 - mean_absolute_error: 23.0228 - mean_absolute_percentage_error: 53.6246 - val_loss: 19.6627 - val_rmse: 19.6627 - val_mean_absolute_error: 15.0272 - val_mean_absolute_percentage_error: 31.9901\n",
      "Epoch 2/150\n",
      " - 6s - loss: 12.6191 - rmse: 12.6191 - mean_absolute_error: 9.9341 - mean_absolute_percentage_error: 22.1734 - val_loss: 13.4160 - val_rmse: 13.4160 - val_mean_absolute_error: 10.7898 - val_mean_absolute_percentage_error: 23.7261\n",
      "Epoch 3/150\n",
      " - 6s - loss: 10.9682 - rmse: 10.9682 - mean_absolute_error: 8.5931 - mean_absolute_percentage_error: 18.9905 - val_loss: 12.6773 - val_rmse: 12.6773 - val_mean_absolute_error: 10.0007 - val_mean_absolute_percentage_error: 21.4692\n",
      "Epoch 4/150\n",
      " - 6s - loss: 10.1189 - rmse: 10.1189 - mean_absolute_error: 8.0135 - mean_absolute_percentage_error: 17.6115 - val_loss: 12.7094 - val_rmse: 12.7094 - val_mean_absolute_error: 10.0158 - val_mean_absolute_percentage_error: 21.1828\n",
      "Epoch 5/150\n",
      " - 6s - loss: 9.4573 - rmse: 9.4573 - mean_absolute_error: 7.4717 - mean_absolute_percentage_error: 16.2744 - val_loss: 12.6695 - val_rmse: 12.6695 - val_mean_absolute_error: 10.0438 - val_mean_absolute_percentage_error: 21.6054\n",
      "Epoch 6/150\n",
      " - 6s - loss: 9.2771 - rmse: 9.2771 - mean_absolute_error: 7.2979 - mean_absolute_percentage_error: 16.0386 - val_loss: 13.0457 - val_rmse: 13.0457 - val_mean_absolute_error: 10.2798 - val_mean_absolute_percentage_error: 21.6876\n",
      "Epoch 7/150\n",
      " - 6s - loss: 8.6322 - rmse: 8.6322 - mean_absolute_error: 6.7708 - mean_absolute_percentage_error: 14.7562 - val_loss: 13.2691 - val_rmse: 13.2691 - val_mean_absolute_error: 10.5313 - val_mean_absolute_percentage_error: 22.5198\n",
      "Epoch 8/150\n",
      " - 6s - loss: 8.8903 - rmse: 8.8903 - mean_absolute_error: 7.0059 - mean_absolute_percentage_error: 15.1957 - val_loss: 12.5264 - val_rmse: 12.5264 - val_mean_absolute_error: 9.8599 - val_mean_absolute_percentage_error: 20.9782\n",
      "Epoch 9/150\n",
      " - 6s - loss: 8.2680 - rmse: 8.2680 - mean_absolute_error: 6.5048 - mean_absolute_percentage_error: 14.0745 - val_loss: 12.9392 - val_rmse: 12.9392 - val_mean_absolute_error: 10.1029 - val_mean_absolute_percentage_error: 21.3371\n",
      "Epoch 10/150\n",
      " - 6s - loss: 8.1580 - rmse: 8.1580 - mean_absolute_error: 6.3965 - mean_absolute_percentage_error: 13.8808 - val_loss: 12.2755 - val_rmse: 12.2755 - val_mean_absolute_error: 9.6505 - val_mean_absolute_percentage_error: 20.4478\n",
      "Epoch 11/150\n",
      " - 6s - loss: 7.9380 - rmse: 7.9380 - mean_absolute_error: 6.1986 - mean_absolute_percentage_error: 13.4014 - val_loss: 13.5689 - val_rmse: 13.5689 - val_mean_absolute_error: 10.8751 - val_mean_absolute_percentage_error: 23.3951\n",
      "Epoch 12/150\n",
      " - 6s - loss: 8.0181 - rmse: 8.0181 - mean_absolute_error: 6.3042 - mean_absolute_percentage_error: 13.8118 - val_loss: 13.3591 - val_rmse: 13.3591 - val_mean_absolute_error: 10.6760 - val_mean_absolute_percentage_error: 23.0499\n",
      "Epoch 13/150\n",
      " - 6s - loss: 7.9817 - rmse: 7.9817 - mean_absolute_error: 6.2567 - mean_absolute_percentage_error: 13.6196 - val_loss: 12.7247 - val_rmse: 12.7247 - val_mean_absolute_error: 10.0067 - val_mean_absolute_percentage_error: 21.1546\n",
      "Epoch 14/150\n",
      " - 6s - loss: 7.4228 - rmse: 7.4228 - mean_absolute_error: 5.7777 - mean_absolute_percentage_error: 12.4933 - val_loss: 13.6204 - val_rmse: 13.6204 - val_mean_absolute_error: 10.6937 - val_mean_absolute_percentage_error: 22.4599\n",
      "Epoch 15/150\n",
      " - 6s - loss: 7.5314 - rmse: 7.5314 - mean_absolute_error: 5.8831 - mean_absolute_percentage_error: 12.7715 - val_loss: 12.4475 - val_rmse: 12.4475 - val_mean_absolute_error: 9.7559 - val_mean_absolute_percentage_error: 20.6658\n",
      "Epoch 16/150\n",
      " - 6s - loss: 7.7306 - rmse: 7.7306 - mean_absolute_error: 6.0696 - mean_absolute_percentage_error: 13.1833 - val_loss: 12.3251 - val_rmse: 12.3251 - val_mean_absolute_error: 9.6903 - val_mean_absolute_percentage_error: 20.5280\n",
      "Epoch 17/150\n",
      " - 6s - loss: 7.5286 - rmse: 7.5286 - mean_absolute_error: 5.8712 - mean_absolute_percentage_error: 12.7552 - val_loss: 12.9358 - val_rmse: 12.9358 - val_mean_absolute_error: 10.1611 - val_mean_absolute_percentage_error: 21.4523\n",
      "Epoch 18/150\n",
      " - 6s - loss: 7.9282 - rmse: 7.9282 - mean_absolute_error: 6.2249 - mean_absolute_percentage_error: 13.5794 - val_loss: 12.1985 - val_rmse: 12.1985 - val_mean_absolute_error: 9.6401 - val_mean_absolute_percentage_error: 20.6138\n",
      "Epoch 19/150\n",
      " - 6s - loss: 7.6248 - rmse: 7.6248 - mean_absolute_error: 5.9825 - mean_absolute_percentage_error: 12.9776 - val_loss: 12.5098 - val_rmse: 12.5098 - val_mean_absolute_error: 9.8743 - val_mean_absolute_percentage_error: 21.1136\n",
      "Epoch 20/150\n",
      " - 6s - loss: 7.1086 - rmse: 7.1086 - mean_absolute_error: 5.5253 - mean_absolute_percentage_error: 11.9607 - val_loss: 11.9724 - val_rmse: 11.9724 - val_mean_absolute_error: 9.3992 - val_mean_absolute_percentage_error: 20.0449\n",
      "Epoch 21/150\n",
      " - 6s - loss: 7.1425 - rmse: 7.1425 - mean_absolute_error: 5.5022 - mean_absolute_percentage_error: 11.9710 - val_loss: 12.1827 - val_rmse: 12.1827 - val_mean_absolute_error: 9.5442 - val_mean_absolute_percentage_error: 20.3412\n",
      "Epoch 22/150\n",
      " - 6s - loss: 7.1906 - rmse: 7.1906 - mean_absolute_error: 5.5612 - mean_absolute_percentage_error: 12.1003 - val_loss: 13.7102 - val_rmse: 13.7102 - val_mean_absolute_error: 10.9168 - val_mean_absolute_percentage_error: 23.2381\n",
      "Epoch 23/150\n",
      " - 6s - loss: 6.9275 - rmse: 6.9275 - mean_absolute_error: 5.3701 - mean_absolute_percentage_error: 11.6570 - val_loss: 12.2836 - val_rmse: 12.2836 - val_mean_absolute_error: 9.6467 - val_mean_absolute_percentage_error: 20.4909\n",
      "Epoch 24/150\n",
      " - 6s - loss: 6.8671 - rmse: 6.8671 - mean_absolute_error: 5.3416 - mean_absolute_percentage_error: 11.6422 - val_loss: 12.8002 - val_rmse: 12.8002 - val_mean_absolute_error: 10.1391 - val_mean_absolute_percentage_error: 21.7901\n",
      "Epoch 25/150\n",
      " - 6s - loss: 7.4590 - rmse: 7.4590 - mean_absolute_error: 5.8936 - mean_absolute_percentage_error: 12.8842 - val_loss: 12.5528 - val_rmse: 12.5528 - val_mean_absolute_error: 9.8381 - val_mean_absolute_percentage_error: 20.7621\n",
      "Epoch 26/150\n",
      " - 6s - loss: 7.2128 - rmse: 7.2128 - mean_absolute_error: 5.6684 - mean_absolute_percentage_error: 12.3935 - val_loss: 12.2000 - val_rmse: 12.2000 - val_mean_absolute_error: 9.5560 - val_mean_absolute_percentage_error: 20.2295\n",
      "Epoch 27/150\n",
      " - 6s - loss: 7.1524 - rmse: 7.1524 - mean_absolute_error: 5.6103 - mean_absolute_percentage_error: 12.2682 - val_loss: 12.3898 - val_rmse: 12.3898 - val_mean_absolute_error: 9.7235 - val_mean_absolute_percentage_error: 20.5396\n",
      "Epoch 28/150\n",
      " - 6s - loss: 6.7530 - rmse: 6.7530 - mean_absolute_error: 5.2294 - mean_absolute_percentage_error: 11.4664 - val_loss: 12.8955 - val_rmse: 12.8955 - val_mean_absolute_error: 10.0470 - val_mean_absolute_percentage_error: 21.0949\n",
      "Epoch 29/150\n",
      " - 6s - loss: 6.7750 - rmse: 6.7750 - mean_absolute_error: 5.2551 - mean_absolute_percentage_error: 11.5154 - val_loss: 12.4447 - val_rmse: 12.4447 - val_mean_absolute_error: 9.7422 - val_mean_absolute_percentage_error: 20.5900\n",
      "Epoch 30/150\n",
      " - 6s - loss: 6.8641 - rmse: 6.8641 - mean_absolute_error: 5.3353 - mean_absolute_percentage_error: 11.7211 - val_loss: 12.0456 - val_rmse: 12.0456 - val_mean_absolute_error: 9.4734 - val_mean_absolute_percentage_error: 20.4475\n",
      "Epoch 31/150\n",
      " - 6s - loss: 7.0255 - rmse: 7.0255 - mean_absolute_error: 5.4798 - mean_absolute_percentage_error: 11.9785 - val_loss: 12.6952 - val_rmse: 12.6952 - val_mean_absolute_error: 9.9650 - val_mean_absolute_percentage_error: 20.9631\n",
      "Epoch 32/150\n",
      " - 6s - loss: 6.8335 - rmse: 6.8335 - mean_absolute_error: 5.3201 - mean_absolute_percentage_error: 11.6645 - val_loss: 12.1244 - val_rmse: 12.1244 - val_mean_absolute_error: 9.4943 - val_mean_absolute_percentage_error: 20.1544\n",
      "Epoch 33/150\n",
      " - 6s - loss: 6.9046 - rmse: 6.9046 - mean_absolute_error: 5.4269 - mean_absolute_percentage_error: 11.8944 - val_loss: 12.9328 - val_rmse: 12.9328 - val_mean_absolute_error: 10.1356 - val_mean_absolute_percentage_error: 21.2519\n",
      "Epoch 34/150\n",
      " - 6s - loss: 6.6159 - rmse: 6.6159 - mean_absolute_error: 5.1489 - mean_absolute_percentage_error: 11.3146 - val_loss: 12.3699 - val_rmse: 12.3699 - val_mean_absolute_error: 9.6818 - val_mean_absolute_percentage_error: 20.3402\n"
     ]
    },
    {
     "name": "stdout",
     "output_type": "stream",
     "text": [
      "Epoch 35/150\n",
      " - 6s - loss: 6.4048 - rmse: 6.4048 - mean_absolute_error: 4.9443 - mean_absolute_percentage_error: 10.9013 - val_loss: 12.2106 - val_rmse: 12.2106 - val_mean_absolute_error: 9.5396 - val_mean_absolute_percentage_error: 20.2264\n",
      "Epoch 36/150\n",
      " - 6s - loss: 6.5887 - rmse: 6.5887 - mean_absolute_error: 5.0814 - mean_absolute_percentage_error: 11.1434 - val_loss: 12.0665 - val_rmse: 12.0665 - val_mean_absolute_error: 9.4287 - val_mean_absolute_percentage_error: 19.9811\n",
      "Epoch 37/150\n",
      " - 6s - loss: 6.6922 - rmse: 6.6922 - mean_absolute_error: 5.2275 - mean_absolute_percentage_error: 11.4684 - val_loss: 12.8082 - val_rmse: 12.8082 - val_mean_absolute_error: 10.0541 - val_mean_absolute_percentage_error: 21.1220\n",
      "Epoch 38/150\n",
      " - 6s - loss: 6.3921 - rmse: 6.3921 - mean_absolute_error: 4.9517 - mean_absolute_percentage_error: 10.8861 - val_loss: 11.8807 - val_rmse: 11.8807 - val_mean_absolute_error: 9.2736 - val_mean_absolute_percentage_error: 19.6725\n",
      "Epoch 39/150\n",
      " - 6s - loss: 6.2140 - rmse: 6.2140 - mean_absolute_error: 4.8119 - mean_absolute_percentage_error: 10.6053 - val_loss: 11.9945 - val_rmse: 11.9945 - val_mean_absolute_error: 9.3696 - val_mean_absolute_percentage_error: 19.9294\n",
      "Epoch 40/150\n",
      " - 6s - loss: 6.1986 - rmse: 6.1986 - mean_absolute_error: 4.8080 - mean_absolute_percentage_error: 10.5978 - val_loss: 12.0635 - val_rmse: 12.0635 - val_mean_absolute_error: 9.4308 - val_mean_absolute_percentage_error: 20.1431\n",
      "Epoch 41/150\n",
      " - 6s - loss: 6.4158 - rmse: 6.4158 - mean_absolute_error: 4.9573 - mean_absolute_percentage_error: 10.9228 - val_loss: 11.7821 - val_rmse: 11.7821 - val_mean_absolute_error: 9.1951 - val_mean_absolute_percentage_error: 19.5396\n",
      "Epoch 42/150\n",
      " - 6s - loss: 6.1012 - rmse: 6.1012 - mean_absolute_error: 4.7160 - mean_absolute_percentage_error: 10.3996 - val_loss: 13.2367 - val_rmse: 13.2367 - val_mean_absolute_error: 10.4491 - val_mean_absolute_percentage_error: 21.9260\n",
      "Epoch 43/150\n",
      " - 6s - loss: 6.0250 - rmse: 6.0250 - mean_absolute_error: 4.6703 - mean_absolute_percentage_error: 10.3320 - val_loss: 12.0157 - val_rmse: 12.0157 - val_mean_absolute_error: 9.3729 - val_mean_absolute_percentage_error: 19.7606\n",
      "Epoch 44/150\n",
      " - 6s - loss: 6.3927 - rmse: 6.3927 - mean_absolute_error: 4.9687 - mean_absolute_percentage_error: 10.9098 - val_loss: 11.7387 - val_rmse: 11.7387 - val_mean_absolute_error: 9.1712 - val_mean_absolute_percentage_error: 19.3650\n",
      "Epoch 45/150\n",
      " - 6s - loss: 6.0763 - rmse: 6.0763 - mean_absolute_error: 4.7092 - mean_absolute_percentage_error: 10.3811 - val_loss: 11.9710 - val_rmse: 11.9710 - val_mean_absolute_error: 9.3592 - val_mean_absolute_percentage_error: 19.7911\n",
      "Epoch 46/150\n",
      " - 6s - loss: 5.7922 - rmse: 5.7922 - mean_absolute_error: 4.4462 - mean_absolute_percentage_error: 9.8729 - val_loss: 12.5475 - val_rmse: 12.5475 - val_mean_absolute_error: 9.8144 - val_mean_absolute_percentage_error: 20.6091\n",
      "Epoch 47/150\n",
      " - 6s - loss: 6.0185 - rmse: 6.0185 - mean_absolute_error: 4.6739 - mean_absolute_percentage_error: 10.3156 - val_loss: 12.4632 - val_rmse: 12.4632 - val_mean_absolute_error: 9.7725 - val_mean_absolute_percentage_error: 20.5529\n",
      "Epoch 48/150\n",
      " - 6s - loss: 5.8788 - rmse: 5.8788 - mean_absolute_error: 4.5306 - mean_absolute_percentage_error: 10.0165 - val_loss: 12.3389 - val_rmse: 12.3389 - val_mean_absolute_error: 9.6994 - val_mean_absolute_percentage_error: 20.8573\n",
      "Epoch 49/150\n",
      " - 6s - loss: 6.0772 - rmse: 6.0772 - mean_absolute_error: 4.7431 - mean_absolute_percentage_error: 10.4647 - val_loss: 12.5115 - val_rmse: 12.5115 - val_mean_absolute_error: 9.8361 - val_mean_absolute_percentage_error: 20.9897\n",
      "Epoch 50/150\n",
      " - 6s - loss: 6.0262 - rmse: 6.0262 - mean_absolute_error: 4.6622 - mean_absolute_percentage_error: 10.3024 - val_loss: 12.0896 - val_rmse: 12.0896 - val_mean_absolute_error: 9.4548 - val_mean_absolute_percentage_error: 19.9342\n",
      "Epoch 51/150\n",
      " - 6s - loss: 5.9806 - rmse: 5.9806 - mean_absolute_error: 4.6365 - mean_absolute_percentage_error: 10.2440 - val_loss: 12.2749 - val_rmse: 12.2749 - val_mean_absolute_error: 9.6057 - val_mean_absolute_percentage_error: 20.4436\n",
      "Epoch 52/150\n",
      " - 6s - loss: 5.9415 - rmse: 5.9415 - mean_absolute_error: 4.5891 - mean_absolute_percentage_error: 10.1466 - val_loss: 11.6519 - val_rmse: 11.6519 - val_mean_absolute_error: 9.0894 - val_mean_absolute_percentage_error: 19.1850\n",
      "Epoch 53/150\n",
      " - 6s - loss: 5.8873 - rmse: 5.8873 - mean_absolute_error: 4.5652 - mean_absolute_percentage_error: 10.1018 - val_loss: 11.6014 - val_rmse: 11.6014 - val_mean_absolute_error: 9.0591 - val_mean_absolute_percentage_error: 19.3605\n",
      "Epoch 54/150\n",
      " - 6s - loss: 6.1567 - rmse: 6.1567 - mean_absolute_error: 4.7882 - mean_absolute_percentage_error: 10.5677 - val_loss: 12.1232 - val_rmse: 12.1232 - val_mean_absolute_error: 9.4960 - val_mean_absolute_percentage_error: 19.9275\n",
      "Epoch 55/150\n",
      " - 6s - loss: 5.7614 - rmse: 5.7614 - mean_absolute_error: 4.4614 - mean_absolute_percentage_error: 9.8889 - val_loss: 11.6168 - val_rmse: 11.6168 - val_mean_absolute_error: 9.0618 - val_mean_absolute_percentage_error: 19.1310\n",
      "Epoch 56/150\n",
      " - 6s - loss: 5.9904 - rmse: 5.9904 - mean_absolute_error: 4.6592 - mean_absolute_percentage_error: 10.2938 - val_loss: 12.6486 - val_rmse: 12.6486 - val_mean_absolute_error: 9.9444 - val_mean_absolute_percentage_error: 20.8419\n",
      "Epoch 57/150\n",
      " - 6s - loss: 5.7385 - rmse: 5.7385 - mean_absolute_error: 4.4220 - mean_absolute_percentage_error: 9.8116 - val_loss: 12.1418 - val_rmse: 12.1418 - val_mean_absolute_error: 9.4843 - val_mean_absolute_percentage_error: 20.0819\n",
      "Epoch 58/150\n",
      " - 6s - loss: 5.8123 - rmse: 5.8123 - mean_absolute_error: 4.5161 - mean_absolute_percentage_error: 9.9962 - val_loss: 12.2819 - val_rmse: 12.2819 - val_mean_absolute_error: 9.6167 - val_mean_absolute_percentage_error: 20.1335\n",
      "Epoch 59/150\n",
      " - 6s - loss: 5.6801 - rmse: 5.6801 - mean_absolute_error: 4.3734 - mean_absolute_percentage_error: 9.6867 - val_loss: 11.4904 - val_rmse: 11.4904 - val_mean_absolute_error: 8.9627 - val_mean_absolute_percentage_error: 19.1328\n",
      "Epoch 60/150\n",
      " - 6s - loss: 5.6012 - rmse: 5.6012 - mean_absolute_error: 4.3433 - mean_absolute_percentage_error: 9.6422 - val_loss: 11.3611 - val_rmse: 11.3611 - val_mean_absolute_error: 8.8683 - val_mean_absolute_percentage_error: 18.9501\n",
      "Epoch 61/150\n",
      " - 6s - loss: 5.5276 - rmse: 5.5276 - mean_absolute_error: 4.2662 - mean_absolute_percentage_error: 9.4878 - val_loss: 12.9717 - val_rmse: 12.9717 - val_mean_absolute_error: 10.1684 - val_mean_absolute_percentage_error: 21.2178\n",
      "Epoch 62/150\n",
      " - 6s - loss: 5.5220 - rmse: 5.5220 - mean_absolute_error: 4.2620 - mean_absolute_percentage_error: 9.4812 - val_loss: 12.1655 - val_rmse: 12.1655 - val_mean_absolute_error: 9.5347 - val_mean_absolute_percentage_error: 20.0365\n",
      "Epoch 63/150\n",
      " - 6s - loss: 6.0048 - rmse: 6.0048 - mean_absolute_error: 4.6911 - mean_absolute_percentage_error: 10.3314 - val_loss: 11.3131 - val_rmse: 11.3131 - val_mean_absolute_error: 8.8265 - val_mean_absolute_percentage_error: 18.7693\n",
      "Epoch 64/150\n",
      " - 6s - loss: 5.5565 - rmse: 5.5565 - mean_absolute_error: 4.3000 - mean_absolute_percentage_error: 9.5567 - val_loss: 11.8262 - val_rmse: 11.8262 - val_mean_absolute_error: 9.2370 - val_mean_absolute_percentage_error: 19.4749\n",
      "Epoch 65/150\n",
      " - 6s - loss: 5.4354 - rmse: 5.4354 - mean_absolute_error: 4.1828 - mean_absolute_percentage_error: 9.3100 - val_loss: 13.3023 - val_rmse: 13.3023 - val_mean_absolute_error: 10.4461 - val_mean_absolute_percentage_error: 22.3864\n",
      "Epoch 66/150\n",
      " - 6s - loss: 5.2847 - rmse: 5.2847 - mean_absolute_error: 4.0503 - mean_absolute_percentage_error: 9.0457 - val_loss: 11.5221 - val_rmse: 11.5221 - val_mean_absolute_error: 8.9884 - val_mean_absolute_percentage_error: 18.9679\n",
      "Epoch 67/150\n",
      " - 6s - loss: 5.5209 - rmse: 5.5209 - mean_absolute_error: 4.2887 - mean_absolute_percentage_error: 9.5269 - val_loss: 11.9144 - val_rmse: 11.9144 - val_mean_absolute_error: 9.3255 - val_mean_absolute_percentage_error: 19.5822\n",
      "Epoch 68/150\n",
      " - 6s - loss: 5.5288 - rmse: 5.5288 - mean_absolute_error: 4.2821 - mean_absolute_percentage_error: 9.5051 - val_loss: 11.5522 - val_rmse: 11.5522 - val_mean_absolute_error: 9.0194 - val_mean_absolute_percentage_error: 19.0405\n",
      "Epoch 69/150\n"
     ]
    },
    {
     "name": "stdout",
     "output_type": "stream",
     "text": [
      " - 6s - loss: 5.7321 - rmse: 5.7321 - mean_absolute_error: 4.4569 - mean_absolute_percentage_error: 9.8610 - val_loss: 11.4517 - val_rmse: 11.4517 - val_mean_absolute_error: 8.9581 - val_mean_absolute_percentage_error: 19.0338\n",
      "Epoch 70/150\n",
      " - 6s - loss: 5.4021 - rmse: 5.4021 - mean_absolute_error: 4.1672 - mean_absolute_percentage_error: 9.2635 - val_loss: 11.3654 - val_rmse: 11.3654 - val_mean_absolute_error: 8.8573 - val_mean_absolute_percentage_error: 18.6983\n",
      "Epoch 71/150\n",
      " - 6s - loss: 5.4457 - rmse: 5.4457 - mean_absolute_error: 4.2122 - mean_absolute_percentage_error: 9.3729 - val_loss: 11.7448 - val_rmse: 11.7448 - val_mean_absolute_error: 9.1997 - val_mean_absolute_percentage_error: 19.8359\n",
      "Epoch 72/150\n",
      " - 6s - loss: 5.3228 - rmse: 5.3228 - mean_absolute_error: 4.0986 - mean_absolute_percentage_error: 9.1430 - val_loss: 11.2485 - val_rmse: 11.2485 - val_mean_absolute_error: 8.7687 - val_mean_absolute_percentage_error: 18.6741\n",
      "Epoch 73/150\n",
      " - 6s - loss: 5.3675 - rmse: 5.3675 - mean_absolute_error: 4.1763 - mean_absolute_percentage_error: 9.3018 - val_loss: 11.3516 - val_rmse: 11.3516 - val_mean_absolute_error: 8.8449 - val_mean_absolute_percentage_error: 18.7831\n",
      "Epoch 74/150\n",
      " - 6s - loss: 5.3182 - rmse: 5.3182 - mean_absolute_error: 4.1082 - mean_absolute_percentage_error: 9.1565 - val_loss: 11.9483 - val_rmse: 11.9483 - val_mean_absolute_error: 9.3190 - val_mean_absolute_percentage_error: 19.5785\n",
      "Epoch 75/150\n",
      " - 6s - loss: 5.5023 - rmse: 5.5023 - mean_absolute_error: 4.2746 - mean_absolute_percentage_error: 9.4801 - val_loss: 11.3403 - val_rmse: 11.3403 - val_mean_absolute_error: 8.8175 - val_mean_absolute_percentage_error: 18.6334\n",
      "Epoch 76/150\n",
      " - 6s - loss: 5.3202 - rmse: 5.3202 - mean_absolute_error: 4.1191 - mean_absolute_percentage_error: 9.1761 - val_loss: 11.5863 - val_rmse: 11.5863 - val_mean_absolute_error: 9.0075 - val_mean_absolute_percentage_error: 19.0740\n",
      "Epoch 77/150\n",
      " - 7s - loss: 5.2524 - rmse: 5.2524 - mean_absolute_error: 4.0677 - mean_absolute_percentage_error: 9.0799 - val_loss: 11.2622 - val_rmse: 11.2622 - val_mean_absolute_error: 8.7546 - val_mean_absolute_percentage_error: 18.5765\n",
      "Epoch 78/150\n",
      " - 6s - loss: 5.1110 - rmse: 5.1110 - mean_absolute_error: 3.9348 - mean_absolute_percentage_error: 8.8117 - val_loss: 11.2349 - val_rmse: 11.2349 - val_mean_absolute_error: 8.7185 - val_mean_absolute_percentage_error: 18.5458\n",
      "Epoch 79/150\n",
      " - 6s - loss: 5.0881 - rmse: 5.0881 - mean_absolute_error: 3.9267 - mean_absolute_percentage_error: 8.7926 - val_loss: 11.3790 - val_rmse: 11.3790 - val_mean_absolute_error: 8.8323 - val_mean_absolute_percentage_error: 18.7053\n",
      "Epoch 80/150\n",
      " - 6s - loss: 5.2403 - rmse: 5.2403 - mean_absolute_error: 4.0317 - mean_absolute_percentage_error: 9.0021 - val_loss: 11.4192 - val_rmse: 11.4192 - val_mean_absolute_error: 8.8672 - val_mean_absolute_percentage_error: 18.7364\n",
      "Epoch 81/150\n",
      " - 6s - loss: 5.2663 - rmse: 5.2663 - mean_absolute_error: 4.0869 - mean_absolute_percentage_error: 9.1029 - val_loss: 11.3625 - val_rmse: 11.3625 - val_mean_absolute_error: 8.8420 - val_mean_absolute_percentage_error: 18.8867\n",
      "Epoch 82/150\n",
      " - 6s - loss: 5.1186 - rmse: 5.1186 - mean_absolute_error: 3.9249 - mean_absolute_percentage_error: 8.7809 - val_loss: 11.4679 - val_rmse: 11.4679 - val_mean_absolute_error: 8.9092 - val_mean_absolute_percentage_error: 18.9361\n",
      "Epoch 83/150\n",
      " - 6s - loss: 5.0455 - rmse: 5.0455 - mean_absolute_error: 3.8898 - mean_absolute_percentage_error: 8.7199 - val_loss: 13.8911 - val_rmse: 13.8911 - val_mean_absolute_error: 11.1048 - val_mean_absolute_percentage_error: 23.1143\n",
      "Epoch 84/150\n",
      " - 6s - loss: 5.1145 - rmse: 5.1145 - mean_absolute_error: 3.9630 - mean_absolute_percentage_error: 8.8466 - val_loss: 12.3065 - val_rmse: 12.3065 - val_mean_absolute_error: 9.6262 - val_mean_absolute_percentage_error: 20.1157\n",
      "Epoch 85/150\n",
      " - 6s - loss: 5.1457 - rmse: 5.1457 - mean_absolute_error: 3.9788 - mean_absolute_percentage_error: 8.8948 - val_loss: 11.2580 - val_rmse: 11.2580 - val_mean_absolute_error: 8.7701 - val_mean_absolute_percentage_error: 18.5387\n",
      "Epoch 86/150\n",
      " - 6s - loss: 5.0531 - rmse: 5.0531 - mean_absolute_error: 3.9274 - mean_absolute_percentage_error: 8.7950 - val_loss: 11.1902 - val_rmse: 11.1902 - val_mean_absolute_error: 8.7035 - val_mean_absolute_percentage_error: 18.4358\n",
      "Epoch 87/150\n",
      " - 6s - loss: 4.9572 - rmse: 4.9572 - mean_absolute_error: 3.8141 - mean_absolute_percentage_error: 8.5789 - val_loss: 11.2334 - val_rmse: 11.2334 - val_mean_absolute_error: 8.7560 - val_mean_absolute_percentage_error: 18.5302\n",
      "Epoch 88/150\n",
      " - 6s - loss: 4.9798 - rmse: 4.9798 - mean_absolute_error: 3.8739 - mean_absolute_percentage_error: 8.6674 - val_loss: 11.2681 - val_rmse: 11.2681 - val_mean_absolute_error: 8.8130 - val_mean_absolute_percentage_error: 18.6391\n",
      "Epoch 89/150\n",
      " - 6s - loss: 5.1021 - rmse: 5.1021 - mean_absolute_error: 3.9424 - mean_absolute_percentage_error: 8.8140 - val_loss: 11.0055 - val_rmse: 11.0055 - val_mean_absolute_error: 8.5758 - val_mean_absolute_percentage_error: 18.1394\n",
      "Epoch 90/150\n",
      " - 6s - loss: 4.9555 - rmse: 4.9555 - mean_absolute_error: 3.8095 - mean_absolute_percentage_error: 8.5444 - val_loss: 11.2196 - val_rmse: 11.2196 - val_mean_absolute_error: 8.7289 - val_mean_absolute_percentage_error: 18.4601\n",
      "Epoch 91/150\n",
      " - 6s - loss: 4.9631 - rmse: 4.9631 - mean_absolute_error: 3.8452 - mean_absolute_percentage_error: 8.6385 - val_loss: 11.0448 - val_rmse: 11.0448 - val_mean_absolute_error: 8.5919 - val_mean_absolute_percentage_error: 18.2215\n",
      "Epoch 92/150\n",
      " - 6s - loss: 5.0458 - rmse: 5.0458 - mean_absolute_error: 3.9000 - mean_absolute_percentage_error: 8.7362 - val_loss: 11.3907 - val_rmse: 11.3907 - val_mean_absolute_error: 8.9057 - val_mean_absolute_percentage_error: 18.7035\n",
      "Epoch 93/150\n",
      " - 6s - loss: 4.9506 - rmse: 4.9506 - mean_absolute_error: 3.8242 - mean_absolute_percentage_error: 8.5768 - val_loss: 11.8871 - val_rmse: 11.8871 - val_mean_absolute_error: 9.2545 - val_mean_absolute_percentage_error: 19.8280\n",
      "Epoch 94/150\n",
      " - 6s - loss: 4.9056 - rmse: 4.9056 - mean_absolute_error: 3.7898 - mean_absolute_percentage_error: 8.5115 - val_loss: 11.1691 - val_rmse: 11.1691 - val_mean_absolute_error: 8.6708 - val_mean_absolute_percentage_error: 18.4528\n",
      "Epoch 95/150\n",
      " - 6s - loss: 5.2252 - rmse: 5.2252 - mean_absolute_error: 4.0554 - mean_absolute_percentage_error: 9.0417 - val_loss: 12.1020 - val_rmse: 12.1020 - val_mean_absolute_error: 9.4746 - val_mean_absolute_percentage_error: 19.8247\n",
      "Epoch 96/150\n",
      " - 6s - loss: 4.9987 - rmse: 4.9987 - mean_absolute_error: 3.8630 - mean_absolute_percentage_error: 8.6443 - val_loss: 11.8919 - val_rmse: 11.8919 - val_mean_absolute_error: 9.3153 - val_mean_absolute_percentage_error: 19.5200\n",
      "Epoch 97/150\n",
      " - 6s - loss: 5.1041 - rmse: 5.1041 - mean_absolute_error: 3.9695 - mean_absolute_percentage_error: 8.8784 - val_loss: 10.9383 - val_rmse: 10.9383 - val_mean_absolute_error: 8.5159 - val_mean_absolute_percentage_error: 18.1012\n",
      "Epoch 98/150\n",
      " - 6s - loss: 4.8829 - rmse: 4.8829 - mean_absolute_error: 3.7796 - mean_absolute_percentage_error: 8.4838 - val_loss: 11.1946 - val_rmse: 11.1946 - val_mean_absolute_error: 8.7187 - val_mean_absolute_percentage_error: 18.5429\n",
      "Epoch 99/150\n",
      " - 6s - loss: 4.9554 - rmse: 4.9554 - mean_absolute_error: 3.8278 - mean_absolute_percentage_error: 8.5817 - val_loss: 11.4121 - val_rmse: 11.4121 - val_mean_absolute_error: 8.8637 - val_mean_absolute_percentage_error: 18.6123\n",
      "Epoch 100/150\n",
      " - 6s - loss: 4.9667 - rmse: 4.9667 - mean_absolute_error: 3.8383 - mean_absolute_percentage_error: 8.5999 - val_loss: 11.1192 - val_rmse: 11.1192 - val_mean_absolute_error: 8.6039 - val_mean_absolute_percentage_error: 18.2521\n",
      "Epoch 101/150\n",
      " - 6s - loss: 5.0758 - rmse: 5.0758 - mean_absolute_error: 3.9502 - mean_absolute_percentage_error: 8.8162 - val_loss: 11.2496 - val_rmse: 11.2496 - val_mean_absolute_error: 8.7615 - val_mean_absolute_percentage_error: 18.4447\n",
      "Epoch 102/150\n",
      " - 6s - loss: 4.8527 - rmse: 4.8527 - mean_absolute_error: 3.7631 - mean_absolute_percentage_error: 8.4744 - val_loss: 11.0670 - val_rmse: 11.0670 - val_mean_absolute_error: 8.6057 - val_mean_absolute_percentage_error: 18.2860\n",
      "Epoch 103/150\n",
      " - 6s - loss: 4.8854 - rmse: 4.8854 - mean_absolute_error: 3.7795 - mean_absolute_percentage_error: 8.4951 - val_loss: 12.2872 - val_rmse: 12.2872 - val_mean_absolute_error: 9.6105 - val_mean_absolute_percentage_error: 19.9555\n"
     ]
    },
    {
     "name": "stdout",
     "output_type": "stream",
     "text": [
      "Epoch 104/150\n",
      " - 6s - loss: 4.7487 - rmse: 4.7487 - mean_absolute_error: 3.6584 - mean_absolute_percentage_error: 8.2392 - val_loss: 11.1874 - val_rmse: 11.1874 - val_mean_absolute_error: 8.7265 - val_mean_absolute_percentage_error: 18.3809\n",
      "Epoch 105/150\n",
      " - 6s - loss: 4.7353 - rmse: 4.7353 - mean_absolute_error: 3.6540 - mean_absolute_percentage_error: 8.2452 - val_loss: 11.5868 - val_rmse: 11.5868 - val_mean_absolute_error: 8.9605 - val_mean_absolute_percentage_error: 19.1045\n",
      "Epoch 106/150\n",
      " - 6s - loss: 4.8867 - rmse: 4.8867 - mean_absolute_error: 3.7782 - mean_absolute_percentage_error: 8.4660 - val_loss: 11.4909 - val_rmse: 11.4909 - val_mean_absolute_error: 8.9424 - val_mean_absolute_percentage_error: 18.7704\n",
      "Epoch 107/150\n",
      " - 6s - loss: 4.7408 - rmse: 4.7408 - mean_absolute_error: 3.6487 - mean_absolute_percentage_error: 8.2340 - val_loss: 11.9039 - val_rmse: 11.9039 - val_mean_absolute_error: 9.3150 - val_mean_absolute_percentage_error: 19.4338\n",
      "Epoch 108/150\n",
      " - 6s - loss: 4.7947 - rmse: 4.7947 - mean_absolute_error: 3.7050 - mean_absolute_percentage_error: 8.3444 - val_loss: 11.6813 - val_rmse: 11.6813 - val_mean_absolute_error: 8.9768 - val_mean_absolute_percentage_error: 19.0364\n",
      "Epoch 109/150\n",
      " - 6s - loss: 4.9332 - rmse: 4.9332 - mean_absolute_error: 3.8390 - mean_absolute_percentage_error: 8.6105 - val_loss: 10.9952 - val_rmse: 10.9952 - val_mean_absolute_error: 8.5436 - val_mean_absolute_percentage_error: 18.0274\n",
      "Epoch 110/150\n",
      " - 6s - loss: 4.7683 - rmse: 4.7683 - mean_absolute_error: 3.7024 - mean_absolute_percentage_error: 8.3439 - val_loss: 10.9438 - val_rmse: 10.9438 - val_mean_absolute_error: 8.5101 - val_mean_absolute_percentage_error: 18.1052\n",
      "Epoch 111/150\n",
      " - 6s - loss: 4.7362 - rmse: 4.7362 - mean_absolute_error: 3.6530 - mean_absolute_percentage_error: 8.2392 - val_loss: 11.0661 - val_rmse: 11.0661 - val_mean_absolute_error: 8.5876 - val_mean_absolute_percentage_error: 18.1488\n",
      "Epoch 112/150\n",
      " - 6s - loss: 4.7884 - rmse: 4.7884 - mean_absolute_error: 3.7129 - mean_absolute_percentage_error: 8.3378 - val_loss: 11.0024 - val_rmse: 11.0024 - val_mean_absolute_error: 8.5462 - val_mean_absolute_percentage_error: 18.0371\n",
      "Epoch 113/150\n",
      " - 6s - loss: 4.5798 - rmse: 4.5798 - mean_absolute_error: 3.5152 - mean_absolute_percentage_error: 7.9508 - val_loss: 10.8662 - val_rmse: 10.8662 - val_mean_absolute_error: 8.4355 - val_mean_absolute_percentage_error: 17.9725\n",
      "Epoch 114/150\n",
      " - 6s - loss: 4.6517 - rmse: 4.6517 - mean_absolute_error: 3.5816 - mean_absolute_percentage_error: 8.1074 - val_loss: 11.4522 - val_rmse: 11.4522 - val_mean_absolute_error: 8.9191 - val_mean_absolute_percentage_error: 18.7046\n",
      "Epoch 115/150\n",
      " - 6s - loss: 4.7733 - rmse: 4.7733 - mean_absolute_error: 3.7166 - mean_absolute_percentage_error: 8.3523 - val_loss: 11.9313 - val_rmse: 11.9313 - val_mean_absolute_error: 9.2790 - val_mean_absolute_percentage_error: 19.2751\n",
      "Epoch 116/150\n",
      " - 6s - loss: 4.8874 - rmse: 4.8874 - mean_absolute_error: 3.8127 - mean_absolute_percentage_error: 8.5508 - val_loss: 11.7213 - val_rmse: 11.7213 - val_mean_absolute_error: 9.1645 - val_mean_absolute_percentage_error: 19.1075\n",
      "Epoch 117/150\n",
      " - 6s - loss: 4.6328 - rmse: 4.6328 - mean_absolute_error: 3.5851 - mean_absolute_percentage_error: 8.1094 - val_loss: 11.1108 - val_rmse: 11.1108 - val_mean_absolute_error: 8.6521 - val_mean_absolute_percentage_error: 18.1680\n",
      "Epoch 118/150\n",
      " - 6s - loss: 4.6619 - rmse: 4.6619 - mean_absolute_error: 3.6030 - mean_absolute_percentage_error: 8.1214 - val_loss: 13.1859 - val_rmse: 13.1859 - val_mean_absolute_error: 10.3947 - val_mean_absolute_percentage_error: 21.4566\n",
      "Epoch 119/150\n",
      " - 6s - loss: 4.5120 - rmse: 4.5120 - mean_absolute_error: 3.4690 - mean_absolute_percentage_error: 7.8682 - val_loss: 11.1972 - val_rmse: 11.1972 - val_mean_absolute_error: 8.7136 - val_mean_absolute_percentage_error: 18.3295\n",
      "Epoch 120/150\n",
      " - 6s - loss: 4.5490 - rmse: 4.5490 - mean_absolute_error: 3.5144 - mean_absolute_percentage_error: 7.9696 - val_loss: 10.9968 - val_rmse: 10.9968 - val_mean_absolute_error: 8.5355 - val_mean_absolute_percentage_error: 18.0528\n",
      "Epoch 121/150\n",
      " - 6s - loss: 4.5158 - rmse: 4.5158 - mean_absolute_error: 3.4914 - mean_absolute_percentage_error: 7.9205 - val_loss: 10.7192 - val_rmse: 10.7192 - val_mean_absolute_error: 8.3228 - val_mean_absolute_percentage_error: 17.6402\n",
      "Epoch 122/150\n",
      " - 6s - loss: 4.6109 - rmse: 4.6109 - mean_absolute_error: 3.5742 - mean_absolute_percentage_error: 8.0764 - val_loss: 11.2032 - val_rmse: 11.2032 - val_mean_absolute_error: 8.7123 - val_mean_absolute_percentage_error: 18.7123\n",
      "Epoch 123/150\n",
      " - 6s - loss: 4.6164 - rmse: 4.6164 - mean_absolute_error: 3.5666 - mean_absolute_percentage_error: 8.0614 - val_loss: 10.9103 - val_rmse: 10.9103 - val_mean_absolute_error: 8.4806 - val_mean_absolute_percentage_error: 17.8470\n",
      "Epoch 124/150\n",
      " - 6s - loss: 4.5741 - rmse: 4.5741 - mean_absolute_error: 3.5465 - mean_absolute_percentage_error: 8.0364 - val_loss: 10.8277 - val_rmse: 10.8277 - val_mean_absolute_error: 8.3968 - val_mean_absolute_percentage_error: 17.7806\n",
      "Epoch 125/150\n",
      " - 6s - loss: 4.5971 - rmse: 4.5971 - mean_absolute_error: 3.5514 - mean_absolute_percentage_error: 8.0326 - val_loss: 11.1904 - val_rmse: 11.1904 - val_mean_absolute_error: 8.6006 - val_mean_absolute_percentage_error: 18.1793\n",
      "Epoch 126/150\n",
      " - 6s - loss: 4.5340 - rmse: 4.5340 - mean_absolute_error: 3.5070 - mean_absolute_percentage_error: 7.9483 - val_loss: 10.8347 - val_rmse: 10.8347 - val_mean_absolute_error: 8.3909 - val_mean_absolute_percentage_error: 17.7675\n",
      "Epoch 127/150\n",
      " - 6s - loss: 4.3143 - rmse: 4.3143 - mean_absolute_error: 3.3173 - mean_absolute_percentage_error: 7.5798 - val_loss: 10.8940 - val_rmse: 10.8940 - val_mean_absolute_error: 8.4161 - val_mean_absolute_percentage_error: 17.8883\n",
      "Epoch 128/150\n",
      " - 6s - loss: 4.3359 - rmse: 4.3359 - mean_absolute_error: 3.3289 - mean_absolute_percentage_error: 7.5996 - val_loss: 11.0336 - val_rmse: 11.0336 - val_mean_absolute_error: 8.5377 - val_mean_absolute_percentage_error: 18.0900\n",
      "Epoch 129/150\n",
      " - 6s - loss: 4.5382 - rmse: 4.5382 - mean_absolute_error: 3.5042 - mean_absolute_percentage_error: 7.9385 - val_loss: 10.6166 - val_rmse: 10.6166 - val_mean_absolute_error: 8.2426 - val_mean_absolute_percentage_error: 17.4228\n",
      "Epoch 130/150\n",
      " - 6s - loss: 4.5784 - rmse: 4.5784 - mean_absolute_error: 3.5464 - mean_absolute_percentage_error: 8.0103 - val_loss: 10.9952 - val_rmse: 10.9952 - val_mean_absolute_error: 8.5528 - val_mean_absolute_percentage_error: 18.3864\n",
      "Epoch 131/150\n",
      " - 6s - loss: 4.6495 - rmse: 4.6495 - mean_absolute_error: 3.6182 - mean_absolute_percentage_error: 8.1599 - val_loss: 11.1854 - val_rmse: 11.1854 - val_mean_absolute_error: 8.6433 - val_mean_absolute_percentage_error: 18.4950\n",
      "Epoch 132/150\n",
      " - 6s - loss: 4.4699 - rmse: 4.4699 - mean_absolute_error: 3.4691 - mean_absolute_percentage_error: 7.8727 - val_loss: 10.8164 - val_rmse: 10.8164 - val_mean_absolute_error: 8.3919 - val_mean_absolute_percentage_error: 17.9851\n",
      "Epoch 133/150\n",
      " - 6s - loss: 4.2406 - rmse: 4.2406 - mean_absolute_error: 3.2560 - mean_absolute_percentage_error: 7.4547 - val_loss: 10.7090 - val_rmse: 10.7090 - val_mean_absolute_error: 8.2845 - val_mean_absolute_percentage_error: 17.5791\n",
      "Epoch 134/150\n",
      " - 6s - loss: 4.6077 - rmse: 4.6077 - mean_absolute_error: 3.5752 - mean_absolute_percentage_error: 8.0829 - val_loss: 11.0408 - val_rmse: 11.0408 - val_mean_absolute_error: 8.5377 - val_mean_absolute_percentage_error: 18.1629\n",
      "Epoch 135/150\n",
      " - 6s - loss: 4.3576 - rmse: 4.3576 - mean_absolute_error: 3.3661 - mean_absolute_percentage_error: 7.6490 - val_loss: 10.8943 - val_rmse: 10.8943 - val_mean_absolute_error: 8.4400 - val_mean_absolute_percentage_error: 17.7726\n",
      "Epoch 136/150\n",
      " - 6s - loss: 4.3522 - rmse: 4.3522 - mean_absolute_error: 3.3707 - mean_absolute_percentage_error: 7.6830 - val_loss: 10.6953 - val_rmse: 10.6953 - val_mean_absolute_error: 8.2480 - val_mean_absolute_percentage_error: 17.4387\n",
      "Epoch 137/150\n",
      " - 6s - loss: 4.5527 - rmse: 4.5527 - mean_absolute_error: 3.5257 - mean_absolute_percentage_error: 7.9785 - val_loss: 10.4921 - val_rmse: 10.4921 - val_mean_absolute_error: 8.1229 - val_mean_absolute_percentage_error: 17.2513\n"
     ]
    },
    {
     "name": "stdout",
     "output_type": "stream",
     "text": [
      "Epoch 138/150\n",
      " - 6s - loss: 4.6379 - rmse: 4.6379 - mean_absolute_error: 3.5963 - mean_absolute_percentage_error: 8.1120 - val_loss: 11.0607 - val_rmse: 11.0607 - val_mean_absolute_error: 8.5486 - val_mean_absolute_percentage_error: 18.1287\n",
      "Epoch 139/150\n",
      " - 6s - loss: 4.4272 - rmse: 4.4272 - mean_absolute_error: 3.4114 - mean_absolute_percentage_error: 7.7546 - val_loss: 10.6968 - val_rmse: 10.6968 - val_mean_absolute_error: 8.2939 - val_mean_absolute_percentage_error: 17.7757\n",
      "Epoch 140/150\n",
      " - 6s - loss: 4.3118 - rmse: 4.3118 - mean_absolute_error: 3.3404 - mean_absolute_percentage_error: 7.6105 - val_loss: 10.6421 - val_rmse: 10.6421 - val_mean_absolute_error: 8.2509 - val_mean_absolute_percentage_error: 17.4800\n",
      "Epoch 141/150\n",
      " - 6s - loss: 4.4882 - rmse: 4.4882 - mean_absolute_error: 3.4886 - mean_absolute_percentage_error: 7.8964 - val_loss: 10.9640 - val_rmse: 10.9640 - val_mean_absolute_error: 8.4932 - val_mean_absolute_percentage_error: 17.8160\n",
      "Epoch 142/150\n",
      " - 7s - loss: 4.2888 - rmse: 4.2888 - mean_absolute_error: 3.2995 - mean_absolute_percentage_error: 7.5206 - val_loss: 10.9211 - val_rmse: 10.9211 - val_mean_absolute_error: 8.4789 - val_mean_absolute_percentage_error: 18.2242\n",
      "Epoch 143/150\n",
      " - 6s - loss: 4.2649 - rmse: 4.2649 - mean_absolute_error: 3.2913 - mean_absolute_percentage_error: 7.5197 - val_loss: 10.6431 - val_rmse: 10.6431 - val_mean_absolute_error: 8.2446 - val_mean_absolute_percentage_error: 17.5382\n",
      "Epoch 144/150\n",
      " - 6s - loss: 4.3008 - rmse: 4.3008 - mean_absolute_error: 3.3261 - mean_absolute_percentage_error: 7.5797 - val_loss: 11.0525 - val_rmse: 11.0525 - val_mean_absolute_error: 8.5180 - val_mean_absolute_percentage_error: 18.1422\n",
      "Epoch 145/150\n",
      " - 6s - loss: 4.4608 - rmse: 4.4608 - mean_absolute_error: 3.4758 - mean_absolute_percentage_error: 7.8888 - val_loss: 10.8279 - val_rmse: 10.8279 - val_mean_absolute_error: 8.3813 - val_mean_absolute_percentage_error: 17.7547\n",
      "Epoch 146/150\n",
      " - 6s - loss: 4.2829 - rmse: 4.2829 - mean_absolute_error: 3.3165 - mean_absolute_percentage_error: 7.5652 - val_loss: 10.7426 - val_rmse: 10.7426 - val_mean_absolute_error: 8.3174 - val_mean_absolute_percentage_error: 17.7342\n",
      "Epoch 147/150\n",
      " - 6s - loss: 4.0836 - rmse: 4.0836 - mean_absolute_error: 3.1445 - mean_absolute_percentage_error: 7.2177 - val_loss: 10.9545 - val_rmse: 10.9545 - val_mean_absolute_error: 8.4797 - val_mean_absolute_percentage_error: 17.8500\n",
      "Epoch 148/150\n",
      " - 6s - loss: 4.3088 - rmse: 4.3088 - mean_absolute_error: 3.3364 - mean_absolute_percentage_error: 7.6015 - val_loss: 10.5961 - val_rmse: 10.5961 - val_mean_absolute_error: 8.2043 - val_mean_absolute_percentage_error: 17.4983\n",
      "Epoch 149/150\n",
      " - 6s - loss: 4.5604 - rmse: 4.5604 - mean_absolute_error: 3.5535 - mean_absolute_percentage_error: 8.0396 - val_loss: 10.2836 - val_rmse: 10.2836 - val_mean_absolute_error: 7.9702 - val_mean_absolute_percentage_error: 16.9485\n",
      "Epoch 150/150\n",
      " - 6s - loss: 4.4449 - rmse: 4.4449 - mean_absolute_error: 3.4317 - mean_absolute_percentage_error: 7.7736 - val_loss: 10.6375 - val_rmse: 10.6375 - val_mean_absolute_error: 8.2036 - val_mean_absolute_percentage_error: 17.4592\n",
      "CPU times: user 1h 29min 7s, sys: 1min 15s, total: 1h 30min 22s\n",
      "Wall time: 14min 47s\n"
     ]
    }
   ],
   "source": [
    "# create model\n",
    "model = Sequential()\n",
    "model.add(Dense(128, activation='relu', input_shape=(9216,)))\n",
    "model.add(Dense(64, activation='relu'))\n",
    "model.add(Dense(30))\n",
    "\n",
    "# define RMSE\n",
    "def rmse (y_true, y_pred):\n",
    "    return K.sqrt(K.mean(K.square(y_pred - y_true)))\n",
    "\n",
    "# compile model\n",
    "model.compile(loss=rmse, optimizer='adam', metrics=[rmse, 'mae', 'mape'])\n",
    "\n",
    "# fit model\n",
    "%time history = model.fit(X_train_nm, y_train_nm, epochs=150, shuffle=True, batch_size=5, validation_split=0.2, verbose=2)\n"
   ]
  },
  {
   "cell_type": "code",
   "execution_count": 37,
   "metadata": {
    "scrolled": true
   },
   "outputs": [
    {
     "data": {
      "image/png": "[encoded data removed]",
      "text/plain": [
       "<Figure size 432x288 with 1 Axes>"
      ]
     },
     "metadata": {},
     "output_type": "display_data"
    }
   ],
   "source": [
    "# plot metrics - RMSE\n",
    "plt.plot(history.history['rmse'])\n",
    "plt.plot(history.history['val_rmse'])\n",
    "plt.show()"
   ]
  },
  {
   "cell_type": "code",
   "execution_count": 42,
   "metadata": {},
   "outputs": [
    {
     "data": {
      "image/png": "[encoded data removed]",
      "text/plain": [
       "<Figure size 432x288 with 1 Axes>"
      ]
     },
     "metadata": {},
     "output_type": "display_data"
    }
   ],
   "source": [
    "# plot metrics - MAPE\n",
    "plt.plot(history.history['mean_absolute_percentage_error'])\n",
    "plt.plot(history.history['val_mean_absolute_percentage_error'])\n",
    "plt.show()"
   ]
  },
  {
   "cell_type": "code",
   "execution_count": 43,
   "metadata": {},
   "outputs": [
    {
     "data": {
      "image/png": "[encoded data removed]",
      "text/plain": [
       "<Figure size 432x288 with 1 Axes>"
      ]
     },
     "metadata": {},
     "output_type": "display_data"
    }
   ],
   "source": [
    "# plot metrics - MAE\n",
    "plt.plot(history.history['mean_absolute_error'])\n",
    "plt.plot(history.history['val_mean_absolute_error'])\n",
    "plt.show()"
   ]
  },
  {
   "cell_type": "code",
   "execution_count": 41,
   "metadata": {},
   "outputs": [
    {
     "data": {
      "text/plain": [
       "dict_keys(['val_loss', 'val_rmse', 'val_mean_absolute_error', 'val_mean_absolute_percentage_error', 'loss', 'rmse', 'mean_absolute_error', 'mean_absolute_percentage_error'])"
      ]
     },
     "execution_count": 41,
     "metadata": {},
     "output_type": "execute_result"
    }
   ],
   "source": [
    "history.history.keys()"
   ]
  },
  {
   "cell_type": "code",
   "execution_count": 52,
   "metadata": {},
   "outputs": [
    {
     "name": "stdout",
     "output_type": "stream",
     "text": [
      "10.637481500055188\n",
      "4.4448961699120355\n"
     ]
    }
   ],
   "source": [
    "# look at final RMSE value after 150 epochs\n",
    "print(history.history.get('val_rmse')[-1])\n",
    "print(history.history.get('rmse')[-1])"
   ]
  },
  {
   "cell_type": "markdown",
   "metadata": {},
   "source": [
    "## Single Layer Fully Connected Network with 10 Epochs"
   ]
  },
  {
   "cell_type": "code",
   "execution_count": 14,
   "metadata": {
    "scrolled": true
   },
   "outputs": [
    {
     "name": "stdout",
     "output_type": "stream",
     "text": [
      "Train on 1712 samples, validate on 428 samples\n",
      "Epoch 1/10\n",
      " - 8s - loss: 57.9135 - rmse: 57.9135 - mean_absolute_error: 52.5842 - mean_absolute_percentage_error: 113.3730 - val_loss: 51.4038 - val_rmse: 51.4038 - val_mean_absolute_error: 47.7248 - val_mean_absolute_percentage_error: 99.2461\n",
      "Epoch 2/10\n",
      " - 6s - loss: 50.5846 - rmse: 50.5846 - mean_absolute_error: 46.9891 - mean_absolute_percentage_error: 98.8113 - val_loss: 51.0862 - val_rmse: 51.0862 - val_mean_absolute_error: 47.3851 - val_mean_absolute_percentage_error: 98.4062\n",
      "Epoch 3/10\n",
      " - 6s - loss: 50.2672 - rmse: 50.2672 - mean_absolute_error: 46.6487 - mean_absolute_percentage_error: 97.9646 - val_loss: 50.7689 - val_rmse: 50.7689 - val_mean_absolute_error: 47.0444 - val_mean_absolute_percentage_error: 97.5612\n",
      "Epoch 4/10\n",
      " - 6s - loss: 49.9497 - rmse: 49.9497 - mean_absolute_error: 46.3079 - mean_absolute_percentage_error: 97.1150 - val_loss: 50.4519 - val_rmse: 50.4519 - val_mean_absolute_error: 46.7035 - val_mean_absolute_percentage_error: 96.7145\n",
      "Epoch 5/10\n",
      " - 6s - loss: 49.6329 - rmse: 49.6329 - mean_absolute_error: 45.9670 - mean_absolute_percentage_error: 96.2658 - val_loss: 50.1353 - val_rmse: 50.1353 - val_mean_absolute_error: 46.3625 - val_mean_absolute_percentage_error: 95.8676\n",
      "Epoch 6/10\n",
      " - 6s - loss: 49.3156 - rmse: 49.3156 - mean_absolute_error: 45.6261 - mean_absolute_percentage_error: 95.4153 - val_loss: 49.8190 - val_rmse: 49.8190 - val_mean_absolute_error: 46.0216 - val_mean_absolute_percentage_error: 95.0206\n",
      "Epoch 7/10\n",
      " - 5s - loss: 48.9995 - rmse: 48.9995 - mean_absolute_error: 45.2851 - mean_absolute_percentage_error: 94.5643 - val_loss: 49.5031 - val_rmse: 49.5031 - val_mean_absolute_error: 45.6808 - val_mean_absolute_percentage_error: 94.1742\n",
      "Epoch 8/10\n",
      " - 6s - loss: 48.6836 - rmse: 48.6836 - mean_absolute_error: 44.9445 - mean_absolute_percentage_error: 93.7157 - val_loss: 49.1877 - val_rmse: 49.1877 - val_mean_absolute_error: 45.3401 - val_mean_absolute_percentage_error: 93.3282\n",
      "Epoch 9/10\n",
      " - 6s - loss: 48.3681 - rmse: 48.3681 - mean_absolute_error: 44.6038 - mean_absolute_percentage_error: 92.8658 - val_loss: 48.8726 - val_rmse: 48.8726 - val_mean_absolute_error: 44.9995 - val_mean_absolute_percentage_error: 92.4825\n",
      "Epoch 10/10\n",
      " - 6s - loss: 48.0529 - rmse: 48.0529 - mean_absolute_error: 44.2633 - mean_absolute_percentage_error: 92.0179 - val_loss: 48.5580 - val_rmse: 48.5580 - val_mean_absolute_error: 44.6591 - val_mean_absolute_percentage_error: 91.6374\n",
      "CPU times: user 5min 48s, sys: 5.58 s, total: 5min 54s\n",
      "Wall time: 1min\n"
     ]
    }
   ],
   "source": [
    "# create model\n",
    "model = Sequential()\n",
    "model.add(Dense(128, activation='relu', input_shape=(9216,)))\n",
    "#model.add(Dense(64, activation='relu'))\n",
    "model.add(Dense(30))\n",
    "\n",
    "# define RMSE\n",
    "def rmse (y_true, y_pred):\n",
    "    return K.sqrt(K.mean(K.square(y_pred - y_true)))\n",
    "\n",
    "# compile model\n",
    "model.compile(loss=rmse, optimizer='adam', metrics=[rmse, 'mae', 'mape'])\n",
    "\n",
    "# fit model\n",
    "%time history_fc = model.fit(X_train_nm, y_train_nm, epochs=10, shuffle=True, batch_size=5, validation_split=0.2, verbose=2)\n"
   ]
  },
  {
   "cell_type": "code",
   "execution_count": 15,
   "metadata": {},
   "outputs": [
    {
     "data": {
      "image/png": "[encoded data removed]",
      "text/plain": [
       "<Figure size 432x288 with 1 Axes>"
      ]
     },
     "metadata": {},
     "output_type": "display_data"
    }
   ],
   "source": [
    "# plot metrics\n",
    "plt.plot(history_fc.history['rmse'])\n",
    "plt.plot(history_fc.history['val_rmse'])\n",
    "plt.show()"
   ]
  },
  {
   "cell_type": "code",
   "execution_count": 16,
   "metadata": {},
   "outputs": [
    {
     "name": "stdout",
     "output_type": "stream",
     "text": [
      "48.55798112566226\n",
      "48.05285310076776\n"
     ]
    }
   ],
   "source": [
    "# look at final RMSE value after 10 epochs\n",
    "print(history_fc.history.get('val_rmse')[-1])\n",
    "print(history_fc.history.get('rmse')[-1])"
   ]
  },
  {
   "cell_type": "markdown",
   "metadata": {},
   "source": [
    "## Single Layer CNN with 16 Filters and 10 Epochs"
   ]
  },
  {
   "cell_type": "code",
   "execution_count": 31,
   "metadata": {
    "scrolled": true
   },
   "outputs": [
    {
     "name": "stdout",
     "output_type": "stream",
     "text": [
      "Train on 1712 samples, validate on 428 samples\n",
      "Epoch 1/10\n",
      " - 21s - loss: 47.2292 - rmse: 47.2292 - mean_absolute_error: 41.0988 - mean_absolute_percentage_error: 97.9824 - val_loss: 14.7852 - val_rmse: 14.7852 - val_mean_absolute_error: 11.5210 - val_mean_absolute_percentage_error: 24.9227\n",
      "Epoch 2/10\n",
      " - 21s - loss: 9.9125 - rmse: 9.9125 - mean_absolute_error: 7.8571 - mean_absolute_percentage_error: 17.4658 - val_loss: 18.4037 - val_rmse: 18.4037 - val_mean_absolute_error: 14.2319 - val_mean_absolute_percentage_error: 30.8400\n",
      "Epoch 3/10\n",
      " - 23s - loss: 9.2514 - rmse: 9.2514 - mean_absolute_error: 7.2958 - mean_absolute_percentage_error: 16.6391 - val_loss: 15.8055 - val_rmse: 15.8055 - val_mean_absolute_error: 12.3221 - val_mean_absolute_percentage_error: 26.6035\n",
      "Epoch 4/10\n",
      " - 22s - loss: 9.1292 - rmse: 9.1292 - mean_absolute_error: 7.2506 - mean_absolute_percentage_error: 16.7739 - val_loss: 17.6622 - val_rmse: 17.6622 - val_mean_absolute_error: 14.1506 - val_mean_absolute_percentage_error: 30.3831\n",
      "Epoch 5/10\n",
      " - 19s - loss: 7.8165 - rmse: 7.8165 - mean_absolute_error: 6.1190 - mean_absolute_percentage_error: 14.1804 - val_loss: 15.9291 - val_rmse: 15.9291 - val_mean_absolute_error: 12.5696 - val_mean_absolute_percentage_error: 27.2667\n",
      "Epoch 6/10\n",
      " - 20s - loss: 7.7627 - rmse: 7.7627 - mean_absolute_error: 6.0786 - mean_absolute_percentage_error: 14.0416 - val_loss: 16.0577 - val_rmse: 16.0577 - val_mean_absolute_error: 12.7184 - val_mean_absolute_percentage_error: 27.4969\n",
      "Epoch 7/10\n",
      " - 19s - loss: 7.5243 - rmse: 7.5243 - mean_absolute_error: 5.9139 - mean_absolute_percentage_error: 13.4132 - val_loss: 16.4831 - val_rmse: 16.4831 - val_mean_absolute_error: 12.8651 - val_mean_absolute_percentage_error: 27.7375\n",
      "Epoch 8/10\n",
      " - 20s - loss: 6.9827 - rmse: 6.9827 - mean_absolute_error: 5.5198 - mean_absolute_percentage_error: 12.7063 - val_loss: 16.8321 - val_rmse: 16.8321 - val_mean_absolute_error: 13.1147 - val_mean_absolute_percentage_error: 28.2739\n",
      "Epoch 9/10\n",
      " - 19s - loss: 6.6355 - rmse: 6.6355 - mean_absolute_error: 5.2160 - mean_absolute_percentage_error: 11.8738 - val_loss: 16.0264 - val_rmse: 16.0264 - val_mean_absolute_error: 12.4524 - val_mean_absolute_percentage_error: 26.9732\n",
      "Epoch 10/10\n",
      " - 19s - loss: 6.3213 - rmse: 6.3213 - mean_absolute_error: 4.9961 - mean_absolute_percentage_error: 11.4997 - val_loss: 16.8880 - val_rmse: 16.8880 - val_mean_absolute_error: 13.1908 - val_mean_absolute_percentage_error: 27.8560\n",
      "CPU times: user 22min 57s, sys: 10.7 s, total: 23min 7s\n",
      "Wall time: 3min 22s\n"
     ]
    }
   ],
   "source": [
    "# Single Layer CNN\n",
    "\n",
    "# create model\n",
    "model = Sequential()\n",
    "model.add(Conv2D(16, (5, 5), activation='relu', input_shape=(96,96,1), data_format='channels_last'))\n",
    "model.add(Flatten())\n",
    "model.add(Dense(30))\n",
    "\n",
    "# define RMSE\n",
    "def rmse (y_true, y_pred):\n",
    "    return K.sqrt(K.mean(K.square(y_pred - y_true)))\n",
    "\n",
    "# compile model\n",
    "model.compile(loss=rmse, optimizer='adam', metrics=[rmse, 'mae', 'mape'])\n",
    "\n",
    "# fit model\n",
    "%time history_cnn = model.fit(X_train_nm2, y_train_nm, epochs=10, shuffle=True, batch_size=5, validation_split=0.2, verbose=2)\n"
   ]
  },
  {
   "cell_type": "code",
   "execution_count": 32,
   "metadata": {
    "scrolled": true
   },
   "outputs": [
    {
     "data": {
      "image/png": "[encoded data removed]",
      "text/plain": [
       "<Figure size 432x288 with 1 Axes>"
      ]
     },
     "metadata": {},
     "output_type": "display_data"
    }
   ],
   "source": [
    "# plot metrics\n",
    "plt.plot(history_cnn.history['rmse'])\n",
    "plt.plot(history_cnn.history['val_rmse'])\n",
    "plt.show()"
   ]
  },
  {
   "cell_type": "code",
   "execution_count": 33,
   "metadata": {
    "scrolled": true
   },
   "outputs": [
    {
     "name": "stdout",
     "output_type": "stream",
     "text": [
      "16.887982860903875\n",
      "6.32129339581338\n"
     ]
    }
   ],
   "source": [
    "# look at final RMSE value after 10 epochs\n",
    "print(history_cnn.history.get('val_rmse')[-1])\n",
    "print(history_cnn.history.get('rmse')[-1])"
   ]
  },
  {
   "cell_type": "markdown",
   "metadata": {},
   "source": [
    "## LeNet-5"
   ]
  },
  {
   "cell_type": "code",
   "execution_count": 81,
   "metadata": {},
   "outputs": [
    {
     "name": "stdout",
     "output_type": "stream",
     "text": [
      "Train on 1712 samples, validate on 428 samples\n",
      "Epoch 1/10\n",
      " - 14s - loss: 10.4502 - rmse: 10.4502 - mean_absolute_error: 8.2985 - mean_absolute_percentage_error: 18.2355 - val_loss: 11.7169 - val_rmse: 11.7169 - val_mean_absolute_error: 9.2972 - val_mean_absolute_percentage_error: 19.6555\n",
      "Epoch 2/10\n",
      " - 11s - loss: 7.9484 - rmse: 7.9484 - mean_absolute_error: 6.3131 - mean_absolute_percentage_error: 13.6724 - val_loss: 11.7073 - val_rmse: 11.7073 - val_mean_absolute_error: 9.1852 - val_mean_absolute_percentage_error: 19.5813\n",
      "Epoch 3/10\n",
      " - 10s - loss: 6.0592 - rmse: 6.0592 - mean_absolute_error: 4.7004 - mean_absolute_percentage_error: 10.1785 - val_loss: 10.8462 - val_rmse: 10.8462 - val_mean_absolute_error: 8.4277 - val_mean_absolute_percentage_error: 18.0507\n",
      "Epoch 4/10\n",
      " - 10s - loss: 5.5504 - rmse: 5.5504 - mean_absolute_error: 4.3612 - mean_absolute_percentage_error: 9.4462 - val_loss: 10.8031 - val_rmse: 10.8031 - val_mean_absolute_error: 8.3839 - val_mean_absolute_percentage_error: 17.9098\n",
      "Epoch 5/10\n",
      " - 10s - loss: 5.1791 - rmse: 5.1791 - mean_absolute_error: 4.0793 - mean_absolute_percentage_error: 8.8580 - val_loss: 11.4767 - val_rmse: 11.4767 - val_mean_absolute_error: 8.8706 - val_mean_absolute_percentage_error: 19.0578\n",
      "Epoch 6/10\n",
      " - 10s - loss: 4.4296 - rmse: 4.4296 - mean_absolute_error: 3.4494 - mean_absolute_percentage_error: 7.5231 - val_loss: 10.1708 - val_rmse: 10.1708 - val_mean_absolute_error: 7.8780 - val_mean_absolute_percentage_error: 16.7994\n",
      "Epoch 7/10\n",
      " - 10s - loss: 4.0898 - rmse: 4.0898 - mean_absolute_error: 3.1887 - mean_absolute_percentage_error: 6.9402 - val_loss: 11.2874 - val_rmse: 11.2874 - val_mean_absolute_error: 8.7052 - val_mean_absolute_percentage_error: 18.7237\n",
      "Epoch 8/10\n",
      " - 11s - loss: 4.0637 - rmse: 4.0637 - mean_absolute_error: 3.1697 - mean_absolute_percentage_error: 6.9024 - val_loss: 10.8940 - val_rmse: 10.8940 - val_mean_absolute_error: 8.5039 - val_mean_absolute_percentage_error: 18.3502\n",
      "Epoch 9/10\n",
      " - 11s - loss: 3.5696 - rmse: 3.5696 - mean_absolute_error: 2.7904 - mean_absolute_percentage_error: 6.1233 - val_loss: 10.1124 - val_rmse: 10.1124 - val_mean_absolute_error: 7.8686 - val_mean_absolute_percentage_error: 16.9901\n",
      "Epoch 10/10\n",
      " - 11s - loss: 3.4328 - rmse: 3.4328 - mean_absolute_error: 2.6754 - mean_absolute_percentage_error: 5.8748 - val_loss: 9.1245 - val_rmse: 9.1245 - val_mean_absolute_error: 7.1212 - val_mean_absolute_percentage_error: 15.3072\n",
      "CPU times: user 6min 57s, sys: 13.4 s, total: 7min 11s\n",
      "Wall time: 1min 47s\n"
     ]
    }
   ],
   "source": [
    "# Try LeNet 5\n",
    "\n",
    "# create model\n",
    "model = Sequential()\n",
    "model.add(Conv2D(6, (5, 5), strides=(1, 1), activation='relu', input_shape=(96,96,1), data_format='channels_last'))\n",
    "model.add(MaxPooling2D(pool_size=(2,2)))\n",
    "model.add(Conv2D(16, (5, 5), strides=(1, 1), activation='relu'))\n",
    "model.add(MaxPooling2D(pool_size=(2,2)))\n",
    "model.add(Flatten())\n",
    "model.add(Dense(120, activation='relu'))\n",
    "model.add(Dense(84, activation='relu'))\n",
    "model.add(Dense(30))\n",
    "\n",
    "# define RMSE\n",
    "def rmse (y_true, y_pred):\n",
    "    return K.sqrt(K.mean(K.square(y_pred - y_true)))\n",
    "\n",
    "# compile model\n",
    "model.compile(loss=rmse, optimizer='adam', metrics=[rmse, 'mae', 'mape'])\n",
    "\n",
    "# fit model\n",
    "%time history_lenet5 = model.fit(X_train_nm2, y_train_nm, epochs=10, shuffle=True, batch_size=5, validation_split=0.2, verbose=2)\n",
    "\n"
   ]
  },
  {
   "cell_type": "code",
   "execution_count": 82,
   "metadata": {},
   "outputs": [
    {
     "data": {
      "image/png": "[encoded data removed]",
      "text/plain": [
       "<Figure size 432x288 with 1 Axes>"
      ]
     },
     "metadata": {},
     "output_type": "display_data"
    }
   ],
   "source": [
    "# plot metrics\n",
    "plt.plot(history_lenet5.history['rmse'])\n",
    "plt.plot(history_lenet5.history['val_rmse'])\n",
    "plt.show()"
   ]
  },
  {
   "cell_type": "code",
   "execution_count": 83,
   "metadata": {},
   "outputs": [
    {
     "name": "stdout",
     "output_type": "stream",
     "text": [
      "9.124450047439504\n",
      "3.4327802338472035\n"
     ]
    }
   ],
   "source": [
    "# look at final RMSE value after 10 epochs\n",
    "print(history_lenet5.history.get('val_rmse')[-1])\n",
    "print(history_lenet5.history.get('rmse')[-1])"
   ]
  },
  {
   "cell_type": "markdown",
   "metadata": {},
   "source": [
    "## AlexNet"
   ]
  },
  {
   "cell_type": "code",
   "execution_count": 25,
   "metadata": {},
   "outputs": [],
   "source": [
    "# Try AlexNet\n",
    "\n",
    "# define model\n",
    "def AlexNet(weights_path=None):\n",
    "    model = Sequential()\n",
    "    model.add(Conv2D(96, (11, 11), strides=(4,4), activation='relu', input_shape=(96,96,1), data_format='channels_last'))\n",
    "    model.add(MaxPooling2D(pool_size=(3,3), strides=(2,2)))\n",
    "    model.add(Conv2D(256, (5, 5), strides=(1,1), padding='same', activation='relu'))\n",
    "    model.add(MaxPooling2D(pool_size=(3,3), strides=(2,2)))\n",
    "    model.add(Conv2D(384, (3, 3), strides=(1,1), padding='same', activation='relu'))\n",
    "    model.add(Conv2D(384, (3, 3), strides=(1,1), padding='same', activation='relu'))\n",
    "    model.add(Conv2D(256, (3, 3), strides=(1,1), padding='same', activation='relu'))\n",
    "    model.add(MaxPooling2D(pool_size=(3,3), strides=(2,2)))\n",
    "    model.add(Dropout(0.5))\n",
    "    model.add(Flatten())\n",
    "    model.add(Dense(2000, activation='relu'))\n",
    "    model.add(Dropout(0.5))\n",
    "    model.add(Dense(2000, activation='relu'))\n",
    "    model.add(Dense(30))\n",
    "\n",
    "    if weights_path:\n",
    "        model.load_weights(weights_path)\n",
    "\n",
    "    return model"
   ]
  },
  {
   "cell_type": "code",
   "execution_count": 22,
   "metadata": {},
   "outputs": [
    {
     "name": "stdout",
     "output_type": "stream",
     "text": [
      "Train on 1712 samples, validate on 428 samples\n",
      "Epoch 1/10\n",
      " - 7s - loss: 18.8142 - rmse: 18.8142 - mean_absolute_error: 15.5321 - mean_absolute_percentage_error: 33.2956 - val_loss: 11.9968 - val_rmse: 11.9968 - val_mean_absolute_error: 10.5888 - val_mean_absolute_percentage_error: 22.3525\n",
      "Epoch 2/10\n",
      " - 5s - loss: 6.3948 - rmse: 6.3948 - mean_absolute_error: 5.0643 - mean_absolute_percentage_error: 11.2480 - val_loss: 4.4579 - val_rmse: 4.4579 - val_mean_absolute_error: 3.4157 - val_mean_absolute_percentage_error: 8.0532\n",
      "Epoch 3/10\n",
      " - 5s - loss: 4.2962 - rmse: 4.2962 - mean_absolute_error: 3.3789 - mean_absolute_percentage_error: 7.8674 - val_loss: 4.0598 - val_rmse: 4.0598 - val_mean_absolute_error: 3.1113 - val_mean_absolute_percentage_error: 7.5359\n",
      "Epoch 4/10\n",
      " - 5s - loss: 3.5454 - rmse: 3.5454 - mean_absolute_error: 2.7205 - mean_absolute_percentage_error: 6.4855 - val_loss: 4.4049 - val_rmse: 4.4049 - val_mean_absolute_error: 3.3840 - val_mean_absolute_percentage_error: 8.4080\n",
      "Epoch 5/10\n",
      " - 5s - loss: 3.4042 - rmse: 3.4042 - mean_absolute_error: 2.5981 - mean_absolute_percentage_error: 6.2192 - val_loss: 4.7170 - val_rmse: 4.7170 - val_mean_absolute_error: 3.6036 - val_mean_absolute_percentage_error: 8.3057\n",
      "Epoch 6/10\n",
      " - 5s - loss: 3.4454 - rmse: 3.4454 - mean_absolute_error: 2.6432 - mean_absolute_percentage_error: 6.3279 - val_loss: 4.0672 - val_rmse: 4.0672 - val_mean_absolute_error: 3.1113 - val_mean_absolute_percentage_error: 7.6783\n",
      "Epoch 7/10\n",
      " - 5s - loss: 3.3765 - rmse: 3.3765 - mean_absolute_error: 2.5922 - mean_absolute_percentage_error: 6.2034 - val_loss: 4.2240 - val_rmse: 4.2240 - val_mean_absolute_error: 3.2456 - val_mean_absolute_percentage_error: 7.8344\n",
      "Epoch 8/10\n",
      " - 5s - loss: 3.4132 - rmse: 3.4132 - mean_absolute_error: 2.6164 - mean_absolute_percentage_error: 6.2647 - val_loss: 4.5847 - val_rmse: 4.5847 - val_mean_absolute_error: 3.4361 - val_mean_absolute_percentage_error: 7.9987\n",
      "Epoch 9/10\n",
      " - 5s - loss: 3.4580 - rmse: 3.4580 - mean_absolute_error: 2.6478 - mean_absolute_percentage_error: 6.3305 - val_loss: 4.4118 - val_rmse: 4.4118 - val_mean_absolute_error: 3.4047 - val_mean_absolute_percentage_error: 7.9846\n",
      "Epoch 10/10\n",
      " - 5s - loss: 3.4573 - rmse: 3.4573 - mean_absolute_error: 2.6577 - mean_absolute_percentage_error: 6.3392 - val_loss: 5.0336 - val_rmse: 5.0336 - val_mean_absolute_error: 3.9365 - val_mean_absolute_percentage_error: 9.0302\n",
      "Wall time: 56.7 s\n"
     ]
    }
   ],
   "source": [
    "# run 10 epochs\n",
    "# define RMSE\n",
    "def rmse (y_true, y_pred):\n",
    "    return K.sqrt(K.mean(K.square(y_pred - y_true)))\n",
    "\n",
    "# compile model\n",
    "model = AlexNet()\n",
    "model.compile(loss=rmse, optimizer='adam', metrics=[rmse, 'mae', 'mape'])\n",
    "\n",
    "# fit model\n",
    "%time history_alexnet = model.fit(X_train_nm2, y_train_nm, epochs=150, shuffle=True, batch_size=5, validation_split=0.2, verbose=2)\n",
    "\n"
   ]
  },
  {
   "cell_type": "code",
   "execution_count": 23,
   "metadata": {},
   "outputs": [
    {
     "data": {
      "image/png": "[encoded data removed]",
      "text/plain": [
       "<Figure size 432x288 with 1 Axes>"
      ]
     },
     "metadata": {
      "needs_background": "light"
     },
     "output_type": "display_data"
    }
   ],
   "source": [
    "# plot metrics\n",
    "plt.plot(history_alexnet.history['rmse'])\n",
    "plt.plot(history_alexnet.history['val_rmse'])\n",
    "plt.show()"
   ]
  },
  {
   "cell_type": "code",
   "execution_count": 24,
   "metadata": {},
   "outputs": [
    {
     "name": "stdout",
     "output_type": "stream",
     "text": [
      "5.033644065121624\n",
      "3.4573273108662845\n"
     ]
    }
   ],
   "source": [
    "# look at final RMSE value after 10 epochs\n",
    "print(history_alexnet.history.get('val_rmse')[-1])\n",
    "print(history_alexnet.history.get('rmse')[-1])"
   ]
  },
  {
   "cell_type": "code",
   "execution_count": 26,
   "metadata": {},
   "outputs": [
    {
     "name": "stdout",
     "output_type": "stream",
     "text": [
      "Train on 1712 samples, validate on 428 samples\n",
      "Epoch 1/150\n",
      " - 7s - loss: 20.1101 - rmse: 20.1101 - mean_absolute_error: 16.7290 - mean_absolute_percentage_error: 36.0908 - val_loss: 8.3040 - val_rmse: 8.3040 - val_mean_absolute_error: 6.4168 - val_mean_absolute_percentage_error: 14.0022\n",
      "Epoch 2/150\n",
      " - 6s - loss: 7.8552 - rmse: 7.8552 - mean_absolute_error: 6.2327 - mean_absolute_percentage_error: 13.6527 - val_loss: 4.7112 - val_rmse: 4.7112 - val_mean_absolute_error: 3.6420 - val_mean_absolute_percentage_error: 8.3122\n",
      "Epoch 3/150\n",
      " - 6s - loss: 4.7704 - rmse: 4.7704 - mean_absolute_error: 3.7374 - mean_absolute_percentage_error: 8.5391 - val_loss: 4.3256 - val_rmse: 4.3256 - val_mean_absolute_error: 3.3297 - val_mean_absolute_percentage_error: 7.8974\n",
      "Epoch 4/150\n",
      " - 6s - loss: 3.5794 - rmse: 3.5794 - mean_absolute_error: 2.7607 - mean_absolute_percentage_error: 6.5575 - val_loss: 4.2185 - val_rmse: 4.2185 - val_mean_absolute_error: 3.2453 - val_mean_absolute_percentage_error: 7.8867\n",
      "Epoch 5/150\n",
      " - 5s - loss: 3.5538 - rmse: 3.5538 - mean_absolute_error: 2.7428 - mean_absolute_percentage_error: 6.5217 - val_loss: 4.1822 - val_rmse: 4.1822 - val_mean_absolute_error: 3.2037 - val_mean_absolute_percentage_error: 7.8143\n",
      "Epoch 6/150\n",
      " - 6s - loss: 3.4789 - rmse: 3.4789 - mean_absolute_error: 2.6710 - mean_absolute_percentage_error: 6.3774 - val_loss: 4.3368 - val_rmse: 4.3368 - val_mean_absolute_error: 3.3756 - val_mean_absolute_percentage_error: 8.1191\n",
      "Epoch 7/150\n",
      " - 5s - loss: 3.4859 - rmse: 3.4859 - mean_absolute_error: 2.6765 - mean_absolute_percentage_error: 6.3889 - val_loss: 4.0769 - val_rmse: 4.0769 - val_mean_absolute_error: 3.1059 - val_mean_absolute_percentage_error: 7.7083\n",
      "Epoch 8/150\n",
      " - 5s - loss: 3.4560 - rmse: 3.4560 - mean_absolute_error: 2.6491 - mean_absolute_percentage_error: 6.3374 - val_loss: 4.3954 - val_rmse: 4.3954 - val_mean_absolute_error: 3.3630 - val_mean_absolute_percentage_error: 8.4575\n",
      "Epoch 9/150\n",
      " - 5s - loss: 3.5235 - rmse: 3.5235 - mean_absolute_error: 2.7167 - mean_absolute_percentage_error: 6.4601 - val_loss: 4.1378 - val_rmse: 4.1378 - val_mean_absolute_error: 3.1352 - val_mean_absolute_percentage_error: 7.6628\n",
      "Epoch 10/150\n",
      " - 5s - loss: 3.5282 - rmse: 3.5282 - mean_absolute_error: 2.7092 - mean_absolute_percentage_error: 6.4208 - val_loss: 4.3157 - val_rmse: 4.3157 - val_mean_absolute_error: 3.2671 - val_mean_absolute_percentage_error: 8.0314\n",
      "Epoch 11/150\n",
      " - 5s - loss: 3.4457 - rmse: 3.4457 - mean_absolute_error: 2.6422 - mean_absolute_percentage_error: 6.3228 - val_loss: 4.6846 - val_rmse: 4.6846 - val_mean_absolute_error: 3.6856 - val_mean_absolute_percentage_error: 8.6989\n",
      "Epoch 12/150\n",
      " - 5s - loss: 3.4412 - rmse: 3.4412 - mean_absolute_error: 2.6371 - mean_absolute_percentage_error: 6.2792 - val_loss: 4.3845 - val_rmse: 4.3845 - val_mean_absolute_error: 3.3980 - val_mean_absolute_percentage_error: 8.1476\n",
      "Epoch 13/150\n",
      " - 5s - loss: 3.4427 - rmse: 3.4427 - mean_absolute_error: 2.6385 - mean_absolute_percentage_error: 6.2889 - val_loss: 4.0933 - val_rmse: 4.0933 - val_mean_absolute_error: 3.1322 - val_mean_absolute_percentage_error: 8.0364\n",
      "Epoch 14/150\n",
      " - 5s - loss: 3.4063 - rmse: 3.4063 - mean_absolute_error: 2.6065 - mean_absolute_percentage_error: 6.2409 - val_loss: 4.1867 - val_rmse: 4.1867 - val_mean_absolute_error: 3.1682 - val_mean_absolute_percentage_error: 7.7789\n",
      "Epoch 15/150\n",
      " - 6s - loss: 3.4455 - rmse: 3.4455 - mean_absolute_error: 2.6469 - mean_absolute_percentage_error: 6.3167 - val_loss: 4.2431 - val_rmse: 4.2431 - val_mean_absolute_error: 3.2656 - val_mean_absolute_percentage_error: 7.7893\n",
      "Epoch 16/150\n",
      " - 5s - loss: 3.4539 - rmse: 3.4539 - mean_absolute_error: 2.6376 - mean_absolute_percentage_error: 6.2881 - val_loss: 4.2066 - val_rmse: 4.2066 - val_mean_absolute_error: 3.2026 - val_mean_absolute_percentage_error: 7.8274\n",
      "Epoch 17/150\n",
      " - 5s - loss: 3.4025 - rmse: 3.4025 - mean_absolute_error: 2.6084 - mean_absolute_percentage_error: 6.2301 - val_loss: 4.1601 - val_rmse: 4.1601 - val_mean_absolute_error: 3.1642 - val_mean_absolute_percentage_error: 7.6599\n",
      "Epoch 18/150\n",
      " - 6s - loss: 3.4486 - rmse: 3.4486 - mean_absolute_error: 2.6564 - mean_absolute_percentage_error: 6.3328 - val_loss: 4.1725 - val_rmse: 4.1725 - val_mean_absolute_error: 3.1819 - val_mean_absolute_percentage_error: 7.7931\n",
      "Epoch 19/150\n",
      " - 6s - loss: 3.4050 - rmse: 3.4050 - mean_absolute_error: 2.6065 - mean_absolute_percentage_error: 6.2240 - val_loss: 4.1498 - val_rmse: 4.1498 - val_mean_absolute_error: 3.1677 - val_mean_absolute_percentage_error: 7.7558\n",
      "Epoch 20/150\n",
      " - 5s - loss: 3.3814 - rmse: 3.3814 - mean_absolute_error: 2.5958 - mean_absolute_percentage_error: 6.2135 - val_loss: 4.2688 - val_rmse: 4.2688 - val_mean_absolute_error: 3.2555 - val_mean_absolute_percentage_error: 7.7337\n",
      "Epoch 21/150\n",
      " - 5s - loss: 3.3815 - rmse: 3.3815 - mean_absolute_error: 2.5862 - mean_absolute_percentage_error: 6.1804 - val_loss: 4.0978 - val_rmse: 4.0978 - val_mean_absolute_error: 3.0996 - val_mean_absolute_percentage_error: 7.5603\n",
      "Epoch 22/150\n",
      " - 5s - loss: 3.3871 - rmse: 3.3871 - mean_absolute_error: 2.6022 - mean_absolute_percentage_error: 6.2198 - val_loss: 4.2825 - val_rmse: 4.2825 - val_mean_absolute_error: 3.2843 - val_mean_absolute_percentage_error: 7.8720\n",
      "Epoch 23/150\n",
      " - 5s - loss: 3.3827 - rmse: 3.3827 - mean_absolute_error: 2.5860 - mean_absolute_percentage_error: 6.1835 - val_loss: 4.2999 - val_rmse: 4.2999 - val_mean_absolute_error: 3.2740 - val_mean_absolute_percentage_error: 7.7541\n",
      "Epoch 24/150\n",
      " - 5s - loss: 3.3758 - rmse: 3.3758 - mean_absolute_error: 2.5897 - mean_absolute_percentage_error: 6.1845 - val_loss: 4.1525 - val_rmse: 4.1525 - val_mean_absolute_error: 3.1749 - val_mean_absolute_percentage_error: 7.6693\n",
      "Epoch 25/150\n",
      " - 5s - loss: 3.3472 - rmse: 3.3472 - mean_absolute_error: 2.5573 - mean_absolute_percentage_error: 6.1061 - val_loss: 4.3454 - val_rmse: 4.3454 - val_mean_absolute_error: 3.3247 - val_mean_absolute_percentage_error: 7.8983\n",
      "Epoch 26/150\n",
      " - 5s - loss: 3.3445 - rmse: 3.3445 - mean_absolute_error: 2.5527 - mean_absolute_percentage_error: 6.1169 - val_loss: 4.0788 - val_rmse: 4.0788 - val_mean_absolute_error: 3.1252 - val_mean_absolute_percentage_error: 7.7141\n",
      "Epoch 27/150\n",
      " - 5s - loss: 3.3598 - rmse: 3.3598 - mean_absolute_error: 2.5662 - mean_absolute_percentage_error: 6.1497 - val_loss: 4.1786 - val_rmse: 4.1786 - val_mean_absolute_error: 3.1866 - val_mean_absolute_percentage_error: 7.7036\n",
      "Epoch 28/150\n",
      " - 6s - loss: 3.3631 - rmse: 3.3631 - mean_absolute_error: 2.5565 - mean_absolute_percentage_error: 6.0931 - val_loss: 4.2350 - val_rmse: 4.2350 - val_mean_absolute_error: 3.2314 - val_mean_absolute_percentage_error: 7.7742\n",
      "Epoch 29/150\n",
      " - 6s - loss: 3.3410 - rmse: 3.3410 - mean_absolute_error: 2.5537 - mean_absolute_percentage_error: 6.0985 - val_loss: 4.1335 - val_rmse: 4.1335 - val_mean_absolute_error: 3.1369 - val_mean_absolute_percentage_error: 7.5986\n",
      "Epoch 30/150\n",
      " - 5s - loss: 3.3315 - rmse: 3.3315 - mean_absolute_error: 2.5514 - mean_absolute_percentage_error: 6.1070 - val_loss: 4.1934 - val_rmse: 4.1934 - val_mean_absolute_error: 3.2010 - val_mean_absolute_percentage_error: 7.6909\n",
      "Epoch 31/150\n",
      " - 5s - loss: 3.3537 - rmse: 3.3537 - mean_absolute_error: 2.5595 - mean_absolute_percentage_error: 6.1204 - val_loss: 4.4600 - val_rmse: 4.4600 - val_mean_absolute_error: 3.4177 - val_mean_absolute_percentage_error: 8.0276\n",
      "Epoch 32/150\n",
      " - 5s - loss: 3.3119 - rmse: 3.3119 - mean_absolute_error: 2.5240 - mean_absolute_percentage_error: 6.0553 - val_loss: 4.0658 - val_rmse: 4.0658 - val_mean_absolute_error: 3.0799 - val_mean_absolute_percentage_error: 7.6264\n",
      "Epoch 33/150\n",
      " - 5s - loss: 3.3110 - rmse: 3.3110 - mean_absolute_error: 2.5325 - mean_absolute_percentage_error: 6.0529 - val_loss: 4.1944 - val_rmse: 4.1944 - val_mean_absolute_error: 3.2133 - val_mean_absolute_percentage_error: 7.8535\n",
      "Epoch 34/150\n",
      " - 5s - loss: 3.3507 - rmse: 3.3507 - mean_absolute_error: 2.5565 - mean_absolute_percentage_error: 6.1085 - val_loss: 4.0943 - val_rmse: 4.0943 - val_mean_absolute_error: 3.1175 - val_mean_absolute_percentage_error: 7.6914\n",
      "Epoch 35/150\n",
      " - 6s - loss: 3.3153 - rmse: 3.3153 - mean_absolute_error: 2.5271 - mean_absolute_percentage_error: 6.0488 - val_loss: 4.1351 - val_rmse: 4.1351 - val_mean_absolute_error: 3.1460 - val_mean_absolute_percentage_error: 7.8909\n"
     ]
    },
    {
     "name": "stdout",
     "output_type": "stream",
     "text": [
      "Epoch 36/150\n",
      " - 5s - loss: 3.3338 - rmse: 3.3338 - mean_absolute_error: 2.5358 - mean_absolute_percentage_error: 6.0419 - val_loss: 4.1739 - val_rmse: 4.1739 - val_mean_absolute_error: 3.1632 - val_mean_absolute_percentage_error: 7.6471\n",
      "Epoch 37/150\n",
      " - 6s - loss: 3.3273 - rmse: 3.3273 - mean_absolute_error: 2.5432 - mean_absolute_percentage_error: 6.0794 - val_loss: 4.1557 - val_rmse: 4.1557 - val_mean_absolute_error: 3.1632 - val_mean_absolute_percentage_error: 7.7141\n",
      "Epoch 38/150\n",
      " - 6s - loss: 3.3173 - rmse: 3.3173 - mean_absolute_error: 2.5286 - mean_absolute_percentage_error: 6.0607 - val_loss: 4.3623 - val_rmse: 4.3623 - val_mean_absolute_error: 3.3066 - val_mean_absolute_percentage_error: 7.8831\n",
      "Epoch 39/150\n",
      " - 6s - loss: 3.3024 - rmse: 3.3024 - mean_absolute_error: 2.5266 - mean_absolute_percentage_error: 6.0404 - val_loss: 4.3486 - val_rmse: 4.3486 - val_mean_absolute_error: 3.3085 - val_mean_absolute_percentage_error: 7.8515\n",
      "Epoch 40/150\n",
      " - 6s - loss: 3.2784 - rmse: 3.2784 - mean_absolute_error: 2.5009 - mean_absolute_percentage_error: 5.9960 - val_loss: 4.1413 - val_rmse: 4.1413 - val_mean_absolute_error: 3.1734 - val_mean_absolute_percentage_error: 7.8569\n",
      "Epoch 41/150\n",
      " - 6s - loss: 3.3483 - rmse: 3.3483 - mean_absolute_error: 2.5500 - mean_absolute_percentage_error: 6.0971 - val_loss: 4.0665 - val_rmse: 4.0665 - val_mean_absolute_error: 3.0722 - val_mean_absolute_percentage_error: 7.5699\n",
      "Epoch 42/150\n",
      " - 6s - loss: 3.3293 - rmse: 3.3293 - mean_absolute_error: 2.5479 - mean_absolute_percentage_error: 6.0999 - val_loss: 4.4573 - val_rmse: 4.4573 - val_mean_absolute_error: 3.4260 - val_mean_absolute_percentage_error: 8.1496\n",
      "Epoch 43/150\n",
      " - 6s - loss: 3.3000 - rmse: 3.3000 - mean_absolute_error: 2.5240 - mean_absolute_percentage_error: 6.0457 - val_loss: 4.1620 - val_rmse: 4.1620 - val_mean_absolute_error: 3.1842 - val_mean_absolute_percentage_error: 7.9101\n",
      "Epoch 44/150\n",
      " - 6s - loss: 3.3457 - rmse: 3.3457 - mean_absolute_error: 2.5454 - mean_absolute_percentage_error: 6.0699 - val_loss: 4.0742 - val_rmse: 4.0742 - val_mean_absolute_error: 3.1091 - val_mean_absolute_percentage_error: 7.7897\n",
      "Epoch 45/150\n",
      " - 6s - loss: 3.2796 - rmse: 3.2796 - mean_absolute_error: 2.4921 - mean_absolute_percentage_error: 5.9856 - val_loss: 4.1204 - val_rmse: 4.1204 - val_mean_absolute_error: 3.1395 - val_mean_absolute_percentage_error: 7.7376\n",
      "Epoch 46/150\n",
      " - 6s - loss: 3.2616 - rmse: 3.2616 - mean_absolute_error: 2.4893 - mean_absolute_percentage_error: 5.9726 - val_loss: 4.1263 - val_rmse: 4.1263 - val_mean_absolute_error: 3.1392 - val_mean_absolute_percentage_error: 7.6176\n",
      "Epoch 47/150\n",
      " - 6s - loss: 3.2851 - rmse: 3.2851 - mean_absolute_error: 2.5064 - mean_absolute_percentage_error: 5.9963 - val_loss: 4.1128 - val_rmse: 4.1128 - val_mean_absolute_error: 3.1395 - val_mean_absolute_percentage_error: 7.8915\n",
      "Epoch 48/150\n",
      " - 6s - loss: 3.2829 - rmse: 3.2829 - mean_absolute_error: 2.5032 - mean_absolute_percentage_error: 5.9900 - val_loss: 4.2098 - val_rmse: 4.2098 - val_mean_absolute_error: 3.2296 - val_mean_absolute_percentage_error: 7.9478\n",
      "Epoch 49/150\n",
      " - 6s - loss: 3.3001 - rmse: 3.3001 - mean_absolute_error: 2.5229 - mean_absolute_percentage_error: 6.0268 - val_loss: 4.1736 - val_rmse: 4.1736 - val_mean_absolute_error: 3.2072 - val_mean_absolute_percentage_error: 7.8967\n",
      "Epoch 50/150\n",
      " - 6s - loss: 3.3080 - rmse: 3.3080 - mean_absolute_error: 2.5316 - mean_absolute_percentage_error: 6.0593 - val_loss: 4.0435 - val_rmse: 4.0435 - val_mean_absolute_error: 3.0760 - val_mean_absolute_percentage_error: 7.4905\n",
      "Epoch 51/150\n",
      " - 6s - loss: 3.2569 - rmse: 3.2569 - mean_absolute_error: 2.4831 - mean_absolute_percentage_error: 5.9757 - val_loss: 4.2047 - val_rmse: 4.2047 - val_mean_absolute_error: 3.2148 - val_mean_absolute_percentage_error: 7.7372\n",
      "Epoch 52/150\n",
      " - 5s - loss: 3.3240 - rmse: 3.3240 - mean_absolute_error: 2.5373 - mean_absolute_percentage_error: 6.0723 - val_loss: 4.4252 - val_rmse: 4.4252 - val_mean_absolute_error: 3.3776 - val_mean_absolute_percentage_error: 7.9526\n",
      "Epoch 53/150\n",
      " - 5s - loss: 3.2731 - rmse: 3.2731 - mean_absolute_error: 2.4959 - mean_absolute_percentage_error: 5.9720 - val_loss: 4.0810 - val_rmse: 4.0810 - val_mean_absolute_error: 3.1141 - val_mean_absolute_percentage_error: 7.5970\n",
      "Epoch 54/150\n",
      " - 5s - loss: 3.2632 - rmse: 3.2632 - mean_absolute_error: 2.4833 - mean_absolute_percentage_error: 5.9500 - val_loss: 4.1628 - val_rmse: 4.1628 - val_mean_absolute_error: 3.1559 - val_mean_absolute_percentage_error: 7.6914\n",
      "Epoch 55/150\n",
      " - 5s - loss: 3.2837 - rmse: 3.2837 - mean_absolute_error: 2.4997 - mean_absolute_percentage_error: 5.9902 - val_loss: 4.0366 - val_rmse: 4.0366 - val_mean_absolute_error: 3.0738 - val_mean_absolute_percentage_error: 7.5159\n",
      "Epoch 56/150\n",
      " - 6s - loss: 3.2709 - rmse: 3.2709 - mean_absolute_error: 2.4943 - mean_absolute_percentage_error: 5.9709 - val_loss: 4.0890 - val_rmse: 4.0890 - val_mean_absolute_error: 3.1113 - val_mean_absolute_percentage_error: 7.6379\n",
      "Epoch 57/150\n",
      " - 6s - loss: 3.2885 - rmse: 3.2885 - mean_absolute_error: 2.5083 - mean_absolute_percentage_error: 6.0124 - val_loss: 4.0663 - val_rmse: 4.0663 - val_mean_absolute_error: 3.0972 - val_mean_absolute_percentage_error: 7.6381\n",
      "Epoch 58/150\n",
      " - 6s - loss: 3.2711 - rmse: 3.2711 - mean_absolute_error: 2.5014 - mean_absolute_percentage_error: 5.9957 - val_loss: 4.0979 - val_rmse: 4.0979 - val_mean_absolute_error: 3.1110 - val_mean_absolute_percentage_error: 7.6069\n",
      "Epoch 59/150\n",
      " - 6s - loss: 3.2913 - rmse: 3.2913 - mean_absolute_error: 2.5161 - mean_absolute_percentage_error: 6.0080 - val_loss: 4.1298 - val_rmse: 4.1298 - val_mean_absolute_error: 3.1464 - val_mean_absolute_percentage_error: 7.6839\n",
      "Epoch 60/150\n",
      " - 6s - loss: 3.2861 - rmse: 3.2861 - mean_absolute_error: 2.5034 - mean_absolute_percentage_error: 6.0112 - val_loss: 4.2084 - val_rmse: 4.2084 - val_mean_absolute_error: 3.1992 - val_mean_absolute_percentage_error: 7.7842\n",
      "Epoch 61/150\n",
      " - 6s - loss: 3.2533 - rmse: 3.2533 - mean_absolute_error: 2.4767 - mean_absolute_percentage_error: 5.9493 - val_loss: 4.1066 - val_rmse: 4.1066 - val_mean_absolute_error: 3.1339 - val_mean_absolute_percentage_error: 7.6804\n",
      "Epoch 62/150\n",
      " - 6s - loss: 3.3019 - rmse: 3.3019 - mean_absolute_error: 2.5189 - mean_absolute_percentage_error: 6.0407 - val_loss: 4.1283 - val_rmse: 4.1283 - val_mean_absolute_error: 3.1424 - val_mean_absolute_percentage_error: 7.6583\n",
      "Epoch 63/150\n",
      " - 5s - loss: 3.2680 - rmse: 3.2680 - mean_absolute_error: 2.4821 - mean_absolute_percentage_error: 5.9646 - val_loss: 3.9815 - val_rmse: 3.9815 - val_mean_absolute_error: 3.0363 - val_mean_absolute_percentage_error: 7.5972\n",
      "Epoch 64/150\n",
      " - 5s - loss: 3.2949 - rmse: 3.2949 - mean_absolute_error: 2.5016 - mean_absolute_percentage_error: 5.9986 - val_loss: 4.3684 - val_rmse: 4.3684 - val_mean_absolute_error: 3.3741 - val_mean_absolute_percentage_error: 7.9459\n",
      "Epoch 65/150\n",
      " - 6s - loss: 3.2765 - rmse: 3.2765 - mean_absolute_error: 2.4931 - mean_absolute_percentage_error: 5.9684 - val_loss: 4.1361 - val_rmse: 4.1361 - val_mean_absolute_error: 3.1401 - val_mean_absolute_percentage_error: 7.7627\n",
      "Epoch 66/150\n",
      " - 5s - loss: 3.2893 - rmse: 3.2893 - mean_absolute_error: 2.5065 - mean_absolute_percentage_error: 5.9961 - val_loss: 4.1251 - val_rmse: 4.1251 - val_mean_absolute_error: 3.1327 - val_mean_absolute_percentage_error: 7.6063\n",
      "Epoch 67/150\n",
      " - 5s - loss: 3.2947 - rmse: 3.2947 - mean_absolute_error: 2.5045 - mean_absolute_percentage_error: 5.9904 - val_loss: 4.1179 - val_rmse: 4.1179 - val_mean_absolute_error: 3.1361 - val_mean_absolute_percentage_error: 7.5877\n",
      "Epoch 68/150\n",
      " - 6s - loss: 3.2767 - rmse: 3.2767 - mean_absolute_error: 2.4917 - mean_absolute_percentage_error: 5.9567 - val_loss: 4.2327 - val_rmse: 4.2327 - val_mean_absolute_error: 3.2243 - val_mean_absolute_percentage_error: 7.8019\n",
      "Epoch 69/150\n",
      " - 5s - loss: 3.2426 - rmse: 3.2426 - mean_absolute_error: 2.4655 - mean_absolute_percentage_error: 5.8934 - val_loss: 4.1411 - val_rmse: 4.1411 - val_mean_absolute_error: 3.1493 - val_mean_absolute_percentage_error: 7.6379\n",
      "Epoch 70/150\n",
      " - 5s - loss: 3.2301 - rmse: 3.2301 - mean_absolute_error: 2.4620 - mean_absolute_percentage_error: 5.9170 - val_loss: 4.1487 - val_rmse: 4.1487 - val_mean_absolute_error: 3.1765 - val_mean_absolute_percentage_error: 7.7664\n"
     ]
    },
    {
     "name": "stdout",
     "output_type": "stream",
     "text": [
      "Epoch 71/150\n",
      " - 5s - loss: 3.2534 - rmse: 3.2534 - mean_absolute_error: 2.4802 - mean_absolute_percentage_error: 5.9598 - val_loss: 4.1163 - val_rmse: 4.1163 - val_mean_absolute_error: 3.1435 - val_mean_absolute_percentage_error: 7.7293\n",
      "Epoch 72/150\n",
      " - 6s - loss: 3.2417 - rmse: 3.2417 - mean_absolute_error: 2.4734 - mean_absolute_percentage_error: 5.9493 - val_loss: 4.1951 - val_rmse: 4.1951 - val_mean_absolute_error: 3.1834 - val_mean_absolute_percentage_error: 7.6542\n",
      "Epoch 73/150\n",
      " - 5s - loss: 3.2365 - rmse: 3.2365 - mean_absolute_error: 2.4613 - mean_absolute_percentage_error: 5.8994 - val_loss: 4.0667 - val_rmse: 4.0667 - val_mean_absolute_error: 3.0914 - val_mean_absolute_percentage_error: 7.5924\n",
      "Epoch 74/150\n",
      " - 5s - loss: 3.2770 - rmse: 3.2770 - mean_absolute_error: 2.5028 - mean_absolute_percentage_error: 6.0015 - val_loss: 4.0854 - val_rmse: 4.0854 - val_mean_absolute_error: 3.1022 - val_mean_absolute_percentage_error: 7.5671\n",
      "Epoch 75/150\n",
      " - 5s - loss: 3.2768 - rmse: 3.2768 - mean_absolute_error: 2.4962 - mean_absolute_percentage_error: 5.9641 - val_loss: 4.4136 - val_rmse: 4.4136 - val_mean_absolute_error: 3.3826 - val_mean_absolute_percentage_error: 8.0582\n",
      "Epoch 76/150\n",
      " - 5s - loss: 3.2461 - rmse: 3.2461 - mean_absolute_error: 2.4715 - mean_absolute_percentage_error: 5.9294 - val_loss: 4.1185 - val_rmse: 4.1185 - val_mean_absolute_error: 3.1434 - val_mean_absolute_percentage_error: 7.5907\n",
      "Epoch 77/150\n",
      " - 5s - loss: 3.2330 - rmse: 3.2330 - mean_absolute_error: 2.4613 - mean_absolute_percentage_error: 5.9092 - val_loss: 4.2295 - val_rmse: 4.2295 - val_mean_absolute_error: 3.2422 - val_mean_absolute_percentage_error: 7.7532\n",
      "Epoch 78/150\n",
      " - 5s - loss: 3.2471 - rmse: 3.2471 - mean_absolute_error: 2.4691 - mean_absolute_percentage_error: 5.9304 - val_loss: 4.1584 - val_rmse: 4.1584 - val_mean_absolute_error: 3.1628 - val_mean_absolute_percentage_error: 7.7869\n",
      "Epoch 79/150\n",
      " - 5s - loss: 3.2300 - rmse: 3.2300 - mean_absolute_error: 2.4571 - mean_absolute_percentage_error: 5.8871 - val_loss: 4.3761 - val_rmse: 4.3761 - val_mean_absolute_error: 3.3741 - val_mean_absolute_percentage_error: 7.9592\n",
      "Epoch 80/150\n",
      " - 5s - loss: 3.2665 - rmse: 3.2665 - mean_absolute_error: 2.4826 - mean_absolute_percentage_error: 5.9586 - val_loss: 4.0663 - val_rmse: 4.0663 - val_mean_absolute_error: 3.0898 - val_mean_absolute_percentage_error: 7.5145\n",
      "Epoch 81/150\n",
      " - 5s - loss: 3.2461 - rmse: 3.2461 - mean_absolute_error: 2.4716 - mean_absolute_percentage_error: 5.9402 - val_loss: 4.0995 - val_rmse: 4.0995 - val_mean_absolute_error: 3.1297 - val_mean_absolute_percentage_error: 7.5890\n",
      "Epoch 82/150\n",
      " - 5s - loss: 3.2251 - rmse: 3.2251 - mean_absolute_error: 2.4591 - mean_absolute_percentage_error: 5.9068 - val_loss: 4.0064 - val_rmse: 4.0064 - val_mean_absolute_error: 3.0444 - val_mean_absolute_percentage_error: 7.4001\n",
      "Epoch 83/150\n",
      " - 5s - loss: 3.2601 - rmse: 3.2601 - mean_absolute_error: 2.4862 - mean_absolute_percentage_error: 5.9548 - val_loss: 4.2473 - val_rmse: 4.2473 - val_mean_absolute_error: 3.2574 - val_mean_absolute_percentage_error: 7.8605\n",
      "Epoch 84/150\n",
      " - 6s - loss: 3.2613 - rmse: 3.2613 - mean_absolute_error: 2.4761 - mean_absolute_percentage_error: 5.9395 - val_loss: 4.0556 - val_rmse: 4.0556 - val_mean_absolute_error: 3.0828 - val_mean_absolute_percentage_error: 7.5090\n",
      "Epoch 85/150\n",
      " - 5s - loss: 3.2308 - rmse: 3.2308 - mean_absolute_error: 2.4644 - mean_absolute_percentage_error: 5.9184 - val_loss: 4.1390 - val_rmse: 4.1390 - val_mean_absolute_error: 3.1442 - val_mean_absolute_percentage_error: 7.6477\n",
      "Epoch 86/150\n",
      " - 6s - loss: 3.2493 - rmse: 3.2493 - mean_absolute_error: 2.4703 - mean_absolute_percentage_error: 5.9133 - val_loss: 4.2701 - val_rmse: 4.2701 - val_mean_absolute_error: 3.2588 - val_mean_absolute_percentage_error: 7.8518\n",
      "Epoch 87/150\n",
      " - 5s - loss: 3.2460 - rmse: 3.2460 - mean_absolute_error: 2.4721 - mean_absolute_percentage_error: 5.9204 - val_loss: 4.1004 - val_rmse: 4.1004 - val_mean_absolute_error: 3.1250 - val_mean_absolute_percentage_error: 7.8668\n",
      "Epoch 88/150\n",
      " - 6s - loss: 3.2742 - rmse: 3.2742 - mean_absolute_error: 2.4936 - mean_absolute_percentage_error: 5.9802 - val_loss: 4.2015 - val_rmse: 4.2015 - val_mean_absolute_error: 3.2070 - val_mean_absolute_percentage_error: 7.7227\n",
      "Epoch 89/150\n",
      " - 5s - loss: 3.2412 - rmse: 3.2412 - mean_absolute_error: 2.4685 - mean_absolute_percentage_error: 5.9263 - val_loss: 4.3544 - val_rmse: 4.3544 - val_mean_absolute_error: 3.3381 - val_mean_absolute_percentage_error: 7.9159\n",
      "Epoch 90/150\n",
      " - 6s - loss: 3.2563 - rmse: 3.2563 - mean_absolute_error: 2.4719 - mean_absolute_percentage_error: 5.9389 - val_loss: 4.1388 - val_rmse: 4.1388 - val_mean_absolute_error: 3.1374 - val_mean_absolute_percentage_error: 7.5566\n",
      "Epoch 91/150\n",
      " - 5s - loss: 3.2276 - rmse: 3.2276 - mean_absolute_error: 2.4628 - mean_absolute_percentage_error: 5.9149 - val_loss: 4.0514 - val_rmse: 4.0514 - val_mean_absolute_error: 3.0784 - val_mean_absolute_percentage_error: 7.5036\n",
      "Epoch 92/150\n",
      " - 5s - loss: 3.2538 - rmse: 3.2538 - mean_absolute_error: 2.4777 - mean_absolute_percentage_error: 5.9407 - val_loss: 4.0155 - val_rmse: 4.0155 - val_mean_absolute_error: 3.0437 - val_mean_absolute_percentage_error: 7.4664\n",
      "Epoch 93/150\n",
      " - 5s - loss: 3.2158 - rmse: 3.2158 - mean_absolute_error: 2.4428 - mean_absolute_percentage_error: 5.8816 - val_loss: 4.2322 - val_rmse: 4.2322 - val_mean_absolute_error: 3.2174 - val_mean_absolute_percentage_error: 7.9061\n",
      "Epoch 94/150\n",
      " - 6s - loss: 3.2491 - rmse: 3.2491 - mean_absolute_error: 2.4697 - mean_absolute_percentage_error: 5.9286 - val_loss: 4.1378 - val_rmse: 4.1378 - val_mean_absolute_error: 3.1760 - val_mean_absolute_percentage_error: 7.8434\n",
      "Epoch 95/150\n",
      " - 5s - loss: 3.2206 - rmse: 3.2206 - mean_absolute_error: 2.4594 - mean_absolute_percentage_error: 5.9024 - val_loss: 4.0985 - val_rmse: 4.0985 - val_mean_absolute_error: 3.1059 - val_mean_absolute_percentage_error: 7.6793\n",
      "Epoch 96/150\n",
      " - 5s - loss: 3.2230 - rmse: 3.2230 - mean_absolute_error: 2.4486 - mean_absolute_percentage_error: 5.8818 - val_loss: 4.1095 - val_rmse: 4.1095 - val_mean_absolute_error: 3.1258 - val_mean_absolute_percentage_error: 7.5626\n",
      "Epoch 97/150\n",
      " - 5s - loss: 3.2475 - rmse: 3.2475 - mean_absolute_error: 2.4743 - mean_absolute_percentage_error: 5.9327 - val_loss: 4.0690 - val_rmse: 4.0690 - val_mean_absolute_error: 3.1110 - val_mean_absolute_percentage_error: 7.6098\n",
      "Epoch 98/150\n",
      " - 5s - loss: 3.2420 - rmse: 3.2420 - mean_absolute_error: 2.4765 - mean_absolute_percentage_error: 5.9462 - val_loss: 4.3362 - val_rmse: 4.3362 - val_mean_absolute_error: 3.3256 - val_mean_absolute_percentage_error: 7.8686\n",
      "Epoch 99/150\n",
      " - 5s - loss: 3.2470 - rmse: 3.2470 - mean_absolute_error: 2.4715 - mean_absolute_percentage_error: 5.9111 - val_loss: 4.0340 - val_rmse: 4.0340 - val_mean_absolute_error: 3.0715 - val_mean_absolute_percentage_error: 7.6498\n",
      "Epoch 100/150\n",
      " - 5s - loss: 3.2208 - rmse: 3.2208 - mean_absolute_error: 2.4512 - mean_absolute_percentage_error: 5.8788 - val_loss: 4.0483 - val_rmse: 4.0483 - val_mean_absolute_error: 3.0712 - val_mean_absolute_percentage_error: 7.4941\n",
      "Epoch 101/150\n",
      " - 5s - loss: 3.2234 - rmse: 3.2234 - mean_absolute_error: 2.4527 - mean_absolute_percentage_error: 5.8881 - val_loss: 4.0363 - val_rmse: 4.0363 - val_mean_absolute_error: 3.0791 - val_mean_absolute_percentage_error: 7.6491\n",
      "Epoch 102/150\n",
      " - 5s - loss: 3.2474 - rmse: 3.2474 - mean_absolute_error: 2.4589 - mean_absolute_percentage_error: 5.8941 - val_loss: 4.5740 - val_rmse: 4.5740 - val_mean_absolute_error: 3.5105 - val_mean_absolute_percentage_error: 8.2059\n",
      "Epoch 103/150\n",
      " - 5s - loss: 3.2405 - rmse: 3.2405 - mean_absolute_error: 2.4691 - mean_absolute_percentage_error: 5.9225 - val_loss: 4.0891 - val_rmse: 4.0891 - val_mean_absolute_error: 3.1020 - val_mean_absolute_percentage_error: 7.6521\n",
      "Epoch 104/150\n",
      " - 5s - loss: 3.1811 - rmse: 3.1811 - mean_absolute_error: 2.4212 - mean_absolute_percentage_error: 5.8366 - val_loss: 4.2007 - val_rmse: 4.2007 - val_mean_absolute_error: 3.2371 - val_mean_absolute_percentage_error: 7.9243\n",
      "Epoch 105/150\n",
      " - 6s - loss: 3.2285 - rmse: 3.2285 - mean_absolute_error: 2.4531 - mean_absolute_percentage_error: 5.8931 - val_loss: 4.1923 - val_rmse: 4.1923 - val_mean_absolute_error: 3.1979 - val_mean_absolute_percentage_error: 7.8192\n"
     ]
    },
    {
     "name": "stdout",
     "output_type": "stream",
     "text": [
      "Epoch 106/150\n",
      " - 6s - loss: 3.2298 - rmse: 3.2298 - mean_absolute_error: 2.4666 - mean_absolute_percentage_error: 5.9340 - val_loss: 4.2262 - val_rmse: 4.2262 - val_mean_absolute_error: 3.2258 - val_mean_absolute_percentage_error: 7.8026\n",
      "Epoch 107/150\n",
      " - 6s - loss: 3.2417 - rmse: 3.2417 - mean_absolute_error: 2.4724 - mean_absolute_percentage_error: 5.9393 - val_loss: 4.0602 - val_rmse: 4.0602 - val_mean_absolute_error: 3.0902 - val_mean_absolute_percentage_error: 7.5254\n",
      "Epoch 108/150\n",
      " - 6s - loss: 3.2146 - rmse: 3.2146 - mean_absolute_error: 2.4493 - mean_absolute_percentage_error: 5.8934 - val_loss: 4.0730 - val_rmse: 4.0730 - val_mean_absolute_error: 3.1025 - val_mean_absolute_percentage_error: 7.7357\n",
      "Epoch 109/150\n",
      " - 6s - loss: 3.2494 - rmse: 3.2494 - mean_absolute_error: 2.4756 - mean_absolute_percentage_error: 5.9317 - val_loss: 4.3978 - val_rmse: 4.3978 - val_mean_absolute_error: 3.3941 - val_mean_absolute_percentage_error: 8.0167\n",
      "Epoch 110/150\n",
      " - 6s - loss: 3.2162 - rmse: 3.2162 - mean_absolute_error: 2.4417 - mean_absolute_percentage_error: 5.8518 - val_loss: 4.1871 - val_rmse: 4.1871 - val_mean_absolute_error: 3.1868 - val_mean_absolute_percentage_error: 7.6660\n",
      "Epoch 111/150\n",
      " - 5s - loss: 3.2185 - rmse: 3.2185 - mean_absolute_error: 2.4470 - mean_absolute_percentage_error: 5.8781 - val_loss: 4.1231 - val_rmse: 4.1231 - val_mean_absolute_error: 3.1331 - val_mean_absolute_percentage_error: 7.5858\n",
      "Epoch 112/150\n",
      " - 6s - loss: 3.1945 - rmse: 3.1945 - mean_absolute_error: 2.4346 - mean_absolute_percentage_error: 5.8539 - val_loss: 4.0701 - val_rmse: 4.0701 - val_mean_absolute_error: 3.0928 - val_mean_absolute_percentage_error: 7.5889\n",
      "Epoch 113/150\n",
      " - 5s - loss: 3.1988 - rmse: 3.1988 - mean_absolute_error: 2.4391 - mean_absolute_percentage_error: 5.8730 - val_loss: 4.0832 - val_rmse: 4.0832 - val_mean_absolute_error: 3.1215 - val_mean_absolute_percentage_error: 7.6194\n",
      "Epoch 114/150\n",
      " - 5s - loss: 3.1786 - rmse: 3.1786 - mean_absolute_error: 2.4094 - mean_absolute_percentage_error: 5.8107 - val_loss: 4.2821 - val_rmse: 4.2821 - val_mean_absolute_error: 3.2901 - val_mean_absolute_percentage_error: 7.8387\n",
      "Epoch 115/150\n",
      " - 5s - loss: 3.1942 - rmse: 3.1942 - mean_absolute_error: 2.4270 - mean_absolute_percentage_error: 5.8248 - val_loss: 4.1037 - val_rmse: 4.1037 - val_mean_absolute_error: 3.1227 - val_mean_absolute_percentage_error: 7.6193\n",
      "Epoch 116/150\n",
      " - 5s - loss: 3.2154 - rmse: 3.2154 - mean_absolute_error: 2.4461 - mean_absolute_percentage_error: 5.8667 - val_loss: 4.0897 - val_rmse: 4.0897 - val_mean_absolute_error: 3.1011 - val_mean_absolute_percentage_error: 7.6134\n",
      "Epoch 117/150\n",
      " - 6s - loss: 3.2104 - rmse: 3.2104 - mean_absolute_error: 2.4416 - mean_absolute_percentage_error: 5.8626 - val_loss: 4.2164 - val_rmse: 4.2164 - val_mean_absolute_error: 3.1998 - val_mean_absolute_percentage_error: 7.7257\n",
      "Epoch 118/150\n",
      " - 5s - loss: 3.2266 - rmse: 3.2266 - mean_absolute_error: 2.4459 - mean_absolute_percentage_error: 5.8734 - val_loss: 4.0977 - val_rmse: 4.0977 - val_mean_absolute_error: 3.0931 - val_mean_absolute_percentage_error: 7.5010\n",
      "Epoch 119/150\n",
      " - 5s - loss: 3.2006 - rmse: 3.2006 - mean_absolute_error: 2.4338 - mean_absolute_percentage_error: 5.8495 - val_loss: 4.0673 - val_rmse: 4.0673 - val_mean_absolute_error: 3.0916 - val_mean_absolute_percentage_error: 7.6037\n",
      "Epoch 120/150\n",
      " - 5s - loss: 3.2106 - rmse: 3.2106 - mean_absolute_error: 2.4337 - mean_absolute_percentage_error: 5.8560 - val_loss: 4.1089 - val_rmse: 4.1089 - val_mean_absolute_error: 3.1400 - val_mean_absolute_percentage_error: 7.5765\n",
      "Epoch 121/150\n",
      " - 6s - loss: 3.2025 - rmse: 3.2025 - mean_absolute_error: 2.4331 - mean_absolute_percentage_error: 5.8583 - val_loss: 4.1275 - val_rmse: 4.1275 - val_mean_absolute_error: 3.1457 - val_mean_absolute_percentage_error: 7.5735\n",
      "Epoch 122/150\n",
      " - 5s - loss: 3.2203 - rmse: 3.2203 - mean_absolute_error: 2.4490 - mean_absolute_percentage_error: 5.8738 - val_loss: 4.2218 - val_rmse: 4.2218 - val_mean_absolute_error: 3.2407 - val_mean_absolute_percentage_error: 7.9938\n",
      "Epoch 123/150\n",
      " - 5s - loss: 3.1800 - rmse: 3.1800 - mean_absolute_error: 2.4072 - mean_absolute_percentage_error: 5.8072 - val_loss: 4.1269 - val_rmse: 4.1269 - val_mean_absolute_error: 3.1258 - val_mean_absolute_percentage_error: 7.6337\n",
      "Epoch 124/150\n",
      " - 5s - loss: 3.1944 - rmse: 3.1944 - mean_absolute_error: 2.4250 - mean_absolute_percentage_error: 5.8364 - val_loss: 4.4739 - val_rmse: 4.4739 - val_mean_absolute_error: 3.4120 - val_mean_absolute_percentage_error: 8.0405\n",
      "Epoch 125/150\n",
      " - 5s - loss: 3.2154 - rmse: 3.2154 - mean_absolute_error: 2.4359 - mean_absolute_percentage_error: 5.8446 - val_loss: 4.1228 - val_rmse: 4.1228 - val_mean_absolute_error: 3.1521 - val_mean_absolute_percentage_error: 7.6403\n",
      "Epoch 126/150\n",
      " - 5s - loss: 3.2000 - rmse: 3.2000 - mean_absolute_error: 2.4334 - mean_absolute_percentage_error: 5.8502 - val_loss: 4.1232 - val_rmse: 4.1232 - val_mean_absolute_error: 3.1312 - val_mean_absolute_percentage_error: 7.5374\n",
      "Epoch 127/150\n",
      " - 6s - loss: 3.2095 - rmse: 3.2095 - mean_absolute_error: 2.4343 - mean_absolute_percentage_error: 5.8572 - val_loss: 4.2426 - val_rmse: 4.2426 - val_mean_absolute_error: 3.2430 - val_mean_absolute_percentage_error: 7.7619\n",
      "Epoch 128/150\n",
      " - 5s - loss: 3.2096 - rmse: 3.2096 - mean_absolute_error: 2.4410 - mean_absolute_percentage_error: 5.8638 - val_loss: 4.2042 - val_rmse: 4.2042 - val_mean_absolute_error: 3.2067 - val_mean_absolute_percentage_error: 7.7554\n",
      "Epoch 129/150\n",
      " - 5s - loss: 3.1760 - rmse: 3.1760 - mean_absolute_error: 2.4126 - mean_absolute_percentage_error: 5.8082 - val_loss: 4.0735 - val_rmse: 4.0735 - val_mean_absolute_error: 3.0831 - val_mean_absolute_percentage_error: 7.6224\n",
      "Epoch 130/150\n",
      " - 5s - loss: 3.1822 - rmse: 3.1822 - mean_absolute_error: 2.4236 - mean_absolute_percentage_error: 5.8265 - val_loss: 4.3807 - val_rmse: 4.3807 - val_mean_absolute_error: 3.3316 - val_mean_absolute_percentage_error: 7.8897\n",
      "Epoch 131/150\n",
      " - 5s - loss: 3.2136 - rmse: 3.2136 - mean_absolute_error: 2.4356 - mean_absolute_percentage_error: 5.8478 - val_loss: 4.0902 - val_rmse: 4.0902 - val_mean_absolute_error: 3.0945 - val_mean_absolute_percentage_error: 7.5486\n",
      "Epoch 132/150\n",
      " - 6s - loss: 3.1760 - rmse: 3.1760 - mean_absolute_error: 2.4119 - mean_absolute_percentage_error: 5.8105 - val_loss: 4.2690 - val_rmse: 4.2690 - val_mean_absolute_error: 3.2458 - val_mean_absolute_percentage_error: 7.8514\n",
      "Epoch 133/150\n",
      " - 5s - loss: 3.1955 - rmse: 3.1955 - mean_absolute_error: 2.4281 - mean_absolute_percentage_error: 5.8364 - val_loss: 4.4538 - val_rmse: 4.4538 - val_mean_absolute_error: 3.4253 - val_mean_absolute_percentage_error: 8.0977\n",
      "Epoch 134/150\n",
      " - 5s - loss: 3.1817 - rmse: 3.1817 - mean_absolute_error: 2.4064 - mean_absolute_percentage_error: 5.7898 - val_loss: 4.1680 - val_rmse: 4.1680 - val_mean_absolute_error: 3.1874 - val_mean_absolute_percentage_error: 7.6889\n",
      "Epoch 135/150\n",
      " - 5s - loss: 3.1681 - rmse: 3.1681 - mean_absolute_error: 2.4121 - mean_absolute_percentage_error: 5.8063 - val_loss: 4.0854 - val_rmse: 4.0854 - val_mean_absolute_error: 3.1075 - val_mean_absolute_percentage_error: 7.5494\n",
      "Epoch 136/150\n",
      " - 5s - loss: 3.1936 - rmse: 3.1936 - mean_absolute_error: 2.4303 - mean_absolute_percentage_error: 5.8560 - val_loss: 4.1645 - val_rmse: 4.1645 - val_mean_absolute_error: 3.1911 - val_mean_absolute_percentage_error: 7.6961\n",
      "Epoch 137/150\n",
      " - 6s - loss: 3.2156 - rmse: 3.2156 - mean_absolute_error: 2.4356 - mean_absolute_percentage_error: 5.8550 - val_loss: 4.1128 - val_rmse: 4.1128 - val_mean_absolute_error: 3.1383 - val_mean_absolute_percentage_error: 7.7514\n",
      "Epoch 138/150\n",
      " - 6s - loss: 3.1710 - rmse: 3.1710 - mean_absolute_error: 2.4038 - mean_absolute_percentage_error: 5.7908 - val_loss: 4.1383 - val_rmse: 4.1383 - val_mean_absolute_error: 3.1413 - val_mean_absolute_percentage_error: 7.6376\n",
      "Epoch 139/150\n",
      " - 5s - loss: 3.1584 - rmse: 3.1584 - mean_absolute_error: 2.4045 - mean_absolute_percentage_error: 5.8019 - val_loss: 4.0879 - val_rmse: 4.0879 - val_mean_absolute_error: 3.1093 - val_mean_absolute_percentage_error: 7.5885\n",
      "Epoch 140/150\n",
      " - 5s - loss: 3.1798 - rmse: 3.1798 - mean_absolute_error: 2.4161 - mean_absolute_percentage_error: 5.8165 - val_loss: 4.1438 - val_rmse: 4.1438 - val_mean_absolute_error: 3.1439 - val_mean_absolute_percentage_error: 7.6468\n"
     ]
    },
    {
     "name": "stdout",
     "output_type": "stream",
     "text": [
      "Epoch 141/150\n",
      " - 6s - loss: 3.1947 - rmse: 3.1947 - mean_absolute_error: 2.4265 - mean_absolute_percentage_error: 5.8313 - val_loss: 4.1546 - val_rmse: 4.1546 - val_mean_absolute_error: 3.1599 - val_mean_absolute_percentage_error: 7.6000\n",
      "Epoch 142/150\n",
      " - 5s - loss: 3.2520 - rmse: 3.2520 - mean_absolute_error: 2.4636 - mean_absolute_percentage_error: 5.9000 - val_loss: 4.0972 - val_rmse: 4.0972 - val_mean_absolute_error: 3.1231 - val_mean_absolute_percentage_error: 7.5867\n",
      "Epoch 143/150\n",
      " - 6s - loss: 3.1631 - rmse: 3.1631 - mean_absolute_error: 2.4055 - mean_absolute_percentage_error: 5.8008 - val_loss: 4.0701 - val_rmse: 4.0701 - val_mean_absolute_error: 3.0958 - val_mean_absolute_percentage_error: 7.5856\n",
      "Epoch 144/150\n",
      " - 6s - loss: 3.1855 - rmse: 3.1855 - mean_absolute_error: 2.4210 - mean_absolute_percentage_error: 5.8274 - val_loss: 4.6856 - val_rmse: 4.6856 - val_mean_absolute_error: 3.5749 - val_mean_absolute_percentage_error: 8.2927\n",
      "Epoch 145/150\n",
      " - 5s - loss: 3.2115 - rmse: 3.2115 - mean_absolute_error: 2.4397 - mean_absolute_percentage_error: 5.8686 - val_loss: 4.2824 - val_rmse: 4.2824 - val_mean_absolute_error: 3.2721 - val_mean_absolute_percentage_error: 7.8058\n",
      "Epoch 146/150\n",
      " - 5s - loss: 3.1975 - rmse: 3.1975 - mean_absolute_error: 2.4330 - mean_absolute_percentage_error: 5.8347 - val_loss: 4.0228 - val_rmse: 4.0228 - val_mean_absolute_error: 3.0604 - val_mean_absolute_percentage_error: 7.4883\n",
      "Epoch 147/150\n",
      " - 6s - loss: 3.1723 - rmse: 3.1723 - mean_absolute_error: 2.4050 - mean_absolute_percentage_error: 5.7895 - val_loss: 4.0403 - val_rmse: 4.0403 - val_mean_absolute_error: 3.0619 - val_mean_absolute_percentage_error: 7.5066\n",
      "Epoch 148/150\n",
      " - 5s - loss: 3.1925 - rmse: 3.1925 - mean_absolute_error: 2.4285 - mean_absolute_percentage_error: 5.8361 - val_loss: 4.3253 - val_rmse: 4.3253 - val_mean_absolute_error: 3.2958 - val_mean_absolute_percentage_error: 7.8764\n",
      "Epoch 149/150\n",
      " - 6s - loss: 3.1895 - rmse: 3.1895 - mean_absolute_error: 2.4241 - mean_absolute_percentage_error: 5.8237 - val_loss: 4.2223 - val_rmse: 4.2223 - val_mean_absolute_error: 3.1841 - val_mean_absolute_percentage_error: 7.6420\n",
      "Epoch 150/150\n",
      " - 5s - loss: 3.1599 - rmse: 3.1599 - mean_absolute_error: 2.3891 - mean_absolute_percentage_error: 5.7566 - val_loss: 4.1018 - val_rmse: 4.1018 - val_mean_absolute_error: 3.1221 - val_mean_absolute_percentage_error: 7.6139\n",
      "Wall time: 13min 48s\n"
     ]
    }
   ],
   "source": [
    "# run 150 epochs\n",
    "# define RMSE\n",
    "def rmse (y_true, y_pred):\n",
    "    return K.sqrt(K.mean(K.square(y_pred - y_true)))\n",
    "\n",
    "# compile model\n",
    "model = AlexNet()\n",
    "model.compile(loss=rmse, optimizer='adam', metrics=[rmse, 'mae', 'mape'])\n",
    "\n",
    "# fit model\n",
    "%time history_alexnet150 = model.fit(X_train_nm2, y_train_nm, epochs=150, shuffle=True, batch_size=5, validation_split=0.2, verbose=2)\n"
   ]
  },
  {
   "cell_type": "code",
   "execution_count": 31,
   "metadata": {},
   "outputs": [
    {
     "data": {
      "image/png": "[encoded data removed]",
      "text/plain": [
       "<Figure size 432x288 with 1 Axes>"
      ]
     },
     "metadata": {
      "needs_background": "light"
     },
     "output_type": "display_data"
    }
   ],
   "source": [
    "# plot metrics\n",
    "plt.plot(history_alexnet150.history['rmse'])\n",
    "plt.plot(history_alexnet150.history['val_rmse'])\n",
    "plt.show()"
   ]
  },
  {
   "cell_type": "code",
   "execution_count": 32,
   "metadata": {},
   "outputs": [
    {
     "name": "stdout",
     "output_type": "stream",
     "text": [
      "4.101846686033445\n",
      "3.1599477042104596\n"
     ]
    }
   ],
   "source": [
    "# look at final RMSE value after 10 epochs\n",
    "print(history_alexnet150.history.get('val_rmse')[-1])\n",
    "print(history_alexnet150.history.get('rmse')[-1])"
   ]
  },
  {
   "cell_type": "markdown",
   "metadata": {},
   "source": [
    "## VGG-16"
   ]
  },
  {
   "cell_type": "code",
   "execution_count": 27,
   "metadata": {},
   "outputs": [],
   "source": [
    "# VGG-16\n",
    "def VGG_16(weights_path=None):\n",
    "    model = Sequential()\n",
    "    model.add(ZeroPadding2D((1,1),input_shape=(96,96,1), data_format='channels_last'))\n",
    "    model.add(Conv2D(64, (3, 3), activation='relu'))\n",
    "    model.add(ZeroPadding2D((1,1)))\n",
    "    model.add(Conv2D(64, (3, 3), activation='relu'))\n",
    "    model.add(MaxPooling2D((2,2), strides=(2,2)))\n",
    "\n",
    "    model.add(ZeroPadding2D((1,1)))\n",
    "    model.add(Conv2D(128, (3, 3), activation='relu'))\n",
    "    model.add(ZeroPadding2D((1,1)))\n",
    "    model.add(Conv2D(128, (3, 3), activation='relu'))\n",
    "    model.add(MaxPooling2D((2,2), strides=(2,2)))\n",
    "\n",
    "    model.add(ZeroPadding2D((1,1)))\n",
    "    model.add(Conv2D(256, (3, 3), activation='relu'))\n",
    "    model.add(ZeroPadding2D((1,1)))\n",
    "    model.add(Conv2D(256, (3, 3), activation='relu'))\n",
    "    model.add(ZeroPadding2D((1,1)))\n",
    "    model.add(Conv2D(256, (3, 3), activation='relu'))\n",
    "    model.add(MaxPooling2D((2,2), strides=(2,2)))\n",
    "\n",
    "    model.add(ZeroPadding2D((1,1)))\n",
    "    model.add(Conv2D(512, (3, 3), activation='relu'))\n",
    "    model.add(ZeroPadding2D((1,1)))\n",
    "    model.add(Conv2D(512, (3, 3), activation='relu'))\n",
    "    model.add(ZeroPadding2D((1,1)))\n",
    "    model.add(Conv2D(512, (3, 3), activation='relu'))\n",
    "    model.add(MaxPooling2D((2,2), strides=(2,2)))\n",
    "\n",
    "    model.add(ZeroPadding2D((1,1)))\n",
    "    model.add(Conv2D(512, (3, 3), activation='relu'))\n",
    "    model.add(ZeroPadding2D((1,1)))\n",
    "    model.add(Conv2D(512, (3, 3), activation='relu'))\n",
    "    model.add(ZeroPadding2D((1,1)))\n",
    "    model.add(Conv2D(512, (3, 3), activation='relu'))\n",
    "    model.add(MaxPooling2D((2,2), strides=(2,2)))\n",
    "\n",
    "    model.add(Flatten())\n",
    "    model.add(Dense(4096, activation='relu'))\n",
    "    model.add(Dropout(0.5))\n",
    "    model.add(Dense(4096, activation='relu'))\n",
    "    model.add(Dropout(0.5))\n",
    "    model.add(Dense(1000, activation='relu'))\n",
    "    model.add(Dense(30))\n",
    "\n",
    "    if weights_path:\n",
    "        model.load_weights(weights_path)\n",
    "\n",
    "    return model"
   ]
  },
  {
   "cell_type": "code",
   "execution_count": 28,
   "metadata": {
    "scrolled": false
   },
   "outputs": [
    {
     "name": "stdout",
     "output_type": "stream",
     "text": [
      "Train on 1712 samples, validate on 428 samples\n",
      "Epoch 1/10\n",
      " - 32s - loss: 195.1355 - rmse: 195.1355 - mean_absolute_error: 179.9640 - mean_absolute_percentage_error: 389.7439 - val_loss: 4.6134 - val_rmse: 4.6134 - val_mean_absolute_error: 3.6076 - val_mean_absolute_percentage_error: 8.6140\n",
      "Epoch 2/10\n",
      " - 28s - loss: 5.1559 - rmse: 5.1559 - mean_absolute_error: 4.0554 - mean_absolute_percentage_error: 9.2109 - val_loss: 5.7781 - val_rmse: 5.7781 - val_mean_absolute_error: 4.5715 - val_mean_absolute_percentage_error: 9.9904\n",
      "Epoch 3/10\n",
      " - 28s - loss: 4.7821 - rmse: 4.7821 - mean_absolute_error: 3.7468 - mean_absolute_percentage_error: 8.6067 - val_loss: 4.5171 - val_rmse: 4.5171 - val_mean_absolute_error: 3.4785 - val_mean_absolute_percentage_error: 8.1643\n",
      "Epoch 4/10\n",
      " - 28s - loss: 4.7697 - rmse: 4.7697 - mean_absolute_error: 3.7273 - mean_absolute_percentage_error: 8.5102 - val_loss: 4.4615 - val_rmse: 4.4615 - val_mean_absolute_error: 3.4273 - val_mean_absolute_percentage_error: 8.2680\n",
      "Epoch 5/10\n",
      " - 28s - loss: 14.9082 - rmse: 14.9082 - mean_absolute_error: 12.4599 - mean_absolute_percentage_error: 27.4320 - val_loss: 5.9811 - val_rmse: 5.9811 - val_mean_absolute_error: 4.5236 - val_mean_absolute_percentage_error: 10.5417\n",
      "Epoch 6/10\n",
      " - 28s - loss: 5.5502 - rmse: 5.5502 - mean_absolute_error: 4.3770 - mean_absolute_percentage_error: 9.9942 - val_loss: 4.2666 - val_rmse: 4.2666 - val_mean_absolute_error: 3.2603 - val_mean_absolute_percentage_error: 7.8383\n",
      "Epoch 7/10\n",
      " - 28s - loss: 5.1866 - rmse: 5.1866 - mean_absolute_error: 4.0442 - mean_absolute_percentage_error: 9.2165 - val_loss: 4.5209 - val_rmse: 4.5209 - val_mean_absolute_error: 3.4036 - val_mean_absolute_percentage_error: 7.9885\n",
      "Epoch 8/10\n",
      " - 28s - loss: 4.9408 - rmse: 4.9408 - mean_absolute_error: 3.8635 - mean_absolute_percentage_error: 8.8305 - val_loss: 4.2905 - val_rmse: 4.2905 - val_mean_absolute_error: 3.3060 - val_mean_absolute_percentage_error: 8.3399\n",
      "Epoch 9/10\n",
      " - 28s - loss: 4.8827 - rmse: 4.8827 - mean_absolute_error: 3.8044 - mean_absolute_percentage_error: 8.6849 - val_loss: 4.1997 - val_rmse: 4.1997 - val_mean_absolute_error: 3.1956 - val_mean_absolute_percentage_error: 7.8893\n",
      "Epoch 10/10\n",
      " - 28s - loss: 4.6848 - rmse: 4.6848 - mean_absolute_error: 3.6495 - mean_absolute_percentage_error: 8.3699 - val_loss: 4.7536 - val_rmse: 4.7536 - val_mean_absolute_error: 3.6414 - val_mean_absolute_percentage_error: 8.4510\n",
      "Wall time: 4min 46s\n"
     ]
    }
   ],
   "source": [
    "# define RMSE\n",
    "def rmse (y_true, y_pred):\n",
    "    return K.sqrt(K.mean(K.square(y_pred - y_true)))\n",
    "\n",
    "# compile model\n",
    "model = VGG_16()\n",
    "model.compile(loss=rmse, optimizer='adam', metrics=[rmse, 'mae', 'mape'])\n",
    "\n",
    "# fit model\n",
    "%time history_vgg16 = model.fit(X_train_nm2, y_train_nm, epochs=10, shuffle=True, batch_size=5, validation_split=0.2, verbose=2)\n"
   ]
  },
  {
   "cell_type": "code",
   "execution_count": 29,
   "metadata": {},
   "outputs": [
    {
     "data": {
      "image/png": "[encoded data removed]",
      "text/plain": [
       "<Figure size 432x288 with 1 Axes>"
      ]
     },
     "metadata": {
      "needs_background": "light"
     },
     "output_type": "display_data"
    }
   ],
   "source": [
    "# plot metrics\n",
    "plt.plot(history_vgg16.history['rmse'])\n",
    "plt.plot(history_vgg16.history['val_rmse'])\n",
    "plt.show()"
   ]
  },
  {
   "cell_type": "code",
   "execution_count": 30,
   "metadata": {},
   "outputs": [
    {
     "name": "stdout",
     "output_type": "stream",
     "text": [
      "4.75362187679683\n",
      "4.68483464517326\n"
     ]
    }
   ],
   "source": [
    "# look at final RMSE value after 10 epochs\n",
    "print(history_vgg16.history.get('val_rmse')[-1])\n",
    "print(history_vgg16.history.get('rmse')[-1])"
   ]
  },
  {
   "cell_type": "markdown",
   "metadata": {},
   "source": [
    "## Adjusted VGG-16\n",
    "#### Use fewer channels since input size is smaller"
   ]
  },
  {
   "cell_type": "code",
   "execution_count": 18,
   "metadata": {},
   "outputs": [],
   "source": [
    "# VGG-16\n",
    "def VGG_16_small(weights_path=None):\n",
    "    model = Sequential()\n",
    "    model.add(ZeroPadding2D((1,1),input_shape=(96,96,1), data_format='channels_last'))\n",
    "    model.add(Conv2D(16, (3, 3), activation='relu'))\n",
    "    model.add(ZeroPadding2D((1,1)))\n",
    "    model.add(Conv2D(16, (3, 3), activation='relu'))\n",
    "    model.add(MaxPooling2D((2,2), strides=(2,2)))\n",
    "\n",
    "    model.add(ZeroPadding2D((1,1)))\n",
    "    model.add(Conv2D(32, (3, 3), activation='relu'))\n",
    "    model.add(ZeroPadding2D((1,1)))\n",
    "    model.add(Conv2D(32, (3, 3), activation='relu'))\n",
    "    model.add(MaxPooling2D((2,2), strides=(2,2)))\n",
    "\n",
    "    model.add(ZeroPadding2D((1,1)))\n",
    "    model.add(Conv2D(64, (3, 3), activation='relu'))\n",
    "    model.add(ZeroPadding2D((1,1)))\n",
    "    model.add(Conv2D(64, (3, 3), activation='relu'))\n",
    "    model.add(ZeroPadding2D((1,1)))\n",
    "    model.add(Conv2D(64, (3, 3), activation='relu'))\n",
    "    model.add(MaxPooling2D((2,2), strides=(2,2)))\n",
    "\n",
    "    model.add(ZeroPadding2D((1,1)))\n",
    "    model.add(Conv2D(128, (3, 3), activation='relu'))\n",
    "    model.add(ZeroPadding2D((1,1)))\n",
    "    model.add(Conv2D(128, (3, 3), activation='relu'))\n",
    "    model.add(ZeroPadding2D((1,1)))\n",
    "    model.add(Conv2D(128, (3, 3), activation='relu'))\n",
    "    model.add(MaxPooling2D((2,2), strides=(2,2)))\n",
    "\n",
    "    model.add(ZeroPadding2D((1,1)))\n",
    "    model.add(Conv2D(256, (3, 3), activation='relu'))\n",
    "    model.add(ZeroPadding2D((1,1)))\n",
    "    model.add(Conv2D(256, (3, 3), activation='relu'))\n",
    "    model.add(ZeroPadding2D((1,1)))\n",
    "    model.add(Conv2D(256, (3, 3), activation='relu'))\n",
    "    model.add(MaxPooling2D((2,2), strides=(2,2)))\n",
    "\n",
    "    model.add(Flatten())\n",
    "    model.add(Dense(1024, activation='relu'))\n",
    "    model.add(Dropout(0.5))\n",
    "    model.add(Dense(512, activation='relu'))\n",
    "    model.add(Dropout(0.5))\n",
    "    model.add(Dense(256, activation='relu'))\n",
    "    model.add(Dense(30))\n",
    "\n",
    "    if weights_path:\n",
    "        model.load_weights(weights_path)\n",
    "\n",
    "    return model"
   ]
  },
  {
   "cell_type": "code",
   "execution_count": 19,
   "metadata": {},
   "outputs": [
    {
     "name": "stdout",
     "output_type": "stream",
     "text": [
      "Train on 1712 samples, validate on 428 samples\n",
      "Epoch 1/10\n",
      " - 8s - loss: 10.6861 - rmse: 10.6861 - mean_absolute_error: 8.6943 - mean_absolute_percentage_error: 19.0971 - val_loss: 4.1640 - val_rmse: 4.1640 - val_mean_absolute_error: 3.1798 - val_mean_absolute_percentage_error: 7.8468\n",
      "Epoch 2/10\n",
      " - 6s - loss: 6.6447 - rmse: 6.6447 - mean_absolute_error: 5.2057 - mean_absolute_percentage_error: 11.5245 - val_loss: 4.5673 - val_rmse: 4.5673 - val_mean_absolute_error: 3.5008 - val_mean_absolute_percentage_error: 8.1736\n",
      "Epoch 3/10\n",
      " - 6s - loss: 6.2790 - rmse: 6.2790 - mean_absolute_error: 4.9414 - mean_absolute_percentage_error: 10.9632 - val_loss: 5.0792 - val_rmse: 5.0792 - val_mean_absolute_error: 4.0372 - val_mean_absolute_percentage_error: 9.8839\n",
      "Epoch 4/10\n",
      " - 6s - loss: 6.1795 - rmse: 6.1795 - mean_absolute_error: 4.8305 - mean_absolute_percentage_error: 10.7533 - val_loss: 7.0996 - val_rmse: 7.0996 - val_mean_absolute_error: 5.9514 - val_mean_absolute_percentage_error: 12.6165\n",
      "Epoch 5/10\n",
      " - 6s - loss: 5.7083 - rmse: 5.7083 - mean_absolute_error: 4.4741 - mean_absolute_percentage_error: 10.0255 - val_loss: 4.3318 - val_rmse: 4.3318 - val_mean_absolute_error: 3.3334 - val_mean_absolute_percentage_error: 8.0228\n",
      "Epoch 6/10\n",
      " - 6s - loss: 5.7299 - rmse: 5.7299 - mean_absolute_error: 4.4633 - mean_absolute_percentage_error: 9.9436 - val_loss: 4.0350 - val_rmse: 4.0350 - val_mean_absolute_error: 3.0724 - val_mean_absolute_percentage_error: 7.5031\n",
      "Epoch 7/10\n",
      " - 6s - loss: 5.3464 - rmse: 5.3464 - mean_absolute_error: 4.1851 - mean_absolute_percentage_error: 9.3997 - val_loss: 4.0426 - val_rmse: 4.0426 - val_mean_absolute_error: 3.0762 - val_mean_absolute_percentage_error: 7.6508\n",
      "Epoch 8/10\n",
      " - 6s - loss: 5.2153 - rmse: 5.2153 - mean_absolute_error: 4.1141 - mean_absolute_percentage_error: 9.2664 - val_loss: 4.2650 - val_rmse: 4.2650 - val_mean_absolute_error: 3.2830 - val_mean_absolute_percentage_error: 8.2741\n",
      "Epoch 9/10\n",
      " - 6s - loss: 4.6149 - rmse: 4.6149 - mean_absolute_error: 3.5881 - mean_absolute_percentage_error: 8.1636 - val_loss: 4.1424 - val_rmse: 4.1424 - val_mean_absolute_error: 3.1542 - val_mean_absolute_percentage_error: 7.5753\n",
      "Epoch 10/10\n",
      " - 6s - loss: 4.3891 - rmse: 4.3891 - mean_absolute_error: 3.4080 - mean_absolute_percentage_error: 7.8036 - val_loss: 4.2797 - val_rmse: 4.2797 - val_mean_absolute_error: 3.2975 - val_mean_absolute_percentage_error: 8.1537\n",
      "Wall time: 1min 1s\n"
     ]
    }
   ],
   "source": [
    "# define RMSE\n",
    "def rmse (y_true, y_pred):\n",
    "    return K.sqrt(K.mean(K.square(y_pred - y_true)))\n",
    "\n",
    "# compile model\n",
    "model = VGG_16_small()\n",
    "model.compile(loss=rmse, optimizer='adam', metrics=[rmse, 'mae', 'mape'])\n",
    "\n",
    "# fit model\n",
    "%time history_vgg16s = model.fit(X_train_nm2, y_train_nm, epochs=10, shuffle=True, batch_size=5, validation_split=0.2, verbose=2)\n"
   ]
  },
  {
   "cell_type": "code",
   "execution_count": 20,
   "metadata": {
    "scrolled": true
   },
   "outputs": [
    {
     "data": {
      "image/png": "[encoded data removed]",
      "text/plain": [
       "<Figure size 432x288 with 1 Axes>"
      ]
     },
     "metadata": {
      "needs_background": "light"
     },
     "output_type": "display_data"
    }
   ],
   "source": [
    "# plot metrics\n",
    "plt.plot(history_vgg16s.history['rmse'])\n",
    "plt.plot(history_vgg16s.history['val_rmse'])\n",
    "plt.show()"
   ]
  },
  {
   "cell_type": "code",
   "execution_count": 21,
   "metadata": {},
   "outputs": [
    {
     "name": "stdout",
     "output_type": "stream",
     "text": [
      "4.279663859126724\n",
      "4.389060446870661\n"
     ]
    }
   ],
   "source": [
    "# look at final RMSE value after 10 epochs\n",
    "print(history_vgg16s.history.get('val_rmse')[-1])\n",
    "print(history_vgg16s.history.get('rmse')[-1])"
   ]
  },
  {
   "cell_type": "code",
   "execution_count": null,
   "metadata": {},
   "outputs": [],
   "source": []
  }
 ],
 "metadata": {
  "kernelspec": {
   "display_name": "Python 3",
   "language": "python",
   "name": "python3"
  },
  "language_info": {
   "codemirror_mode": {
    "name": "ipython",
    "version": 3
   },
   "file_extension": ".py",
   "mimetype": "text/x-python",
   "name": "python",
   "nbconvert_exporter": "python",
   "pygments_lexer": "ipython3",
   "version": "3.6.4"
  }
 },
 "nbformat": 4,
 "nbformat_minor": 2
}
