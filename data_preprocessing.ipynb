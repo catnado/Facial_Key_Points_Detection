{
 "cells": [
  {
   "cell_type": "code",
   "execution_count": 1,
   "metadata": {},
   "outputs": [
    {
     "name": "stderr",
     "output_type": "stream",
     "text": [
      "/anaconda3/lib/python3.6/site-packages/h5py/__init__.py:36: FutureWarning: Conversion of the second argument of issubdtype from `float` to `np.floating` is deprecated. In future, it will be treated as `np.float64 == np.dtype(float).type`.\n",
      "  from ._conv import register_converters as _register_converters\n",
      "Using TensorFlow backend.\n"
     ]
    }
   ],
   "source": [
    "import pandas as pd\n",
    "import numpy as np\n",
    "np.random.seed(123)  # for reproducibility\n",
    " \n",
    "from keras.models import Sequential\n",
    "from keras.layers import Dense, Dropout, Activation, Flatten\n",
    "from keras.layers import Conv2D, MaxPooling2D, ZeroPadding2D\n",
    "from keras.utils import np_utils\n",
    "from keras import backend as K\n",
    "import tensorflow as tf\n",
    "\n",
    "from scipy.ndimage import rotate\n",
    "\n",
    "from matplotlib import pyplot as plt\n",
    "%matplotlib inline"
   ]
  },
  {
   "cell_type": "code",
   "execution_count": 2,
   "metadata": {},
   "outputs": [
    {
     "data": {
      "text/plain": [
       "[]"
      ]
     },
     "execution_count": 2,
     "metadata": {},
     "output_type": "execute_result"
    }
   ],
   "source": [
    "K.tensorflow_backend._get_available_gpus()"
   ]
  },
  {
   "cell_type": "code",
   "execution_count": 3,
   "metadata": {},
   "outputs": [],
   "source": [
    "sess = tf.Session(config=tf.ConfigProto(log_device_placement=True))"
   ]
  },
  {
   "cell_type": "code",
   "execution_count": 4,
   "metadata": {},
   "outputs": [
    {
     "data": {
      "text/plain": [
       "(7049, 31)"
      ]
     },
     "execution_count": 4,
     "metadata": {},
     "output_type": "execute_result"
    }
   ],
   "source": [
    "# read in data\n",
    "training = pd.read_csv(\"all/training.csv\")\n",
    "training.shape"
   ]
  },
  {
   "cell_type": "code",
   "execution_count": 5,
   "metadata": {
    "scrolled": false
   },
   "outputs": [
    {
     "data": {
      "text/plain": [
       "Index(['left_eye_center_x', 'left_eye_center_y', 'right_eye_center_x',\n",
       "       'right_eye_center_y', 'left_eye_inner_corner_x',\n",
       "       'left_eye_inner_corner_y', 'left_eye_outer_corner_x',\n",
       "       'left_eye_outer_corner_y', 'right_eye_inner_corner_x',\n",
       "       'right_eye_inner_corner_y', 'right_eye_outer_corner_x',\n",
       "       'right_eye_outer_corner_y', 'left_eyebrow_inner_end_x',\n",
       "       'left_eyebrow_inner_end_y', 'left_eyebrow_outer_end_x',\n",
       "       'left_eyebrow_outer_end_y', 'right_eyebrow_inner_end_x',\n",
       "       'right_eyebrow_inner_end_y', 'right_eyebrow_outer_end_x',\n",
       "       'right_eyebrow_outer_end_y', 'nose_tip_x', 'nose_tip_y',\n",
       "       'mouth_left_corner_x', 'mouth_left_corner_y', 'mouth_right_corner_x',\n",
       "       'mouth_right_corner_y', 'mouth_center_top_lip_x',\n",
       "       'mouth_center_top_lip_y', 'mouth_center_bottom_lip_x',\n",
       "       'mouth_center_bottom_lip_y', 'Image'],\n",
       "      dtype='object')"
      ]
     },
     "execution_count": 5,
     "metadata": {},
     "output_type": "execute_result"
    }
   ],
   "source": [
    "training.columns"
   ]
  },
  {
   "cell_type": "markdown",
   "metadata": {},
   "source": [
    "# Data Validation \n",
    "## Check missing distributions"
   ]
  },
  {
   "cell_type": "code",
   "execution_count": 4,
   "metadata": {},
   "outputs": [],
   "source": [
    "# check missing distribution\n",
    "check1 = pd.isnull(training)\n",
    "check2 = check1.groupby(list(check1.columns[:-1]))['Image'].value_counts().to_dict()"
   ]
  },
  {
   "cell_type": "code",
   "execution_count": 5,
   "metadata": {
    "scrolled": false
   },
   "outputs": [
    {
     "name": "stdout",
     "output_type": "stream",
     "text": [
      "0 : 2140\n",
      "1 : 13\n",
      "2 : 3\n",
      "3 : 4\n",
      "4 : 3\n",
      "5 : 1\n",
      "6 : 3\n",
      "7 : 26\n",
      "8 : 1\n",
      "9 : 1\n",
      "10 : 2\n",
      "11 : 31\n",
      "12 : 1\n",
      "13 : 2\n",
      "14 : 6\n",
      "15 : 1\n",
      "16 : 2\n",
      "17 : 1\n",
      "18 : 3\n",
      "19 : 1\n",
      "20 : 1\n",
      "21 : 2\n",
      "22 : 1\n",
      "23 : 1\n",
      "24 : 1\n",
      "25 : 4\n",
      "26 : 2\n",
      "27 : 1\n",
      "28 : 1\n",
      "29 : 1\n",
      "30 : 2\n",
      "31 : 1\n",
      "32 : 3\n",
      "33 : 2\n",
      "34 : 4755\n",
      "35 : 10\n",
      "36 : 1\n",
      "37 : 3\n",
      "38 : 1\n",
      "39 : 1\n",
      "40 : 1\n",
      "41 : 1\n",
      "42 : 1\n",
      "43 : 1\n",
      "44 : 1\n",
      "45 : 1\n",
      "46 : 1\n",
      "47 : 1\n",
      "48 : 1\n",
      "49 : 1\n"
     ]
    }
   ],
   "source": [
    "check3 = list(check1.groupby(list(check1.columns[:-1]))['Image'].count())\n",
    "for i in range(len(check3)):\n",
    "    print(i, \":\", check3[i])"
   ]
  },
  {
   "cell_type": "code",
   "execution_count": 6,
   "metadata": {
    "scrolled": false
   },
   "outputs": [
    {
     "name": "stdout",
     "output_type": "stream",
     "text": [
      "0 False : left_eye_center_x\n",
      "1 False : left_eye_center_y\n",
      "2 False : right_eye_center_x\n",
      "3 False : right_eye_center_y\n",
      "4 False : left_eye_inner_corner_x\n",
      "5 False : left_eye_inner_corner_y\n",
      "6 False : left_eye_outer_corner_x\n",
      "7 False : left_eye_outer_corner_y\n",
      "8 False : right_eye_inner_corner_x\n",
      "9 False : right_eye_inner_corner_y\n",
      "10 False : right_eye_outer_corner_x\n",
      "11 False : right_eye_outer_corner_y\n",
      "12 False : left_eyebrow_inner_end_x\n",
      "13 False : left_eyebrow_inner_end_y\n",
      "14 False : left_eyebrow_outer_end_x\n",
      "15 False : left_eyebrow_outer_end_y\n",
      "16 False : right_eyebrow_inner_end_x\n",
      "17 False : right_eyebrow_inner_end_y\n",
      "18 False : right_eyebrow_outer_end_x\n",
      "19 False : right_eyebrow_outer_end_y\n",
      "20 False : nose_tip_x\n",
      "21 False : nose_tip_y\n",
      "22 True : mouth_left_corner_x\n",
      "23 True : mouth_left_corner_y\n",
      "24 True : mouth_right_corner_x\n",
      "25 True : mouth_right_corner_y\n",
      "26 True : mouth_center_top_lip_x\n",
      "27 True : mouth_center_top_lip_y\n",
      "28 True : mouth_center_bottom_lip_x\n",
      "29 True : mouth_center_bottom_lip_y\n",
      "30 False : Image\n"
     ]
    }
   ],
   "source": [
    "case = 6\n",
    "for i in range(len(list(check2.items())[case][0])):\n",
    "    print(i, list(check2.items())[case][0][i], \":\", list(check1.columns)[i])"
   ]
  },
  {
   "cell_type": "markdown",
   "metadata": {},
   "source": [
    "## Data Validation Findings\n",
    "\n",
    "**2140 obs are non-missing (case 0)**\n",
    "\n",
    "**4755 obs only have 8 non-missing key points (case 34)**\n",
    "* False : left_eye_center_x\n",
    "* False : left_eye_center_y\n",
    "* False : right_eye_center_x\n",
    "* False : right_eye_center_y\n",
    "* False : nose_tip_x\n",
    "* False : nose_tip_y\n",
    "* False : mouth_center_bottom_lip_x\n",
    "* False : mouth_center_bottom_lip_y\n",
    "    \n",
    "**31 obs only missing left_eyebrow_outer_end (case 11)**\n",
    "* True : left_eyebrow_outer_end_x\n",
    "* True : left_eyebrow_outer_end_y\n",
    "\n",
    "**26 obs only missing right_eyebrow_outer_end (case 7)**\n",
    "* True : right_eyebrow_outer_end_x\n",
    "* True : right_eyebrow_outer_end_y\n",
    "\n",
    "**13 obs only missing mouth_center_bottom_lip (case 1)**\n",
    "* True : mouth_center_bottom_lip_x\n",
    "* True : mouth_center_bottom_lip_y\n",
    "\n",
    "**10 obs only have the following non-missing key points (case 35)**\n",
    "* False : left_eye_center_x\n",
    "* False : left_eye_center_y\n",
    "* False : right_eye_center_x\n",
    "* False : right_eye_center_y\n",
    "* False : nose_tip_x\n",
    "* False : nose_tip_y\n",
    "\n",
    "**74 remaining obs have various missing points**"
   ]
  },
  {
   "cell_type": "markdown",
   "metadata": {},
   "source": [
    "## Data Validation Decisions"
   ]
  },
  {
   "cell_type": "markdown",
   "metadata": {},
   "source": [
    "Build two models, each to predict the following key points:\n",
    "\n",
    "**Model 1:**\n",
    "number of non-missing observations: 7000\n",
    "* left_eye_center\n",
    "* right_eye_center\n",
    "* nose_tip\n",
    "* mouth_center_bottom_lip\n",
    "\n",
    "**Model 2:**\n",
    "number of non-missing observations: 2155\n",
    "* left_eye_inner_corner\n",
    "* left_eye_outer_corner\n",
    "* right_eye_inner_corner\n",
    "* right_eye_outer_corner\n",
    "\n",
    "* left_eyebrow_inner_end\n",
    "* left_eyebrow_outer_end\n",
    "* right_eyebrow_inner_end\n",
    "* right_eyebrow_outer_end\n",
    "\n",
    "* mouth_left_corner\n",
    "* mouth_right_corner\n",
    "* mouth_center_top_lip"
   ]
  },
  {
   "cell_type": "code",
   "execution_count": 10,
   "metadata": {},
   "outputs": [
    {
     "name": "stdout",
     "output_type": "stream",
     "text": [
      "(7049, 8)\n",
      "(7000, 8)\n"
     ]
    }
   ],
   "source": [
    "# how many data points would we have?\n",
    "points = [0, 1, 2, 3, 20, 21, 28, 29]\n",
    "model = training.iloc[:, points]\n",
    "print(model.shape)\n",
    "model_nonmiss = model[~np.isnan(model).any(axis=1)]\n",
    "print(model_nonmiss.shape)"
   ]
  },
  {
   "cell_type": "code",
   "execution_count": 11,
   "metadata": {},
   "outputs": [
    {
     "name": "stdout",
     "output_type": "stream",
     "text": [
      "(7049, 22)\n",
      "(2155, 22)\n"
     ]
    }
   ],
   "source": [
    "points = list(range(4,20)) + list(range(22,28))\n",
    "model = training.iloc[:, points]\n",
    "print(model.shape)\n",
    "model_nonmiss = model[~np.isnan(model).any(axis=1)]\n",
    "print(model_nonmiss.shape)"
   ]
  },
  {
   "cell_type": "markdown",
   "metadata": {},
   "source": [
    "# Data Preprocessing\n",
    "## Split training and validation"
   ]
  },
  {
   "cell_type": "code",
   "execution_count": 5,
   "metadata": {},
   "outputs": [],
   "source": [
    "# shuffle dataset\n",
    "np.random.seed(666)\n",
    "shuffle = np.random.permutation(np.arange(training.shape[0]))\n",
    "training2 = training.iloc[shuffle].reset_index(drop=True)\n",
    "\n",
    "# split out image values\n",
    "image = []\n",
    "for i in range(training2.shape[0]):\n",
    "    img = training2['Image'][i].split(' ')\n",
    "    img = ['0' if j == '' else j for j in img]\n",
    "    image.append(img)"
   ]
  },
  {
   "cell_type": "code",
   "execution_count": 6,
   "metadata": {},
   "outputs": [
    {
     "name": "stdout",
     "output_type": "stream",
     "text": [
      "(5640, 9216) (1409, 9216)\n",
      "(5640, 30) (1409, 30)\n"
     ]
    }
   ],
   "source": [
    "# create training and validation set (80/20 split)\n",
    "X = np.array(image, dtype = 'float')\n",
    "X_train, X_val = X[:5640], X[5640:]\n",
    "print(X_train.shape, X_val.shape)\n",
    "\n",
    "# create training and validation labels (80/20 split)\n",
    "labels = training2.drop('Image', axis=1)\n",
    "y = np.array(labels, dtype = 'float')\n",
    "y_train, y_val = y[:5640], y[5640:]\n",
    "print(y_train.shape, y_val.shape)"
   ]
  },
  {
   "cell_type": "markdown",
   "metadata": {},
   "source": [
    "## Apply transformations"
   ]
  },
  {
   "cell_type": "markdown",
   "metadata": {},
   "source": [
    "### 1. Mirroring"
   ]
  },
  {
   "cell_type": "code",
   "execution_count": 22,
   "metadata": {},
   "outputs": [],
   "source": [
    "# define mirror functions\n",
    "def mirror_X(input_X):\n",
    "    return input_X.reshape(-1,96,96)[:, :, list(range(95, -1, -1))].reshape(-1, 96*96)\n",
    "    \n",
    "def mirror_y(input_y, n_point):\n",
    "    output_y = input_y.copy()\n",
    "    # y coordinate stays the same, x coordinate is 96-x\n",
    "    output_y[:,list(range(0,n_point-1,2))] = 95 - input_y[:,list(range(0,n_point-1,2))]\n",
    "    return output_y"
   ]
  },
  {
   "cell_type": "code",
   "execution_count": 23,
   "metadata": {},
   "outputs": [],
   "source": [
    "# transform\n",
    "X_train_mirror = mirror_X(X_train)\n",
    "y_train_mirror = mirror_y(y_train, 30)\n",
    "# X_val_mirror = mirror_X(X_val)\n",
    "# y_val_mirror = mirror_y(y_val, 30)"
   ]
  },
  {
   "cell_type": "code",
   "execution_count": 24,
   "metadata": {
    "scrolled": false
   },
   "outputs": [
    {
     "data": {
      "image/png": "[encoded data removed]",
      "text/plain": [
       "<Figure size 432x288 with 1 Axes>"
      ]
     },
     "metadata": {},
     "output_type": "display_data"
    },
    {
     "data": {
      "image/png": "[encoded data removed]",
      "text/plain": [
       "<Figure size 432x288 with 1 Axes>"
      ]
     },
     "metadata": {},
     "output_type": "display_data"
    }
   ],
   "source": [
    "# check image\n",
    "i=13\n",
    "plt.imshow(X_train[i].reshape(96,96),cmap='gray', vmin=0, vmax=255)\n",
    "plt.scatter(y_train[i, range(0, 30, 2)], y_train[i, range(1, 30, 2)], s=5, color='r')\n",
    "plt.show()\n",
    "\n",
    "plt.imshow(X_train_mirror[i].reshape(96,96),cmap='gray', vmin=0, vmax=255)\n",
    "plt.scatter(y_train_mirror[i, range(0, 30, 2)], y_train_mirror[i, range(1, 30, 2)], s=5, color='r')\n",
    "plt.show()"
   ]
  },
  {
   "cell_type": "markdown",
   "metadata": {},
   "source": [
    "### 2. Rotating"
   ]
  },
  {
   "cell_type": "code",
   "execution_count": 25,
   "metadata": {},
   "outputs": [],
   "source": [
    "# mirror function to transform X\n",
    "def rotate_X(input_X, degree):\n",
    "    \n",
    "    # create an array of the same size\n",
    "    output_X = np.zeros((input_X.shape), dtype=np.float64)\n",
    "    \n",
    "    # for each image, use sklearn's rotate function to rotate image\n",
    "    # this somehow changes pixel values, cap value between 0 and 255\n",
    "    for i in range(output_X.shape[0]):\n",
    "        output_X[i] = np.clip(rotate(input_X.reshape(-1,96,96)[i], degree, reshape=False, mode='constant', \\\n",
    "                                       cval=150).reshape(96*96), 0, 255)  \n",
    "    return output_X\n",
    "        \n",
    "    \n",
    "# mirror function to transform y\n",
    "def rotate_y(input_y, degree, n_point):\n",
    "    \n",
    "    # create an array of same size\n",
    "    output_y = np.zeros((input_y.shape), dtype=np.float64)\n",
    "    \n",
    "    # define rotation angle and center of rotation\n",
    "    theta = np.radians(degree)\n",
    "    center_x = 95/2\n",
    "    center_y = 95/2\n",
    "\n",
    "    for i in range(output_y.shape[0]):\n",
    "        \n",
    "        # obtain x and y coordinates from dataset\n",
    "        x = input_y[i][np.arange(0,n_point-1,2)]\n",
    "        y = input_y[i][np.arange(1,n_point,2)]\n",
    "        \n",
    "        # use rotation matrix to rotate coordinates around center\n",
    "        x2 = np.cos(theta) * (x - center_x) + np.sin(theta) * (y - center_y) + center_x\n",
    "        y2 = -np.sin(theta) * (x - center_x) + np.cos(theta) * (y - center_y) + center_y\n",
    "        \n",
    "        # put x and y back in original shape\n",
    "        output_y[i] = np.vstack((x2,y2)).transpose().flatten()\n",
    "        \n",
    "    return output_y"
   ]
  },
  {
   "cell_type": "code",
   "execution_count": 27,
   "metadata": {},
   "outputs": [],
   "source": [
    "# transform\n",
    "X_train_rotate = rotate_X(X_train, -15)\n",
    "y_train_rotate = rotate_y(y_train, -15, 30)\n",
    "# X_val_rotate = rotate_X(X_train, -15)\n",
    "# y_val_rotate = rotate_y(y_train, -15)"
   ]
  },
  {
   "cell_type": "code",
   "execution_count": 28,
   "metadata": {
    "scrolled": false
   },
   "outputs": [
    {
     "data": {
      "image/png": "[encoded data removed]",
      "text/plain": [
       "<Figure size 432x288 with 1 Axes>"
      ]
     },
     "metadata": {},
     "output_type": "display_data"
    },
    {
     "data": {
      "image/png": "[encoded data removed]",
      "text/plain": [
       "<Figure size 432x288 with 1 Axes>"
      ]
     },
     "metadata": {},
     "output_type": "display_data"
    }
   ],
   "source": [
    "# check image\n",
    "i=13\n",
    "\n",
    "plt.imshow(X_train[i].reshape(96,96),cmap='gray', vmin=0, vmax=255)\n",
    "plt.scatter(y_train[i, range(0, 30, 2)], y_train[i, range(1, 30, 2)], s=5, color='r')\n",
    "plt.show()\n",
    "\n",
    "plt.imshow(X_train_rotate[i].reshape(96,96),cmap='gray', vmin=0, vmax=255)\n",
    "plt.scatter(y_train_rotate[i, range(0, 30, 2)], y_train_rotate[i, range(1, 30, 2)], s=5, color='r')\n",
    "plt.show()"
   ]
  },
  {
   "cell_type": "markdown",
   "metadata": {},
   "source": [
    "### 3. Contrast Reduction"
   ]
  },
  {
   "cell_type": "code",
   "execution_count": 30,
   "metadata": {},
   "outputs": [],
   "source": [
    "# define function - only need to transform X\n",
    "def reduce_contrast(input_X, weight):\n",
    "    return (weight * input_X) + (1 - weight) * input_X.mean()"
   ]
  },
  {
   "cell_type": "code",
   "execution_count": 31,
   "metadata": {},
   "outputs": [],
   "source": [
    "# transform\n",
    "X_train_contrast = reduce_contrast(X_train, 0.7)\n",
    "# X_val_contrast = reduce_contrast(X_val, 0.7)"
   ]
  },
  {
   "cell_type": "code",
   "execution_count": 32,
   "metadata": {},
   "outputs": [
    {
     "data": {
      "image/png": "[encoded data removed]",
      "text/plain": [
       "<Figure size 432x288 with 1 Axes>"
      ]
     },
     "metadata": {},
     "output_type": "display_data"
    },
    {
     "data": {
      "image/png": "[encoded data removed]",
      "text/plain": [
       "<Figure size 432x288 with 1 Axes>"
      ]
     },
     "metadata": {},
     "output_type": "display_data"
    }
   ],
   "source": [
    "# check image\n",
    "i=13\n",
    "\n",
    "plt.imshow(X_train[i].reshape(96,96),cmap='gray', vmin=0, vmax=255)\n",
    "plt.scatter(y_train[i, range(0, 30, 2)], y_train[i, range(1, 30, 2)], s=5, color='r')\n",
    "plt.show()\n",
    "\n",
    "plt.imshow(X_train_contrast[i].reshape(96,96),cmap='gray', vmin=0, vmax=255)\n",
    "plt.scatter(y_train[i, range(0, 30, 2)], y_train[i, range(1, 30, 2)], s=5, color='r')\n",
    "plt.show()"
   ]
  },
  {
   "cell_type": "markdown",
   "metadata": {},
   "source": [
    "# Modeling"
   ]
  },
  {
   "cell_type": "markdown",
   "metadata": {},
   "source": [
    "## Test data augmentation\n",
    "### 0. Baseline"
   ]
  },
  {
   "cell_type": "code",
   "execution_count": 33,
   "metadata": {},
   "outputs": [
    {
     "name": "stdout",
     "output_type": "stream",
     "text": [
      "(5603, 9216)\n",
      "(5603, 8)\n",
      "(1397, 9216)\n",
      "(1397, 8)\n"
     ]
    }
   ],
   "source": [
    "# test on model 1 with 8 points, prep data\n",
    "\n",
    "# filter labels on only those 8 points\n",
    "points = [0, 1, 2, 3, 20, 21, 28, 29]\n",
    "y_train_model1 = y_train[:, points]\n",
    "y_val_model1 = y_val[:, points]\n",
    "\n",
    "# get index of non-missing labels\n",
    "index_train = ~np.isnan(y_train_model1).any(axis=1)\n",
    "index_val = ~np.isnan(y_val_model1).any(axis=1)\n",
    "\n",
    "# filter out missing labels on training and validation data\n",
    "X_train_nm = X_train[index_train]\n",
    "y_train_nm = y_train_model1[index_train]\n",
    "X_val_nm = X_val[index_val]\n",
    "y_val_nm = y_val_model1[index_val]\n",
    "\n",
    "print(X_train_nm.shape)\n",
    "print(y_train_nm.shape)\n",
    "print(X_val_nm.shape)\n",
    "print(y_val_nm.shape)"
   ]
  },
  {
   "cell_type": "code",
   "execution_count": 18,
   "metadata": {},
   "outputs": [],
   "source": [
    "# define simple CNN model with 3 conv layers and 2 fully connected layers\n",
    "def SimpleModel_1(weights_path=None):\n",
    "    model = Sequential()\n",
    "    model.add(Conv2D(32, (3, 3), strides=(1,1), activation='relu', input_shape=(96,96,1), \\\n",
    "                     data_format='channels_last'))\n",
    "    model.add(Conv2D(16, (3, 3), strides=(1,1), activation='relu'))\n",
    "    model.add(Flatten())\n",
    "    model.add(Dense(100, activation='relu'))\n",
    "    model.add(Dense(8))\n",
    "\n",
    "    if weights_path:\n",
    "        model.load_weights(weights_path)\n",
    "\n",
    "    return model\n",
    "\n",
    "# define RMSE\n",
    "def rmse (y_true, y_pred):\n",
    "    return K.sqrt(K.mean(K.square(y_pred - y_true)))"
   ]
  },
  {
   "cell_type": "code",
   "execution_count": 20,
   "metadata": {
    "scrolled": true
   },
   "outputs": [
    {
     "name": "stdout",
     "output_type": "stream",
     "text": [
      "Train on 5603 samples, validate on 1397 samples\n",
      "Epoch 1/50\n",
      " - 4s - loss: 19.4386 - rmse: 19.4386 - mean_absolute_error: 15.6785 - mean_absolute_percentage_error: 30.7632 - val_loss: 11.5144 - val_rmse: 11.5144 - val_mean_absolute_error: 8.9083 - val_mean_absolute_percentage_error: 18.2117\n",
      "Epoch 2/50\n",
      " - 2s - loss: 11.8244 - rmse: 11.8244 - mean_absolute_error: 9.1873 - mean_absolute_percentage_error: 18.2008 - val_loss: 13.5408 - val_rmse: 13.5408 - val_mean_absolute_error: 10.8023 - val_mean_absolute_percentage_error: 21.3023\n",
      "Epoch 3/50\n",
      " - 2s - loss: 11.4275 - rmse: 11.4275 - mean_absolute_error: 8.9408 - mean_absolute_percentage_error: 17.8049 - val_loss: 12.8248 - val_rmse: 12.8248 - val_mean_absolute_error: 10.0954 - val_mean_absolute_percentage_error: 20.7443\n",
      "Epoch 4/50\n",
      " - 2s - loss: 11.1962 - rmse: 11.1962 - mean_absolute_error: 8.7720 - mean_absolute_percentage_error: 17.4290 - val_loss: 10.7316 - val_rmse: 10.7316 - val_mean_absolute_error: 8.4852 - val_mean_absolute_percentage_error: 17.5434\n",
      "Epoch 5/50\n",
      " - 2s - loss: 10.5896 - rmse: 10.5896 - mean_absolute_error: 8.2886 - mean_absolute_percentage_error: 16.4925 - val_loss: 9.4380 - val_rmse: 9.4380 - val_mean_absolute_error: 7.2026 - val_mean_absolute_percentage_error: 14.7723\n",
      "Epoch 6/50\n",
      " - 2s - loss: 10.0985 - rmse: 10.0985 - mean_absolute_error: 7.8751 - mean_absolute_percentage_error: 15.6868 - val_loss: 10.6498 - val_rmse: 10.6498 - val_mean_absolute_error: 8.0640 - val_mean_absolute_percentage_error: 16.2292\n",
      "Epoch 7/50\n",
      " - 2s - loss: 9.5263 - rmse: 9.5263 - mean_absolute_error: 7.4132 - mean_absolute_percentage_error: 14.8144 - val_loss: 11.8157 - val_rmse: 11.8157 - val_mean_absolute_error: 9.2417 - val_mean_absolute_percentage_error: 19.9765\n",
      "Epoch 8/50\n",
      " - 2s - loss: 9.8627 - rmse: 9.8627 - mean_absolute_error: 7.7389 - mean_absolute_percentage_error: 15.4216 - val_loss: 16.0722 - val_rmse: 16.0722 - val_mean_absolute_error: 12.5329 - val_mean_absolute_percentage_error: 24.7945\n",
      "Epoch 9/50\n",
      " - 2s - loss: 7.6208 - rmse: 7.6208 - mean_absolute_error: 5.8661 - mean_absolute_percentage_error: 11.7105 - val_loss: 12.5125 - val_rmse: 12.5125 - val_mean_absolute_error: 9.6083 - val_mean_absolute_percentage_error: 19.2493\n",
      "Epoch 10/50\n",
      " - 2s - loss: 8.3236 - rmse: 8.3236 - mean_absolute_error: 6.5468 - mean_absolute_percentage_error: 13.0731 - val_loss: 9.7590 - val_rmse: 9.7590 - val_mean_absolute_error: 7.3402 - val_mean_absolute_percentage_error: 14.9913\n",
      "Epoch 11/50\n",
      " - 2s - loss: 7.0509 - rmse: 7.0509 - mean_absolute_error: 5.4746 - mean_absolute_percentage_error: 10.9576 - val_loss: 8.3908 - val_rmse: 8.3908 - val_mean_absolute_error: 6.2901 - val_mean_absolute_percentage_error: 13.0137\n",
      "Epoch 12/50\n",
      " - 2s - loss: 6.1481 - rmse: 6.1481 - mean_absolute_error: 4.7593 - mean_absolute_percentage_error: 9.5584 - val_loss: 6.8938 - val_rmse: 6.8938 - val_mean_absolute_error: 5.1414 - val_mean_absolute_percentage_error: 10.7384\n",
      "Epoch 13/50\n",
      " - 2s - loss: 6.0751 - rmse: 6.0751 - mean_absolute_error: 4.7495 - mean_absolute_percentage_error: 9.5218 - val_loss: 8.4315 - val_rmse: 8.4315 - val_mean_absolute_error: 6.8288 - val_mean_absolute_percentage_error: 13.6756\n",
      "Epoch 14/50\n",
      " - 2s - loss: 5.3272 - rmse: 5.3272 - mean_absolute_error: 4.1594 - mean_absolute_percentage_error: 8.3762 - val_loss: 6.2307 - val_rmse: 6.2307 - val_mean_absolute_error: 4.7435 - val_mean_absolute_percentage_error: 9.9078\n",
      "Epoch 15/50\n",
      " - 2s - loss: 4.8270 - rmse: 4.8270 - mean_absolute_error: 3.7481 - mean_absolute_percentage_error: 7.5682 - val_loss: 11.4347 - val_rmse: 11.4347 - val_mean_absolute_error: 8.9153 - val_mean_absolute_percentage_error: 17.8175\n",
      "Epoch 16/50\n",
      " - 2s - loss: 5.6691 - rmse: 5.6691 - mean_absolute_error: 4.4954 - mean_absolute_percentage_error: 9.0733 - val_loss: 6.4422 - val_rmse: 6.4422 - val_mean_absolute_error: 4.7771 - val_mean_absolute_percentage_error: 10.0442\n",
      "Epoch 17/50\n",
      " - 2s - loss: 4.4745 - rmse: 4.4745 - mean_absolute_error: 3.4656 - mean_absolute_percentage_error: 7.0426 - val_loss: 11.8737 - val_rmse: 11.8737 - val_mean_absolute_error: 10.0260 - val_mean_absolute_percentage_error: 21.1011\n",
      "Epoch 18/50\n",
      " - 2s - loss: 4.9477 - rmse: 4.9477 - mean_absolute_error: 3.9052 - mean_absolute_percentage_error: 7.8696 - val_loss: 5.9666 - val_rmse: 5.9666 - val_mean_absolute_error: 4.3139 - val_mean_absolute_percentage_error: 9.0330\n",
      "Epoch 19/50\n",
      " - 2s - loss: 3.7646 - rmse: 3.7646 - mean_absolute_error: 2.8755 - mean_absolute_percentage_error: 5.8862 - val_loss: 5.3689 - val_rmse: 5.3689 - val_mean_absolute_error: 3.9264 - val_mean_absolute_percentage_error: 8.4436\n",
      "Epoch 20/50\n",
      " - 2s - loss: 3.1882 - rmse: 3.1882 - mean_absolute_error: 2.4001 - mean_absolute_percentage_error: 4.9314 - val_loss: 5.2776 - val_rmse: 5.2776 - val_mean_absolute_error: 3.8615 - val_mean_absolute_percentage_error: 8.0631\n",
      "Epoch 21/50\n",
      " - 2s - loss: 3.6886 - rmse: 3.6886 - mean_absolute_error: 2.8881 - mean_absolute_percentage_error: 5.8675 - val_loss: 5.8401 - val_rmse: 5.8401 - val_mean_absolute_error: 4.4124 - val_mean_absolute_percentage_error: 9.8753\n",
      "Epoch 22/50\n",
      " - 2s - loss: 3.6964 - rmse: 3.6964 - mean_absolute_error: 2.8922 - mean_absolute_percentage_error: 5.8850 - val_loss: 6.4018 - val_rmse: 6.4018 - val_mean_absolute_error: 4.6938 - val_mean_absolute_percentage_error: 9.3927\n",
      "Epoch 23/50\n",
      " - 2s - loss: 3.5144 - rmse: 3.5144 - mean_absolute_error: 2.7364 - mean_absolute_percentage_error: 5.5894 - val_loss: 5.5060 - val_rmse: 5.5060 - val_mean_absolute_error: 4.0172 - val_mean_absolute_percentage_error: 8.6737\n",
      "Epoch 24/50\n",
      " - 2s - loss: 2.8507 - rmse: 2.8507 - mean_absolute_error: 2.1666 - mean_absolute_percentage_error: 4.4609 - val_loss: 5.1373 - val_rmse: 5.1373 - val_mean_absolute_error: 3.7549 - val_mean_absolute_percentage_error: 8.1852\n",
      "Epoch 25/50\n",
      " - 2s - loss: 2.9920 - rmse: 2.9920 - mean_absolute_error: 2.2956 - mean_absolute_percentage_error: 4.7767 - val_loss: 4.8721 - val_rmse: 4.8721 - val_mean_absolute_error: 3.5608 - val_mean_absolute_percentage_error: 7.5751\n",
      "Epoch 26/50\n",
      " - 2s - loss: 3.7145 - rmse: 3.7145 - mean_absolute_error: 2.9174 - mean_absolute_percentage_error: 6.0250 - val_loss: 6.5567 - val_rmse: 6.5567 - val_mean_absolute_error: 4.8773 - val_mean_absolute_percentage_error: 10.3192\n",
      "Epoch 27/50\n",
      " - 2s - loss: 3.5756 - rmse: 3.5756 - mean_absolute_error: 2.8390 - mean_absolute_percentage_error: 5.7955 - val_loss: 7.7449 - val_rmse: 7.7449 - val_mean_absolute_error: 6.0468 - val_mean_absolute_percentage_error: 12.5148\n",
      "Epoch 28/50\n",
      " - 2s - loss: 2.9584 - rmse: 2.9584 - mean_absolute_error: 2.2585 - mean_absolute_percentage_error: 4.6284 - val_loss: 7.7916 - val_rmse: 7.7916 - val_mean_absolute_error: 6.0801 - val_mean_absolute_percentage_error: 12.4255\n",
      "Epoch 29/50\n",
      " - 2s - loss: 2.6830 - rmse: 2.6830 - mean_absolute_error: 2.0567 - mean_absolute_percentage_error: 4.2511 - val_loss: 6.5141 - val_rmse: 6.5141 - val_mean_absolute_error: 4.9783 - val_mean_absolute_percentage_error: 10.7119\n",
      "Epoch 30/50\n",
      " - 2s - loss: 3.0503 - rmse: 3.0503 - mean_absolute_error: 2.3980 - mean_absolute_percentage_error: 4.9289 - val_loss: 6.1937 - val_rmse: 6.1937 - val_mean_absolute_error: 4.6360 - val_mean_absolute_percentage_error: 9.9255\n",
      "Epoch 31/50\n",
      " - 2s - loss: 3.1387 - rmse: 3.1387 - mean_absolute_error: 2.4602 - mean_absolute_percentage_error: 5.0516 - val_loss: 5.2805 - val_rmse: 5.2805 - val_mean_absolute_error: 3.8087 - val_mean_absolute_percentage_error: 8.1883\n",
      "Epoch 32/50\n",
      " - 2s - loss: 2.8604 - rmse: 2.8604 - mean_absolute_error: 2.2296 - mean_absolute_percentage_error: 4.6017 - val_loss: 8.7142 - val_rmse: 8.7142 - val_mean_absolute_error: 6.8965 - val_mean_absolute_percentage_error: 13.8765\n",
      "Epoch 33/50\n",
      " - 2s - loss: 3.3188 - rmse: 3.3188 - mean_absolute_error: 2.6062 - mean_absolute_percentage_error: 5.3270 - val_loss: 7.9985 - val_rmse: 7.9985 - val_mean_absolute_error: 6.3215 - val_mean_absolute_percentage_error: 13.1158\n",
      "Epoch 34/50\n",
      " - 2s - loss: 3.1803 - rmse: 3.1803 - mean_absolute_error: 2.5032 - mean_absolute_percentage_error: 5.1795 - val_loss: 6.8371 - val_rmse: 6.8371 - val_mean_absolute_error: 5.2189 - val_mean_absolute_percentage_error: 10.8953\n",
      "Epoch 35/50\n",
      " - 2s - loss: 2.9558 - rmse: 2.9558 - mean_absolute_error: 2.3086 - mean_absolute_percentage_error: 4.7936 - val_loss: 5.3297 - val_rmse: 5.3297 - val_mean_absolute_error: 4.0063 - val_mean_absolute_percentage_error: 8.8627\n"
     ]
    },
    {
     "name": "stdout",
     "output_type": "stream",
     "text": [
      "Epoch 36/50\n",
      " - 2s - loss: 3.2717 - rmse: 3.2717 - mean_absolute_error: 2.5604 - mean_absolute_percentage_error: 5.2970 - val_loss: 5.6395 - val_rmse: 5.6395 - val_mean_absolute_error: 4.4047 - val_mean_absolute_percentage_error: 9.5660\n",
      "Epoch 37/50\n",
      " - 2s - loss: 2.9781 - rmse: 2.9781 - mean_absolute_error: 2.3110 - mean_absolute_percentage_error: 4.8096 - val_loss: 5.6279 - val_rmse: 5.6279 - val_mean_absolute_error: 4.3725 - val_mean_absolute_percentage_error: 9.4101\n",
      "Epoch 38/50\n",
      " - 2s - loss: 2.6365 - rmse: 2.6365 - mean_absolute_error: 2.0161 - mean_absolute_percentage_error: 4.2331 - val_loss: 5.8778 - val_rmse: 5.8778 - val_mean_absolute_error: 4.6104 - val_mean_absolute_percentage_error: 10.1669\n",
      "Epoch 39/50\n",
      " - 2s - loss: 3.0828 - rmse: 3.0828 - mean_absolute_error: 2.4250 - mean_absolute_percentage_error: 5.0158 - val_loss: 6.1607 - val_rmse: 6.1607 - val_mean_absolute_error: 4.7863 - val_mean_absolute_percentage_error: 10.2845\n",
      "Epoch 40/50\n",
      " - 2s - loss: 2.6029 - rmse: 2.6029 - mean_absolute_error: 2.0045 - mean_absolute_percentage_error: 4.2212 - val_loss: 5.3455 - val_rmse: 5.3455 - val_mean_absolute_error: 4.0896 - val_mean_absolute_percentage_error: 9.1392\n",
      "Epoch 41/50\n",
      " - 2s - loss: 2.3176 - rmse: 2.3176 - mean_absolute_error: 1.7476 - mean_absolute_percentage_error: 3.6729 - val_loss: 5.3263 - val_rmse: 5.3263 - val_mean_absolute_error: 4.0657 - val_mean_absolute_percentage_error: 8.8815\n",
      "Epoch 42/50\n",
      " - 2s - loss: 2.9484 - rmse: 2.9484 - mean_absolute_error: 2.2981 - mean_absolute_percentage_error: 4.7446 - val_loss: 5.4409 - val_rmse: 5.4409 - val_mean_absolute_error: 4.1446 - val_mean_absolute_percentage_error: 8.9334\n",
      "Epoch 43/50\n",
      " - 2s - loss: 2.9256 - rmse: 2.9256 - mean_absolute_error: 2.2559 - mean_absolute_percentage_error: 4.6858 - val_loss: 5.6857 - val_rmse: 5.6857 - val_mean_absolute_error: 4.4385 - val_mean_absolute_percentage_error: 9.5247\n",
      "Epoch 44/50\n",
      " - 2s - loss: 2.8284 - rmse: 2.8284 - mean_absolute_error: 2.1879 - mean_absolute_percentage_error: 4.5343 - val_loss: 5.4315 - val_rmse: 5.4315 - val_mean_absolute_error: 4.1674 - val_mean_absolute_percentage_error: 8.9496\n",
      "Epoch 45/50\n",
      " - 2s - loss: 2.7841 - rmse: 2.7841 - mean_absolute_error: 2.1334 - mean_absolute_percentage_error: 4.4350 - val_loss: 5.8540 - val_rmse: 5.8540 - val_mean_absolute_error: 4.4087 - val_mean_absolute_percentage_error: 9.1235\n",
      "Epoch 46/50\n",
      " - 2s - loss: 3.1778 - rmse: 3.1778 - mean_absolute_error: 2.4480 - mean_absolute_percentage_error: 5.0449 - val_loss: 7.1244 - val_rmse: 7.1244 - val_mean_absolute_error: 5.5747 - val_mean_absolute_percentage_error: 11.2135\n",
      "Epoch 47/50\n",
      " - 2s - loss: 2.8757 - rmse: 2.8757 - mean_absolute_error: 2.1985 - mean_absolute_percentage_error: 4.5298 - val_loss: 5.9633 - val_rmse: 5.9633 - val_mean_absolute_error: 4.6525 - val_mean_absolute_percentage_error: 9.7257\n",
      "Epoch 48/50\n",
      " - 2s - loss: 2.4948 - rmse: 2.4948 - mean_absolute_error: 1.9051 - mean_absolute_percentage_error: 3.9488 - val_loss: 5.3914 - val_rmse: 5.3914 - val_mean_absolute_error: 4.0496 - val_mean_absolute_percentage_error: 8.5972\n",
      "Epoch 49/50\n",
      " - 2s - loss: 2.5119 - rmse: 2.5119 - mean_absolute_error: 1.9231 - mean_absolute_percentage_error: 4.0219 - val_loss: 6.3305 - val_rmse: 6.3305 - val_mean_absolute_error: 4.8666 - val_mean_absolute_percentage_error: 9.7114\n",
      "Epoch 50/50\n",
      " - 2s - loss: 3.0302 - rmse: 3.0302 - mean_absolute_error: 2.3437 - mean_absolute_percentage_error: 4.8541 - val_loss: 6.5007 - val_rmse: 6.5007 - val_mean_absolute_error: 5.0287 - val_mean_absolute_percentage_error: 9.9907\n",
      "Wall time: 1min 40s\n"
     ]
    }
   ],
   "source": [
    "# compile and fit model\n",
    "model = SimpleModel_1()\n",
    "model.compile(loss='mean_squared_error', optimizer='adam', metrics=[rmse, 'mae', 'mape'])\n",
    "%time history_SimpleModel_1 = model.fit(X_train_nm.reshape(-1,96,96,1), y_train_nm, \\\n",
    "                                        epochs=20, shuffle=True, batch_size=50, \\\n",
    "                                        validation_data=(X_val_nm.reshape(-1,96,96,1), y_val_nm), \\\n",
    "                                        verbose=2)"
   ]
  },
  {
   "cell_type": "code",
   "execution_count": 21,
   "metadata": {},
   "outputs": [
    {
     "data": {
      "image/png": "[encoded data removed]",
      "text/plain": [
       "<Figure size 432x288 with 1 Axes>"
      ]
     },
     "metadata": {
      "needs_background": "light"
     },
     "output_type": "display_data"
    }
   ],
   "source": [
    "# plot metrics\n",
    "print(min(history_SimpleModel_1.history['val_rmse']))\n",
    "plt.plot(history_SimpleModel_1.history['rmse'])\n",
    "plt.plot(history_SimpleModel_1.history['val_rmse'])\n",
    "plt.show()"
   ]
  },
  {
   "cell_type": "markdown",
   "metadata": {},
   "source": [
    "### 1. Test mirroring alone"
   ]
  },
  {
   "cell_type": "code",
   "execution_count": 35,
   "metadata": {},
   "outputs": [
    {
     "name": "stdout",
     "output_type": "stream",
     "text": [
      "(11206, 96, 96, 1)\n",
      "(11206, 8)\n",
      "(2794, 96, 96, 1)\n",
      "(2794, 8)\n"
     ]
    }
   ],
   "source": [
    "# test on model 1 with 8 points, prep data\n",
    "X_train_model = np.concatenate((X_train_nm, mirror_X(X_train_nm)), axis=0).reshape(-1,96,96,1)\n",
    "y_train_model = np.concatenate((y_train_nm, mirror_y(y_train_nm, 8)), axis=0)\n",
    "X_val_model = np.concatenate((X_val_nm, mirror_X(X_val_nm)), axis=0).reshape(-1,96,96,1)\n",
    "y_val_model = np.concatenate((y_val_nm, mirror_y(y_val_nm, 8)), axis=0)\n",
    "\n",
    "print(X_train_model.shape)\n",
    "print(y_train_model.shape)\n",
    "print(X_val_model.shape)\n",
    "print(y_val_model.shape)"
   ]
  },
  {
   "cell_type": "code",
   "execution_count": 33,
   "metadata": {},
   "outputs": [
    {
     "name": "stdout",
     "output_type": "stream",
     "text": [
      "Train on 5603 samples, validate on 1397 samples\n",
      "Epoch 1/50\n",
      " - 2s - loss: 18.7226 - rmse: 18.7226 - mean_absolute_error: 15.6389 - mean_absolute_percentage_error: 30.8342 - val_loss: 10.3040 - val_rmse: 10.3040 - val_mean_absolute_error: 7.8224 - val_mean_absolute_percentage_error: 15.7702\n",
      "Epoch 2/50\n",
      " - 2s - loss: 10.8421 - rmse: 10.8421 - mean_absolute_error: 8.5256 - mean_absolute_percentage_error: 16.9306 - val_loss: 14.4478 - val_rmse: 14.4478 - val_mean_absolute_error: 11.0508 - val_mean_absolute_percentage_error: 22.1457\n",
      "Epoch 3/50\n",
      " - 2s - loss: 9.2907 - rmse: 9.2907 - mean_absolute_error: 7.1595 - mean_absolute_percentage_error: 14.1738 - val_loss: 10.5202 - val_rmse: 10.5202 - val_mean_absolute_error: 8.1013 - val_mean_absolute_percentage_error: 16.7373\n",
      "Epoch 4/50\n",
      " - 2s - loss: 8.4115 - rmse: 8.4115 - mean_absolute_error: 6.5789 - mean_absolute_percentage_error: 13.0983 - val_loss: 8.4601 - val_rmse: 8.4601 - val_mean_absolute_error: 6.4417 - val_mean_absolute_percentage_error: 13.1142\n",
      "Epoch 5/50\n",
      " - 2s - loss: 6.4146 - rmse: 6.4146 - mean_absolute_error: 4.9549 - mean_absolute_percentage_error: 9.9884 - val_loss: 4.8421 - val_rmse: 4.8421 - val_mean_absolute_error: 3.4864 - val_mean_absolute_percentage_error: 7.4595\n",
      "Epoch 6/50\n",
      " - 2s - loss: 3.8754 - rmse: 3.8754 - mean_absolute_error: 2.8184 - mean_absolute_percentage_error: 5.8737 - val_loss: 4.4022 - val_rmse: 4.4022 - val_mean_absolute_error: 3.1481 - val_mean_absolute_percentage_error: 6.9269\n",
      "Epoch 7/50\n",
      " - 2s - loss: 3.1618 - rmse: 3.1618 - mean_absolute_error: 2.2826 - mean_absolute_percentage_error: 4.7932 - val_loss: 4.2818 - val_rmse: 4.2818 - val_mean_absolute_error: 3.0341 - val_mean_absolute_percentage_error: 6.6509\n",
      "Epoch 8/50\n",
      " - 2s - loss: 2.7655 - rmse: 2.7655 - mean_absolute_error: 1.9986 - mean_absolute_percentage_error: 4.2127 - val_loss: 4.3987 - val_rmse: 4.3987 - val_mean_absolute_error: 3.1652 - val_mean_absolute_percentage_error: 7.0021\n",
      "Epoch 9/50\n",
      " - 2s - loss: 2.5509 - rmse: 2.5509 - mean_absolute_error: 1.8552 - mean_absolute_percentage_error: 3.9384 - val_loss: 4.4382 - val_rmse: 4.4382 - val_mean_absolute_error: 3.1556 - val_mean_absolute_percentage_error: 6.9130\n",
      "Epoch 10/50\n",
      " - 2s - loss: 2.8675 - rmse: 2.8675 - mean_absolute_error: 2.1973 - mean_absolute_percentage_error: 4.6703 - val_loss: 4.5181 - val_rmse: 4.5181 - val_mean_absolute_error: 3.2751 - val_mean_absolute_percentage_error: 7.2308\n",
      "Epoch 11/50\n",
      " - 2s - loss: 2.9275 - rmse: 2.9275 - mean_absolute_error: 2.2699 - mean_absolute_percentage_error: 4.7656 - val_loss: 4.6660 - val_rmse: 4.6660 - val_mean_absolute_error: 3.3810 - val_mean_absolute_percentage_error: 7.4725\n",
      "Epoch 12/50\n",
      " - 2s - loss: 2.9478 - rmse: 2.9478 - mean_absolute_error: 2.3005 - mean_absolute_percentage_error: 4.7993 - val_loss: 4.9463 - val_rmse: 4.9463 - val_mean_absolute_error: 3.7433 - val_mean_absolute_percentage_error: 8.0460\n",
      "Epoch 13/50\n",
      " - 2s - loss: 3.2606 - rmse: 3.2606 - mean_absolute_error: 2.5755 - mean_absolute_percentage_error: 5.3221 - val_loss: 4.3390 - val_rmse: 4.3390 - val_mean_absolute_error: 3.1074 - val_mean_absolute_percentage_error: 6.8103\n",
      "Epoch 14/50\n",
      " - 2s - loss: 3.2374 - rmse: 3.2374 - mean_absolute_error: 2.5590 - mean_absolute_percentage_error: 5.2648 - val_loss: 4.3583 - val_rmse: 4.3583 - val_mean_absolute_error: 2.9977 - val_mean_absolute_percentage_error: 6.6209\n",
      "Epoch 15/50\n",
      " - 2s - loss: 2.3477 - rmse: 2.3477 - mean_absolute_error: 1.7707 - mean_absolute_percentage_error: 3.6949 - val_loss: 4.3191 - val_rmse: 4.3191 - val_mean_absolute_error: 2.9808 - val_mean_absolute_percentage_error: 6.6296\n",
      "Epoch 16/50\n",
      " - 2s - loss: 2.0000 - rmse: 2.0000 - mean_absolute_error: 1.4894 - mean_absolute_percentage_error: 3.1363 - val_loss: 4.4009 - val_rmse: 4.4009 - val_mean_absolute_error: 3.0806 - val_mean_absolute_percentage_error: 6.7666\n",
      "Epoch 17/50\n",
      " - 2s - loss: 2.8716 - rmse: 2.8716 - mean_absolute_error: 2.2602 - mean_absolute_percentage_error: 4.6719 - val_loss: 4.6588 - val_rmse: 4.6588 - val_mean_absolute_error: 3.4141 - val_mean_absolute_percentage_error: 7.4881\n",
      "Epoch 18/50\n",
      " - 2s - loss: 2.8959 - rmse: 2.8959 - mean_absolute_error: 2.2684 - mean_absolute_percentage_error: 4.7030 - val_loss: 4.2025 - val_rmse: 4.2025 - val_mean_absolute_error: 2.9165 - val_mean_absolute_percentage_error: 6.4016\n",
      "Epoch 19/50\n",
      " - 2s - loss: 2.7925 - rmse: 2.7925 - mean_absolute_error: 2.1546 - mean_absolute_percentage_error: 4.4803 - val_loss: 4.3848 - val_rmse: 4.3848 - val_mean_absolute_error: 3.1401 - val_mean_absolute_percentage_error: 6.8598\n",
      "Epoch 20/50\n",
      " - 2s - loss: 2.7288 - rmse: 2.7288 - mean_absolute_error: 2.1536 - mean_absolute_percentage_error: 4.4792 - val_loss: 4.7464 - val_rmse: 4.7464 - val_mean_absolute_error: 3.4153 - val_mean_absolute_percentage_error: 7.7446\n",
      "Epoch 21/50\n",
      " - 2s - loss: 3.3075 - rmse: 3.3075 - mean_absolute_error: 2.6692 - mean_absolute_percentage_error: 5.5278 - val_loss: 4.7948 - val_rmse: 4.7948 - val_mean_absolute_error: 3.5656 - val_mean_absolute_percentage_error: 7.3991\n",
      "Epoch 22/50\n",
      " - 2s - loss: 3.1146 - rmse: 3.1146 - mean_absolute_error: 2.4786 - mean_absolute_percentage_error: 5.0719 - val_loss: 4.7488 - val_rmse: 4.7488 - val_mean_absolute_error: 3.5209 - val_mean_absolute_percentage_error: 7.2633\n",
      "Epoch 23/50\n",
      " - 2s - loss: 2.4118 - rmse: 2.4118 - mean_absolute_error: 1.8828 - mean_absolute_percentage_error: 3.9065 - val_loss: 4.7776 - val_rmse: 4.7776 - val_mean_absolute_error: 3.4853 - val_mean_absolute_percentage_error: 7.2087\n",
      "Epoch 24/50\n",
      " - 2s - loss: 1.9598 - rmse: 1.9598 - mean_absolute_error: 1.4730 - mean_absolute_percentage_error: 3.0733 - val_loss: 5.5268 - val_rmse: 5.5268 - val_mean_absolute_error: 4.2390 - val_mean_absolute_percentage_error: 8.6251\n",
      "Epoch 25/50\n",
      " - 2s - loss: 2.9203 - rmse: 2.9203 - mean_absolute_error: 2.3402 - mean_absolute_percentage_error: 4.8232 - val_loss: 4.5204 - val_rmse: 4.5204 - val_mean_absolute_error: 3.2663 - val_mean_absolute_percentage_error: 7.0141\n",
      "Epoch 26/50\n",
      " - 2s - loss: 2.9322 - rmse: 2.9322 - mean_absolute_error: 2.3341 - mean_absolute_percentage_error: 4.7892 - val_loss: 4.5259 - val_rmse: 4.5259 - val_mean_absolute_error: 3.3618 - val_mean_absolute_percentage_error: 7.3425\n",
      "Epoch 27/50\n",
      " - 2s - loss: 2.8166 - rmse: 2.8166 - mean_absolute_error: 2.1956 - mean_absolute_percentage_error: 4.5596 - val_loss: 4.1532 - val_rmse: 4.1532 - val_mean_absolute_error: 2.8965 - val_mean_absolute_percentage_error: 6.3579\n",
      "Epoch 28/50\n",
      " - 2s - loss: 1.9268 - rmse: 1.9268 - mean_absolute_error: 1.4709 - mean_absolute_percentage_error: 3.0782 - val_loss: 4.2564 - val_rmse: 4.2564 - val_mean_absolute_error: 3.0292 - val_mean_absolute_percentage_error: 6.5932\n",
      "Epoch 29/50\n",
      " - 2s - loss: 2.2593 - rmse: 2.2593 - mean_absolute_error: 1.7632 - mean_absolute_percentage_error: 3.6735 - val_loss: 4.7773 - val_rmse: 4.7773 - val_mean_absolute_error: 3.6171 - val_mean_absolute_percentage_error: 7.7462\n",
      "Epoch 30/50\n",
      " - 2s - loss: 2.8335 - rmse: 2.8335 - mean_absolute_error: 2.2370 - mean_absolute_percentage_error: 4.6386 - val_loss: 4.9643 - val_rmse: 4.9643 - val_mean_absolute_error: 3.6961 - val_mean_absolute_percentage_error: 7.7967\n",
      "Epoch 31/50\n",
      " - 2s - loss: 3.1262 - rmse: 3.1262 - mean_absolute_error: 2.5104 - mean_absolute_percentage_error: 5.1979 - val_loss: 5.2775 - val_rmse: 5.2775 - val_mean_absolute_error: 3.8940 - val_mean_absolute_percentage_error: 8.4363\n",
      "Epoch 32/50\n",
      " - 2s - loss: 3.0245 - rmse: 3.0245 - mean_absolute_error: 2.4404 - mean_absolute_percentage_error: 5.0106 - val_loss: 6.2164 - val_rmse: 6.2164 - val_mean_absolute_error: 4.8861 - val_mean_absolute_percentage_error: 10.3999\n",
      "Epoch 33/50\n",
      " - 2s - loss: 2.5350 - rmse: 2.5350 - mean_absolute_error: 2.0090 - mean_absolute_percentage_error: 4.1881 - val_loss: 4.0250 - val_rmse: 4.0250 - val_mean_absolute_error: 2.8090 - val_mean_absolute_percentage_error: 6.2292\n",
      "Epoch 34/50\n",
      " - 2s - loss: 1.7701 - rmse: 1.7701 - mean_absolute_error: 1.3297 - mean_absolute_percentage_error: 2.8084 - val_loss: 4.0931 - val_rmse: 4.0931 - val_mean_absolute_error: 2.8706 - val_mean_absolute_percentage_error: 6.3166\n",
      "Epoch 35/50\n",
      " - 2s - loss: 1.6814 - rmse: 1.6814 - mean_absolute_error: 1.2677 - mean_absolute_percentage_error: 2.6681 - val_loss: 4.0317 - val_rmse: 4.0317 - val_mean_absolute_error: 2.8010 - val_mean_absolute_percentage_error: 6.1712\n"
     ]
    },
    {
     "name": "stdout",
     "output_type": "stream",
     "text": [
      "Epoch 36/50\n",
      " - 2s - loss: 2.0778 - rmse: 2.0778 - mean_absolute_error: 1.6086 - mean_absolute_percentage_error: 3.3397 - val_loss: 4.5962 - val_rmse: 4.5962 - val_mean_absolute_error: 3.2980 - val_mean_absolute_percentage_error: 7.2125\n",
      "Epoch 37/50\n",
      " - 2s - loss: 2.7616 - rmse: 2.7616 - mean_absolute_error: 2.1946 - mean_absolute_percentage_error: 4.5347 - val_loss: 5.1341 - val_rmse: 5.1341 - val_mean_absolute_error: 3.7174 - val_mean_absolute_percentage_error: 8.0500\n",
      "Epoch 38/50\n",
      " - 2s - loss: 3.0333 - rmse: 3.0333 - mean_absolute_error: 2.3779 - mean_absolute_percentage_error: 4.9298 - val_loss: 4.8314 - val_rmse: 4.8314 - val_mean_absolute_error: 3.6366 - val_mean_absolute_percentage_error: 8.4087\n",
      "Epoch 39/50\n",
      " - 2s - loss: 2.8170 - rmse: 2.8170 - mean_absolute_error: 2.1937 - mean_absolute_percentage_error: 4.5385 - val_loss: 5.1702 - val_rmse: 5.1702 - val_mean_absolute_error: 3.9479 - val_mean_absolute_percentage_error: 8.9808\n",
      "Epoch 40/50\n",
      " - 2s - loss: 2.8291 - rmse: 2.8291 - mean_absolute_error: 2.1872 - mean_absolute_percentage_error: 4.5154 - val_loss: 4.9620 - val_rmse: 4.9620 - val_mean_absolute_error: 3.7889 - val_mean_absolute_percentage_error: 8.7289\n",
      "Epoch 41/50\n",
      " - 2s - loss: 3.1558 - rmse: 3.1558 - mean_absolute_error: 2.3936 - mean_absolute_percentage_error: 4.9543 - val_loss: 5.2439 - val_rmse: 5.2439 - val_mean_absolute_error: 4.0530 - val_mean_absolute_percentage_error: 9.3037\n",
      "Epoch 42/50\n",
      " - 2s - loss: 2.0366 - rmse: 2.0366 - mean_absolute_error: 1.5650 - mean_absolute_percentage_error: 3.2632 - val_loss: 5.1732 - val_rmse: 5.1732 - val_mean_absolute_error: 3.9225 - val_mean_absolute_percentage_error: 8.7048\n",
      "Epoch 43/50\n",
      " - 2s - loss: 1.9578 - rmse: 1.9578 - mean_absolute_error: 1.4999 - mean_absolute_percentage_error: 3.0981 - val_loss: 5.4610 - val_rmse: 5.4610 - val_mean_absolute_error: 4.0776 - val_mean_absolute_percentage_error: 8.9044\n",
      "Epoch 44/50\n",
      " - 2s - loss: 2.1361 - rmse: 2.1361 - mean_absolute_error: 1.6590 - mean_absolute_percentage_error: 3.4155 - val_loss: 4.3653 - val_rmse: 4.3653 - val_mean_absolute_error: 3.1631 - val_mean_absolute_percentage_error: 7.0178\n",
      "Epoch 45/50\n",
      " - 2s - loss: 2.8744 - rmse: 2.8744 - mean_absolute_error: 2.2745 - mean_absolute_percentage_error: 4.6795 - val_loss: 4.1992 - val_rmse: 4.1992 - val_mean_absolute_error: 2.9792 - val_mean_absolute_percentage_error: 6.4705\n",
      "Epoch 46/50\n",
      " - 2s - loss: 2.4888 - rmse: 2.4888 - mean_absolute_error: 1.9634 - mean_absolute_percentage_error: 4.0580 - val_loss: 4.1103 - val_rmse: 4.1103 - val_mean_absolute_error: 2.9398 - val_mean_absolute_percentage_error: 6.5813\n",
      "Epoch 47/50\n",
      " - 2s - loss: 2.2243 - rmse: 2.2243 - mean_absolute_error: 1.7507 - mean_absolute_percentage_error: 3.6319 - val_loss: 4.2018 - val_rmse: 4.2018 - val_mean_absolute_error: 3.0098 - val_mean_absolute_percentage_error: 6.6895\n",
      "Epoch 48/50\n",
      " - 2s - loss: 2.4045 - rmse: 2.4045 - mean_absolute_error: 1.9169 - mean_absolute_percentage_error: 3.9688 - val_loss: 4.0862 - val_rmse: 4.0862 - val_mean_absolute_error: 2.8874 - val_mean_absolute_percentage_error: 6.3653\n",
      "Epoch 49/50\n",
      " - 2s - loss: 2.4428 - rmse: 2.4428 - mean_absolute_error: 1.9309 - mean_absolute_percentage_error: 4.0098 - val_loss: 4.6037 - val_rmse: 4.6037 - val_mean_absolute_error: 3.2755 - val_mean_absolute_percentage_error: 7.1889\n",
      "Epoch 50/50\n",
      " - 2s - loss: 2.4357 - rmse: 2.4357 - mean_absolute_error: 1.9122 - mean_absolute_percentage_error: 3.9503 - val_loss: 4.4093 - val_rmse: 4.4093 - val_mean_absolute_error: 3.1931 - val_mean_absolute_percentage_error: 7.1200\n",
      "Wall time: 1min 37s\n"
     ]
    }
   ],
   "source": [
    "# compile and fit model\n",
    "model = SimpleModel_1()\n",
    "model.compile(loss='mean_squared_error', optimizer='adam', metrics=[rmse, 'mae', 'mape'])\n",
    "%time history_SimpleModel_1_mirror = model.fit(X_train_model, y_train_model, \\\n",
    "                                        epochs=20, shuffle=True, batch_size=50, \\\n",
    "                                        validation_data=(X_val_model, y_val_model), \\\n",
    "                                        verbose=2)"
   ]
  },
  {
   "cell_type": "code",
   "execution_count": 34,
   "metadata": {},
   "outputs": [
    {
     "data": {
      "image/png": "[encoded data removed]",
      "text/plain": [
       "<Figure size 432x288 with 1 Axes>"
      ]
     },
     "metadata": {
      "needs_background": "light"
     },
     "output_type": "display_data"
    }
   ],
   "source": [
    "# plot metrics\n",
    "print(min(history_SimpleModel_1_mirror.history['val_rmse']))\n",
    "plt.plot(history_SimpleModel_1_mirror.history['rmse'])\n",
    "plt.plot(history_SimpleModel_1_mirror.history['val_rmse'])\n",
    "plt.show()"
   ]
  },
  {
   "cell_type": "markdown",
   "metadata": {},
   "source": [
    "### 2. Test rotating alone"
   ]
  },
  {
   "cell_type": "markdown",
   "metadata": {},
   "source": [
    "**5 degree**"
   ]
  },
  {
   "cell_type": "code",
   "execution_count": 36,
   "metadata": {},
   "outputs": [
    {
     "name": "stdout",
     "output_type": "stream",
     "text": [
      "(11206, 96, 96, 1)\n",
      "(11206, 8)\n",
      "(2794, 96, 96, 1)\n",
      "(2794, 8)\n"
     ]
    }
   ],
   "source": [
    "# transform data\n",
    "degree = -5\n",
    "n_point = 8\n",
    "X_train_model = np.concatenate((X_train_nm, rotate_X(X_train_nm, degree)), axis=0).reshape(-1,96,96,1)\n",
    "y_train_model = np.concatenate((y_train_nm, rotate_y(y_train_nm, degree, n_point)), axis=0)\n",
    "X_val_model = np.concatenate((X_val_nm, rotate_X(X_val_nm, degree)), axis=0).reshape(-1,96,96,1)\n",
    "y_val_model = np.concatenate((y_val_nm, rotate_y(y_val_nm, degree, n_point)), axis=0)\n",
    "\n",
    "print(X_train_model.shape)\n",
    "print(y_train_model.shape)\n",
    "print(X_val_model.shape)\n",
    "print(y_val_model.shape)"
   ]
  },
  {
   "cell_type": "code",
   "execution_count": null,
   "metadata": {},
   "outputs": [],
   "source": [
    "# compile and fit model\n",
    "model = SimpleModel_1()\n",
    "model.compile(loss='mean_squared_error', optimizer='adam', metrics=[rmse, 'mae', 'mape'])\n",
    "%time history_SimpleModel_1_rotate_5 = model.fit(X_train_model, y_train_model, \\\n",
    "                                        epochs=20, shuffle=True, batch_size=50, \\\n",
    "                                        validation_data=(X_val_model, y_val_model), \\\n",
    "                                        verbose=2)"
   ]
  },
  {
   "cell_type": "code",
   "execution_count": null,
   "metadata": {},
   "outputs": [],
   "source": [
    "# plot metrics\n",
    "print(min(history_SimpleModel_1_rotate_5.history['val_rmse']))\n",
    "plt.plot(history_SimpleModel_1_rotate_5.history['rmse'])\n",
    "plt.plot(history_SimpleModel_1_rotate_5.history['val_rmse'])\n",
    "plt.show()"
   ]
  },
  {
   "cell_type": "markdown",
   "metadata": {},
   "source": [
    "**10 degree**"
   ]
  },
  {
   "cell_type": "code",
   "execution_count": 37,
   "metadata": {},
   "outputs": [
    {
     "name": "stdout",
     "output_type": "stream",
     "text": [
      "(11206, 96, 96, 1)\n",
      "(11206, 8)\n",
      "(2794, 96, 96, 1)\n",
      "(2794, 8)\n"
     ]
    }
   ],
   "source": [
    "# transform data\n",
    "degree = -10\n",
    "n_point = 8\n",
    "X_train_model = np.concatenate((X_train_nm, rotate_X(X_train_nm, degree)), axis=0).reshape(-1,96,96,1)\n",
    "y_train_model = np.concatenate((y_train_nm, rotate_y(y_train_nm, degree, n_point)), axis=0)\n",
    "X_val_model = np.concatenate((X_val_nm, rotate_X(X_val_nm, degree)), axis=0).reshape(-1,96,96,1)\n",
    "y_val_model = np.concatenate((y_val_nm, rotate_y(y_val_nm, degree, n_point)), axis=0)\n",
    "\n",
    "print(X_train_model.shape)\n",
    "print(y_train_model.shape)\n",
    "print(X_val_model.shape)\n",
    "print(y_val_model.shape)"
   ]
  },
  {
   "cell_type": "code",
   "execution_count": null,
   "metadata": {},
   "outputs": [],
   "source": [
    "# compile and fit model\n",
    "model = SimpleModel_1()\n",
    "model.compile(loss='mean_squared_error', optimizer='adam', metrics=[rmse, 'mae', 'mape'])\n",
    "%time history_SimpleModel_1_rotate_10 = model.fit(X_train_model, y_train_model, \\\n",
    "                                        epochs=20, shuffle=True, batch_size=50, \\\n",
    "                                        validation_data=(X_val_model, y_val_model), \\\n",
    "                                        verbose=2)"
   ]
  },
  {
   "cell_type": "code",
   "execution_count": null,
   "metadata": {},
   "outputs": [],
   "source": [
    "# plot metrics\n",
    "print(min(history_SimpleModel_1_rotate_10.history['val_rmse']))\n",
    "plt.plot(history_SimpleModel_1_rotate_10.history['rmse'])\n",
    "plt.plot(history_SimpleModel_1_rotate_10.history['val_rmse'])\n",
    "plt.show()"
   ]
  },
  {
   "cell_type": "markdown",
   "metadata": {},
   "source": [
    "**15 degree**"
   ]
  },
  {
   "cell_type": "code",
   "execution_count": 38,
   "metadata": {},
   "outputs": [
    {
     "name": "stdout",
     "output_type": "stream",
     "text": [
      "(11206, 96, 96, 1)\n",
      "(11206, 8)\n",
      "(2794, 96, 96, 1)\n",
      "(2794, 8)\n"
     ]
    }
   ],
   "source": [
    "# transform data\n",
    "degree = -15\n",
    "n_point = 8\n",
    "X_train_model = np.concatenate((X_train_nm, rotate_X(X_train_nm, degree)), axis=0).reshape(-1,96,96,1)\n",
    "y_train_model = np.concatenate((y_train_nm, rotate_y(y_train_nm, degree, n_point)), axis=0)\n",
    "X_val_model = np.concatenate((X_val_nm, rotate_X(X_val_nm, degree)), axis=0).reshape(-1,96,96,1)\n",
    "y_val_model = np.concatenate((y_val_nm, rotate_y(y_val_nm, degree, n_point)), axis=0)\n",
    "\n",
    "print(X_train_model.shape)\n",
    "print(y_train_model.shape)\n",
    "print(X_val_model.shape)\n",
    "print(y_val_model.shape)"
   ]
  },
  {
   "cell_type": "code",
   "execution_count": null,
   "metadata": {},
   "outputs": [],
   "source": [
    "# compile and fit model\n",
    "model = SimpleModel_1()\n",
    "model.compile(loss='mean_squared_error', optimizer='adam', metrics=[rmse, 'mae', 'mape'])\n",
    "%time history_SimpleModel_1_rotate_15 = model.fit(X_train_model, y_train_model, \\\n",
    "                                        epochs=20, shuffle=True, batch_size=50, \\\n",
    "                                        validation_data=(X_val_model, y_val_model), \\\n",
    "                                        verbose=2)"
   ]
  },
  {
   "cell_type": "code",
   "execution_count": null,
   "metadata": {},
   "outputs": [],
   "source": [
    "# plot metrics\n",
    "print(min(history_SimpleModel_1_rotate_15.history['val_rmse']))\n",
    "plt.plot(history_SimpleModel_1_rotate_15.history['rmse'])\n",
    "plt.plot(history_SimpleModel_1_rotate_15.history['val_rmse'])\n",
    "plt.show()"
   ]
  },
  {
   "cell_type": "markdown",
   "metadata": {},
   "source": [
    "### 3. Test contrast reduction alone"
   ]
  },
  {
   "cell_type": "markdown",
   "metadata": {},
   "source": [
    "**90 percent**"
   ]
  },
  {
   "cell_type": "code",
   "execution_count": 40,
   "metadata": {},
   "outputs": [
    {
     "name": "stdout",
     "output_type": "stream",
     "text": [
      "(11206, 96, 96, 1)\n",
      "(11206, 8)\n",
      "(2794, 96, 96, 1)\n",
      "(2794, 8)\n"
     ]
    }
   ],
   "source": [
    "# transform data\n",
    "percent = 0.9\n",
    "X_train_model = np.concatenate((X_train_nm, reduce_contrast(X_train_nm, percent)), axis=0).reshape(-1,96,96,1)\n",
    "y_train_model = np.concatenate((y_train_nm, y_train_nm), axis=0)\n",
    "X_val_model = np.concatenate((X_val_nm, reduce_contrast(X_val_nm, percent)), axis=0).reshape(-1,96,96,1)\n",
    "y_val_model = np.concatenate((y_val_nm, y_val_nm), axis=0)\n",
    "\n",
    "print(X_train_model.shape)\n",
    "print(y_train_model.shape)\n",
    "print(X_val_model.shape)\n",
    "print(y_val_model.shape)"
   ]
  },
  {
   "cell_type": "code",
   "execution_count": null,
   "metadata": {},
   "outputs": [],
   "source": [
    "# compile and fit model\n",
    "model = SimpleModel_1()\n",
    "model.compile(loss='mean_squared_error', optimizer='adam', metrics=[rmse, 'mae', 'mape'])\n",
    "%time history_SimpleModel_1_contrast_90 = model.fit(X_train_model, y_train_model, \\\n",
    "                                        epochs=20, shuffle=True, batch_size=50, \\\n",
    "                                        validation_data=(X_val_model, y_val_model), \\\n",
    "                                        verbose=2)"
   ]
  },
  {
   "cell_type": "code",
   "execution_count": null,
   "metadata": {},
   "outputs": [],
   "source": [
    "# plot metrics\n",
    "print(min(history_SimpleModel_1_contrast_90.history['val_rmse']))\n",
    "plt.plot(history_SimpleModel_1_contrast_90.history['rmse'])\n",
    "plt.plot(history_SimpleModel_1_contrast_90.history['val_rmse'])\n",
    "plt.show()"
   ]
  },
  {
   "cell_type": "markdown",
   "metadata": {},
   "source": [
    "**80 percent**"
   ]
  },
  {
   "cell_type": "code",
   "execution_count": 41,
   "metadata": {},
   "outputs": [
    {
     "name": "stdout",
     "output_type": "stream",
     "text": [
      "(11206, 96, 96, 1)\n",
      "(11206, 8)\n",
      "(2794, 96, 96, 1)\n",
      "(2794, 8)\n"
     ]
    }
   ],
   "source": [
    "# transform data\n",
    "percent = 0.8\n",
    "X_train_model = np.concatenate((X_train_nm, reduce_contrast(X_train_nm, percent)), axis=0).reshape(-1,96,96,1)\n",
    "y_train_model = np.concatenate((y_train_nm, y_train_nm), axis=0)\n",
    "X_val_model = np.concatenate((X_val_nm, reduce_contrast(X_val_nm, percent)), axis=0).reshape(-1,96,96,1)\n",
    "y_val_model = np.concatenate((y_val_nm, y_val_nm), axis=0)\n",
    "\n",
    "print(X_train_model.shape)\n",
    "print(y_train_model.shape)\n",
    "print(X_val_model.shape)\n",
    "print(y_val_model.shape)"
   ]
  },
  {
   "cell_type": "code",
   "execution_count": null,
   "metadata": {},
   "outputs": [],
   "source": [
    "# compile and fit model\n",
    "model = SimpleModel_1()\n",
    "model.compile(loss='mean_squared_error', optimizer='adam', metrics=[rmse, 'mae', 'mape'])\n",
    "%time history_SimpleModel_1_contrast_80 = model.fit(X_train_model, y_train_model, \\\n",
    "                                        epochs=20, shuffle=True, batch_size=50, \\\n",
    "                                        validation_data=(X_val_model, y_val_model), \\\n",
    "                                        verbose=2)"
   ]
  },
  {
   "cell_type": "code",
   "execution_count": null,
   "metadata": {},
   "outputs": [],
   "source": [
    "# plot metrics\n",
    "print(min(history_SimpleModel_1_contrast_80.history['val_rmse']))\n",
    "plt.plot(history_SimpleModel_1_contrast_80.history['rmse'])\n",
    "plt.plot(history_SimpleModel_1_contrast_80.history['val_rmse'])\n",
    "plt.show()"
   ]
  },
  {
   "cell_type": "markdown",
   "metadata": {},
   "source": [
    "**70 percent**"
   ]
  },
  {
   "cell_type": "code",
   "execution_count": 42,
   "metadata": {},
   "outputs": [
    {
     "name": "stdout",
     "output_type": "stream",
     "text": [
      "(11206, 96, 96, 1)\n",
      "(11206, 8)\n",
      "(2794, 96, 96, 1)\n",
      "(2794, 8)\n"
     ]
    }
   ],
   "source": [
    "# transform data\n",
    "percent = 0.7\n",
    "X_train_model = np.concatenate((X_train_nm, reduce_contrast(X_train_nm, percent)), axis=0).reshape(-1,96,96,1)\n",
    "y_train_model = np.concatenate((y_train_nm, y_train_nm), axis=0)\n",
    "X_val_model = np.concatenate((X_val_nm, reduce_contrast(X_val_nm, percent)), axis=0).reshape(-1,96,96,1)\n",
    "y_val_model = np.concatenate((y_val_nm, y_val_nm), axis=0)\n",
    "\n",
    "print(X_train_model.shape)\n",
    "print(y_train_model.shape)\n",
    "print(X_val_model.shape)\n",
    "print(y_val_model.shape)"
   ]
  },
  {
   "cell_type": "code",
   "execution_count": null,
   "metadata": {},
   "outputs": [],
   "source": [
    "# compile and fit model\n",
    "model = SimpleModel_1()\n",
    "model.compile(loss='mean_squared_error', optimizer='adam', metrics=[rmse, 'mae', 'mape'])\n",
    "%time history_SimpleModel_1_contrast_70 = model.fit(X_train_model, y_train_model, \\\n",
    "                                        epochs=20, shuffle=True, batch_size=50, \\\n",
    "                                        validation_data=(X_val_model, y_val_model), \\\n",
    "                                        verbose=2)"
   ]
  },
  {
   "cell_type": "code",
   "execution_count": null,
   "metadata": {},
   "outputs": [],
   "source": [
    "# plot metrics\n",
    "print(min(history_SimpleModel_1_contrast_70.history['val_rmse']))\n",
    "plt.plot(history_SimpleModel_1_contrast_70.history['rmse'])\n",
    "plt.plot(history_SimpleModel_1_contrast_70.history['val_rmse'])\n",
    "plt.show()"
   ]
  },
  {
   "cell_type": "markdown",
   "metadata": {},
   "source": [
    "### 4. Test all three transformations combined"
   ]
  },
  {
   "cell_type": "code",
   "execution_count": 43,
   "metadata": {},
   "outputs": [
    {
     "name": "stdout",
     "output_type": "stream",
     "text": [
      "(11206, 96, 96, 1)\n",
      "(11206, 8)\n",
      "(2794, 96, 96, 1)\n",
      "(2794, 8)\n"
     ]
    }
   ],
   "source": [
    "# transform data\n",
    "degree = -5\n",
    "n_point = 8\n",
    "percent = 0.9\n",
    "X_train_model = np.concatenate((X_train_nm, reduce_contrast(rotate_X(mirror_X(X_train_nm), degree), percent)), axis=0).reshape(-1,96,96,1)\n",
    "y_train_model = np.concatenate((y_train_nm, rotate_y(mirror_y(y_train_nm, n_point), degree, n_point)), axis=0)\n",
    "X_val_model = np.concatenate((X_val_nm, reduce_contrast(rotate_X(mirror_X(X_val_nm), degree), percent)), axis=0).reshape(-1,96,96,1)\n",
    "y_val_model = np.concatenate((y_val_nm, rotate_y(mirror_y(y_val_nm, n_point), degree, n_point)), axis=0)\n",
    "\n",
    "print(X_train_model.shape)\n",
    "print(y_train_model.shape)\n",
    "print(X_val_model.shape)\n",
    "print(y_val_model.shape)"
   ]
  },
  {
   "cell_type": "code",
   "execution_count": null,
   "metadata": {},
   "outputs": [],
   "source": [
    "# compile and fit model\n",
    "model = SimpleModel_1()\n",
    "model.compile(loss='mean_squared_error', optimizer='adam', metrics=[rmse, 'mae', 'mape'])\n",
    "%time history_SimpleModel_1_trans = model.fit(X_train_model, y_train_model, \\\n",
    "                                        epochs=20, shuffle=True, batch_size=50, \\\n",
    "                                        validation_data=(X_val_model, y_val_model), \\\n",
    "                                        verbose=2)"
   ]
  },
  {
   "cell_type": "code",
   "execution_count": null,
   "metadata": {},
   "outputs": [],
   "source": [
    "# plot metrics\n",
    "print(min(history_SimpleModel_1_trans.history['val_rmse']))\n",
    "plt.plot(history_SimpleModel_1_trans.history['rmse'])\n",
    "plt.plot(history_SimpleModel_1_trans.history['val_rmse'])\n",
    "plt.show()"
   ]
  },
  {
   "cell_type": "code",
   "execution_count": null,
   "metadata": {},
   "outputs": [],
   "source": []
  },
  {
   "cell_type": "code",
   "execution_count": null,
   "metadata": {},
   "outputs": [],
   "source": []
  },
  {
   "cell_type": "code",
   "execution_count": null,
   "metadata": {},
   "outputs": [],
   "source": []
  },
  {
   "cell_type": "code",
   "execution_count": null,
   "metadata": {},
   "outputs": [],
   "source": []
  },
  {
   "cell_type": "code",
   "execution_count": null,
   "metadata": {},
   "outputs": [],
   "source": []
  },
  {
   "cell_type": "code",
   "execution_count": null,
   "metadata": {},
   "outputs": [],
   "source": []
  },
  {
   "cell_type": "code",
   "execution_count": 520,
   "metadata": {
    "scrolled": true
   },
   "outputs": [
    {
     "data": {
      "text/plain": [
       "343.64848890014355"
      ]
     },
     "execution_count": 520,
     "metadata": {},
     "output_type": "execute_result"
    }
   ],
   "source": [
    "X_train_rotate.max()"
   ]
  },
  {
   "cell_type": "code",
   "execution_count": 502,
   "metadata": {},
   "outputs": [],
   "source": [
    "test = rotate(X_train.reshape(-1,96,96)[3], degree, reshape=False).reshape(96*96)"
   ]
  },
  {
   "cell_type": "code",
   "execution_count": 504,
   "metadata": {},
   "outputs": [
    {
     "data": {
      "text/plain": [
       "array([179., 179., 179., ...,  55.,  57.,  55.])"
      ]
     },
     "execution_count": 504,
     "metadata": {},
     "output_type": "execute_result"
    }
   ],
   "source": [
    "X_train[3]"
   ]
  },
  {
   "cell_type": "code",
   "execution_count": 506,
   "metadata": {},
   "outputs": [
    {
     "data": {
      "text/plain": [
       "239.34175779242386"
      ]
     },
     "execution_count": 506,
     "metadata": {},
     "output_type": "execute_result"
    }
   ],
   "source": [
    "test.max()"
   ]
  },
  {
   "cell_type": "code",
   "execution_count": null,
   "metadata": {},
   "outputs": [],
   "source": [
    "# mirroring\n",
    "# rotation\n",
    "# stretching\n",
    "# shift \n",
    "# contrast reduction"
   ]
  },
  {
   "cell_type": "code",
   "execution_count": 43,
   "metadata": {},
   "outputs": [
    {
     "data": {
      "text/plain": [
       "array([False, False,  True, False, False,  True, False, False, False,\n",
       "        True, False, False, False,  True, False, False, False, False,\n",
       "       False,  True, False, False, False, False,  True, False, False,\n",
       "       False, False, False,  True, False,  True, False,  True, False,\n",
       "       False, False, False, False, False, False, False,  True, False,\n",
       "       False,  True,  True, False,  True, False, False, False,  True,\n",
       "       False, False, False, False, False,  True,  True, False, False,\n",
       "        True, False, False, False, False, False,  True,  True,  True,\n",
       "       False,  True, False,  True,  True, False, False,  True, False,\n",
       "       False, False,  True, False,  True, False, False,  True,  True,\n",
       "        True, False,  True, False, False, False, False,  True, False,\n",
       "       False])"
      ]
     },
     "execution_count": 43,
     "metadata": {},
     "output_type": "execute_result"
    }
   ],
   "source": [
    "~np.isnan(y_train).any(axis=1)[:100]"
   ]
  },
  {
   "cell_type": "code",
   "execution_count": null,
   "metadata": {},
   "outputs": [],
   "source": []
  }
 ],
 "metadata": {
  "kernelspec": {
   "display_name": "Python 3",
   "language": "python",
   "name": "python3"
  },
  "language_info": {
   "codemirror_mode": {
    "name": "ipython",
    "version": 3
   },
   "file_extension": ".py",
   "mimetype": "text/x-python",
   "name": "python",
   "nbconvert_exporter": "python",
   "pygments_lexer": "ipython3",
   "version": "3.6.4"
  }
 },
 "nbformat": 4,
 "nbformat_minor": 2
}
