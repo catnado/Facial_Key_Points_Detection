{
 "cells": [
  {
   "cell_type": "code",
   "execution_count": 1,
   "metadata": {},
   "outputs": [
    {
     "name": "stderr",
     "output_type": "stream",
     "text": [
      "/anaconda3/lib/python3.6/site-packages/h5py/__init__.py:36: FutureWarning: Conversion of the second argument of issubdtype from `float` to `np.floating` is deprecated. In future, it will be treated as `np.float64 == np.dtype(float).type`.\n",
      "  from ._conv import register_converters as _register_converters\n",
      "Using TensorFlow backend.\n"
     ]
    }
   ],
   "source": [
    "import pandas as pd\n",
    "import numpy as np\n",
    "np.random.seed(123)  # for reproducibility\n",
    " \n",
    "from keras.models import Sequential\n",
    "from keras.layers import Dense, Dropout, Activation, Flatten\n",
    "from keras.layers import Conv2D, MaxPooling2D, ZeroPadding2D\n",
    "from keras.utils import np_utils\n",
    "from keras import backend as K\n",
    "import tensorflow as tf\n",
    "\n",
    "from scipy.ndimage import rotate\n",
    "\n",
    "from matplotlib import pyplot as plt\n",
    "%matplotlib inline"
   ]
  },
  {
   "cell_type": "code",
   "execution_count": 2,
   "metadata": {},
   "outputs": [
    {
     "data": {
      "text/plain": [
       "[]"
      ]
     },
     "execution_count": 2,
     "metadata": {},
     "output_type": "execute_result"
    }
   ],
   "source": [
    "K.tensorflow_backend._get_available_gpus()"
   ]
  },
  {
   "cell_type": "code",
   "execution_count": 3,
   "metadata": {},
   "outputs": [],
   "source": [
    "sess = tf.Session(config=tf.ConfigProto(log_device_placement=True))"
   ]
  },
  {
   "cell_type": "code",
   "execution_count": 23,
   "metadata": {},
   "outputs": [
    {
     "data": {
      "text/plain": [
       "(7049, 31)"
      ]
     },
     "execution_count": 23,
     "metadata": {},
     "output_type": "execute_result"
    }
   ],
   "source": [
    "# read in data\n",
    "training = pd.read_csv(\"all/training.csv\")\n",
    "training.shape"
   ]
  },
  {
   "cell_type": "code",
   "execution_count": 3,
   "metadata": {
    "scrolled": false
   },
   "outputs": [
    {
     "data": {
      "text/plain": [
       "Index(['left_eye_center_x', 'left_eye_center_y', 'right_eye_center_x',\n",
       "       'right_eye_center_y', 'left_eye_inner_corner_x',\n",
       "       'left_eye_inner_corner_y', 'left_eye_outer_corner_x',\n",
       "       'left_eye_outer_corner_y', 'right_eye_inner_corner_x',\n",
       "       'right_eye_inner_corner_y', 'right_eye_outer_corner_x',\n",
       "       'right_eye_outer_corner_y', 'left_eyebrow_inner_end_x',\n",
       "       'left_eyebrow_inner_end_y', 'left_eyebrow_outer_end_x',\n",
       "       'left_eyebrow_outer_end_y', 'right_eyebrow_inner_end_x',\n",
       "       'right_eyebrow_inner_end_y', 'right_eyebrow_outer_end_x',\n",
       "       'right_eyebrow_outer_end_y', 'nose_tip_x', 'nose_tip_y',\n",
       "       'mouth_left_corner_x', 'mouth_left_corner_y', 'mouth_right_corner_x',\n",
       "       'mouth_right_corner_y', 'mouth_center_top_lip_x',\n",
       "       'mouth_center_top_lip_y', 'mouth_center_bottom_lip_x',\n",
       "       'mouth_center_bottom_lip_y', 'Image'],\n",
       "      dtype='object')"
      ]
     },
     "execution_count": 3,
     "metadata": {},
     "output_type": "execute_result"
    }
   ],
   "source": [
    "training.columns"
   ]
  },
  {
   "cell_type": "markdown",
   "metadata": {},
   "source": [
    "# Data Validation \n",
    "## Check missing distributions"
   ]
  },
  {
   "cell_type": "code",
   "execution_count": 4,
   "metadata": {},
   "outputs": [],
   "source": [
    "# check missing distribution\n",
    "check1 = pd.isnull(training)\n",
    "check2 = check1.groupby(list(check1.columns[:-1]))['Image'].value_counts().to_dict()"
   ]
  },
  {
   "cell_type": "code",
   "execution_count": 5,
   "metadata": {
    "scrolled": false
   },
   "outputs": [
    {
     "name": "stdout",
     "output_type": "stream",
     "text": [
      "0 : 2140\n",
      "1 : 13\n",
      "2 : 3\n",
      "3 : 4\n",
      "4 : 3\n",
      "5 : 1\n",
      "6 : 3\n",
      "7 : 26\n",
      "8 : 1\n",
      "9 : 1\n",
      "10 : 2\n",
      "11 : 31\n",
      "12 : 1\n",
      "13 : 2\n",
      "14 : 6\n",
      "15 : 1\n",
      "16 : 2\n",
      "17 : 1\n",
      "18 : 3\n",
      "19 : 1\n",
      "20 : 1\n",
      "21 : 2\n",
      "22 : 1\n",
      "23 : 1\n",
      "24 : 1\n",
      "25 : 4\n",
      "26 : 2\n",
      "27 : 1\n",
      "28 : 1\n",
      "29 : 1\n",
      "30 : 2\n",
      "31 : 1\n",
      "32 : 3\n",
      "33 : 2\n",
      "34 : 4755\n",
      "35 : 10\n",
      "36 : 1\n",
      "37 : 3\n",
      "38 : 1\n",
      "39 : 1\n",
      "40 : 1\n",
      "41 : 1\n",
      "42 : 1\n",
      "43 : 1\n",
      "44 : 1\n",
      "45 : 1\n",
      "46 : 1\n",
      "47 : 1\n",
      "48 : 1\n",
      "49 : 1\n"
     ]
    }
   ],
   "source": [
    "check3 = list(check1.groupby(list(check1.columns[:-1]))['Image'].count())\n",
    "for i in range(len(check3)):\n",
    "    print(i, \":\", check3[i])"
   ]
  },
  {
   "cell_type": "code",
   "execution_count": 6,
   "metadata": {
    "scrolled": false
   },
   "outputs": [
    {
     "name": "stdout",
     "output_type": "stream",
     "text": [
      "0 False : left_eye_center_x\n",
      "1 False : left_eye_center_y\n",
      "2 False : right_eye_center_x\n",
      "3 False : right_eye_center_y\n",
      "4 False : left_eye_inner_corner_x\n",
      "5 False : left_eye_inner_corner_y\n",
      "6 False : left_eye_outer_corner_x\n",
      "7 False : left_eye_outer_corner_y\n",
      "8 False : right_eye_inner_corner_x\n",
      "9 False : right_eye_inner_corner_y\n",
      "10 False : right_eye_outer_corner_x\n",
      "11 False : right_eye_outer_corner_y\n",
      "12 False : left_eyebrow_inner_end_x\n",
      "13 False : left_eyebrow_inner_end_y\n",
      "14 False : left_eyebrow_outer_end_x\n",
      "15 False : left_eyebrow_outer_end_y\n",
      "16 False : right_eyebrow_inner_end_x\n",
      "17 False : right_eyebrow_inner_end_y\n",
      "18 False : right_eyebrow_outer_end_x\n",
      "19 False : right_eyebrow_outer_end_y\n",
      "20 False : nose_tip_x\n",
      "21 False : nose_tip_y\n",
      "22 True : mouth_left_corner_x\n",
      "23 True : mouth_left_corner_y\n",
      "24 True : mouth_right_corner_x\n",
      "25 True : mouth_right_corner_y\n",
      "26 True : mouth_center_top_lip_x\n",
      "27 True : mouth_center_top_lip_y\n",
      "28 True : mouth_center_bottom_lip_x\n",
      "29 True : mouth_center_bottom_lip_y\n",
      "30 False : Image\n"
     ]
    }
   ],
   "source": [
    "case = 6\n",
    "for i in range(len(list(check2.items())[case][0])):\n",
    "    print(i, list(check2.items())[case][0][i], \":\", list(check1.columns)[i])"
   ]
  },
  {
   "cell_type": "markdown",
   "metadata": {},
   "source": [
    "## Data Validation Findings\n",
    "\n",
    "**2140 obs are non-missing (case 0)**\n",
    "\n",
    "**4755 obs only have 8 non-missing key points (case 34)**\n",
    "* False : left_eye_center_x\n",
    "* False : left_eye_center_y\n",
    "* False : right_eye_center_x\n",
    "* False : right_eye_center_y\n",
    "* False : nose_tip_x\n",
    "* False : nose_tip_y\n",
    "* False : mouth_center_bottom_lip_x\n",
    "* False : mouth_center_bottom_lip_y\n",
    "    \n",
    "**31 obs only missing left_eyebrow_outer_end (case 11)**\n",
    "* True : left_eyebrow_outer_end_x\n",
    "* True : left_eyebrow_outer_end_y\n",
    "\n",
    "**26 obs only missing right_eyebrow_outer_end (case 7)**\n",
    "* True : right_eyebrow_outer_end_x\n",
    "* True : right_eyebrow_outer_end_y\n",
    "\n",
    "**13 obs only missing mouth_center_bottom_lip (case 1)**\n",
    "* True : mouth_center_bottom_lip_x\n",
    "* True : mouth_center_bottom_lip_y\n",
    "\n",
    "**10 obs only have the following non-missing key points (case 35)**\n",
    "* False : left_eye_center_x\n",
    "* False : left_eye_center_y\n",
    "* False : right_eye_center_x\n",
    "* False : right_eye_center_y\n",
    "* False : nose_tip_x\n",
    "* False : nose_tip_y\n",
    "\n",
    "**74 remaining obs have various missing points**"
   ]
  },
  {
   "cell_type": "markdown",
   "metadata": {},
   "source": [
    "## Data Validation Decisions"
   ]
  },
  {
   "cell_type": "markdown",
   "metadata": {},
   "source": [
    "Build two models, each to predict the following key points:\n",
    "\n",
    "**model 1:**\n",
    "number of non-missing observations: 7000\n",
    "* left_eye_center\n",
    "* right_eye_center\n",
    "* nose_tip\n",
    "* mouth_center_bottom_lip\n",
    "\n",
    "**model 2:**\n",
    "number of non-missing observations: 2155\n",
    "* left_eye_inner_corner\n",
    "* left_eye_outer_corner\n",
    "* right_eye_inner_corner\n",
    "* right_eye_outer_corner\n",
    "\n",
    "* left_eyebrow_inner_end\n",
    "* left_eyebrow_outer_end\n",
    "* right_eyebrow_inner_end\n",
    "* right_eyebrow_outer_end\n",
    "\n",
    "* mouth_left_corner\n",
    "* mouth_right_corner\n",
    "* mouth_center_top_lip"
   ]
  },
  {
   "cell_type": "code",
   "execution_count": 10,
   "metadata": {},
   "outputs": [
    {
     "name": "stdout",
     "output_type": "stream",
     "text": [
      "(7049, 8)\n",
      "(7000, 8)\n"
     ]
    }
   ],
   "source": [
    "# how many data points would we have?\n",
    "points = [0, 1, 2, 3, 20, 21, 28, 29]\n",
    "model = training.iloc[:, points]\n",
    "print(model.shape)\n",
    "model_nonmiss = model[~np.isnan(model).any(axis=1)]\n",
    "print(model_nonmiss.shape)"
   ]
  },
  {
   "cell_type": "code",
   "execution_count": 11,
   "metadata": {},
   "outputs": [
    {
     "name": "stdout",
     "output_type": "stream",
     "text": [
      "(7049, 22)\n",
      "(2155, 22)\n"
     ]
    }
   ],
   "source": [
    "points = list(range(4,20)) + list(range(22,28))\n",
    "model = training.iloc[:, points]\n",
    "print(model.shape)\n",
    "model_nonmiss = model[~np.isnan(model).any(axis=1)]\n",
    "print(model_nonmiss.shape)"
   ]
  },
  {
   "cell_type": "markdown",
   "metadata": {},
   "source": [
    "# Data Preprocessing\n",
    "## Split training and validation"
   ]
  },
  {
   "cell_type": "code",
   "execution_count": 24,
   "metadata": {},
   "outputs": [],
   "source": [
    "# shuffle dataset\n",
    "np.random.seed(666)\n",
    "shuffle = np.random.permutation(np.arange(training.shape[0]))\n",
    "training2 = training.iloc[shuffle].reset_index(drop=True)\n",
    "\n",
    "# split out image values\n",
    "image = []\n",
    "for i in range(training2.shape[0]):\n",
    "    img = training2['Image'][i].split(' ')\n",
    "    img = ['0' if j == '' else j for j in img]\n",
    "    image.append(img)"
   ]
  },
  {
   "cell_type": "code",
   "execution_count": 25,
   "metadata": {},
   "outputs": [
    {
     "name": "stdout",
     "output_type": "stream",
     "text": [
      "(5640, 9216) (1409, 9216)\n",
      "(5640, 30) (1409, 30)\n"
     ]
    }
   ],
   "source": [
    "# create training and validation set (80/20 split)\n",
    "X = np.array(image, dtype = 'float')\n",
    "X_train, X_val = X[:5640], X[5640:]\n",
    "print(X_train.shape, X_val.shape)\n",
    "\n",
    "# create training and validation labels (80/20 split)\n",
    "labels = training2.drop('Image', axis=1)\n",
    "y = np.array(labels, dtype = 'float')\n",
    "y_train, y_val = y[:5640], y[5640:]\n",
    "print(y_train.shape, y_val.shape)"
   ]
  },
  {
   "cell_type": "markdown",
   "metadata": {},
   "source": [
    "## Apply transformations"
   ]
  },
  {
   "cell_type": "markdown",
   "metadata": {},
   "source": [
    "### 1. Mirroring"
   ]
  },
  {
   "cell_type": "code",
   "execution_count": 67,
   "metadata": {},
   "outputs": [],
   "source": [
    "# define mirror functions\n",
    "def mirror_X(input_X):\n",
    "    return input_X.reshape(-1,96,96)[:, :, list(range(95, -1, -1))].reshape(-1, 96*96)\n",
    "    \n",
    "def mirror_y(input_y):\n",
    "    output_y = y_train.copy()\n",
    "    # y coordinate stays the same, x coordinate is 96-x\n",
    "    output_y[:,list(range(0,29,2))] = 95 - input_y[:,list(range(0,29,2))]\n",
    "    return output_y"
   ]
  },
  {
   "cell_type": "code",
   "execution_count": 68,
   "metadata": {},
   "outputs": [],
   "source": [
    "# transform\n",
    "X_train_mirror = mirror_X(X_train)\n",
    "y_train_mirror = mirror_y(y_train)\n",
    "# X_val_mirror = mirror_X(X_val)\n",
    "# y_val_mirror = mirror_y(y_val)"
   ]
  },
  {
   "cell_type": "code",
   "execution_count": 69,
   "metadata": {
    "scrolled": false
   },
   "outputs": [
    {
     "data": {
      "image/png": "[encoded data removed]",
      "text/plain": [
       "<Figure size 432x288 with 1 Axes>"
      ]
     },
     "metadata": {},
     "output_type": "display_data"
    },
    {
     "data": {
      "image/png": "[encoded data removed]",
      "text/plain": [
       "<Figure size 432x288 with 1 Axes>"
      ]
     },
     "metadata": {},
     "output_type": "display_data"
    }
   ],
   "source": [
    "# check image\n",
    "i=13\n",
    "plt.imshow(X_train[i].reshape(96,96),cmap='gray', vmin=0, vmax=255)\n",
    "plt.scatter(y_train[i, range(0, 30, 2)], y_train[i, range(1, 30, 2)], s=5, color='r')\n",
    "plt.show()\n",
    "\n",
    "plt.imshow(X_train_mirror[i].reshape(96,96),cmap='gray', vmin=0, vmax=255)\n",
    "plt.scatter(y_train_mirror[i, range(0, 30, 2)], y_train_mirror[i, range(1, 30, 2)], s=5, color='r')\n",
    "plt.show()"
   ]
  },
  {
   "cell_type": "markdown",
   "metadata": {},
   "source": [
    "### 2. Rotating"
   ]
  },
  {
   "cell_type": "code",
   "execution_count": 65,
   "metadata": {},
   "outputs": [],
   "source": [
    "# mirror function to transform X\n",
    "def rotate_X(input_X, degree):\n",
    "    \n",
    "    # create an array of the same size\n",
    "    output_X = np.zeros((input_X.shape), dtype=np.float64)\n",
    "    \n",
    "    # for each image, use sklearn's rotate function to rotate image\n",
    "    # this somehow changes pixel values, cap value between 0 and 255\n",
    "    for i in range(output_X.shape[0]):\n",
    "        output_X[i] = np.clip(rotate(input_X.reshape(-1,96,96)[i], degree, reshape=False, mode='constant', \\\n",
    "                                       cval=150).reshape(96*96), 0, 255)  \n",
    "    return output_X\n",
    "        \n",
    "    \n",
    "# mirror function to transform y\n",
    "def rotate_y(input_y, degree):\n",
    "    \n",
    "    # create an array of same size\n",
    "    output_y = np.zeros((input_y.shape), dtype=np.float64)\n",
    "    \n",
    "    # define rotation angle and center of rotation\n",
    "    theta = np.radians(degree)\n",
    "    center_x = 95/2\n",
    "    center_y = 95/2\n",
    "\n",
    "    for i in range(output_y.shape[0]):\n",
    "        \n",
    "        # obtain x and y coordinates from dataset\n",
    "        x = input_y[i][np.arange(0,29,2)]\n",
    "        y = input_y[i][np.arange(1,30,2)]\n",
    "        \n",
    "        # use rotation matrix to rotate coordinates around center\n",
    "        x2 = np.cos(theta) * (x - center_x) + np.sin(theta) * (y - center_y) + center_x\n",
    "        y2 = -np.sin(theta) * (x - center_x) + np.cos(theta) * (y - center_y) + center_y\n",
    "        \n",
    "        # put x and y back in original shape\n",
    "        output_y[i] = np.vstack((x2,y2)).transpose().flatten()\n",
    "        \n",
    "    return output_y"
   ]
  },
  {
   "cell_type": "code",
   "execution_count": 66,
   "metadata": {},
   "outputs": [],
   "source": [
    "# transform\n",
    "X_train_rotate = rotate_X(X_train, -15)\n",
    "y_train_rotate = rotate_y(y_train, -15)\n",
    "# X_val_rotate = rotate_X(X_train, -15)\n",
    "# y_val_rotate = rotate_y(y_train, -15)"
   ]
  },
  {
   "cell_type": "code",
   "execution_count": 64,
   "metadata": {
    "scrolled": false
   },
   "outputs": [
    {
     "data": {
      "image/png": "[encoded data removed]",
      "text/plain": [
       "<Figure size 432x288 with 1 Axes>"
      ]
     },
     "metadata": {},
     "output_type": "display_data"
    },
    {
     "data": {
      "image/png": "[encoded data removed]",
      "text/plain": [
       "<Figure size 432x288 with 1 Axes>"
      ]
     },
     "metadata": {},
     "output_type": "display_data"
    }
   ],
   "source": [
    "# check image\n",
    "i=13\n",
    "\n",
    "plt.imshow(X_train[i].reshape(96,96),cmap='gray', vmin=0, vmax=255)\n",
    "plt.scatter(y_train[i, range(0, 30, 2)], y_train[i, range(1, 30, 2)], s=5, color='r')\n",
    "plt.show()\n",
    "\n",
    "plt.imshow(X_train_rotate[i].reshape(96,96),cmap='gray', vmin=0, vmax=255)\n",
    "plt.scatter(y_train_rotate[i, range(0, 30, 2)], y_train_rotate[i, range(1, 30, 2)], s=5, color='r')\n",
    "plt.show()"
   ]
  },
  {
   "cell_type": "markdown",
   "metadata": {},
   "source": [
    "### 3. Contrast Reduction"
   ]
  },
  {
   "cell_type": "code",
   "execution_count": 70,
   "metadata": {},
   "outputs": [],
   "source": [
    "# define function - only need to transform X\n",
    "def reduce_contrast(input_X, weight):\n",
    "    return (weight * input_X) + (1 - weight) * input_X.mean()"
   ]
  },
  {
   "cell_type": "code",
   "execution_count": 71,
   "metadata": {},
   "outputs": [],
   "source": [
    "# transform\n",
    "X_train_contrast = reduce_contrast(X_train, 0.7)\n",
    "# X_val_contrast = reduce_contrast(X_val, 0.7)"
   ]
  },
  {
   "cell_type": "code",
   "execution_count": 72,
   "metadata": {},
   "outputs": [
    {
     "data": {
      "image/png": "[encoded data removed]",
      "text/plain": [
       "<Figure size 432x288 with 1 Axes>"
      ]
     },
     "metadata": {},
     "output_type": "display_data"
    },
    {
     "data": {
      "image/png": "[encoded data removed]",
      "text/plain": [
       "<Figure size 432x288 with 1 Axes>"
      ]
     },
     "metadata": {},
     "output_type": "display_data"
    }
   ],
   "source": [
    "# check image\n",
    "i=13\n",
    "\n",
    "plt.imshow(X_train[i].reshape(96,96),cmap='gray', vmin=0, vmax=255)\n",
    "plt.scatter(y_train[i, range(0, 30, 2)], y_train[i, range(1, 30, 2)], s=5, color='r')\n",
    "plt.show()\n",
    "\n",
    "plt.imshow(X_train_contrast[i].reshape(96,96),cmap='gray', vmin=0, vmax=255)\n",
    "plt.scatter(y_train[i, range(0, 30, 2)], y_train[i, range(1, 30, 2)], s=5, color='r')\n",
    "plt.show()"
   ]
  },
  {
   "cell_type": "code",
   "execution_count": null,
   "metadata": {},
   "outputs": [],
   "source": []
  },
  {
   "cell_type": "code",
   "execution_count": null,
   "metadata": {},
   "outputs": [],
   "source": []
  },
  {
   "cell_type": "code",
   "execution_count": null,
   "metadata": {},
   "outputs": [],
   "source": []
  },
  {
   "cell_type": "code",
   "execution_count": null,
   "metadata": {},
   "outputs": [],
   "source": []
  },
  {
   "cell_type": "code",
   "execution_count": null,
   "metadata": {},
   "outputs": [],
   "source": []
  },
  {
   "cell_type": "code",
   "execution_count": null,
   "metadata": {},
   "outputs": [],
   "source": []
  },
  {
   "cell_type": "code",
   "execution_count": null,
   "metadata": {},
   "outputs": [],
   "source": []
  },
  {
   "cell_type": "code",
   "execution_count": null,
   "metadata": {},
   "outputs": [],
   "source": []
  },
  {
   "cell_type": "code",
   "execution_count": null,
   "metadata": {},
   "outputs": [],
   "source": []
  },
  {
   "cell_type": "code",
   "execution_count": 520,
   "metadata": {
    "scrolled": true
   },
   "outputs": [
    {
     "data": {
      "text/plain": [
       "343.64848890014355"
      ]
     },
     "execution_count": 520,
     "metadata": {},
     "output_type": "execute_result"
    }
   ],
   "source": [
    "X_train_rotate.max()"
   ]
  },
  {
   "cell_type": "code",
   "execution_count": 502,
   "metadata": {},
   "outputs": [],
   "source": [
    "test = rotate(X_train.reshape(-1,96,96)[3], degree, reshape=False).reshape(96*96)"
   ]
  },
  {
   "cell_type": "code",
   "execution_count": 504,
   "metadata": {},
   "outputs": [
    {
     "data": {
      "text/plain": [
       "array([179., 179., 179., ...,  55.,  57.,  55.])"
      ]
     },
     "execution_count": 504,
     "metadata": {},
     "output_type": "execute_result"
    }
   ],
   "source": [
    "X_train[3]"
   ]
  },
  {
   "cell_type": "code",
   "execution_count": 506,
   "metadata": {},
   "outputs": [
    {
     "data": {
      "text/plain": [
       "239.34175779242386"
      ]
     },
     "execution_count": 506,
     "metadata": {},
     "output_type": "execute_result"
    }
   ],
   "source": [
    "test.max()"
   ]
  },
  {
   "cell_type": "code",
   "execution_count": null,
   "metadata": {},
   "outputs": [],
   "source": [
    "# mirroring\n",
    "# rotation\n",
    "# stretching\n",
    "# shift \n",
    "# contrast reduction"
   ]
  },
  {
   "cell_type": "code",
   "execution_count": 43,
   "metadata": {},
   "outputs": [
    {
     "data": {
      "text/plain": [
       "array([False, False,  True, False, False,  True, False, False, False,\n",
       "        True, False, False, False,  True, False, False, False, False,\n",
       "       False,  True, False, False, False, False,  True, False, False,\n",
       "       False, False, False,  True, False,  True, False,  True, False,\n",
       "       False, False, False, False, False, False, False,  True, False,\n",
       "       False,  True,  True, False,  True, False, False, False,  True,\n",
       "       False, False, False, False, False,  True,  True, False, False,\n",
       "        True, False, False, False, False, False,  True,  True,  True,\n",
       "       False,  True, False,  True,  True, False, False,  True, False,\n",
       "       False, False,  True, False,  True, False, False,  True,  True,\n",
       "        True, False,  True, False, False, False, False,  True, False,\n",
       "       False])"
      ]
     },
     "execution_count": 43,
     "metadata": {},
     "output_type": "execute_result"
    }
   ],
   "source": [
    "~np.isnan(y_train).any(axis=1)[:100]"
   ]
  },
  {
   "cell_type": "code",
   "execution_count": null,
   "metadata": {},
   "outputs": [],
   "source": []
  }
 ],
 "metadata": {
  "kernelspec": {
   "display_name": "Python 3",
   "language": "python",
   "name": "python3"
  },
  "language_info": {
   "codemirror_mode": {
    "name": "ipython",
    "version": 3
   },
   "file_extension": ".py",
   "mimetype": "text/x-python",
   "name": "python",
   "nbconvert_exporter": "python",
   "pygments_lexer": "ipython3",
   "version": "3.6.4"
  }
 },
 "nbformat": 4,
 "nbformat_minor": 2
}
