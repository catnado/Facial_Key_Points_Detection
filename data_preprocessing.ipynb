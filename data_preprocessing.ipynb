{
 "cells": [
  {
   "cell_type": "code",
   "execution_count": 97,
   "metadata": {},
   "outputs": [],
   "source": [
    "import pandas as pd\n",
    "import numpy as np\n",
    "np.random.seed(123)  # for reproducibility\n",
    " \n",
    "from keras.models import Sequential\n",
    "from keras.layers import Dense, Dropout, Activation, Flatten, BatchNormalization, LeakyReLU, PReLU\n",
    "from keras.layers.convolutional import Conv2D, MaxPooling2D, ZeroPadding2D\n",
    "from keras.utils import np_utils\n",
    "from keras import backend as K\n",
    "import tensorflow as tf\n",
    "\n",
    "from scipy.ndimage import rotate\n",
    "\n",
    "from random import uniform\n",
    "from numpy.random import choice\n",
    "\n",
    "from matplotlib import pyplot as plt\n",
    "%matplotlib inline"
   ]
  },
  {
   "cell_type": "code",
   "execution_count": 2,
   "metadata": {},
   "outputs": [
    {
     "data": {
      "text/plain": [
       "['/job:localhost/replica:0/task:0/device:GPU:0']"
      ]
     },
     "execution_count": 2,
     "metadata": {},
     "output_type": "execute_result"
    }
   ],
   "source": [
    "K.tensorflow_backend._get_available_gpus()"
   ]
  },
  {
   "cell_type": "code",
   "execution_count": 3,
   "metadata": {},
   "outputs": [],
   "source": [
    "sess = tf.Session(config=tf.ConfigProto(log_device_placement=True))"
   ]
  },
  {
   "cell_type": "code",
   "execution_count": 4,
   "metadata": {},
   "outputs": [
    {
     "data": {
      "text/plain": [
       "(7049, 31)"
      ]
     },
     "execution_count": 4,
     "metadata": {},
     "output_type": "execute_result"
    }
   ],
   "source": [
    "# read in data\n",
    "training = pd.read_csv(\"all/training.csv\")\n",
    "training.shape"
   ]
  },
  {
   "cell_type": "code",
   "execution_count": 5,
   "metadata": {
    "scrolled": false
   },
   "outputs": [
    {
     "data": {
      "text/plain": [
       "Index(['left_eye_center_x', 'left_eye_center_y', 'right_eye_center_x',\n",
       "       'right_eye_center_y', 'left_eye_inner_corner_x',\n",
       "       'left_eye_inner_corner_y', 'left_eye_outer_corner_x',\n",
       "       'left_eye_outer_corner_y', 'right_eye_inner_corner_x',\n",
       "       'right_eye_inner_corner_y', 'right_eye_outer_corner_x',\n",
       "       'right_eye_outer_corner_y', 'left_eyebrow_inner_end_x',\n",
       "       'left_eyebrow_inner_end_y', 'left_eyebrow_outer_end_x',\n",
       "       'left_eyebrow_outer_end_y', 'right_eyebrow_inner_end_x',\n",
       "       'right_eyebrow_inner_end_y', 'right_eyebrow_outer_end_x',\n",
       "       'right_eyebrow_outer_end_y', 'nose_tip_x', 'nose_tip_y',\n",
       "       'mouth_left_corner_x', 'mouth_left_corner_y', 'mouth_right_corner_x',\n",
       "       'mouth_right_corner_y', 'mouth_center_top_lip_x',\n",
       "       'mouth_center_top_lip_y', 'mouth_center_bottom_lip_x',\n",
       "       'mouth_center_bottom_lip_y', 'Image'],\n",
       "      dtype='object')"
      ]
     },
     "execution_count": 5,
     "metadata": {},
     "output_type": "execute_result"
    }
   ],
   "source": [
    "training.columns"
   ]
  },
  {
   "cell_type": "markdown",
   "metadata": {},
   "source": [
    "# Data Validation \n",
    "## Check missing distributions"
   ]
  },
  {
   "cell_type": "code",
   "execution_count": 4,
   "metadata": {},
   "outputs": [],
   "source": [
    "# check missing distribution\n",
    "check1 = pd.isnull(training)\n",
    "check2 = check1.groupby(list(check1.columns[:-1]))['Image'].value_counts().to_dict()"
   ]
  },
  {
   "cell_type": "code",
   "execution_count": 5,
   "metadata": {
    "scrolled": false
   },
   "outputs": [
    {
     "name": "stdout",
     "output_type": "stream",
     "text": [
      "0 : 2140\n",
      "1 : 13\n",
      "2 : 3\n",
      "3 : 4\n",
      "4 : 3\n",
      "5 : 1\n",
      "6 : 3\n",
      "7 : 26\n",
      "8 : 1\n",
      "9 : 1\n",
      "10 : 2\n",
      "11 : 31\n",
      "12 : 1\n",
      "13 : 2\n",
      "14 : 6\n",
      "15 : 1\n",
      "16 : 2\n",
      "17 : 1\n",
      "18 : 3\n",
      "19 : 1\n",
      "20 : 1\n",
      "21 : 2\n",
      "22 : 1\n",
      "23 : 1\n",
      "24 : 1\n",
      "25 : 4\n",
      "26 : 2\n",
      "27 : 1\n",
      "28 : 1\n",
      "29 : 1\n",
      "30 : 2\n",
      "31 : 1\n",
      "32 : 3\n",
      "33 : 2\n",
      "34 : 4755\n",
      "35 : 10\n",
      "36 : 1\n",
      "37 : 3\n",
      "38 : 1\n",
      "39 : 1\n",
      "40 : 1\n",
      "41 : 1\n",
      "42 : 1\n",
      "43 : 1\n",
      "44 : 1\n",
      "45 : 1\n",
      "46 : 1\n",
      "47 : 1\n",
      "48 : 1\n",
      "49 : 1\n"
     ]
    }
   ],
   "source": [
    "check3 = list(check1.groupby(list(check1.columns[:-1]))['Image'].count())\n",
    "for i in range(len(check3)):\n",
    "    print(i, \":\", check3[i])"
   ]
  },
  {
   "cell_type": "code",
   "execution_count": 6,
   "metadata": {
    "scrolled": false
   },
   "outputs": [
    {
     "name": "stdout",
     "output_type": "stream",
     "text": [
      "0 False : left_eye_center_x\n",
      "1 False : left_eye_center_y\n",
      "2 False : right_eye_center_x\n",
      "3 False : right_eye_center_y\n",
      "4 False : left_eye_inner_corner_x\n",
      "5 False : left_eye_inner_corner_y\n",
      "6 False : left_eye_outer_corner_x\n",
      "7 False : left_eye_outer_corner_y\n",
      "8 False : right_eye_inner_corner_x\n",
      "9 False : right_eye_inner_corner_y\n",
      "10 False : right_eye_outer_corner_x\n",
      "11 False : right_eye_outer_corner_y\n",
      "12 False : left_eyebrow_inner_end_x\n",
      "13 False : left_eyebrow_inner_end_y\n",
      "14 False : left_eyebrow_outer_end_x\n",
      "15 False : left_eyebrow_outer_end_y\n",
      "16 False : right_eyebrow_inner_end_x\n",
      "17 False : right_eyebrow_inner_end_y\n",
      "18 False : right_eyebrow_outer_end_x\n",
      "19 False : right_eyebrow_outer_end_y\n",
      "20 False : nose_tip_x\n",
      "21 False : nose_tip_y\n",
      "22 True : mouth_left_corner_x\n",
      "23 True : mouth_left_corner_y\n",
      "24 True : mouth_right_corner_x\n",
      "25 True : mouth_right_corner_y\n",
      "26 True : mouth_center_top_lip_x\n",
      "27 True : mouth_center_top_lip_y\n",
      "28 True : mouth_center_bottom_lip_x\n",
      "29 True : mouth_center_bottom_lip_y\n",
      "30 False : Image\n"
     ]
    }
   ],
   "source": [
    "case = 6\n",
    "for i in range(len(list(check2.items())[case][0])):\n",
    "    print(i, list(check2.items())[case][0][i], \":\", list(check1.columns)[i])"
   ]
  },
  {
   "cell_type": "markdown",
   "metadata": {},
   "source": [
    "## Data Validation Findings\n",
    "\n",
    "**2140 obs are non-missing (case 0)**\n",
    "\n",
    "**4755 obs only have 8 non-missing key points (case 34)**\n",
    "* False : left_eye_center_x\n",
    "* False : left_eye_center_y\n",
    "* False : right_eye_center_x\n",
    "* False : right_eye_center_y\n",
    "* False : nose_tip_x\n",
    "* False : nose_tip_y\n",
    "* False : mouth_center_bottom_lip_x\n",
    "* False : mouth_center_bottom_lip_y\n",
    "    \n",
    "**31 obs only missing left_eyebrow_outer_end (case 11)**\n",
    "* True : left_eyebrow_outer_end_x\n",
    "* True : left_eyebrow_outer_end_y\n",
    "\n",
    "**26 obs only missing right_eyebrow_outer_end (case 7)**\n",
    "* True : right_eyebrow_outer_end_x\n",
    "* True : right_eyebrow_outer_end_y\n",
    "\n",
    "**13 obs only missing mouth_center_bottom_lip (case 1)**\n",
    "* True : mouth_center_bottom_lip_x\n",
    "* True : mouth_center_bottom_lip_y\n",
    "\n",
    "**10 obs only have the following non-missing key points (case 35)**\n",
    "* False : left_eye_center_x\n",
    "* False : left_eye_center_y\n",
    "* False : right_eye_center_x\n",
    "* False : right_eye_center_y\n",
    "* False : nose_tip_x\n",
    "* False : nose_tip_y\n",
    "\n",
    "**74 remaining obs have various missing points**"
   ]
  },
  {
   "cell_type": "markdown",
   "metadata": {},
   "source": [
    "## Data Validation Decisions"
   ]
  },
  {
   "cell_type": "markdown",
   "metadata": {},
   "source": [
    "Build two models, each to predict the following key points:\n",
    "\n",
    "**Model 1:**\n",
    "number of non-missing observations: 7000\n",
    "* left_eye_center\n",
    "* right_eye_center\n",
    "* nose_tip\n",
    "* mouth_center_bottom_lip\n",
    "\n",
    "**Model 2:**\n",
    "number of non-missing observations: 2155\n",
    "* left_eye_inner_corner\n",
    "* left_eye_outer_corner\n",
    "* right_eye_inner_corner\n",
    "* right_eye_outer_corner\n",
    "\n",
    "* left_eyebrow_inner_end\n",
    "* left_eyebrow_outer_end\n",
    "* right_eyebrow_inner_end\n",
    "* right_eyebrow_outer_end\n",
    "\n",
    "* mouth_left_corner\n",
    "* mouth_right_corner\n",
    "* mouth_center_top_lip"
   ]
  },
  {
   "cell_type": "code",
   "execution_count": 10,
   "metadata": {},
   "outputs": [
    {
     "name": "stdout",
     "output_type": "stream",
     "text": [
      "(7049, 8)\n",
      "(7000, 8)\n"
     ]
    }
   ],
   "source": [
    "# how many data points would we have?\n",
    "points = [0, 1, 2, 3, 20, 21, 28, 29]\n",
    "model = training.iloc[:, points]\n",
    "print(model.shape)\n",
    "model_nonmiss = model[~np.isnan(model).any(axis=1)]\n",
    "print(model_nonmiss.shape)"
   ]
  },
  {
   "cell_type": "code",
   "execution_count": 11,
   "metadata": {},
   "outputs": [
    {
     "name": "stdout",
     "output_type": "stream",
     "text": [
      "(7049, 22)\n",
      "(2155, 22)\n"
     ]
    }
   ],
   "source": [
    "points = list(range(4,20)) + list(range(22,28))\n",
    "model = training.iloc[:, points]\n",
    "print(model.shape)\n",
    "model_nonmiss = model[~np.isnan(model).any(axis=1)]\n",
    "print(model_nonmiss.shape)"
   ]
  },
  {
   "cell_type": "markdown",
   "metadata": {},
   "source": [
    "# Data Preprocessing\n",
    "## Split training and validation"
   ]
  },
  {
   "cell_type": "code",
   "execution_count": 8,
   "metadata": {},
   "outputs": [],
   "source": [
    "# shuffle dataset\n",
    "np.random.seed(666)\n",
    "shuffle = np.random.permutation(np.arange(training.shape[0]))\n",
    "training2 = training.iloc[shuffle].reset_index(drop=True)\n",
    "\n",
    "# split out image values\n",
    "image = []\n",
    "for i in range(training2.shape[0]):\n",
    "    img = training2['Image'][i].split(' ')\n",
    "    img = ['0' if j == '' else j for j in img]\n",
    "    image.append(img)"
   ]
  },
  {
   "cell_type": "code",
   "execution_count": 9,
   "metadata": {},
   "outputs": [
    {
     "name": "stdout",
     "output_type": "stream",
     "text": [
      "(5640, 9216) (1409, 9216)\n",
      "(5640, 30) (1409, 30)\n"
     ]
    }
   ],
   "source": [
    "# create training and validation set (80/20 split)\n",
    "X = np.array(image, dtype = 'float')\n",
    "X_train, X_val = X[:5640], X[5640:]\n",
    "print(X_train.shape, X_val.shape)\n",
    "\n",
    "# create training and validation labels (80/20 split)\n",
    "labels = training2.drop('Image', axis=1)\n",
    "y = np.array(labels, dtype = 'float')\n",
    "y_train, y_val = y[:5640], y[5640:]\n",
    "print(y_train.shape, y_val.shape)"
   ]
  },
  {
   "cell_type": "code",
   "execution_count": 10,
   "metadata": {},
   "outputs": [],
   "source": [
    "# save data\n",
    "np.save('X.npy', X)\n",
    "np.save('y.npy', y)"
   ]
  },
  {
   "cell_type": "markdown",
   "metadata": {},
   "source": [
    "## Apply transformations"
   ]
  },
  {
   "cell_type": "markdown",
   "metadata": {},
   "source": [
    "### 1. Mirroring"
   ]
  },
  {
   "cell_type": "code",
   "execution_count": 5,
   "metadata": {},
   "outputs": [],
   "source": [
    "# define mirror functions\n",
    "def mirror_X(input_X):\n",
    "    return input_X.reshape(-1,96,96)[:, :, list(range(95, -1, -1))].reshape(-1, 96*96)\n",
    "    \n",
    "def mirror_y(input_y, n_point):\n",
    "    output_y = input_y.copy()\n",
    "    # y coordinate stays the same, x coordinate is 96-x\n",
    "    output_y[:,list(range(0,n_point-1,2))] = 95 - input_y[:,list(range(0,n_point-1,2))]\n",
    "    return output_y"
   ]
  },
  {
   "cell_type": "code",
   "execution_count": 9,
   "metadata": {},
   "outputs": [],
   "source": [
    "# transform\n",
    "X_train_mirror = mirror_X(X_train)\n",
    "y_train_mirror = mirror_y(y_train, 30)\n",
    "# X_val_mirror = mirror_X(X_val)\n",
    "# y_val_mirror = mirror_y(y_val, 30)"
   ]
  },
  {
   "cell_type": "code",
   "execution_count": 10,
   "metadata": {
    "scrolled": false
   },
   "outputs": [
    {
     "data": {
      "image/png": "[encoded data removed]",
      "text/plain": [
       "<Figure size 432x288 with 1 Axes>"
      ]
     },
     "metadata": {
      "needs_background": "light"
     },
     "output_type": "display_data"
    },
    {
     "data": {
      "image/png": "[encoded data removed]",
      "text/plain": [
       "<Figure size 432x288 with 1 Axes>"
      ]
     },
     "metadata": {
      "needs_background": "light"
     },
     "output_type": "display_data"
    }
   ],
   "source": [
    "# check image\n",
    "i=13\n",
    "plt.imshow(X_train[i].reshape(96,96),cmap='gray', vmin=0, vmax=255)\n",
    "plt.scatter(y_train[i, range(0, 30, 2)], y_train[i, range(1, 30, 2)], s=5, color='r')\n",
    "plt.show()\n",
    "\n",
    "plt.imshow(X_train_mirror[i].reshape(96,96),cmap='gray', vmin=0, vmax=255)\n",
    "plt.scatter(y_train_mirror[i, range(0, 30, 2)], y_train_mirror[i, range(1, 30, 2)], s=5, color='r')\n",
    "plt.show()"
   ]
  },
  {
   "cell_type": "markdown",
   "metadata": {},
   "source": [
    "### 2. Rotating"
   ]
  },
  {
   "cell_type": "code",
   "execution_count": 6,
   "metadata": {},
   "outputs": [],
   "source": [
    "# mirror function to transform X\n",
    "def rotate_X(input_X, degree):\n",
    "    \n",
    "    # create an array of the same size\n",
    "    output_X = np.zeros((input_X.shape), dtype=np.float64)\n",
    "    \n",
    "    # for each image, use sklearn's rotate function to rotate image\n",
    "    # this somehow changes pixel values, cap value between 0 and 255\n",
    "    for i in range(output_X.shape[0]):\n",
    "        output_X[i] = np.clip(rotate(input_X.reshape(-1,96,96)[i], degree, reshape=False, mode='constant', \\\n",
    "                                       cval=150).reshape(96*96), 0, 255)  \n",
    "    return output_X\n",
    "        \n",
    "    \n",
    "# mirror function to transform y\n",
    "def rotate_y(input_y, degree, n_point):\n",
    "    \n",
    "    # create an array of same size\n",
    "    output_y = np.zeros((input_y.shape), dtype=np.float64)\n",
    "    \n",
    "    # define rotation angle and center of rotation\n",
    "    theta = np.radians(degree)\n",
    "    center_x = 95/2\n",
    "    center_y = 95/2\n",
    "\n",
    "    for i in range(output_y.shape[0]):\n",
    "        \n",
    "        # obtain x and y coordinates from dataset\n",
    "        x = input_y[i][np.arange(0,n_point-1,2)]\n",
    "        y = input_y[i][np.arange(1,n_point,2)]\n",
    "        \n",
    "        # use rotation matrix to rotate coordinates around center\n",
    "        x2 = np.cos(theta) * (x - center_x) + np.sin(theta) * (y - center_y) + center_x\n",
    "        y2 = -np.sin(theta) * (x - center_x) + np.cos(theta) * (y - center_y) + center_y\n",
    "        \n",
    "        # put x and y back in original shape\n",
    "        output_y[i] = np.vstack((x2,y2)).transpose().flatten()\n",
    "        \n",
    "    return output_y"
   ]
  },
  {
   "cell_type": "code",
   "execution_count": 12,
   "metadata": {},
   "outputs": [],
   "source": [
    "# transform\n",
    "X_train_rotate = rotate_X(X_train, -15)\n",
    "y_train_rotate = rotate_y(y_train, -15, 30)\n",
    "# X_val_rotate = rotate_X(X_train, -15)\n",
    "# y_val_rotate = rotate_y(y_train, -15)"
   ]
  },
  {
   "cell_type": "code",
   "execution_count": 13,
   "metadata": {
    "scrolled": false
   },
   "outputs": [
    {
     "data": {
      "image/png": "[encoded data removed]",
      "text/plain": [
       "<Figure size 432x288 with 1 Axes>"
      ]
     },
     "metadata": {
      "needs_background": "light"
     },
     "output_type": "display_data"
    },
    {
     "data": {
      "image/png": "[encoded data removed]",
      "text/plain": [
       "<Figure size 432x288 with 1 Axes>"
      ]
     },
     "metadata": {
      "needs_background": "light"
     },
     "output_type": "display_data"
    }
   ],
   "source": [
    "# check image\n",
    "i=13\n",
    "\n",
    "plt.imshow(X_train[i].reshape(96,96),cmap='gray', vmin=0, vmax=255)\n",
    "plt.scatter(y_train[i, range(0, 30, 2)], y_train[i, range(1, 30, 2)], s=5, color='r')\n",
    "plt.show()\n",
    "\n",
    "plt.imshow(X_train_rotate[i].reshape(96,96),cmap='gray', vmin=0, vmax=255)\n",
    "plt.scatter(y_train_rotate[i, range(0, 30, 2)], y_train_rotate[i, range(1, 30, 2)], s=5, color='r')\n",
    "plt.show()"
   ]
  },
  {
   "cell_type": "markdown",
   "metadata": {},
   "source": [
    "### 3. Contrast Reduction"
   ]
  },
  {
   "cell_type": "code",
   "execution_count": 7,
   "metadata": {},
   "outputs": [],
   "source": [
    "# define function - only need to transform X\n",
    "def reduce_contrast(input_X, weight):\n",
    "    return (weight * input_X) + (1 - weight) * input_X.mean()"
   ]
  },
  {
   "cell_type": "code",
   "execution_count": 15,
   "metadata": {},
   "outputs": [],
   "source": [
    "# transform\n",
    "X_train_contrast = reduce_contrast(X_train, 0.7)\n",
    "# X_val_contrast = reduce_contrast(X_val, 0.7)"
   ]
  },
  {
   "cell_type": "code",
   "execution_count": 16,
   "metadata": {},
   "outputs": [
    {
     "data": {
      "image/png": "[encoded data removed]",
      "text/plain": [
       "<Figure size 432x288 with 1 Axes>"
      ]
     },
     "metadata": {
      "needs_background": "light"
     },
     "output_type": "display_data"
    },
    {
     "data": {
      "image/png": "[encoded data removed]",
      "text/plain": [
       "<Figure size 432x288 with 1 Axes>"
      ]
     },
     "metadata": {
      "needs_background": "light"
     },
     "output_type": "display_data"
    }
   ],
   "source": [
    "# check image\n",
    "i=13\n",
    "\n",
    "plt.imshow(X_train[i].reshape(96,96),cmap='gray', vmin=0, vmax=255)\n",
    "plt.scatter(y_train[i, range(0, 30, 2)], y_train[i, range(1, 30, 2)], s=5, color='r')\n",
    "plt.show()\n",
    "\n",
    "plt.imshow(X_train_contrast[i].reshape(96,96),cmap='gray', vmin=0, vmax=255)\n",
    "plt.scatter(y_train[i, range(0, 30, 2)], y_train[i, range(1, 30, 2)], s=5, color='r')\n",
    "plt.show()"
   ]
  },
  {
   "cell_type": "markdown",
   "metadata": {},
   "source": [
    "# Modeling"
   ]
  },
  {
   "cell_type": "markdown",
   "metadata": {},
   "source": [
    "## Test Data Augmentation\n",
    "### 0. Baseline"
   ]
  },
  {
   "cell_type": "code",
   "execution_count": 30,
   "metadata": {},
   "outputs": [
    {
     "name": "stdout",
     "output_type": "stream",
     "text": [
      "(5603, 9216)\n",
      "(5603, 8)\n",
      "(1397, 9216)\n",
      "(1397, 8)\n"
     ]
    }
   ],
   "source": [
    "# test on model 1 with 8 points, prep data\n",
    "\n",
    "# filter labels on only those 8 points\n",
    "points = [0, 1, 2, 3, 20, 21, 28, 29]\n",
    "y_train_model1 = y_train[:, points]\n",
    "y_val_model1 = y_val[:, points]\n",
    "\n",
    "# get index of non-missing labels\n",
    "index_train = ~np.isnan(y_train_model1).any(axis=1)\n",
    "index_val = ~np.isnan(y_val_model1).any(axis=1)\n",
    "\n",
    "# filter out missing labels on training and validation data\n",
    "X_train_nm = X_train[index_train]\n",
    "y_train_nm = y_train_model1[index_train]\n",
    "X_val_nm = X_val[index_val]\n",
    "y_val_nm = y_val_model1[index_val]\n",
    "\n",
    "print(X_train_nm.shape)\n",
    "print(y_train_nm.shape)\n",
    "print(X_val_nm.shape)\n",
    "print(y_val_nm.shape)"
   ]
  },
  {
   "cell_type": "code",
   "execution_count": 39,
   "metadata": {},
   "outputs": [],
   "source": [
    "# define simple CNN model with 3 conv layers and 2 fully connected layers\n",
    "def SimpleModel_1(weights_path=None):\n",
    "    model = Sequential()\n",
    "    model.add(Conv2D(8, (5, 5), strides=(1,1), activation='relu', input_shape=(96,96,1), \\\n",
    "                     data_format='channels_last'))\n",
    "    model.add(Conv2D(4, (3, 3), strides=(1,1), activation='relu'))\n",
    "    model.add(Conv2D(2, (3, 3), strides=(1,1), activation='relu'))\n",
    "    model.add(Flatten())\n",
    "    model.add(Dense(100, activation='relu'))\n",
    "    model.add(Dense(8))\n",
    "\n",
    "    if weights_path:\n",
    "        model.load_weights(weights_path)\n",
    "\n",
    "    return model\n",
    "\n",
    "# define RMSE\n",
    "def rmse (y_true, y_pred):\n",
    "    return K.sqrt(K.mean(K.square(y_pred - y_true)))"
   ]
  },
  {
   "cell_type": "code",
   "execution_count": 120,
   "metadata": {
    "scrolled": true
   },
   "outputs": [
    {
     "name": "stdout",
     "output_type": "stream",
     "text": [
      "Train on 5603 samples, validate on 1397 samples\n",
      "Epoch 1/50\n",
      " - 3s - loss: 522.1793 - rmse: 19.9870 - mean_absolute_error: 16.0488 - mean_absolute_percentage_error: 31.5599 - val_loss: 128.7805 - val_rmse: 11.3095 - val_mean_absolute_error: 8.6636 - val_mean_absolute_percentage_error: 17.6493\n",
      "Epoch 2/50\n",
      " - 2s - loss: 120.9847 - rmse: 10.9103 - mean_absolute_error: 8.4070 - mean_absolute_percentage_error: 16.6855 - val_loss: 125.4605 - val_rmse: 11.1621 - val_mean_absolute_error: 8.5527 - val_mean_absolute_percentage_error: 16.9075\n",
      "Epoch 3/50\n",
      " - 2s - loss: 91.2448 - rmse: 9.4781 - mean_absolute_error: 7.2708 - mean_absolute_percentage_error: 14.5094 - val_loss: 102.6195 - val_rmse: 10.0920 - val_mean_absolute_error: 7.6792 - val_mean_absolute_percentage_error: 15.5870\n",
      "Epoch 4/50\n",
      " - 2s - loss: 71.4195 - rmse: 8.3822 - mean_absolute_error: 6.3856 - mean_absolute_percentage_error: 12.7547 - val_loss: 162.6611 - val_rmse: 12.7254 - val_mean_absolute_error: 10.1999 - val_mean_absolute_percentage_error: 19.8199\n",
      "Epoch 5/50\n",
      " - 2s - loss: 67.1507 - rmse: 8.0957 - mean_absolute_error: 6.1946 - mean_absolute_percentage_error: 12.4321 - val_loss: 97.0651 - val_rmse: 9.8133 - val_mean_absolute_error: 7.4461 - val_mean_absolute_percentage_error: 15.1494\n",
      "Epoch 6/50\n",
      " - 2s - loss: 80.0247 - rmse: 8.6755 - mean_absolute_error: 6.8185 - mean_absolute_percentage_error: 13.6223 - val_loss: 91.9193 - val_rmse: 9.5407 - val_mean_absolute_error: 7.1427 - val_mean_absolute_percentage_error: 14.4984\n",
      "Epoch 7/50\n",
      " - 2s - loss: 86.1703 - rmse: 8.9767 - mean_absolute_error: 7.1433 - mean_absolute_percentage_error: 14.2075 - val_loss: 164.8557 - val_rmse: 12.7745 - val_mean_absolute_error: 9.9282 - val_mean_absolute_percentage_error: 20.4131\n",
      "Epoch 8/50\n",
      " - 2s - loss: 73.2972 - rmse: 8.3015 - mean_absolute_error: 6.6158 - mean_absolute_percentage_error: 13.1347 - val_loss: 77.7660 - val_rmse: 8.7714 - val_mean_absolute_error: 6.4547 - val_mean_absolute_percentage_error: 13.1246\n",
      "Epoch 9/50\n",
      " - 2s - loss: 59.8843 - rmse: 7.5147 - mean_absolute_error: 5.9616 - mean_absolute_percentage_error: 11.8596 - val_loss: 79.6789 - val_rmse: 8.8917 - val_mean_absolute_error: 6.8670 - val_mean_absolute_percentage_error: 13.7455\n",
      "Epoch 10/50\n",
      " - 2s - loss: 40.7461 - rmse: 6.1853 - mean_absolute_error: 4.8070 - mean_absolute_percentage_error: 9.6266 - val_loss: 69.5303 - val_rmse: 8.3017 - val_mean_absolute_error: 6.3522 - val_mean_absolute_percentage_error: 12.7897\n",
      "Epoch 11/50\n",
      " - 2s - loss: 31.2692 - rmse: 5.4320 - mean_absolute_error: 4.1978 - mean_absolute_percentage_error: 8.4457 - val_loss: 61.2065 - val_rmse: 7.7822 - val_mean_absolute_error: 5.8978 - val_mean_absolute_percentage_error: 11.9491\n",
      "Epoch 12/50\n",
      " - 2s - loss: 27.7192 - rmse: 5.1193 - mean_absolute_error: 3.9746 - mean_absolute_percentage_error: 8.0119 - val_loss: 57.4910 - val_rmse: 7.5404 - val_mean_absolute_error: 5.7521 - val_mean_absolute_percentage_error: 11.6289\n",
      "Epoch 13/50\n",
      " - 2s - loss: 36.5227 - rmse: 5.7935 - mean_absolute_error: 4.6781 - mean_absolute_percentage_error: 9.3808 - val_loss: 61.1624 - val_rmse: 7.7849 - val_mean_absolute_error: 6.1226 - val_mean_absolute_percentage_error: 12.2579\n",
      "Epoch 14/50\n",
      " - 2s - loss: 37.0723 - rmse: 5.7252 - mean_absolute_error: 4.6516 - mean_absolute_percentage_error: 9.3350 - val_loss: 36.4795 - val_rmse: 5.9805 - val_mean_absolute_error: 4.3900 - val_mean_absolute_percentage_error: 9.0743\n",
      "Epoch 15/50\n",
      " - 2s - loss: 18.0066 - rmse: 4.1180 - mean_absolute_error: 3.1737 - mean_absolute_percentage_error: 6.4729 - val_loss: 35.0311 - val_rmse: 5.8362 - val_mean_absolute_error: 4.0950 - val_mean_absolute_percentage_error: 8.7648\n",
      "Epoch 16/50\n",
      " - 2s - loss: 12.3049 - rmse: 3.4666 - mean_absolute_error: 2.6253 - mean_absolute_percentage_error: 5.4059 - val_loss: 33.2106 - val_rmse: 5.6848 - val_mean_absolute_error: 3.9874 - val_mean_absolute_percentage_error: 8.5725\n",
      "Epoch 17/50\n",
      " - 2s - loss: 10.1938 - rmse: 3.1596 - mean_absolute_error: 2.3723 - mean_absolute_percentage_error: 4.9148 - val_loss: 37.4074 - val_rmse: 6.0341 - val_mean_absolute_error: 4.2444 - val_mean_absolute_percentage_error: 9.1529\n",
      "Epoch 18/50\n",
      " - 2s - loss: 9.4521 - rmse: 3.0374 - mean_absolute_error: 2.2732 - mean_absolute_percentage_error: 4.7185 - val_loss: 34.8431 - val_rmse: 5.8225 - val_mean_absolute_error: 4.0690 - val_mean_absolute_percentage_error: 8.7661\n",
      "Epoch 19/50\n",
      " - 2s - loss: 8.6747 - rmse: 2.9089 - mean_absolute_error: 2.1743 - mean_absolute_percentage_error: 4.5233 - val_loss: 42.8343 - val_rmse: 6.4665 - val_mean_absolute_error: 4.6405 - val_mean_absolute_percentage_error: 9.9944\n",
      "Epoch 20/50\n",
      " - 2s - loss: 9.0686 - rmse: 2.9597 - mean_absolute_error: 2.2396 - mean_absolute_percentage_error: 4.6466 - val_loss: 43.9302 - val_rmse: 6.5534 - val_mean_absolute_error: 4.7398 - val_mean_absolute_percentage_error: 10.2049\n",
      "Epoch 21/50\n",
      " - 2s - loss: 9.8281 - rmse: 3.0616 - mean_absolute_error: 2.3712 - mean_absolute_percentage_error: 4.9044 - val_loss: 57.8635 - val_rmse: 7.5370 - val_mean_absolute_error: 5.6902 - val_mean_absolute_percentage_error: 12.1386\n",
      "Epoch 22/50\n",
      " - 2s - loss: 13.2134 - rmse: 3.4974 - mean_absolute_error: 2.8130 - mean_absolute_percentage_error: 5.7747 - val_loss: 32.4082 - val_rmse: 5.6024 - val_mean_absolute_error: 3.8524 - val_mean_absolute_percentage_error: 8.3379\n",
      "Epoch 23/50\n",
      " - 2s - loss: 16.3912 - rmse: 3.9337 - mean_absolute_error: 3.1565 - mean_absolute_percentage_error: 6.4552 - val_loss: 25.1784 - val_rmse: 4.9858 - val_mean_absolute_error: 3.8041 - val_mean_absolute_percentage_error: 7.9525\n",
      "Epoch 24/50\n",
      " - 2s - loss: 9.5705 - rmse: 3.0260 - mean_absolute_error: 2.3249 - mean_absolute_percentage_error: 4.8405 - val_loss: 21.6356 - val_rmse: 4.6111 - val_mean_absolute_error: 3.3960 - val_mean_absolute_percentage_error: 7.1595\n",
      "Epoch 25/50\n",
      " - 2s - loss: 6.8684 - rmse: 2.5749 - mean_absolute_error: 1.9399 - mean_absolute_percentage_error: 4.0772 - val_loss: 20.8836 - val_rmse: 4.5254 - val_mean_absolute_error: 3.3013 - val_mean_absolute_percentage_error: 7.0243\n",
      "Epoch 26/50\n",
      " - 2s - loss: 5.7688 - rmse: 2.3628 - mean_absolute_error: 1.7557 - mean_absolute_percentage_error: 3.7085 - val_loss: 20.6315 - val_rmse: 4.4977 - val_mean_absolute_error: 3.2558 - val_mean_absolute_percentage_error: 6.8920\n",
      "Epoch 27/50\n",
      " - 2s - loss: 5.0344 - rmse: 2.2047 - mean_absolute_error: 1.6205 - mean_absolute_percentage_error: 3.4339 - val_loss: 20.1379 - val_rmse: 4.4390 - val_mean_absolute_error: 3.1827 - val_mean_absolute_percentage_error: 6.8205\n",
      "Epoch 28/50\n",
      " - 2s - loss: 4.5860 - rmse: 2.1030 - mean_absolute_error: 1.5362 - mean_absolute_percentage_error: 3.2747 - val_loss: 19.9398 - val_rmse: 4.4156 - val_mean_absolute_error: 3.1309 - val_mean_absolute_percentage_error: 6.6545\n",
      "Epoch 29/50\n",
      " - 2s - loss: 4.1386 - rmse: 1.9940 - mean_absolute_error: 1.4407 - mean_absolute_percentage_error: 3.0684 - val_loss: 20.6477 - val_rmse: 4.4965 - val_mean_absolute_error: 3.2423 - val_mean_absolute_percentage_error: 7.0027\n",
      "Epoch 30/50\n",
      " - 2s - loss: 4.1136 - rmse: 1.9818 - mean_absolute_error: 1.4414 - mean_absolute_percentage_error: 3.0941 - val_loss: 19.9249 - val_rmse: 4.4091 - val_mean_absolute_error: 3.0976 - val_mean_absolute_percentage_error: 6.6305\n",
      "Epoch 31/50\n",
      " - 2s - loss: 3.9437 - rmse: 1.9340 - mean_absolute_error: 1.3931 - mean_absolute_percentage_error: 2.9765 - val_loss: 21.9977 - val_rmse: 4.6469 - val_mean_absolute_error: 3.4228 - val_mean_absolute_percentage_error: 7.4563\n",
      "Epoch 32/50\n",
      " - 2s - loss: 4.2820 - rmse: 1.9906 - mean_absolute_error: 1.4363 - mean_absolute_percentage_error: 3.0978 - val_loss: 20.7579 - val_rmse: 4.5005 - val_mean_absolute_error: 3.1999 - val_mean_absolute_percentage_error: 6.9121\n",
      "Epoch 33/50\n",
      " - 2s - loss: 4.8023 - rmse: 2.0723 - mean_absolute_error: 1.4730 - mean_absolute_percentage_error: 3.1343 - val_loss: 21.4186 - val_rmse: 4.5843 - val_mean_absolute_error: 3.3402 - val_mean_absolute_percentage_error: 7.2443\n",
      "Epoch 34/50\n",
      " - 2s - loss: 3.8927 - rmse: 1.9064 - mean_absolute_error: 1.3746 - mean_absolute_percentage_error: 2.9675 - val_loss: 21.0047 - val_rmse: 4.5356 - val_mean_absolute_error: 3.2224 - val_mean_absolute_percentage_error: 6.8310\n",
      "Epoch 35/50\n",
      " - 2s - loss: 4.4258 - rmse: 2.0438 - mean_absolute_error: 1.4935 - mean_absolute_percentage_error: 3.1417 - val_loss: 20.6058 - val_rmse: 4.4805 - val_mean_absolute_error: 3.1208 - val_mean_absolute_percentage_error: 6.7251\n"
     ]
    },
    {
     "name": "stdout",
     "output_type": "stream",
     "text": [
      "Epoch 36/50\n",
      " - 2s - loss: 3.8890 - rmse: 1.8878 - mean_absolute_error: 1.3552 - mean_absolute_percentage_error: 2.8919 - val_loss: 22.5022 - val_rmse: 4.7090 - val_mean_absolute_error: 3.4397 - val_mean_absolute_percentage_error: 7.1448\n",
      "Epoch 37/50\n",
      " - 2s - loss: 4.0520 - rmse: 1.9360 - mean_absolute_error: 1.3997 - mean_absolute_percentage_error: 2.9516 - val_loss: 20.3714 - val_rmse: 4.4517 - val_mean_absolute_error: 3.1050 - val_mean_absolute_percentage_error: 6.6977\n",
      "Epoch 38/50\n",
      " - 2s - loss: 3.5796 - rmse: 1.8190 - mean_absolute_error: 1.3108 - mean_absolute_percentage_error: 2.7992 - val_loss: 27.1653 - val_rmse: 5.1887 - val_mean_absolute_error: 3.9989 - val_mean_absolute_percentage_error: 8.2399\n",
      "Epoch 39/50\n",
      " - 2s - loss: 3.9855 - rmse: 1.9111 - mean_absolute_error: 1.3878 - mean_absolute_percentage_error: 2.9316 - val_loss: 22.0930 - val_rmse: 4.6542 - val_mean_absolute_error: 3.3998 - val_mean_absolute_percentage_error: 7.2258\n",
      "Epoch 40/50\n",
      " - 2s - loss: 4.7408 - rmse: 2.0400 - mean_absolute_error: 1.5196 - mean_absolute_percentage_error: 3.2011 - val_loss: 43.3360 - val_rmse: 6.5722 - val_mean_absolute_error: 5.4077 - val_mean_absolute_percentage_error: 10.9638\n",
      "Epoch 41/50\n",
      " - 2s - loss: 7.1646 - rmse: 2.5262 - mean_absolute_error: 1.9601 - mean_absolute_percentage_error: 4.0773 - val_loss: 35.9665 - val_rmse: 5.9830 - val_mean_absolute_error: 4.8090 - val_mean_absolute_percentage_error: 9.6437\n",
      "Epoch 42/50\n",
      " - 2s - loss: 8.1242 - rmse: 2.7430 - mean_absolute_error: 2.1537 - mean_absolute_percentage_error: 4.4544 - val_loss: 27.1378 - val_rmse: 5.1818 - val_mean_absolute_error: 3.9753 - val_mean_absolute_percentage_error: 8.1380\n",
      "Epoch 43/50\n",
      " - 2s - loss: 11.6527 - rmse: 3.2841 - mean_absolute_error: 2.5973 - mean_absolute_percentage_error: 5.2868 - val_loss: 24.8046 - val_rmse: 4.9122 - val_mean_absolute_error: 3.4137 - val_mean_absolute_percentage_error: 7.4745\n",
      "Epoch 44/50\n",
      " - 2s - loss: 12.1040 - rmse: 3.3799 - mean_absolute_error: 2.7076 - mean_absolute_percentage_error: 5.5554 - val_loss: 33.3804 - val_rmse: 5.7242 - val_mean_absolute_error: 4.2223 - val_mean_absolute_percentage_error: 9.1482\n",
      "Epoch 45/50\n",
      " - 2s - loss: 10.3370 - rmse: 3.1184 - mean_absolute_error: 2.4957 - mean_absolute_percentage_error: 5.1666 - val_loss: 37.6384 - val_rmse: 6.0958 - val_mean_absolute_error: 4.5964 - val_mean_absolute_percentage_error: 10.0608\n",
      "Epoch 46/50\n",
      " - 2s - loss: 9.7961 - rmse: 3.0033 - mean_absolute_error: 2.3646 - mean_absolute_percentage_error: 4.9081 - val_loss: 25.2231 - val_rmse: 4.9787 - val_mean_absolute_error: 3.6352 - val_mean_absolute_percentage_error: 8.1550\n",
      "Epoch 47/50\n",
      " - 2s - loss: 7.9949 - rmse: 2.7374 - mean_absolute_error: 2.1239 - mean_absolute_percentage_error: 4.4422 - val_loss: 18.8157 - val_rmse: 4.2864 - val_mean_absolute_error: 2.9810 - val_mean_absolute_percentage_error: 6.6176\n",
      "Epoch 48/50\n",
      " - 2s - loss: 6.7387 - rmse: 2.5233 - mean_absolute_error: 1.9412 - mean_absolute_percentage_error: 4.0612 - val_loss: 16.6833 - val_rmse: 4.0318 - val_mean_absolute_error: 2.7568 - val_mean_absolute_percentage_error: 6.0147\n",
      "Epoch 49/50\n",
      " - 2s - loss: 6.0219 - rmse: 2.3890 - mean_absolute_error: 1.8243 - mean_absolute_percentage_error: 3.8138 - val_loss: 17.4009 - val_rmse: 4.1234 - val_mean_absolute_error: 2.8592 - val_mean_absolute_percentage_error: 6.1755\n",
      "Epoch 50/50\n",
      " - 2s - loss: 5.5245 - rmse: 2.2964 - mean_absolute_error: 1.7433 - mean_absolute_percentage_error: 3.6585 - val_loss: 19.4811 - val_rmse: 4.3731 - val_mean_absolute_error: 3.1051 - val_mean_absolute_percentage_error: 6.6553\n",
      "Wall time: 1min 29s\n"
     ]
    }
   ],
   "source": [
    "# compile and fit model\n",
    "model = SimpleModel_1()\n",
    "model.compile(loss='mean_squared_error', optimizer='adam', metrics=[rmse, 'mae', 'mape'])\n",
    "%time history_SimpleModel_1 = model.fit(X_train_nm.reshape(-1,96,96,1), y_train_nm, \\\n",
    "                                        epochs=50, shuffle=False, batch_size=50, \\\n",
    "                                        validation_data=(X_val_nm.reshape(-1,96,96,1), y_val_nm), \\\n",
    "                                        verbose=2)"
   ]
  },
  {
   "cell_type": "code",
   "execution_count": 121,
   "metadata": {},
   "outputs": [
    {
     "name": "stdout",
     "output_type": "stream",
     "text": [
      "4.031752987768109\n"
     ]
    },
    {
     "data": {
      "image/png": "[encoded data removed]",
      "text/plain": [
       "<Figure size 432x288 with 1 Axes>"
      ]
     },
     "metadata": {
      "needs_background": "light"
     },
     "output_type": "display_data"
    }
   ],
   "source": [
    "# plot metrics\n",
    "print(min(history_SimpleModel_1.history['val_rmse']))\n",
    "plt.plot(history_SimpleModel_1.history['rmse'])\n",
    "plt.plot(history_SimpleModel_1.history['val_rmse'])\n",
    "plt.show()"
   ]
  },
  {
   "cell_type": "markdown",
   "metadata": {},
   "source": [
    "### 1. Test mirroring alone"
   ]
  },
  {
   "cell_type": "code",
   "execution_count": 122,
   "metadata": {},
   "outputs": [
    {
     "name": "stdout",
     "output_type": "stream",
     "text": [
      "(11206, 96, 96, 1)\n",
      "(11206, 8)\n",
      "(1397, 96, 96, 1)\n",
      "(1397, 8)\n"
     ]
    }
   ],
   "source": [
    "# test on model 1 with 8 points, prep data\n",
    "X_train_model = np.concatenate((X_train_nm, mirror_X(X_train_nm)), axis=0).reshape(-1,96,96,1)\n",
    "y_train_model = np.concatenate((y_train_nm, mirror_y(y_train_nm, 8)), axis=0)\n",
    "# X_val_model = np.concatenate((X_val_nm, mirror_X(X_val_nm)), axis=0).reshape(-1,96,96,1)\n",
    "# y_val_model = np.concatenate((y_val_nm, mirror_y(y_val_nm, 8)), axis=0)\n",
    "X_val_model = X_val_nm.reshape(-1,96,96,1)\n",
    "y_val_model = y_val_nm\n",
    "\n",
    "print(X_train_model.shape)\n",
    "print(y_train_model.shape)\n",
    "print(X_val_model.shape)\n",
    "print(y_val_model.shape)"
   ]
  },
  {
   "cell_type": "code",
   "execution_count": 123,
   "metadata": {
    "scrolled": true
   },
   "outputs": [
    {
     "name": "stdout",
     "output_type": "stream",
     "text": [
      "Train on 11206 samples, validate on 1397 samples\n",
      "Epoch 1/50\n",
      " - 5s - loss: 273.5224 - rmse: 14.8053 - mean_absolute_error: 11.6688 - mean_absolute_percentage_error: 23.4597 - val_loss: 455.1717 - val_rmse: 21.3223 - val_mean_absolute_error: 15.3563 - val_mean_absolute_percentage_error: 35.6004\n",
      "Epoch 2/50\n",
      " - 3s - loss: 69.3265 - rmse: 7.8038 - mean_absolute_error: 5.9058 - mean_absolute_percentage_error: 12.2704 - val_loss: 349.2299 - val_rmse: 18.6860 - val_mean_absolute_error: 11.8040 - val_mean_absolute_percentage_error: 27.6689\n",
      "Epoch 3/50\n",
      " - 3s - loss: 36.4517 - rmse: 5.3274 - mean_absolute_error: 3.8085 - mean_absolute_percentage_error: 8.3630 - val_loss: 346.1308 - val_rmse: 18.6037 - val_mean_absolute_error: 11.4875 - val_mean_absolute_percentage_error: 27.1485\n",
      "Epoch 4/50\n",
      " - 3s - loss: 36.4398 - rmse: 5.1547 - mean_absolute_error: 3.6598 - mean_absolute_percentage_error: 8.1076 - val_loss: 343.5860 - val_rmse: 18.5352 - val_mean_absolute_error: 11.3642 - val_mean_absolute_percentage_error: 26.8981\n",
      "Epoch 5/50\n",
      " - 3s - loss: 39.9747 - rmse: 5.2204 - mean_absolute_error: 3.6680 - mean_absolute_percentage_error: 8.1746 - val_loss: 344.1012 - val_rmse: 18.5492 - val_mean_absolute_error: 11.3016 - val_mean_absolute_percentage_error: 26.7818\n",
      "Epoch 6/50\n",
      " - 3s - loss: 46.8419 - rmse: 5.5120 - mean_absolute_error: 3.8211 - mean_absolute_percentage_error: 8.6049 - val_loss: 341.1813 - val_rmse: 18.4703 - val_mean_absolute_error: 11.2038 - val_mean_absolute_percentage_error: 26.5862\n",
      "Epoch 7/50\n",
      " - 3s - loss: 54.5976 - rmse: 5.9451 - mean_absolute_error: 4.0875 - mean_absolute_percentage_error: 9.3016 - val_loss: 342.8594 - val_rmse: 18.5157 - val_mean_absolute_error: 11.1824 - val_mean_absolute_percentage_error: 26.5563\n",
      "Epoch 8/50\n",
      " - 3s - loss: 59.7722 - rmse: 6.2583 - mean_absolute_error: 4.2903 - mean_absolute_percentage_error: 9.8005 - val_loss: 342.4281 - val_rmse: 18.5040 - val_mean_absolute_error: 11.1620 - val_mean_absolute_percentage_error: 26.5567\n",
      "Epoch 9/50\n",
      " - 3s - loss: 60.9215 - rmse: 6.3739 - mean_absolute_error: 4.3563 - mean_absolute_percentage_error: 9.9808 - val_loss: 344.2752 - val_rmse: 18.5539 - val_mean_absolute_error: 11.2157 - val_mean_absolute_percentage_error: 26.6805\n",
      "Epoch 10/50\n",
      " - 3s - loss: 60.2919 - rmse: 6.3921 - mean_absolute_error: 4.3944 - mean_absolute_percentage_error: 10.0664 - val_loss: 340.2326 - val_rmse: 18.4446 - val_mean_absolute_error: 11.1387 - val_mean_absolute_percentage_error: 26.4523\n",
      "Epoch 11/50\n",
      " - 3s - loss: 63.9253 - rmse: 6.8245 - mean_absolute_error: 4.7179 - mean_absolute_percentage_error: 10.6386 - val_loss: 344.3869 - val_rmse: 18.5571 - val_mean_absolute_error: 11.4152 - val_mean_absolute_percentage_error: 26.9109\n",
      "Epoch 12/50\n",
      " - 3s - loss: 72.5419 - rmse: 7.1169 - mean_absolute_error: 4.8662 - mean_absolute_percentage_error: 11.0316 - val_loss: 336.2622 - val_rmse: 18.3367 - val_mean_absolute_error: 11.1413 - val_mean_absolute_percentage_error: 26.3123\n",
      "Epoch 13/50\n",
      " - 3s - loss: 53.4695 - rmse: 6.2327 - mean_absolute_error: 4.3474 - mean_absolute_percentage_error: 9.8459 - val_loss: 342.0114 - val_rmse: 18.4929 - val_mean_absolute_error: 11.3635 - val_mean_absolute_percentage_error: 26.7927\n",
      "Epoch 14/50\n",
      " - 3s - loss: 71.2687 - rmse: 7.2077 - mean_absolute_error: 4.9541 - mean_absolute_percentage_error: 11.4195 - val_loss: 314.2559 - val_rmse: 17.7265 - val_mean_absolute_error: 10.8439 - val_mean_absolute_percentage_error: 25.7162\n",
      "Epoch 15/50\n",
      " - 3s - loss: 59.6620 - rmse: 6.7847 - mean_absolute_error: 4.7780 - mean_absolute_percentage_error: 10.7014 - val_loss: 334.3476 - val_rmse: 18.2846 - val_mean_absolute_error: 11.3063 - val_mean_absolute_percentage_error: 26.7169\n",
      "Epoch 16/50\n",
      " - 3s - loss: 90.1484 - rmse: 8.4168 - mean_absolute_error: 5.8044 - mean_absolute_percentage_error: 13.3682 - val_loss: 297.2398 - val_rmse: 17.2399 - val_mean_absolute_error: 10.7181 - val_mean_absolute_percentage_error: 25.5081\n",
      "Epoch 17/50\n",
      " - 3s - loss: 84.6972 - rmse: 8.2500 - mean_absolute_error: 5.6589 - mean_absolute_percentage_error: 13.0614 - val_loss: 290.1145 - val_rmse: 17.0320 - val_mean_absolute_error: 10.6540 - val_mean_absolute_percentage_error: 25.3453\n",
      "Epoch 18/50\n",
      " - 3s - loss: 99.7969 - rmse: 9.1955 - mean_absolute_error: 6.3229 - mean_absolute_percentage_error: 14.6832 - val_loss: 261.0351 - val_rmse: 16.1558 - val_mean_absolute_error: 10.1105 - val_mean_absolute_percentage_error: 24.1698\n",
      "Epoch 19/50\n",
      " - 3s - loss: 72.9711 - rmse: 7.6816 - mean_absolute_error: 5.3763 - mean_absolute_percentage_error: 12.3721 - val_loss: 284.5208 - val_rmse: 16.8670 - val_mean_absolute_error: 10.5777 - val_mean_absolute_percentage_error: 25.1398\n",
      "Epoch 20/50\n",
      " - 3s - loss: 104.0254 - rmse: 9.4965 - mean_absolute_error: 6.5492 - mean_absolute_percentage_error: 15.1935 - val_loss: 280.3573 - val_rmse: 16.7431 - val_mean_absolute_error: 10.5013 - val_mean_absolute_percentage_error: 24.9492\n",
      "Epoch 21/50\n",
      " - 3s - loss: 86.4291 - rmse: 8.5075 - mean_absolute_error: 5.9106 - mean_absolute_percentage_error: 13.7162 - val_loss: 275.2872 - val_rmse: 16.5911 - val_mean_absolute_error: 10.4370 - val_mean_absolute_percentage_error: 24.8037\n",
      "Epoch 22/50\n",
      " - 3s - loss: 90.3593 - rmse: 8.5299 - mean_absolute_error: 5.8965 - mean_absolute_percentage_error: 13.6159 - val_loss: 329.5139 - val_rmse: 18.1519 - val_mean_absolute_error: 11.2399 - val_mean_absolute_percentage_error: 26.6421\n",
      "Epoch 23/50\n",
      " - 3s - loss: 101.2964 - rmse: 9.3027 - mean_absolute_error: 6.4276 - mean_absolute_percentage_error: 14.8877 - val_loss: 258.0374 - val_rmse: 16.0627 - val_mean_absolute_error: 10.0639 - val_mean_absolute_percentage_error: 24.0261\n",
      "Epoch 24/50\n",
      " - 3s - loss: 74.2620 - rmse: 7.9374 - mean_absolute_error: 5.5910 - mean_absolute_percentage_error: 12.9137 - val_loss: 273.9912 - val_rmse: 16.5519 - val_mean_absolute_error: 10.4143 - val_mean_absolute_percentage_error: 24.6842\n",
      "Epoch 25/50\n",
      " - 3s - loss: 107.1518 - rmse: 9.8133 - mean_absolute_error: 6.7690 - mean_absolute_percentage_error: 15.7754 - val_loss: 265.3254 - val_rmse: 16.2880 - val_mean_absolute_error: 10.2916 - val_mean_absolute_percentage_error: 24.3965\n",
      "Epoch 26/50\n",
      " - 3s - loss: 98.9922 - rmse: 9.1934 - mean_absolute_error: 6.3745 - mean_absolute_percentage_error: 14.8161 - val_loss: 228.9262 - val_rmse: 15.1294 - val_mean_absolute_error: 9.6561 - val_mean_absolute_percentage_error: 22.9722\n",
      "Epoch 27/50\n",
      " - 3s - loss: 107.9309 - rmse: 10.0328 - mean_absolute_error: 6.9107 - mean_absolute_percentage_error: 16.1841 - val_loss: 198.8511 - val_rmse: 14.1004 - val_mean_absolute_error: 9.1253 - val_mean_absolute_percentage_error: 21.6087\n",
      "Epoch 28/50\n",
      " - 3s - loss: 104.8084 - rmse: 9.9239 - mean_absolute_error: 6.8504 - mean_absolute_percentage_error: 16.0773 - val_loss: 192.9127 - val_rmse: 13.8882 - val_mean_absolute_error: 9.0138 - val_mean_absolute_percentage_error: 21.3091\n",
      "Epoch 29/50\n",
      " - 3s - loss: 104.4515 - rmse: 9.9260 - mean_absolute_error: 6.8512 - mean_absolute_percentage_error: 16.0875 - val_loss: 189.0790 - val_rmse: 13.7495 - val_mean_absolute_error: 8.9466 - val_mean_absolute_percentage_error: 21.1276\n",
      "Epoch 30/50\n",
      " - 3s - loss: 101.8134 - rmse: 9.6822 - mean_absolute_error: 6.7077 - mean_absolute_percentage_error: 15.7160 - val_loss: 197.6526 - val_rmse: 14.0578 - val_mean_absolute_error: 9.0985 - val_mean_absolute_percentage_error: 21.5453\n",
      "Epoch 31/50\n",
      " - 3s - loss: 105.5893 - rmse: 9.9941 - mean_absolute_error: 6.8899 - mean_absolute_percentage_error: 16.1703 - val_loss: 194.5464 - val_rmse: 13.9469 - val_mean_absolute_error: 9.0596 - val_mean_absolute_percentage_error: 21.4138\n",
      "Epoch 32/50\n",
      " - 3s - loss: 104.7248 - rmse: 9.9699 - mean_absolute_error: 6.8792 - mean_absolute_percentage_error: 16.1624 - val_loss: 181.2990 - val_rmse: 13.4635 - val_mean_absolute_error: 8.7859 - val_mean_absolute_percentage_error: 20.7558\n",
      "Epoch 33/50\n",
      " - 3s - loss: 96.0394 - rmse: 9.3431 - mean_absolute_error: 6.4923 - mean_absolute_percentage_error: 15.1547 - val_loss: 201.6281 - val_rmse: 14.1985 - val_mean_absolute_error: 9.1752 - val_mean_absolute_percentage_error: 21.7158\n",
      "Epoch 34/50\n",
      " - 3s - loss: 105.9103 - rmse: 9.8765 - mean_absolute_error: 6.8238 - mean_absolute_percentage_error: 15.9632 - val_loss: 208.4537 - val_rmse: 14.4369 - val_mean_absolute_error: 9.2908 - val_mean_absolute_percentage_error: 21.8898\n"
     ]
    },
    {
     "name": "stdout",
     "output_type": "stream",
     "text": [
      "Epoch 35/50\n",
      " - 3s - loss: 106.1041 - rmse: 9.8887 - mean_absolute_error: 6.8356 - mean_absolute_percentage_error: 15.9924 - val_loss: 188.4402 - val_rmse: 13.7262 - val_mean_absolute_error: 8.9575 - val_mean_absolute_percentage_error: 21.0103\n",
      "Epoch 36/50\n",
      " - 3s - loss: 105.4055 - rmse: 10.0195 - mean_absolute_error: 6.9001 - mean_absolute_percentage_error: 16.2028 - val_loss: 178.9032 - val_rmse: 13.3743 - val_mean_absolute_error: 8.7721 - val_mean_absolute_percentage_error: 20.5290\n",
      "Epoch 37/50\n",
      " - 3s - loss: 83.4926 - rmse: 8.4875 - mean_absolute_error: 5.8832 - mean_absolute_percentage_error: 13.5213 - val_loss: 340.2989 - val_rmse: 18.4466 - val_mean_absolute_error: 11.3695 - val_mean_absolute_percentage_error: 26.8498\n",
      "Epoch 38/50\n",
      " - 3s - loss: 100.3519 - rmse: 9.3484 - mean_absolute_error: 6.5009 - mean_absolute_percentage_error: 15.1664 - val_loss: 267.3402 - val_rmse: 16.3498 - val_mean_absolute_error: 10.3484 - val_mean_absolute_percentage_error: 24.4144\n",
      "Epoch 39/50\n",
      " - 3s - loss: 95.8480 - rmse: 9.0912 - mean_absolute_error: 6.2822 - mean_absolute_percentage_error: 14.5407 - val_loss: 356.7029 - val_rmse: 18.8860 - val_mean_absolute_error: 11.6800 - val_mean_absolute_percentage_error: 27.3722\n",
      "Epoch 40/50\n",
      " - 3s - loss: 106.1261 - rmse: 9.6950 - mean_absolute_error: 6.7250 - mean_absolute_percentage_error: 15.6552 - val_loss: 226.8456 - val_rmse: 15.0605 - val_mean_absolute_error: 9.6661 - val_mean_absolute_percentage_error: 22.6878\n",
      "Epoch 41/50\n",
      " - 3s - loss: 101.9660 - rmse: 9.6182 - mean_absolute_error: 6.6724 - mean_absolute_percentage_error: 15.5779 - val_loss: 252.0879 - val_rmse: 15.8765 - val_mean_absolute_error: 10.1549 - val_mean_absolute_percentage_error: 23.6664\n",
      "Epoch 42/50\n",
      " - 3s - loss: 106.7575 - rmse: 9.9340 - mean_absolute_error: 6.8602 - mean_absolute_percentage_error: 16.0903 - val_loss: 194.2786 - val_rmse: 13.9373 - val_mean_absolute_error: 9.1496 - val_mean_absolute_percentage_error: 21.1804\n",
      "Epoch 43/50\n",
      " - 3s - loss: 73.8724 - rmse: 7.7140 - mean_absolute_error: 5.3723 - mean_absolute_percentage_error: 12.2099 - val_loss: 344.2035 - val_rmse: 18.5521 - val_mean_absolute_error: 11.5841 - val_mean_absolute_percentage_error: 27.0056\n",
      "Epoch 44/50\n",
      " - 3s - loss: 80.6938 - rmse: 7.9742 - mean_absolute_error: 5.6130 - mean_absolute_percentage_error: 12.9290 - val_loss: 337.2899 - val_rmse: 18.3641 - val_mean_absolute_error: 11.2382 - val_mean_absolute_percentage_error: 26.6465\n",
      "Epoch 45/50\n",
      " - 3s - loss: 103.5454 - rmse: 9.6603 - mean_absolute_error: 6.7142 - mean_absolute_percentage_error: 15.6981 - val_loss: 184.2302 - val_rmse: 13.5720 - val_mean_absolute_error: 8.8806 - val_mean_absolute_percentage_error: 20.7680\n",
      "Epoch 46/50\n",
      " - 3s - loss: 104.5660 - rmse: 9.9710 - mean_absolute_error: 6.9315 - mean_absolute_percentage_error: 16.3166 - val_loss: 193.1021 - val_rmse: 13.8949 - val_mean_absolute_error: 9.1414 - val_mean_absolute_percentage_error: 21.2583\n",
      "Epoch 47/50\n",
      " - 3s - loss: 104.5580 - rmse: 9.9671 - mean_absolute_error: 6.9023 - mean_absolute_percentage_error: 16.1896 - val_loss: 204.3223 - val_rmse: 14.2930 - val_mean_absolute_error: 9.3988 - val_mean_absolute_percentage_error: 21.7133\n",
      "Epoch 48/50\n",
      " - 3s - loss: 92.2083 - rmse: 8.8091 - mean_absolute_error: 6.1308 - mean_absolute_percentage_error: 14.2064 - val_loss: 246.0180 - val_rmse: 15.6837 - val_mean_absolute_error: 9.9540 - val_mean_absolute_percentage_error: 23.3877\n",
      "Epoch 49/50\n",
      " - 3s - loss: 104.1623 - rmse: 9.7449 - mean_absolute_error: 6.7642 - mean_absolute_percentage_error: 15.7851 - val_loss: 299.6774 - val_rmse: 17.3104 - val_mean_absolute_error: 10.8400 - val_mean_absolute_percentage_error: 25.3644\n",
      "Epoch 50/50\n",
      " - 3s - loss: 103.8626 - rmse: 9.4405 - mean_absolute_error: 6.5099 - mean_absolute_percentage_error: 15.0392 - val_loss: 333.2008 - val_rmse: 18.2528 - val_mean_absolute_error: 11.4222 - val_mean_absolute_percentage_error: 26.6542\n",
      "Wall time: 2min 47s\n"
     ]
    }
   ],
   "source": [
    "# compile and fit model\n",
    "model = SimpleModel_1()\n",
    "model.compile(loss='mean_squared_error', optimizer='adam', metrics=[rmse, 'mae', 'mape'])\n",
    "%time history_SimpleModel_1_mirror = model.fit(X_train_model, y_train_model, \\\n",
    "                                        epochs=50, shuffle=False, batch_size=50, \\\n",
    "                                        validation_data=(X_val_model, y_val_model), \\\n",
    "                                        verbose=2)"
   ]
  },
  {
   "cell_type": "code",
   "execution_count": 124,
   "metadata": {
    "scrolled": true
   },
   "outputs": [
    {
     "name": "stdout",
     "output_type": "stream",
     "text": [
      "13.37427734628949\n"
     ]
    },
    {
     "data": {
      "image/png": "[encoded data removed]",
      "text/plain": [
       "<Figure size 432x288 with 1 Axes>"
      ]
     },
     "metadata": {
      "needs_background": "light"
     },
     "output_type": "display_data"
    }
   ],
   "source": [
    "# plot metrics\n",
    "print(min(history_SimpleModel_1_mirror.history['val_rmse']))\n",
    "plt.plot(history_SimpleModel_1_mirror.history['rmse'])\n",
    "plt.plot(history_SimpleModel_1_mirror.history['val_rmse'])\n",
    "plt.show()"
   ]
  },
  {
   "cell_type": "markdown",
   "metadata": {},
   "source": [
    "### 2. Test rotating alone"
   ]
  },
  {
   "cell_type": "markdown",
   "metadata": {},
   "source": [
    "**5 degree**"
   ]
  },
  {
   "cell_type": "code",
   "execution_count": 110,
   "metadata": {},
   "outputs": [
    {
     "name": "stdout",
     "output_type": "stream",
     "text": [
      "(11206, 96, 96, 1)\n",
      "(11206, 8)\n",
      "(1397, 96, 96, 1)\n",
      "(1397, 8)\n"
     ]
    }
   ],
   "source": [
    "# transform data\n",
    "degree = -5\n",
    "n_point = 8\n",
    "X_train_model = np.concatenate((X_train_nm, rotate_X(X_train_nm, degree)), axis=0).reshape(-1,96,96,1)\n",
    "y_train_model = np.concatenate((y_train_nm, rotate_y(y_train_nm, degree, n_point)), axis=0)\n",
    "# X_val_model = np.concatenate((X_val_nm, rotate_X(X_val_nm, degree)), axis=0).reshape(-1,96,96,1)\n",
    "# y_val_model = np.concatenate((y_val_nm, rotate_y(y_val_nm, degree, n_point)), axis=0)\n",
    "X_val_model = X_val_nm.reshape(-1,96,96,1)\n",
    "y_val_model = y_val_nm\n",
    "\n",
    "print(X_train_model.shape)\n",
    "print(y_train_model.shape)\n",
    "print(X_val_model.shape)\n",
    "print(y_val_model.shape)"
   ]
  },
  {
   "cell_type": "code",
   "execution_count": 111,
   "metadata": {
    "scrolled": true
   },
   "outputs": [
    {
     "name": "stdout",
     "output_type": "stream",
     "text": [
      "Train on 11206 samples, validate on 1397 samples\n",
      "Epoch 1/50\n",
      " - 4s - loss: 390.2144 - rmse: 15.3813 - mean_absolute_error: 12.1723 - mean_absolute_percentage_error: 24.0590 - val_loss: 139.6264 - val_rmse: 11.7776 - val_mean_absolute_error: 9.0983 - val_mean_absolute_percentage_error: 18.2852\n",
      "Epoch 2/50\n",
      " - 3s - loss: 107.3194 - rmse: 10.1385 - mean_absolute_error: 7.7952 - mean_absolute_percentage_error: 15.5001 - val_loss: 189.3531 - val_rmse: 13.7230 - val_mean_absolute_error: 10.8366 - val_mean_absolute_percentage_error: 21.6244\n",
      "Epoch 3/50\n",
      " - 3s - loss: 100.2759 - rmse: 9.7050 - mean_absolute_error: 7.4690 - mean_absolute_percentage_error: 14.8715 - val_loss: 191.4343 - val_rmse: 13.7982 - val_mean_absolute_error: 10.8973 - val_mean_absolute_percentage_error: 21.7019\n",
      "Epoch 4/50\n",
      " - 3s - loss: 88.8088 - rmse: 9.0955 - mean_absolute_error: 6.9812 - mean_absolute_percentage_error: 13.9006 - val_loss: 201.4398 - val_rmse: 14.1580 - val_mean_absolute_error: 11.2732 - val_mean_absolute_percentage_error: 22.2868\n",
      "Epoch 5/50\n",
      " - 3s - loss: 79.3194 - rmse: 8.5269 - mean_absolute_error: 6.5469 - mean_absolute_percentage_error: 13.0589 - val_loss: 202.0392 - val_rmse: 14.1798 - val_mean_absolute_error: 11.4290 - val_mean_absolute_percentage_error: 22.4855\n",
      "Epoch 6/50\n",
      " - 3s - loss: 70.2173 - rmse: 8.0010 - mean_absolute_error: 6.1326 - mean_absolute_percentage_error: 12.2453 - val_loss: 174.2872 - val_rmse: 13.1721 - val_mean_absolute_error: 10.5159 - val_mean_absolute_percentage_error: 20.7159\n",
      "Epoch 7/50\n",
      " - 3s - loss: 60.1022 - rmse: 7.3867 - mean_absolute_error: 5.6564 - mean_absolute_percentage_error: 11.3235 - val_loss: 148.5647 - val_rmse: 12.1597 - val_mean_absolute_error: 9.7141 - val_mean_absolute_percentage_error: 19.1285\n",
      "Epoch 8/50\n",
      " - 3s - loss: 50.1547 - rmse: 6.7765 - mean_absolute_error: 5.1822 - mean_absolute_percentage_error: 10.4031 - val_loss: 124.3765 - val_rmse: 11.1250 - val_mean_absolute_error: 8.8653 - val_mean_absolute_percentage_error: 17.4695\n",
      "Epoch 9/50\n",
      " - 3s - loss: 40.6894 - rmse: 6.1199 - mean_absolute_error: 4.6640 - mean_absolute_percentage_error: 9.3973 - val_loss: 105.7267 - val_rmse: 10.2572 - val_mean_absolute_error: 8.2403 - val_mean_absolute_percentage_error: 16.2278\n",
      "Epoch 10/50\n",
      " - 3s - loss: 31.6177 - rmse: 5.4204 - mean_absolute_error: 4.1098 - mean_absolute_percentage_error: 8.3238 - val_loss: 80.9876 - val_rmse: 8.9768 - val_mean_absolute_error: 7.2087 - val_mean_absolute_percentage_error: 14.2439\n",
      "Epoch 11/50\n",
      " - 3s - loss: 24.1224 - rmse: 4.7655 - mean_absolute_error: 3.5904 - mean_absolute_percentage_error: 7.3200 - val_loss: 60.8041 - val_rmse: 7.7782 - val_mean_absolute_error: 6.2337 - val_mean_absolute_percentage_error: 12.3747\n",
      "Epoch 12/50\n",
      " - 3s - loss: 18.8171 - rmse: 4.2310 - mean_absolute_error: 3.1613 - mean_absolute_percentage_error: 6.4906 - val_loss: 42.3812 - val_rmse: 6.4916 - val_mean_absolute_error: 5.1032 - val_mean_absolute_percentage_error: 10.2425\n",
      "Epoch 13/50\n",
      " - 3s - loss: 15.9347 - rmse: 3.9150 - mean_absolute_error: 2.8995 - mean_absolute_percentage_error: 5.9757 - val_loss: 31.2342 - val_rmse: 5.5696 - val_mean_absolute_error: 4.2950 - val_mean_absolute_percentage_error: 8.7228\n",
      "Epoch 14/50\n",
      " - 3s - loss: 12.8690 - rmse: 3.5316 - mean_absolute_error: 2.5709 - mean_absolute_percentage_error: 5.3367 - val_loss: 22.9832 - val_rmse: 4.7719 - val_mean_absolute_error: 3.5751 - val_mean_absolute_percentage_error: 7.4054\n",
      "Epoch 15/50\n",
      " - 3s - loss: 11.0422 - rmse: 3.2803 - mean_absolute_error: 2.3615 - mean_absolute_percentage_error: 4.9256 - val_loss: 19.2674 - val_rmse: 4.3641 - val_mean_absolute_error: 3.2026 - val_mean_absolute_percentage_error: 6.7270\n",
      "Epoch 16/50\n",
      " - 3s - loss: 9.9127 - rmse: 3.1103 - mean_absolute_error: 2.2227 - mean_absolute_percentage_error: 4.6474 - val_loss: 17.8252 - val_rmse: 4.1947 - val_mean_absolute_error: 3.0564 - val_mean_absolute_percentage_error: 6.4595\n",
      "Epoch 17/50\n",
      " - 3s - loss: 9.1113 - rmse: 2.9821 - mean_absolute_error: 2.1236 - mean_absolute_percentage_error: 4.4461 - val_loss: 16.9529 - val_rmse: 4.0891 - val_mean_absolute_error: 2.9623 - val_mean_absolute_percentage_error: 6.2861\n",
      "Epoch 18/50\n",
      " - 3s - loss: 8.4593 - rmse: 2.8737 - mean_absolute_error: 2.0422 - mean_absolute_percentage_error: 4.2797 - val_loss: 16.3793 - val_rmse: 4.0182 - val_mean_absolute_error: 2.8973 - val_mean_absolute_percentage_error: 6.1699\n",
      "Epoch 19/50\n",
      " - 3s - loss: 7.9174 - rmse: 2.7802 - mean_absolute_error: 1.9741 - mean_absolute_percentage_error: 4.1400 - val_loss: 16.1533 - val_rmse: 3.9903 - val_mean_absolute_error: 2.8728 - val_mean_absolute_percentage_error: 6.1229\n",
      "Epoch 20/50\n",
      " - 3s - loss: 7.4689 - rmse: 2.6996 - mean_absolute_error: 1.9144 - mean_absolute_percentage_error: 4.0167 - val_loss: 16.1665 - val_rmse: 3.9924 - val_mean_absolute_error: 2.8715 - val_mean_absolute_percentage_error: 6.1110\n",
      "Epoch 21/50\n",
      " - 3s - loss: 7.0154 - rmse: 2.6168 - mean_absolute_error: 1.8569 - mean_absolute_percentage_error: 3.8984 - val_loss: 16.1826 - val_rmse: 3.9950 - val_mean_absolute_error: 2.8726 - val_mean_absolute_percentage_error: 6.1028\n",
      "Epoch 22/50\n",
      " - 3s - loss: 6.6243 - rmse: 2.5427 - mean_absolute_error: 1.8058 - mean_absolute_percentage_error: 3.7930 - val_loss: 16.1115 - val_rmse: 3.9859 - val_mean_absolute_error: 2.8633 - val_mean_absolute_percentage_error: 6.0888\n",
      "Epoch 23/50\n",
      " - 3s - loss: 6.2719 - rmse: 2.4734 - mean_absolute_error: 1.7564 - mean_absolute_percentage_error: 3.6904 - val_loss: 16.0666 - val_rmse: 3.9804 - val_mean_absolute_error: 2.8545 - val_mean_absolute_percentage_error: 6.0767\n",
      "Epoch 24/50\n",
      " - 3s - loss: 6.1450 - rmse: 2.4417 - mean_absolute_error: 1.7290 - mean_absolute_percentage_error: 3.6341 - val_loss: 15.8552 - val_rmse: 3.9524 - val_mean_absolute_error: 2.8284 - val_mean_absolute_percentage_error: 6.0335\n",
      "Epoch 25/50\n",
      " - 3s - loss: 5.9308 - rmse: 2.3970 - mean_absolute_error: 1.6991 - mean_absolute_percentage_error: 3.5702 - val_loss: 15.2412 - val_rmse: 3.8736 - val_mean_absolute_error: 2.7563 - val_mean_absolute_percentage_error: 5.9351\n",
      "Epoch 26/50\n",
      " - 3s - loss: 6.1692 - rmse: 2.4092 - mean_absolute_error: 1.7006 - mean_absolute_percentage_error: 3.5733 - val_loss: 14.5198 - val_rmse: 3.7782 - val_mean_absolute_error: 2.6881 - val_mean_absolute_percentage_error: 5.8185\n",
      "Epoch 27/50\n",
      " - 3s - loss: 5.5796 - rmse: 2.3210 - mean_absolute_error: 1.6633 - mean_absolute_percentage_error: 3.4903 - val_loss: 13.7048 - val_rmse: 3.6656 - val_mean_absolute_error: 2.5861 - val_mean_absolute_percentage_error: 5.7381\n",
      "Epoch 28/50\n",
      " - 3s - loss: 5.4883 - rmse: 2.3006 - mean_absolute_error: 1.6552 - mean_absolute_percentage_error: 3.4725 - val_loss: 14.0192 - val_rmse: 3.7088 - val_mean_absolute_error: 2.6333 - val_mean_absolute_percentage_error: 5.7683\n",
      "Epoch 29/50\n",
      " - 3s - loss: 5.7740 - rmse: 2.3618 - mean_absolute_error: 1.7256 - mean_absolute_percentage_error: 3.6081 - val_loss: 16.7514 - val_rmse: 4.0621 - val_mean_absolute_error: 2.9224 - val_mean_absolute_percentage_error: 6.2052\n",
      "Epoch 30/50\n",
      " - 3s - loss: 6.3868 - rmse: 2.4798 - mean_absolute_error: 1.8472 - mean_absolute_percentage_error: 3.8486 - val_loss: 14.4604 - val_rmse: 3.7636 - val_mean_absolute_error: 2.6347 - val_mean_absolute_percentage_error: 5.7733\n",
      "Epoch 31/50\n",
      " - 3s - loss: 6.4148 - rmse: 2.4935 - mean_absolute_error: 1.8719 - mean_absolute_percentage_error: 3.9045 - val_loss: 15.0514 - val_rmse: 3.8396 - val_mean_absolute_error: 2.7242 - val_mean_absolute_percentage_error: 6.1106\n",
      "Epoch 32/50\n",
      " - 3s - loss: 6.5598 - rmse: 2.5003 - mean_absolute_error: 1.8712 - mean_absolute_percentage_error: 3.9221 - val_loss: 15.7621 - val_rmse: 3.9349 - val_mean_absolute_error: 2.8599 - val_mean_absolute_percentage_error: 6.4678\n",
      "Epoch 33/50\n",
      " - 3s - loss: 6.7864 - rmse: 2.5264 - mean_absolute_error: 1.8889 - mean_absolute_percentage_error: 3.9531 - val_loss: 15.1988 - val_rmse: 3.8665 - val_mean_absolute_error: 2.7551 - val_mean_absolute_percentage_error: 5.9410\n",
      "Epoch 34/50\n",
      " - 3s - loss: 5.9209 - rmse: 2.3832 - mean_absolute_error: 1.7768 - mean_absolute_percentage_error: 3.7561 - val_loss: 15.7508 - val_rmse: 3.9365 - val_mean_absolute_error: 2.8212 - val_mean_absolute_percentage_error: 6.0398\n",
      "Epoch 35/50\n",
      " - 3s - loss: 5.2270 - rmse: 2.2468 - mean_absolute_error: 1.6763 - mean_absolute_percentage_error: 3.5639 - val_loss: 15.7555 - val_rmse: 3.9373 - val_mean_absolute_error: 2.8368 - val_mean_absolute_percentage_error: 6.0988\n"
     ]
    },
    {
     "name": "stdout",
     "output_type": "stream",
     "text": [
      "Epoch 36/50\n",
      " - 3s - loss: 5.0461 - rmse: 2.2091 - mean_absolute_error: 1.6465 - mean_absolute_percentage_error: 3.5164 - val_loss: 15.4584 - val_rmse: 3.8985 - val_mean_absolute_error: 2.8005 - val_mean_absolute_percentage_error: 6.0595\n",
      "Epoch 37/50\n",
      " - 3s - loss: 5.0449 - rmse: 2.2072 - mean_absolute_error: 1.6421 - mean_absolute_percentage_error: 3.5196 - val_loss: 16.1943 - val_rmse: 3.9926 - val_mean_absolute_error: 2.9001 - val_mean_absolute_percentage_error: 6.2549\n",
      "Epoch 38/50\n",
      " - 3s - loss: 5.5729 - rmse: 2.3162 - mean_absolute_error: 1.7371 - mean_absolute_percentage_error: 3.7145 - val_loss: 15.6767 - val_rmse: 3.9246 - val_mean_absolute_error: 2.8195 - val_mean_absolute_percentage_error: 6.1003\n",
      "Epoch 39/50\n",
      " - 3s - loss: 5.6575 - rmse: 2.3359 - mean_absolute_error: 1.7527 - mean_absolute_percentage_error: 3.7267 - val_loss: 16.0813 - val_rmse: 3.9774 - val_mean_absolute_error: 2.8287 - val_mean_absolute_percentage_error: 6.0265\n",
      "Epoch 40/50\n",
      " - 3s - loss: 5.4518 - rmse: 2.2785 - mean_absolute_error: 1.7057 - mean_absolute_percentage_error: 3.6168 - val_loss: 18.4833 - val_rmse: 4.2709 - val_mean_absolute_error: 3.0892 - val_mean_absolute_percentage_error: 6.4734\n",
      "Epoch 41/50\n",
      " - 3s - loss: 5.3536 - rmse: 2.2686 - mean_absolute_error: 1.6942 - mean_absolute_percentage_error: 3.5667 - val_loss: 19.4795 - val_rmse: 4.3879 - val_mean_absolute_error: 3.1837 - val_mean_absolute_percentage_error: 6.6435\n",
      "Epoch 42/50\n",
      " - 3s - loss: 5.2821 - rmse: 2.2564 - mean_absolute_error: 1.6815 - mean_absolute_percentage_error: 3.5426 - val_loss: 17.8122 - val_rmse: 4.1957 - val_mean_absolute_error: 3.0901 - val_mean_absolute_percentage_error: 6.5500\n",
      "Epoch 43/50\n",
      " - 3s - loss: 5.0809 - rmse: 2.2022 - mean_absolute_error: 1.6267 - mean_absolute_percentage_error: 3.4150 - val_loss: 16.1373 - val_rmse: 3.9876 - val_mean_absolute_error: 2.8758 - val_mean_absolute_percentage_error: 6.2179\n",
      "Epoch 44/50\n",
      " - 3s - loss: 5.1251 - rmse: 2.2076 - mean_absolute_error: 1.6288 - mean_absolute_percentage_error: 3.4163 - val_loss: 16.1234 - val_rmse: 3.9829 - val_mean_absolute_error: 2.8396 - val_mean_absolute_percentage_error: 6.1551\n",
      "Epoch 45/50\n",
      " - 3s - loss: 5.1053 - rmse: 2.2135 - mean_absolute_error: 1.6435 - mean_absolute_percentage_error: 3.4316 - val_loss: 15.9724 - val_rmse: 3.9592 - val_mean_absolute_error: 2.7980 - val_mean_absolute_percentage_error: 6.1681\n",
      "Epoch 46/50\n",
      " - 3s - loss: 7.3980 - rmse: 2.6541 - mean_absolute_error: 1.9560 - mean_absolute_percentage_error: 4.0593 - val_loss: 16.8136 - val_rmse: 4.0636 - val_mean_absolute_error: 2.8617 - val_mean_absolute_percentage_error: 6.2022\n",
      "Epoch 47/50\n",
      " - 3s - loss: 5.8369 - rmse: 2.3685 - mean_absolute_error: 1.7653 - mean_absolute_percentage_error: 3.6873 - val_loss: 14.7376 - val_rmse: 3.7968 - val_mean_absolute_error: 2.7025 - val_mean_absolute_percentage_error: 6.0642\n",
      "Epoch 48/50\n",
      " - 3s - loss: 7.3788 - rmse: 2.6524 - mean_absolute_error: 1.9679 - mean_absolute_percentage_error: 4.0893 - val_loss: 15.5388 - val_rmse: 3.9038 - val_mean_absolute_error: 2.8407 - val_mean_absolute_percentage_error: 6.3837\n",
      "Epoch 49/50\n",
      " - 3s - loss: 6.1367 - rmse: 2.4212 - mean_absolute_error: 1.8144 - mean_absolute_percentage_error: 3.7621 - val_loss: 16.4428 - val_rmse: 4.0216 - val_mean_absolute_error: 2.9846 - val_mean_absolute_percentage_error: 6.7314\n",
      "Epoch 50/50\n",
      " - 3s - loss: 5.8821 - rmse: 2.3790 - mean_absolute_error: 1.8011 - mean_absolute_percentage_error: 3.7581 - val_loss: 17.8314 - val_rmse: 4.1925 - val_mean_absolute_error: 3.0542 - val_mean_absolute_percentage_error: 6.6615\n",
      "Wall time: 2min 45s\n"
     ]
    }
   ],
   "source": [
    "# compile and fit model\n",
    "model = SimpleModel_1()\n",
    "model.compile(loss='mean_squared_error', optimizer='adam', metrics=[rmse, 'mae', 'mape'])\n",
    "%time history_SimpleModel_1_rotate_5 = model.fit(X_train_model, y_train_model, \\\n",
    "                                        epochs=50, shuffle=False, batch_size=50, \\\n",
    "                                        validation_data=(X_val_model, y_val_model), \\\n",
    "                                        verbose=2)"
   ]
  },
  {
   "cell_type": "code",
   "execution_count": 112,
   "metadata": {},
   "outputs": [
    {
     "name": "stdout",
     "output_type": "stream",
     "text": [
      "3.665594068013862\n"
     ]
    },
    {
     "data": {
      "image/png": "[encoded data removed]",
      "text/plain": [
       "<Figure size 432x288 with 1 Axes>"
      ]
     },
     "metadata": {
      "needs_background": "light"
     },
     "output_type": "display_data"
    }
   ],
   "source": [
    "# plot metrics\n",
    "print(min(history_SimpleModel_1_rotate_5.history['val_rmse']))\n",
    "plt.plot(history_SimpleModel_1_rotate_5.history['rmse'])\n",
    "plt.plot(history_SimpleModel_1_rotate_5.history['val_rmse'])\n",
    "plt.show()"
   ]
  },
  {
   "cell_type": "markdown",
   "metadata": {},
   "source": [
    "**10 degree**"
   ]
  },
  {
   "cell_type": "code",
   "execution_count": 113,
   "metadata": {},
   "outputs": [
    {
     "name": "stdout",
     "output_type": "stream",
     "text": [
      "(11206, 96, 96, 1)\n",
      "(11206, 8)\n",
      "(1397, 96, 96, 1)\n",
      "(1397, 8)\n"
     ]
    }
   ],
   "source": [
    "# transform data\n",
    "degree = -10\n",
    "n_point = 8\n",
    "X_train_model = np.concatenate((X_train_nm, rotate_X(X_train_nm, degree)), axis=0).reshape(-1,96,96,1)\n",
    "y_train_model = np.concatenate((y_train_nm, rotate_y(y_train_nm, degree, n_point)), axis=0)\n",
    "# X_val_model = np.concatenate((X_val_nm, rotate_X(X_val_nm, degree)), axis=0).reshape(-1,96,96,1)\n",
    "# y_val_model = np.concatenate((y_val_nm, rotate_y(y_val_nm, degree, n_point)), axis=0)\n",
    "X_val_model = X_val_nm.reshape(-1,96,96,1)\n",
    "y_val_model = y_val_nm\n",
    "\n",
    "print(X_train_model.shape)\n",
    "print(y_train_model.shape)\n",
    "print(X_val_model.shape)\n",
    "print(y_val_model.shape)"
   ]
  },
  {
   "cell_type": "code",
   "execution_count": 114,
   "metadata": {
    "scrolled": true
   },
   "outputs": [
    {
     "name": "stdout",
     "output_type": "stream",
     "text": [
      "Train on 11206 samples, validate on 1397 samples\n",
      "Epoch 1/50\n",
      " - 4s - loss: 213.5409 - rmse: 12.1496 - mean_absolute_error: 9.5716 - mean_absolute_percentage_error: 19.0404 - val_loss: 254.9801 - val_rmse: 15.9306 - val_mean_absolute_error: 12.5667 - val_mean_absolute_percentage_error: 24.6433\n",
      "Epoch 2/50\n",
      " - 3s - loss: 74.9367 - rmse: 8.1019 - mean_absolute_error: 6.1932 - mean_absolute_percentage_error: 12.3972 - val_loss: 165.2094 - val_rmse: 12.8188 - val_mean_absolute_error: 10.1855 - val_mean_absolute_percentage_error: 20.2511\n",
      "Epoch 3/50\n",
      " - 3s - loss: 52.1179 - rmse: 6.8624 - mean_absolute_error: 5.2408 - mean_absolute_percentage_error: 10.5312 - val_loss: 116.2083 - val_rmse: 10.7496 - val_mean_absolute_error: 8.4730 - val_mean_absolute_percentage_error: 16.6621\n",
      "Epoch 4/50\n",
      " - 3s - loss: 36.8239 - rmse: 5.8467 - mean_absolute_error: 4.4661 - mean_absolute_percentage_error: 9.0433 - val_loss: 141.4947 - val_rmse: 11.8777 - val_mean_absolute_error: 10.1515 - val_mean_absolute_percentage_error: 19.5087\n",
      "Epoch 5/50\n",
      " - 3s - loss: 28.8551 - rmse: 4.9974 - mean_absolute_error: 3.8200 - mean_absolute_percentage_error: 7.7997 - val_loss: 37.3880 - val_rmse: 6.0947 - val_mean_absolute_error: 4.8190 - val_mean_absolute_percentage_error: 9.7954\n",
      "Epoch 6/50\n",
      " - 3s - loss: 13.9481 - rmse: 3.6770 - mean_absolute_error: 2.6431 - mean_absolute_percentage_error: 5.5523 - val_loss: 28.0460 - val_rmse: 5.2723 - val_mean_absolute_error: 4.0527 - val_mean_absolute_percentage_error: 8.3872\n",
      "Epoch 7/50\n",
      " - 3s - loss: 11.4437 - rmse: 3.3341 - mean_absolute_error: 2.3848 - mean_absolute_percentage_error: 5.0286 - val_loss: 24.1904 - val_rmse: 4.8923 - val_mean_absolute_error: 3.7049 - val_mean_absolute_percentage_error: 7.7381\n",
      "Epoch 8/50\n",
      " - 3s - loss: 9.8321 - rmse: 3.0918 - mean_absolute_error: 2.2001 - mean_absolute_percentage_error: 4.6494 - val_loss: 21.6623 - val_rmse: 4.6260 - val_mean_absolute_error: 3.4501 - val_mean_absolute_percentage_error: 7.2521\n",
      "Epoch 9/50\n",
      " - 3s - loss: 8.7870 - rmse: 2.9242 - mean_absolute_error: 2.0763 - mean_absolute_percentage_error: 4.3920 - val_loss: 20.5403 - val_rmse: 4.5026 - val_mean_absolute_error: 3.3308 - val_mean_absolute_percentage_error: 7.0249\n",
      "Epoch 10/50\n",
      " - 3s - loss: 8.0208 - rmse: 2.7935 - mean_absolute_error: 1.9798 - mean_absolute_percentage_error: 4.1901 - val_loss: 19.5539 - val_rmse: 4.3911 - val_mean_absolute_error: 3.2293 - val_mean_absolute_percentage_error: 6.8487\n",
      "Epoch 11/50\n",
      " - 3s - loss: 7.5555 - rmse: 2.7018 - mean_absolute_error: 1.9046 - mean_absolute_percentage_error: 4.0308 - val_loss: 18.9417 - val_rmse: 4.3201 - val_mean_absolute_error: 3.1683 - val_mean_absolute_percentage_error: 6.7549\n",
      "Epoch 12/50\n",
      " - 3s - loss: 7.0330 - rmse: 2.6022 - mean_absolute_error: 1.8303 - mean_absolute_percentage_error: 3.8736 - val_loss: 18.4345 - val_rmse: 4.2603 - val_mean_absolute_error: 3.1156 - val_mean_absolute_percentage_error: 6.6683\n",
      "Epoch 13/50\n",
      " - 3s - loss: 6.4775 - rmse: 2.5007 - mean_absolute_error: 1.7601 - mean_absolute_percentage_error: 3.7237 - val_loss: 18.1965 - val_rmse: 4.2314 - val_mean_absolute_error: 3.0958 - val_mean_absolute_percentage_error: 6.6483\n",
      "Epoch 14/50\n",
      " - 3s - loss: 6.1485 - rmse: 2.4271 - mean_absolute_error: 1.7034 - mean_absolute_percentage_error: 3.6016 - val_loss: 18.1309 - val_rmse: 4.2230 - val_mean_absolute_error: 3.0903 - val_mean_absolute_percentage_error: 6.6476\n",
      "Epoch 15/50\n",
      " - 3s - loss: 5.9163 - rmse: 2.3659 - mean_absolute_error: 1.6606 - mean_absolute_percentage_error: 3.5086 - val_loss: 17.9689 - val_rmse: 4.2029 - val_mean_absolute_error: 3.0816 - val_mean_absolute_percentage_error: 6.6464\n",
      "Epoch 16/50\n",
      " - 3s - loss: 5.5787 - rmse: 2.3093 - mean_absolute_error: 1.6282 - mean_absolute_percentage_error: 3.4387 - val_loss: 19.4793 - val_rmse: 4.3805 - val_mean_absolute_error: 3.2549 - val_mean_absolute_percentage_error: 7.0039\n",
      "Epoch 17/50\n",
      " - 3s - loss: 5.6536 - rmse: 2.3127 - mean_absolute_error: 1.6343 - mean_absolute_percentage_error: 3.4528 - val_loss: 20.8641 - val_rmse: 4.5371 - val_mean_absolute_error: 3.4144 - val_mean_absolute_percentage_error: 7.3409\n",
      "Epoch 18/50\n",
      " - 3s - loss: 5.7494 - rmse: 2.3197 - mean_absolute_error: 1.6507 - mean_absolute_percentage_error: 3.4932 - val_loss: 19.4756 - val_rmse: 4.3785 - val_mean_absolute_error: 3.2231 - val_mean_absolute_percentage_error: 6.9797\n",
      "Epoch 19/50\n",
      " - 3s - loss: 6.0973 - rmse: 2.4170 - mean_absolute_error: 1.7645 - mean_absolute_percentage_error: 3.7371 - val_loss: 23.2628 - val_rmse: 4.7953 - val_mean_absolute_error: 3.5891 - val_mean_absolute_percentage_error: 7.8641\n",
      "Epoch 20/50\n",
      " - 3s - loss: 6.8398 - rmse: 2.5664 - mean_absolute_error: 1.9005 - mean_absolute_percentage_error: 3.9860 - val_loss: 17.3038 - val_rmse: 4.1193 - val_mean_absolute_error: 2.9678 - val_mean_absolute_percentage_error: 6.4840\n",
      "Epoch 21/50\n",
      " - 3s - loss: 6.6896 - rmse: 2.5238 - mean_absolute_error: 1.8722 - mean_absolute_percentage_error: 3.9111 - val_loss: 20.2405 - val_rmse: 4.4684 - val_mean_absolute_error: 3.3834 - val_mean_absolute_percentage_error: 7.4086\n",
      "Epoch 22/50\n",
      " - 3s - loss: 7.4849 - rmse: 2.6773 - mean_absolute_error: 2.0103 - mean_absolute_percentage_error: 4.1743 - val_loss: 18.6655 - val_rmse: 4.2764 - val_mean_absolute_error: 3.1215 - val_mean_absolute_percentage_error: 6.9509\n",
      "Epoch 23/50\n",
      " - 3s - loss: 8.3542 - rmse: 2.8014 - mean_absolute_error: 2.1230 - mean_absolute_percentage_error: 4.4429 - val_loss: 17.1892 - val_rmse: 4.1058 - val_mean_absolute_error: 2.9735 - val_mean_absolute_percentage_error: 6.4411\n",
      "Epoch 24/50\n",
      " - 3s - loss: 7.5394 - rmse: 2.6937 - mean_absolute_error: 2.0327 - mean_absolute_percentage_error: 4.2649 - val_loss: 20.5013 - val_rmse: 4.4952 - val_mean_absolute_error: 3.3184 - val_mean_absolute_percentage_error: 7.0722\n",
      "Epoch 25/50\n",
      " - 3s - loss: 6.1786 - rmse: 2.4569 - mean_absolute_error: 1.8536 - mean_absolute_percentage_error: 3.9008 - val_loss: 16.2900 - val_rmse: 3.9916 - val_mean_absolute_error: 2.8744 - val_mean_absolute_percentage_error: 6.3625\n",
      "Epoch 26/50\n",
      " - 3s - loss: 6.1718 - rmse: 2.4500 - mean_absolute_error: 1.8626 - mean_absolute_percentage_error: 3.9154 - val_loss: 22.9477 - val_rmse: 4.7632 - val_mean_absolute_error: 3.5343 - val_mean_absolute_percentage_error: 7.4075\n",
      "Epoch 27/50\n",
      " - 3s - loss: 6.7932 - rmse: 2.5535 - mean_absolute_error: 1.9533 - mean_absolute_percentage_error: 4.0814 - val_loss: 26.8351 - val_rmse: 5.1591 - val_mean_absolute_error: 3.8375 - val_mean_absolute_percentage_error: 7.8778\n",
      "Epoch 28/50\n",
      " - 3s - loss: 7.9634 - rmse: 2.7550 - mean_absolute_error: 2.1188 - mean_absolute_percentage_error: 4.3733 - val_loss: 20.8799 - val_rmse: 4.5397 - val_mean_absolute_error: 3.3542 - val_mean_absolute_percentage_error: 7.0701\n",
      "Epoch 29/50\n",
      " - 3s - loss: 7.1119 - rmse: 2.6129 - mean_absolute_error: 1.9808 - mean_absolute_percentage_error: 4.0706 - val_loss: 19.3472 - val_rmse: 4.3651 - val_mean_absolute_error: 3.1867 - val_mean_absolute_percentage_error: 6.8594\n",
      "Epoch 30/50\n",
      " - 3s - loss: 5.8704 - rmse: 2.3763 - mean_absolute_error: 1.7973 - mean_absolute_percentage_error: 3.7224 - val_loss: 19.1020 - val_rmse: 4.3322 - val_mean_absolute_error: 3.1278 - val_mean_absolute_percentage_error: 6.9026\n",
      "Epoch 31/50\n",
      " - 3s - loss: 5.4914 - rmse: 2.2975 - mean_absolute_error: 1.7311 - mean_absolute_percentage_error: 3.5918 - val_loss: 18.6794 - val_rmse: 4.2785 - val_mean_absolute_error: 3.1088 - val_mean_absolute_percentage_error: 7.0163\n",
      "Epoch 32/50\n",
      " - 3s - loss: 5.4863 - rmse: 2.2963 - mean_absolute_error: 1.7261 - mean_absolute_percentage_error: 3.5882 - val_loss: 18.9786 - val_rmse: 4.3115 - val_mean_absolute_error: 3.1438 - val_mean_absolute_percentage_error: 7.1621\n",
      "Epoch 33/50\n",
      " - 3s - loss: 6.2750 - rmse: 2.4597 - mean_absolute_error: 1.8604 - mean_absolute_percentage_error: 3.8735 - val_loss: 18.4475 - val_rmse: 4.2518 - val_mean_absolute_error: 3.0712 - val_mean_absolute_percentage_error: 6.8412\n",
      "Epoch 34/50\n",
      " - 3s - loss: 7.6955 - rmse: 2.7209 - mean_absolute_error: 2.0764 - mean_absolute_percentage_error: 4.3154 - val_loss: 17.0220 - val_rmse: 4.0836 - val_mean_absolute_error: 2.9344 - val_mean_absolute_percentage_error: 6.4698\n",
      "Epoch 35/50\n",
      " - 3s - loss: 8.4462 - rmse: 2.8408 - mean_absolute_error: 2.1622 - mean_absolute_percentage_error: 4.4958 - val_loss: 21.7007 - val_rmse: 4.6300 - val_mean_absolute_error: 3.4132 - val_mean_absolute_percentage_error: 7.0835\n"
     ]
    },
    {
     "name": "stdout",
     "output_type": "stream",
     "text": [
      "Epoch 36/50\n",
      " - 3s - loss: 7.9340 - rmse: 2.7524 - mean_absolute_error: 2.1096 - mean_absolute_percentage_error: 4.3572 - val_loss: 23.1297 - val_rmse: 4.7882 - val_mean_absolute_error: 3.6427 - val_mean_absolute_percentage_error: 7.4838\n",
      "Epoch 37/50\n",
      " - 3s - loss: 6.3720 - rmse: 2.4757 - mean_absolute_error: 1.8878 - mean_absolute_percentage_error: 3.9140 - val_loss: 19.5417 - val_rmse: 4.3945 - val_mean_absolute_error: 3.2116 - val_mean_absolute_percentage_error: 6.8358\n",
      "Epoch 38/50\n",
      " - 3s - loss: 5.7897 - rmse: 2.3579 - mean_absolute_error: 1.7930 - mean_absolute_percentage_error: 3.7268 - val_loss: 19.1302 - val_rmse: 4.3459 - val_mean_absolute_error: 3.1576 - val_mean_absolute_percentage_error: 6.8155\n",
      "Epoch 39/50\n",
      " - 3s - loss: 5.1279 - rmse: 2.2287 - mean_absolute_error: 1.6761 - mean_absolute_percentage_error: 3.4895 - val_loss: 14.8503 - val_rmse: 3.8111 - val_mean_absolute_error: 2.6929 - val_mean_absolute_percentage_error: 5.8977\n",
      "Epoch 40/50\n",
      " - 3s - loss: 5.1184 - rmse: 2.2259 - mean_absolute_error: 1.6688 - mean_absolute_percentage_error: 3.4581 - val_loss: 13.2675 - val_rmse: 3.5884 - val_mean_absolute_error: 2.5076 - val_mean_absolute_percentage_error: 5.6560\n",
      "Epoch 41/50\n",
      " - 3s - loss: 4.5630 - rmse: 2.0981 - mean_absolute_error: 1.5704 - mean_absolute_percentage_error: 3.2512 - val_loss: 14.7673 - val_rmse: 3.8003 - val_mean_absolute_error: 2.6653 - val_mean_absolute_percentage_error: 5.8536\n",
      "Epoch 42/50\n",
      " - 3s - loss: 4.4899 - rmse: 2.0809 - mean_absolute_error: 1.5545 - mean_absolute_percentage_error: 3.2215 - val_loss: 14.7589 - val_rmse: 3.8008 - val_mean_absolute_error: 2.6773 - val_mean_absolute_percentage_error: 5.8670\n",
      "Epoch 43/50\n",
      " - 3s - loss: 4.6211 - rmse: 2.1108 - mean_absolute_error: 1.5823 - mean_absolute_percentage_error: 3.2881 - val_loss: 15.2806 - val_rmse: 3.8702 - val_mean_absolute_error: 2.7762 - val_mean_absolute_percentage_error: 6.2070\n",
      "Epoch 44/50\n",
      " - 3s - loss: 4.9445 - rmse: 2.1921 - mean_absolute_error: 1.6628 - mean_absolute_percentage_error: 3.4620 - val_loss: 14.4323 - val_rmse: 3.7546 - val_mean_absolute_error: 2.6748 - val_mean_absolute_percentage_error: 6.1310\n",
      "Epoch 45/50\n",
      " - 3s - loss: 5.5001 - rmse: 2.3077 - mean_absolute_error: 1.7674 - mean_absolute_percentage_error: 3.6670 - val_loss: 15.7926 - val_rmse: 3.9301 - val_mean_absolute_error: 2.8969 - val_mean_absolute_percentage_error: 6.6743\n",
      "Epoch 46/50\n",
      " - 3s - loss: 6.1308 - rmse: 2.4304 - mean_absolute_error: 1.8757 - mean_absolute_percentage_error: 3.9003 - val_loss: 20.4705 - val_rmse: 4.4832 - val_mean_absolute_error: 3.4385 - val_mean_absolute_percentage_error: 7.9801\n",
      "Epoch 47/50\n",
      " - 3s - loss: 7.2130 - rmse: 2.6208 - mean_absolute_error: 2.0240 - mean_absolute_percentage_error: 4.1729 - val_loss: 21.1617 - val_rmse: 4.5607 - val_mean_absolute_error: 3.4916 - val_mean_absolute_percentage_error: 7.8102\n",
      "Epoch 48/50\n",
      " - 3s - loss: 8.4654 - rmse: 2.8124 - mean_absolute_error: 2.1850 - mean_absolute_percentage_error: 4.4517 - val_loss: 14.0768 - val_rmse: 3.6995 - val_mean_absolute_error: 2.6100 - val_mean_absolute_percentage_error: 5.9173\n",
      "Epoch 49/50\n",
      " - 3s - loss: 6.2520 - rmse: 2.4304 - mean_absolute_error: 1.8543 - mean_absolute_percentage_error: 3.7878 - val_loss: 13.7975 - val_rmse: 3.6605 - val_mean_absolute_error: 2.5831 - val_mean_absolute_percentage_error: 5.8705\n",
      "Epoch 50/50\n",
      " - 3s - loss: 4.8798 - rmse: 2.1567 - mean_absolute_error: 1.6380 - mean_absolute_percentage_error: 3.3695 - val_loss: 13.9593 - val_rmse: 3.6836 - val_mean_absolute_error: 2.6095 - val_mean_absolute_percentage_error: 5.9471\n",
      "Wall time: 2min 46s\n"
     ]
    }
   ],
   "source": [
    "# compile and fit model\n",
    "model = SimpleModel_1()\n",
    "model.compile(loss='mean_squared_error', optimizer='adam', metrics=[rmse, 'mae', 'mape'])\n",
    "%time history_SimpleModel_1_rotate_10 = model.fit(X_train_model, y_train_model, \\\n",
    "                                        epochs=50, shuffle=False, batch_size=50, \\\n",
    "                                        validation_data=(X_val_model, y_val_model), \\\n",
    "                                        verbose=2)"
   ]
  },
  {
   "cell_type": "code",
   "execution_count": 115,
   "metadata": {},
   "outputs": [
    {
     "name": "stdout",
     "output_type": "stream",
     "text": [
      "3.588405377026874\n"
     ]
    },
    {
     "data": {
      "image/png": "[encoded data removed]",
      "text/plain": [
       "<Figure size 432x288 with 1 Axes>"
      ]
     },
     "metadata": {
      "needs_background": "light"
     },
     "output_type": "display_data"
    }
   ],
   "source": [
    "# plot metrics\n",
    "print(min(history_SimpleModel_1_rotate_10.history['val_rmse']))\n",
    "plt.plot(history_SimpleModel_1_rotate_10.history['rmse'])\n",
    "plt.plot(history_SimpleModel_1_rotate_10.history['val_rmse'])\n",
    "plt.show()"
   ]
  },
  {
   "cell_type": "markdown",
   "metadata": {},
   "source": [
    "**15 degree**"
   ]
  },
  {
   "cell_type": "code",
   "execution_count": 116,
   "metadata": {},
   "outputs": [
    {
     "name": "stdout",
     "output_type": "stream",
     "text": [
      "(11206, 96, 96, 1)\n",
      "(11206, 8)\n",
      "(1397, 96, 96, 1)\n",
      "(1397, 8)\n"
     ]
    }
   ],
   "source": [
    "# transform data\n",
    "degree = -15\n",
    "n_point = 8\n",
    "X_train_model = np.concatenate((X_train_nm, rotate_X(X_train_nm, degree)), axis=0).reshape(-1,96,96,1)\n",
    "y_train_model = np.concatenate((y_train_nm, rotate_y(y_train_nm, degree, n_point)), axis=0)\n",
    "# X_val_model = np.concatenate((X_val_nm, rotate_X(X_val_nm, degree)), axis=0).reshape(-1,96,96,1)\n",
    "# y_val_model = np.concatenate((y_val_nm, rotate_y(y_val_nm, degree, n_point)), axis=0)\n",
    "X_val_model = X_val_nm.reshape(-1,96,96,1)\n",
    "y_val_model = y_val_nm\n",
    "\n",
    "print(X_train_model.shape)\n",
    "print(y_train_model.shape)\n",
    "print(X_val_model.shape)\n",
    "print(y_val_model.shape)"
   ]
  },
  {
   "cell_type": "code",
   "execution_count": 117,
   "metadata": {
    "scrolled": true
   },
   "outputs": [
    {
     "name": "stdout",
     "output_type": "stream",
     "text": [
      "Train on 11206 samples, validate on 1397 samples\n",
      "Epoch 1/50\n",
      " - 4s - loss: 170.7227 - rmse: 11.0320 - mean_absolute_error: 8.5661 - mean_absolute_percentage_error: 17.2241 - val_loss: 279.4455 - val_rmse: 16.6802 - val_mean_absolute_error: 13.1934 - val_mean_absolute_percentage_error: 26.0575\n",
      "Epoch 2/50\n",
      " - 3s - loss: 88.7644 - rmse: 8.7897 - mean_absolute_error: 6.7121 - mean_absolute_percentage_error: 13.5820 - val_loss: 241.5355 - val_rmse: 15.5090 - val_mean_absolute_error: 12.3757 - val_mean_absolute_percentage_error: 24.5382\n",
      "Epoch 3/50\n",
      " - 3s - loss: 74.0187 - rmse: 8.0124 - mean_absolute_error: 6.1168 - mean_absolute_percentage_error: 12.3879 - val_loss: 200.0742 - val_rmse: 14.1123 - val_mean_absolute_error: 11.2844 - val_mean_absolute_percentage_error: 22.3762\n",
      "Epoch 4/50\n",
      " - 3s - loss: 60.1206 - rmse: 7.2336 - mean_absolute_error: 5.5144 - mean_absolute_percentage_error: 11.2005 - val_loss: 156.9319 - val_rmse: 12.4960 - val_mean_absolute_error: 9.9758 - val_mean_absolute_percentage_error: 19.8862\n",
      "Epoch 5/50\n",
      " - 3s - loss: 44.9134 - rmse: 6.2958 - mean_absolute_error: 4.7597 - mean_absolute_percentage_error: 9.6749 - val_loss: 105.3726 - val_rmse: 10.2347 - val_mean_absolute_error: 8.0674 - val_mean_absolute_percentage_error: 16.2190\n",
      "Epoch 6/50\n",
      " - 3s - loss: 29.2563 - rmse: 5.1619 - mean_absolute_error: 3.8669 - mean_absolute_percentage_error: 7.9185 - val_loss: 64.0713 - val_rmse: 7.9792 - val_mean_absolute_error: 6.2287 - val_mean_absolute_percentage_error: 12.6900\n",
      "Epoch 7/50\n",
      " - 3s - loss: 18.8882 - rmse: 4.2356 - mean_absolute_error: 3.1495 - mean_absolute_percentage_error: 6.5325 - val_loss: 37.0315 - val_rmse: 6.0629 - val_mean_absolute_error: 4.6562 - val_mean_absolute_percentage_error: 9.7388\n",
      "Epoch 8/50\n",
      " - 3s - loss: 15.4781 - rmse: 3.8196 - mean_absolute_error: 2.8498 - mean_absolute_percentage_error: 5.9759 - val_loss: 24.9121 - val_rmse: 4.9662 - val_mean_absolute_error: 3.7433 - val_mean_absolute_percentage_error: 8.1541\n",
      "Epoch 9/50\n",
      " - 3s - loss: 12.0454 - rmse: 3.4095 - mean_absolute_error: 2.5021 - mean_absolute_percentage_error: 5.2919 - val_loss: 21.4173 - val_rmse: 4.5980 - val_mean_absolute_error: 3.4394 - val_mean_absolute_percentage_error: 7.7520\n",
      "Epoch 10/50\n",
      " - 3s - loss: 10.0372 - rmse: 3.1300 - mean_absolute_error: 2.2588 - mean_absolute_percentage_error: 4.8057 - val_loss: 19.8376 - val_rmse: 4.4249 - val_mean_absolute_error: 3.2839 - val_mean_absolute_percentage_error: 7.3683\n",
      "Epoch 11/50\n",
      " - 3s - loss: 9.2653 - rmse: 3.0066 - mean_absolute_error: 2.1621 - mean_absolute_percentage_error: 4.6023 - val_loss: 20.1793 - val_rmse: 4.4663 - val_mean_absolute_error: 3.3101 - val_mean_absolute_percentage_error: 7.2909\n",
      "Epoch 12/50\n",
      " - 3s - loss: 9.0033 - rmse: 2.9409 - mean_absolute_error: 2.0979 - mean_absolute_percentage_error: 4.4683 - val_loss: 23.7970 - val_rmse: 4.8579 - val_mean_absolute_error: 3.6818 - val_mean_absolute_percentage_error: 7.8921\n",
      "Epoch 13/50\n",
      " - 3s - loss: 8.9087 - rmse: 2.9099 - mean_absolute_error: 2.0767 - mean_absolute_percentage_error: 4.4266 - val_loss: 28.6856 - val_rmse: 5.3411 - val_mean_absolute_error: 4.1444 - val_mean_absolute_percentage_error: 8.7052\n",
      "Epoch 14/50\n",
      " - 3s - loss: 8.6976 - rmse: 2.8840 - mean_absolute_error: 2.0833 - mean_absolute_percentage_error: 4.4378 - val_loss: 32.2156 - val_rmse: 5.6634 - val_mean_absolute_error: 4.4517 - val_mean_absolute_percentage_error: 9.2629\n",
      "Epoch 15/50\n",
      " - 3s - loss: 8.4825 - rmse: 2.8610 - mean_absolute_error: 2.0964 - mean_absolute_percentage_error: 4.4559 - val_loss: 28.3980 - val_rmse: 5.3153 - val_mean_absolute_error: 4.1102 - val_mean_absolute_percentage_error: 8.6468\n",
      "Epoch 16/50\n",
      " - 3s - loss: 8.9898 - rmse: 2.9371 - mean_absolute_error: 2.1671 - mean_absolute_percentage_error: 4.6050 - val_loss: 23.2478 - val_rmse: 4.8038 - val_mean_absolute_error: 3.6221 - val_mean_absolute_percentage_error: 7.7812\n",
      "Epoch 17/50\n",
      " - 3s - loss: 10.2833 - rmse: 3.1426 - mean_absolute_error: 2.3416 - mean_absolute_percentage_error: 4.9664 - val_loss: 26.8254 - val_rmse: 5.1506 - val_mean_absolute_error: 4.0130 - val_mean_absolute_percentage_error: 9.3580\n",
      "Epoch 18/50\n",
      " - 3s - loss: 9.6234 - rmse: 3.0316 - mean_absolute_error: 2.2553 - mean_absolute_percentage_error: 4.7924 - val_loss: 27.6766 - val_rmse: 5.2331 - val_mean_absolute_error: 4.0639 - val_mean_absolute_percentage_error: 9.3330\n",
      "Epoch 19/50\n",
      " - 3s - loss: 7.9318 - rmse: 2.7618 - mean_absolute_error: 2.0153 - mean_absolute_percentage_error: 4.2957 - val_loss: 20.5886 - val_rmse: 4.5110 - val_mean_absolute_error: 3.4705 - val_mean_absolute_percentage_error: 8.0493\n",
      "Epoch 20/50\n",
      " - 3s - loss: 6.7311 - rmse: 2.5558 - mean_absolute_error: 1.8480 - mean_absolute_percentage_error: 3.9481 - val_loss: 20.9404 - val_rmse: 4.5500 - val_mean_absolute_error: 3.4923 - val_mean_absolute_percentage_error: 8.0663\n",
      "Epoch 21/50\n",
      " - 3s - loss: 6.1376 - rmse: 2.4388 - mean_absolute_error: 1.7514 - mean_absolute_percentage_error: 3.7468 - val_loss: 21.5622 - val_rmse: 4.6201 - val_mean_absolute_error: 3.5969 - val_mean_absolute_percentage_error: 8.3048\n",
      "Epoch 22/50\n",
      " - 3s - loss: 5.8989 - rmse: 2.3845 - mean_absolute_error: 1.7086 - mean_absolute_percentage_error: 3.6598 - val_loss: 19.8513 - val_rmse: 4.4304 - val_mean_absolute_error: 3.3786 - val_mean_absolute_percentage_error: 7.7948\n",
      "Epoch 23/50\n",
      " - 3s - loss: 5.7182 - rmse: 2.3327 - mean_absolute_error: 1.6651 - mean_absolute_percentage_error: 3.5716 - val_loss: 20.2459 - val_rmse: 4.4754 - val_mean_absolute_error: 3.3972 - val_mean_absolute_percentage_error: 7.7418\n",
      "Epoch 24/50\n",
      " - 3s - loss: 5.4851 - rmse: 2.2922 - mean_absolute_error: 1.6354 - mean_absolute_percentage_error: 3.4989 - val_loss: 19.8360 - val_rmse: 4.4307 - val_mean_absolute_error: 3.3792 - val_mean_absolute_percentage_error: 7.7909\n",
      "Epoch 25/50\n",
      " - 3s - loss: 5.4454 - rmse: 2.2827 - mean_absolute_error: 1.6372 - mean_absolute_percentage_error: 3.5032 - val_loss: 19.9161 - val_rmse: 4.4359 - val_mean_absolute_error: 3.3801 - val_mean_absolute_percentage_error: 7.8742\n",
      "Epoch 26/50\n",
      " - 3s - loss: 5.8385 - rmse: 2.3491 - mean_absolute_error: 1.6967 - mean_absolute_percentage_error: 3.6185 - val_loss: 20.1866 - val_rmse: 4.4681 - val_mean_absolute_error: 3.4107 - val_mean_absolute_percentage_error: 7.8304\n",
      "Epoch 27/50\n",
      " - 3s - loss: 6.9468 - rmse: 2.5782 - mean_absolute_error: 1.9210 - mean_absolute_percentage_error: 4.0799 - val_loss: 21.2670 - val_rmse: 4.5856 - val_mean_absolute_error: 3.4017 - val_mean_absolute_percentage_error: 7.5608\n",
      "Epoch 28/50\n",
      " - 3s - loss: 7.8379 - rmse: 2.7485 - mean_absolute_error: 2.0750 - mean_absolute_percentage_error: 4.4109 - val_loss: 25.3103 - val_rmse: 5.0121 - val_mean_absolute_error: 3.8371 - val_mean_absolute_percentage_error: 8.5228\n",
      "Epoch 29/50\n",
      " - 3s - loss: 7.4974 - rmse: 2.6958 - mean_absolute_error: 2.0361 - mean_absolute_percentage_error: 4.3177 - val_loss: 26.4895 - val_rmse: 5.1286 - val_mean_absolute_error: 4.0424 - val_mean_absolute_percentage_error: 9.1500\n",
      "Epoch 30/50\n",
      " - 3s - loss: 7.8453 - rmse: 2.7520 - mean_absolute_error: 2.1115 - mean_absolute_percentage_error: 4.4980 - val_loss: 22.8421 - val_rmse: 4.7575 - val_mean_absolute_error: 3.7341 - val_mean_absolute_percentage_error: 8.6485\n",
      "Epoch 31/50\n",
      " - 3s - loss: 7.4880 - rmse: 2.6963 - mean_absolute_error: 2.0579 - mean_absolute_percentage_error: 4.3630 - val_loss: 22.4128 - val_rmse: 4.7102 - val_mean_absolute_error: 3.6965 - val_mean_absolute_percentage_error: 8.7157\n",
      "Epoch 32/50\n",
      " - 3s - loss: 7.4077 - rmse: 2.6753 - mean_absolute_error: 2.0427 - mean_absolute_percentage_error: 4.3248 - val_loss: 20.8312 - val_rmse: 4.5397 - val_mean_absolute_error: 3.4419 - val_mean_absolute_percentage_error: 7.9384\n",
      "Epoch 33/50\n",
      " - 3s - loss: 7.4624 - rmse: 2.6773 - mean_absolute_error: 2.0474 - mean_absolute_percentage_error: 4.3219 - val_loss: 19.6416 - val_rmse: 4.3994 - val_mean_absolute_error: 3.2774 - val_mean_absolute_percentage_error: 7.3297\n",
      "Epoch 34/50\n",
      " - 3s - loss: 6.5737 - rmse: 2.5105 - mean_absolute_error: 1.9123 - mean_absolute_percentage_error: 4.0513 - val_loss: 27.7667 - val_rmse: 5.2420 - val_mean_absolute_error: 4.0261 - val_mean_absolute_percentage_error: 8.7116\n",
      "Epoch 35/50\n",
      " - 3s - loss: 6.9447 - rmse: 2.5601 - mean_absolute_error: 1.9480 - mean_absolute_percentage_error: 4.0997 - val_loss: 27.1537 - val_rmse: 5.1860 - val_mean_absolute_error: 4.0076 - val_mean_absolute_percentage_error: 8.8564\n"
     ]
    },
    {
     "name": "stdout",
     "output_type": "stream",
     "text": [
      "Epoch 36/50\n",
      " - 3s - loss: 6.5060 - rmse: 2.5010 - mean_absolute_error: 1.9078 - mean_absolute_percentage_error: 4.0457 - val_loss: 26.1613 - val_rmse: 5.0919 - val_mean_absolute_error: 4.0588 - val_mean_absolute_percentage_error: 9.4111\n",
      "Epoch 37/50\n",
      " - 3s - loss: 7.1182 - rmse: 2.6198 - mean_absolute_error: 2.0202 - mean_absolute_percentage_error: 4.2968 - val_loss: 28.9652 - val_rmse: 5.3629 - val_mean_absolute_error: 4.3017 - val_mean_absolute_percentage_error: 9.9538\n",
      "Epoch 38/50\n",
      " - 3s - loss: 8.7902 - rmse: 2.9101 - mean_absolute_error: 2.2544 - mean_absolute_percentage_error: 4.7402 - val_loss: 36.3817 - val_rmse: 6.0152 - val_mean_absolute_error: 4.8265 - val_mean_absolute_percentage_error: 11.0615\n",
      "Epoch 39/50\n",
      " - 3s - loss: 10.2111 - rmse: 3.1121 - mean_absolute_error: 2.3979 - mean_absolute_percentage_error: 5.0185 - val_loss: 23.0532 - val_rmse: 4.7787 - val_mean_absolute_error: 3.7094 - val_mean_absolute_percentage_error: 8.5912\n",
      "Epoch 40/50\n",
      " - 3s - loss: 7.7754 - rmse: 2.7173 - mean_absolute_error: 2.0695 - mean_absolute_percentage_error: 4.3410 - val_loss: 21.1065 - val_rmse: 4.5768 - val_mean_absolute_error: 3.4068 - val_mean_absolute_percentage_error: 7.2869\n",
      "Epoch 41/50\n",
      " - 3s - loss: 6.1361 - rmse: 2.4255 - mean_absolute_error: 1.8338 - mean_absolute_percentage_error: 3.8718 - val_loss: 26.4117 - val_rmse: 5.1253 - val_mean_absolute_error: 4.0042 - val_mean_absolute_percentage_error: 8.5113\n",
      "Epoch 42/50\n",
      " - 3s - loss: 5.4900 - rmse: 2.2897 - mean_absolute_error: 1.7383 - mean_absolute_percentage_error: 3.6651 - val_loss: 26.3494 - val_rmse: 5.1183 - val_mean_absolute_error: 4.0201 - val_mean_absolute_percentage_error: 8.6965\n",
      "Epoch 43/50\n",
      " - 3s - loss: 5.1420 - rmse: 2.2202 - mean_absolute_error: 1.6756 - mean_absolute_percentage_error: 3.5309 - val_loss: 24.5914 - val_rmse: 4.9420 - val_mean_absolute_error: 3.8630 - val_mean_absolute_percentage_error: 8.5578\n",
      "Epoch 44/50\n",
      " - 3s - loss: 4.5113 - rmse: 2.0844 - mean_absolute_error: 1.5658 - mean_absolute_percentage_error: 3.3231 - val_loss: 21.0050 - val_rmse: 4.5625 - val_mean_absolute_error: 3.5067 - val_mean_absolute_percentage_error: 7.8552\n",
      "Epoch 45/50\n",
      " - 3s - loss: 4.2256 - rmse: 2.0209 - mean_absolute_error: 1.5197 - mean_absolute_percentage_error: 3.2307 - val_loss: 20.0542 - val_rmse: 4.4534 - val_mean_absolute_error: 3.4043 - val_mean_absolute_percentage_error: 7.7419\n",
      "Epoch 46/50\n",
      " - 3s - loss: 4.1150 - rmse: 1.9919 - mean_absolute_error: 1.4957 - mean_absolute_percentage_error: 3.1792 - val_loss: 19.4443 - val_rmse: 4.3842 - val_mean_absolute_error: 3.3096 - val_mean_absolute_percentage_error: 7.4879\n",
      "Epoch 47/50\n",
      " - 3s - loss: 4.3749 - rmse: 2.0526 - mean_absolute_error: 1.5456 - mean_absolute_percentage_error: 3.2976 - val_loss: 19.4217 - val_rmse: 4.3816 - val_mean_absolute_error: 3.2781 - val_mean_absolute_percentage_error: 7.3628\n",
      "Epoch 48/50\n",
      " - 3s - loss: 4.6820 - rmse: 2.1254 - mean_absolute_error: 1.6203 - mean_absolute_percentage_error: 3.4631 - val_loss: 18.2678 - val_rmse: 4.2496 - val_mean_absolute_error: 3.0757 - val_mean_absolute_percentage_error: 6.7288\n",
      "Epoch 49/50\n",
      " - 3s - loss: 5.5526 - rmse: 2.3189 - mean_absolute_error: 1.7871 - mean_absolute_percentage_error: 3.8105 - val_loss: 17.9616 - val_rmse: 4.2106 - val_mean_absolute_error: 2.9796 - val_mean_absolute_percentage_error: 6.4783\n",
      "Epoch 50/50\n",
      " - 3s - loss: 7.3354 - rmse: 2.6640 - mean_absolute_error: 2.0713 - mean_absolute_percentage_error: 4.4300 - val_loss: 21.3126 - val_rmse: 4.5956 - val_mean_absolute_error: 3.4525 - val_mean_absolute_percentage_error: 7.7474\n",
      "Wall time: 2min 48s\n"
     ]
    }
   ],
   "source": [
    "# compile and fit model\n",
    "model = SimpleModel_1()\n",
    "model.compile(loss='mean_squared_error', optimizer='adam', metrics=[rmse, 'mae', 'mape'])\n",
    "%time history_SimpleModel_1_rotate_15 = model.fit(X_train_model, y_train_model, \\\n",
    "                                        epochs=50, shuffle=False, batch_size=50, \\\n",
    "                                        validation_data=(X_val_model, y_val_model), \\\n",
    "                                        verbose=2)"
   ]
  },
  {
   "cell_type": "code",
   "execution_count": 118,
   "metadata": {},
   "outputs": [
    {
     "name": "stdout",
     "output_type": "stream",
     "text": [
      "4.210614797637218\n"
     ]
    },
    {
     "data": {
      "image/png": "[encoded data removed]",
      "text/plain": [
       "<Figure size 432x288 with 1 Axes>"
      ]
     },
     "metadata": {
      "needs_background": "light"
     },
     "output_type": "display_data"
    }
   ],
   "source": [
    "# plot metrics\n",
    "print(min(history_SimpleModel_1_rotate_15.history['val_rmse']))\n",
    "plt.plot(history_SimpleModel_1_rotate_15.history['rmse'])\n",
    "plt.plot(history_SimpleModel_1_rotate_15.history['val_rmse'])\n",
    "plt.show()"
   ]
  },
  {
   "cell_type": "markdown",
   "metadata": {},
   "source": [
    "### 3. Test contrast reduction alone"
   ]
  },
  {
   "cell_type": "markdown",
   "metadata": {},
   "source": [
    "**90 percent**"
   ]
  },
  {
   "cell_type": "code",
   "execution_count": 107,
   "metadata": {},
   "outputs": [
    {
     "name": "stdout",
     "output_type": "stream",
     "text": [
      "(11206, 96, 96, 1)\n",
      "(11206, 8)\n",
      "(1397, 96, 96, 1)\n",
      "(1397, 8)\n"
     ]
    }
   ],
   "source": [
    "# transform data\n",
    "percent = 0.9\n",
    "X_train_model = np.concatenate((X_train_nm, reduce_contrast(X_train_nm, percent)), axis=0).reshape(-1,96,96,1)\n",
    "y_train_model = np.concatenate((y_train_nm, y_train_nm), axis=0)\n",
    "# X_val_model = np.concatenate((X_val_nm, reduce_contrast(X_val_nm, percent)), axis=0).reshape(-1,96,96,1)\n",
    "# y_val_model = np.concatenate((y_val_nm, y_val_nm), axis=0)\n",
    "X_val_model = X_val_nm.reshape(-1,96,96,1)\n",
    "y_val_model = y_val_nm\n",
    "\n",
    "print(X_train_model.shape)\n",
    "print(y_train_model.shape)\n",
    "print(X_val_model.shape)\n",
    "print(y_val_model.shape)"
   ]
  },
  {
   "cell_type": "code",
   "execution_count": 108,
   "metadata": {
    "scrolled": true
   },
   "outputs": [
    {
     "name": "stdout",
     "output_type": "stream",
     "text": [
      "Train on 11206 samples, validate on 1397 samples\n",
      "Epoch 1/50\n",
      " - 4s - loss: 1171.2209 - rmse: 21.6198 - mean_absolute_error: 17.1568 - mean_absolute_percentage_error: 34.3032 - val_loss: 145.1876 - val_rmse: 11.9966 - val_mean_absolute_error: 9.1037 - val_mean_absolute_percentage_error: 18.2673\n",
      "Epoch 2/50\n",
      " - 3s - loss: 117.3428 - rmse: 10.7678 - mean_absolute_error: 8.2261 - mean_absolute_percentage_error: 16.4546 - val_loss: 132.9119 - val_rmse: 11.4811 - val_mean_absolute_error: 8.8751 - val_mean_absolute_percentage_error: 18.1027\n",
      "Epoch 3/50\n",
      " - 3s - loss: 100.8207 - rmse: 9.9840 - mean_absolute_error: 7.6191 - mean_absolute_percentage_error: 15.2667 - val_loss: 121.8590 - val_rmse: 10.9872 - val_mean_absolute_error: 8.4441 - val_mean_absolute_percentage_error: 17.1426\n",
      "Epoch 4/50\n",
      " - 3s - loss: 89.8309 - rmse: 9.4192 - mean_absolute_error: 7.1537 - mean_absolute_percentage_error: 14.3125 - val_loss: 128.1585 - val_rmse: 11.2679 - val_mean_absolute_error: 8.6172 - val_mean_absolute_percentage_error: 17.3451\n",
      "Epoch 5/50\n",
      " - 3s - loss: 80.8041 - rmse: 8.9274 - mean_absolute_error: 6.7569 - mean_absolute_percentage_error: 13.5080 - val_loss: 120.5862 - val_rmse: 10.9195 - val_mean_absolute_error: 8.3420 - val_mean_absolute_percentage_error: 16.8366\n",
      "Epoch 6/50\n",
      " - 3s - loss: 73.5704 - rmse: 8.5197 - mean_absolute_error: 6.4259 - mean_absolute_percentage_error: 12.8486 - val_loss: 114.9795 - val_rmse: 10.6612 - val_mean_absolute_error: 8.0649 - val_mean_absolute_percentage_error: 16.2464\n",
      "Epoch 7/50\n",
      " - 3s - loss: 67.5541 - rmse: 8.1598 - mean_absolute_error: 6.1421 - mean_absolute_percentage_error: 12.2725 - val_loss: 119.3214 - val_rmse: 10.8636 - val_mean_absolute_error: 8.2119 - val_mean_absolute_percentage_error: 16.5413\n",
      "Epoch 8/50\n",
      " - 3s - loss: 60.7947 - rmse: 7.7279 - mean_absolute_error: 5.8125 - mean_absolute_percentage_error: 11.6156 - val_loss: 163.9045 - val_rmse: 12.7367 - val_mean_absolute_error: 9.8575 - val_mean_absolute_percentage_error: 19.8898\n",
      "Epoch 9/50\n",
      " - 3s - loss: 64.6561 - rmse: 7.9094 - mean_absolute_error: 6.0443 - mean_absolute_percentage_error: 12.0288 - val_loss: 98.5909 - val_rmse: 9.8837 - val_mean_absolute_error: 7.5447 - val_mean_absolute_percentage_error: 15.4103\n",
      "Epoch 10/50\n",
      " - 3s - loss: 62.0927 - rmse: 7.7323 - mean_absolute_error: 5.9396 - mean_absolute_percentage_error: 11.8207 - val_loss: 72.9965 - val_rmse: 8.4994 - val_mean_absolute_error: 6.3056 - val_mean_absolute_percentage_error: 12.8036\n",
      "Epoch 11/50\n",
      " - 3s - loss: 48.5232 - rmse: 6.8622 - mean_absolute_error: 5.2301 - mean_absolute_percentage_error: 10.4866 - val_loss: 84.4855 - val_rmse: 9.1518 - val_mean_absolute_error: 7.0884 - val_mean_absolute_percentage_error: 14.2059\n",
      "Epoch 12/50\n",
      " - 3s - loss: 41.0505 - rmse: 6.3092 - mean_absolute_error: 4.8264 - mean_absolute_percentage_error: 9.7096 - val_loss: 70.5592 - val_rmse: 8.3640 - val_mean_absolute_error: 6.4560 - val_mean_absolute_percentage_error: 13.0009\n",
      "Epoch 13/50\n",
      " - 3s - loss: 32.1811 - rmse: 5.5832 - mean_absolute_error: 4.2691 - mean_absolute_percentage_error: 8.6346 - val_loss: 46.9070 - val_rmse: 6.8162 - val_mean_absolute_error: 5.0730 - val_mean_absolute_percentage_error: 10.4216\n",
      "Epoch 14/50\n",
      " - 3s - loss: 23.3610 - rmse: 4.7668 - mean_absolute_error: 3.6209 - mean_absolute_percentage_error: 7.3847 - val_loss: 36.6896 - val_rmse: 6.0245 - val_mean_absolute_error: 4.4529 - val_mean_absolute_percentage_error: 9.2552\n",
      "Epoch 15/50\n",
      " - 3s - loss: 18.1301 - rmse: 4.2062 - mean_absolute_error: 3.1827 - mean_absolute_percentage_error: 6.5458 - val_loss: 30.6258 - val_rmse: 5.5010 - val_mean_absolute_error: 4.0920 - val_mean_absolute_percentage_error: 8.5301\n",
      "Epoch 16/50\n",
      " - 3s - loss: 15.8160 - rmse: 3.9275 - mean_absolute_error: 2.9661 - mean_absolute_percentage_error: 6.1354 - val_loss: 23.2284 - val_rmse: 4.7772 - val_mean_absolute_error: 3.4513 - val_mean_absolute_percentage_error: 7.3835\n",
      "Epoch 17/50\n",
      " - 3s - loss: 13.7478 - rmse: 3.6570 - mean_absolute_error: 2.7307 - mean_absolute_percentage_error: 5.6889 - val_loss: 21.1358 - val_rmse: 4.5483 - val_mean_absolute_error: 3.2476 - val_mean_absolute_percentage_error: 7.0734\n",
      "Epoch 18/50\n",
      " - 3s - loss: 12.0389 - rmse: 3.4326 - mean_absolute_error: 2.5370 - mean_absolute_percentage_error: 5.3151 - val_loss: 19.3257 - val_rmse: 4.3457 - val_mean_absolute_error: 3.0881 - val_mean_absolute_percentage_error: 6.7389\n",
      "Epoch 19/50\n",
      " - 3s - loss: 11.1385 - rmse: 3.3040 - mean_absolute_error: 2.4331 - mean_absolute_percentage_error: 5.1099 - val_loss: 18.1116 - val_rmse: 4.2051 - val_mean_absolute_error: 2.9840 - val_mean_absolute_percentage_error: 6.5004\n",
      "Epoch 20/50\n",
      " - 3s - loss: 10.5813 - rmse: 3.2190 - mean_absolute_error: 2.3683 - mean_absolute_percentage_error: 4.9819 - val_loss: 17.3461 - val_rmse: 4.1142 - val_mean_absolute_error: 2.9161 - val_mean_absolute_percentage_error: 6.3518\n",
      "Epoch 21/50\n",
      " - 3s - loss: 10.4117 - rmse: 3.1895 - mean_absolute_error: 2.3530 - mean_absolute_percentage_error: 4.9488 - val_loss: 16.6803 - val_rmse: 4.0308 - val_mean_absolute_error: 2.8337 - val_mean_absolute_percentage_error: 6.2100\n",
      "Epoch 22/50\n",
      " - 3s - loss: 10.9498 - rmse: 3.2656 - mean_absolute_error: 2.4361 - mean_absolute_percentage_error: 5.1055 - val_loss: 21.8628 - val_rmse: 4.6265 - val_mean_absolute_error: 3.3407 - val_mean_absolute_percentage_error: 7.3814\n",
      "Epoch 23/50\n",
      " - 3s - loss: 10.6259 - rmse: 3.2125 - mean_absolute_error: 2.3968 - mean_absolute_percentage_error: 5.0513 - val_loss: 18.0161 - val_rmse: 4.1897 - val_mean_absolute_error: 2.9771 - val_mean_absolute_percentage_error: 6.6649\n",
      "Epoch 24/50\n",
      " - 3s - loss: 9.1054 - rmse: 2.9767 - mean_absolute_error: 2.1790 - mean_absolute_percentage_error: 4.6233 - val_loss: 16.9052 - val_rmse: 4.0554 - val_mean_absolute_error: 2.8613 - val_mean_absolute_percentage_error: 6.3975\n",
      "Epoch 25/50\n",
      " - 3s - loss: 8.1287 - rmse: 2.8118 - mean_absolute_error: 2.0382 - mean_absolute_percentage_error: 4.3415 - val_loss: 16.8316 - val_rmse: 4.0470 - val_mean_absolute_error: 2.8489 - val_mean_absolute_percentage_error: 6.3483\n",
      "Epoch 26/50\n",
      " - 3s - loss: 7.4149 - rmse: 2.6829 - mean_absolute_error: 1.9286 - mean_absolute_percentage_error: 4.1154 - val_loss: 16.2676 - val_rmse: 3.9776 - val_mean_absolute_error: 2.7863 - val_mean_absolute_percentage_error: 6.1970\n",
      "Epoch 27/50\n",
      " - 3s - loss: 6.8248 - rmse: 2.5717 - mean_absolute_error: 1.8373 - mean_absolute_percentage_error: 3.9230 - val_loss: 16.1422 - val_rmse: 3.9620 - val_mean_absolute_error: 2.7646 - val_mean_absolute_percentage_error: 6.1199\n",
      "Epoch 28/50\n",
      " - 3s - loss: 6.4362 - rmse: 2.4925 - mean_absolute_error: 1.7751 - mean_absolute_percentage_error: 3.7927 - val_loss: 16.5275 - val_rmse: 4.0108 - val_mean_absolute_error: 2.7968 - val_mean_absolute_percentage_error: 6.1673\n",
      "Epoch 29/50\n",
      " - 3s - loss: 6.3150 - rmse: 2.4597 - mean_absolute_error: 1.7496 - mean_absolute_percentage_error: 3.7332 - val_loss: 17.0961 - val_rmse: 4.0818 - val_mean_absolute_error: 2.8280 - val_mean_absolute_percentage_error: 6.1589\n",
      "Epoch 30/50\n",
      " - 3s - loss: 6.2439 - rmse: 2.4404 - mean_absolute_error: 1.7364 - mean_absolute_percentage_error: 3.6889 - val_loss: 15.9919 - val_rmse: 3.9434 - val_mean_absolute_error: 2.7346 - val_mean_absolute_percentage_error: 6.0244\n",
      "Epoch 31/50\n",
      " - 3s - loss: 6.4131 - rmse: 2.4769 - mean_absolute_error: 1.7825 - mean_absolute_percentage_error: 3.7623 - val_loss: 15.7560 - val_rmse: 3.9138 - val_mean_absolute_error: 2.7036 - val_mean_absolute_percentage_error: 5.9418\n",
      "Epoch 32/50\n",
      " - 3s - loss: 6.5806 - rmse: 2.4980 - mean_absolute_error: 1.8026 - mean_absolute_percentage_error: 3.8022 - val_loss: 16.8195 - val_rmse: 4.0452 - val_mean_absolute_error: 2.7996 - val_mean_absolute_percentage_error: 6.1271\n",
      "Epoch 33/50\n",
      " - 3s - loss: 6.5724 - rmse: 2.5004 - mean_absolute_error: 1.8168 - mean_absolute_percentage_error: 3.8329 - val_loss: 22.7315 - val_rmse: 4.7201 - val_mean_absolute_error: 3.4507 - val_mean_absolute_percentage_error: 7.5777\n",
      "Epoch 34/50\n",
      " - 3s - loss: 7.8756 - rmse: 2.7470 - mean_absolute_error: 2.0426 - mean_absolute_percentage_error: 4.2645 - val_loss: 16.0651 - val_rmse: 3.9444 - val_mean_absolute_error: 2.7020 - val_mean_absolute_percentage_error: 5.9478\n",
      "Epoch 35/50\n",
      " - 3s - loss: 10.2796 - rmse: 3.0873 - mean_absolute_error: 2.3323 - mean_absolute_percentage_error: 4.8342 - val_loss: 15.0937 - val_rmse: 3.8241 - val_mean_absolute_error: 2.6663 - val_mean_absolute_percentage_error: 5.9549\n"
     ]
    },
    {
     "name": "stdout",
     "output_type": "stream",
     "text": [
      "Epoch 36/50\n",
      " - 3s - loss: 8.4524 - rmse: 2.8202 - mean_absolute_error: 2.1155 - mean_absolute_percentage_error: 4.3951 - val_loss: 15.0730 - val_rmse: 3.8277 - val_mean_absolute_error: 2.6741 - val_mean_absolute_percentage_error: 6.0024\n",
      "Epoch 37/50\n",
      " - 3s - loss: 8.8733 - rmse: 2.9010 - mean_absolute_error: 2.2118 - mean_absolute_percentage_error: 4.6101 - val_loss: 19.2612 - val_rmse: 4.3566 - val_mean_absolute_error: 3.2799 - val_mean_absolute_percentage_error: 6.9214\n",
      "Epoch 38/50\n",
      " - 3s - loss: 8.0442 - rmse: 2.7636 - mean_absolute_error: 2.1082 - mean_absolute_percentage_error: 4.4025 - val_loss: 18.5203 - val_rmse: 4.2695 - val_mean_absolute_error: 3.2242 - val_mean_absolute_percentage_error: 6.9272\n",
      "Epoch 39/50\n",
      " - 3s - loss: 6.5811 - rmse: 2.5106 - mean_absolute_error: 1.8851 - mean_absolute_percentage_error: 3.9528 - val_loss: 18.5807 - val_rmse: 4.2758 - val_mean_absolute_error: 3.1954 - val_mean_absolute_percentage_error: 6.8898\n",
      "Epoch 40/50\n",
      " - 3s - loss: 5.6385 - rmse: 2.3315 - mean_absolute_error: 1.7288 - mean_absolute_percentage_error: 3.6379 - val_loss: 18.3089 - val_rmse: 4.2421 - val_mean_absolute_error: 3.1178 - val_mean_absolute_percentage_error: 6.7284\n",
      "Epoch 41/50\n",
      " - 3s - loss: 4.8894 - rmse: 2.1753 - mean_absolute_error: 1.5976 - mean_absolute_percentage_error: 3.3728 - val_loss: 18.3798 - val_rmse: 4.2503 - val_mean_absolute_error: 3.1093 - val_mean_absolute_percentage_error: 6.7034\n",
      "Epoch 42/50\n",
      " - 3s - loss: 4.3603 - rmse: 2.0534 - mean_absolute_error: 1.4915 - mean_absolute_percentage_error: 3.1587 - val_loss: 18.0953 - val_rmse: 4.2136 - val_mean_absolute_error: 3.0507 - val_mean_absolute_percentage_error: 6.6051\n",
      "Epoch 43/50\n",
      " - 3s - loss: 4.2508 - rmse: 2.0064 - mean_absolute_error: 1.4382 - mean_absolute_percentage_error: 3.0488 - val_loss: 17.3289 - val_rmse: 4.1197 - val_mean_absolute_error: 2.9492 - val_mean_absolute_percentage_error: 6.3980\n",
      "Epoch 44/50\n",
      " - 3s - loss: 4.5556 - rmse: 2.0348 - mean_absolute_error: 1.4448 - mean_absolute_percentage_error: 3.0617 - val_loss: 16.6109 - val_rmse: 4.0288 - val_mean_absolute_error: 2.8412 - val_mean_absolute_percentage_error: 6.1837\n",
      "Epoch 45/50\n",
      " - 3s - loss: 3.9087 - rmse: 1.9251 - mean_absolute_error: 1.3804 - mean_absolute_percentage_error: 2.9283 - val_loss: 17.9415 - val_rmse: 4.1922 - val_mean_absolute_error: 2.9677 - val_mean_absolute_percentage_error: 6.4361\n",
      "Epoch 46/50\n",
      " - 3s - loss: 3.8849 - rmse: 1.9147 - mean_absolute_error: 1.3740 - mean_absolute_percentage_error: 2.9211 - val_loss: 19.7862 - val_rmse: 4.4079 - val_mean_absolute_error: 3.1688 - val_mean_absolute_percentage_error: 6.8533\n",
      "Epoch 47/50\n",
      " - 3s - loss: 4.7363 - rmse: 2.1125 - mean_absolute_error: 1.5547 - mean_absolute_percentage_error: 3.3164 - val_loss: 17.5341 - val_rmse: 4.1471 - val_mean_absolute_error: 2.9685 - val_mean_absolute_percentage_error: 6.5438\n",
      "Epoch 48/50\n",
      " - 3s - loss: 5.5830 - rmse: 2.3048 - mean_absolute_error: 1.7219 - mean_absolute_percentage_error: 3.6555 - val_loss: 16.9447 - val_rmse: 4.0640 - val_mean_absolute_error: 2.8670 - val_mean_absolute_percentage_error: 6.2703\n",
      "Epoch 49/50\n",
      " - 3s - loss: 5.6056 - rmse: 2.3117 - mean_absolute_error: 1.7122 - mean_absolute_percentage_error: 3.5877 - val_loss: 17.4229 - val_rmse: 4.1216 - val_mean_absolute_error: 2.9639 - val_mean_absolute_percentage_error: 6.4961\n",
      "Epoch 50/50\n",
      " - 3s - loss: 6.8604 - rmse: 2.5614 - mean_absolute_error: 1.9397 - mean_absolute_percentage_error: 4.0530 - val_loss: 15.0784 - val_rmse: 3.8361 - val_mean_absolute_error: 2.6974 - val_mean_absolute_percentage_error: 5.9038\n",
      "Wall time: 2min 46s\n"
     ]
    }
   ],
   "source": [
    "# compile and fit model\n",
    "model = SimpleModel_1()\n",
    "model.compile(loss='mean_squared_error', optimizer='adam', metrics=[rmse, 'mae', 'mape'])\n",
    "%time history_SimpleModel_1_contrast_90 = model.fit(X_train_model, y_train_model, \\\n",
    "                                        epochs=50, shuffle=False, batch_size=50, \\\n",
    "                                        validation_data=(X_val_model, y_val_model), \\\n",
    "                                        verbose=2)"
   ]
  },
  {
   "cell_type": "code",
   "execution_count": 109,
   "metadata": {},
   "outputs": [
    {
     "name": "stdout",
     "output_type": "stream",
     "text": [
      "3.8241325213214545\n"
     ]
    },
    {
     "data": {
      "image/png": "[encoded data removed]",
      "text/plain": [
       "<Figure size 432x288 with 1 Axes>"
      ]
     },
     "metadata": {
      "needs_background": "light"
     },
     "output_type": "display_data"
    }
   ],
   "source": [
    "# plot metrics\n",
    "print(min(history_SimpleModel_1_contrast_90.history['val_rmse']))\n",
    "plt.plot(history_SimpleModel_1_contrast_90.history['rmse'])\n",
    "plt.plot(history_SimpleModel_1_contrast_90.history['val_rmse'])\n",
    "plt.show()"
   ]
  },
  {
   "cell_type": "markdown",
   "metadata": {},
   "source": [
    "**80 percent**"
   ]
  },
  {
   "cell_type": "code",
   "execution_count": 99,
   "metadata": {},
   "outputs": [
    {
     "name": "stdout",
     "output_type": "stream",
     "text": [
      "(11206, 96, 96, 1)\n",
      "(11206, 8)\n",
      "(1397, 96, 96, 1)\n",
      "(1397, 8)\n"
     ]
    }
   ],
   "source": [
    "# transform data\n",
    "percent = 0.8\n",
    "X_train_model = np.concatenate((X_train_nm, reduce_contrast(X_train_nm, percent)), axis=0).reshape(-1,96,96,1)\n",
    "y_train_model = np.concatenate((y_train_nm, y_train_nm), axis=0)\n",
    "# X_val_model = np.concatenate((X_val_nm, reduce_contrast(X_val_nm, percent)), axis=0).reshape(-1,96,96,1)\n",
    "# y_val_model = np.concatenate((y_val_nm, y_val_nm), axis=0)\n",
    "X_val_model = X_val_nm.reshape(-1,96,96,1)\n",
    "y_val_model = y_val_nm\n",
    "\n",
    "print(X_train_model.shape)\n",
    "print(y_train_model.shape)\n",
    "print(X_val_model.shape)\n",
    "print(y_val_model.shape)"
   ]
  },
  {
   "cell_type": "code",
   "execution_count": 102,
   "metadata": {},
   "outputs": [
    {
     "name": "stdout",
     "output_type": "stream",
     "text": [
      "Train on 11206 samples, validate on 1397 samples\n",
      "Epoch 1/50\n",
      " - 4s - loss: 475.2077 - rmse: 14.8403 - mean_absolute_error: 11.7822 - mean_absolute_percentage_error: 23.9073 - val_loss: 146.7171 - val_rmse: 12.0764 - val_mean_absolute_error: 9.3186 - val_mean_absolute_percentage_error: 19.1556\n",
      "Epoch 2/50\n",
      " - 3s - loss: 102.6615 - rmse: 10.0286 - mean_absolute_error: 7.6917 - mean_absolute_percentage_error: 15.3545 - val_loss: 135.2681 - val_rmse: 11.5923 - val_mean_absolute_error: 8.8830 - val_mean_absolute_percentage_error: 18.3673\n",
      "Epoch 3/50\n",
      " - 3s - loss: 85.3371 - rmse: 9.1484 - mean_absolute_error: 6.9759 - mean_absolute_percentage_error: 13.9466 - val_loss: 126.0302 - val_rmse: 11.1797 - val_mean_absolute_error: 8.4938 - val_mean_absolute_percentage_error: 17.5495\n",
      "Epoch 4/50\n",
      " - 3s - loss: 74.1115 - rmse: 8.5239 - mean_absolute_error: 6.4582 - mean_absolute_percentage_error: 12.9266 - val_loss: 115.5433 - val_rmse: 10.6968 - val_mean_absolute_error: 8.0451 - val_mean_absolute_percentage_error: 16.6176\n",
      "Epoch 5/50\n",
      " - 3s - loss: 65.5009 - rmse: 8.0129 - mean_absolute_error: 6.0359 - mean_absolute_percentage_error: 12.1041 - val_loss: 108.3862 - val_rmse: 10.3544 - val_mean_absolute_error: 7.7389 - val_mean_absolute_percentage_error: 15.9707\n",
      "Epoch 6/50\n",
      " - 3s - loss: 58.1392 - rmse: 7.5485 - mean_absolute_error: 5.6598 - mean_absolute_percentage_error: 11.3723 - val_loss: 111.5129 - val_rmse: 10.5003 - val_mean_absolute_error: 7.8197 - val_mean_absolute_percentage_error: 16.1204\n",
      "Epoch 7/50\n",
      " - 3s - loss: 51.8954 - rmse: 7.1272 - mean_absolute_error: 5.3249 - mean_absolute_percentage_error: 10.7165 - val_loss: 106.7652 - val_rmse: 10.2659 - val_mean_absolute_error: 7.6014 - val_mean_absolute_percentage_error: 15.6743\n",
      "Epoch 8/50\n",
      " - 3s - loss: 46.2065 - rmse: 6.7219 - mean_absolute_error: 5.0130 - mean_absolute_percentage_error: 10.1093 - val_loss: 111.7738 - val_rmse: 10.5073 - val_mean_absolute_error: 7.7405 - val_mean_absolute_percentage_error: 15.9587\n",
      "Epoch 9/50\n",
      " - 3s - loss: 41.3438 - rmse: 6.3558 - mean_absolute_error: 4.7345 - mean_absolute_percentage_error: 9.5677 - val_loss: 113.9128 - val_rmse: 10.6003 - val_mean_absolute_error: 7.7801 - val_mean_absolute_percentage_error: 16.0881\n",
      "Epoch 10/50\n",
      " - 3s - loss: 37.7418 - rmse: 6.0642 - mean_absolute_error: 4.5269 - mean_absolute_percentage_error: 9.1625 - val_loss: 105.9434 - val_rmse: 10.2171 - val_mean_absolute_error: 7.4621 - val_mean_absolute_percentage_error: 15.4644\n",
      "Epoch 11/50\n",
      " - 3s - loss: 34.8533 - rmse: 5.8312 - mean_absolute_error: 4.3700 - mean_absolute_percentage_error: 8.8546 - val_loss: 89.2943 - val_rmse: 9.3661 - val_mean_absolute_error: 6.7849 - val_mean_absolute_percentage_error: 14.0078\n",
      "Epoch 12/50\n",
      " - 3s - loss: 40.6073 - rmse: 6.2262 - mean_absolute_error: 4.7968 - mean_absolute_percentage_error: 9.6828 - val_loss: 82.9504 - val_rmse: 9.0147 - val_mean_absolute_error: 6.4478 - val_mean_absolute_percentage_error: 13.2929\n",
      "Epoch 13/50\n",
      " - 3s - loss: 46.7041 - rmse: 6.5788 - mean_absolute_error: 5.1621 - mean_absolute_percentage_error: 10.3927 - val_loss: 79.0487 - val_rmse: 8.8157 - val_mean_absolute_error: 6.3819 - val_mean_absolute_percentage_error: 13.3924\n",
      "Epoch 14/50\n",
      " - 3s - loss: 29.0550 - rmse: 5.2861 - mean_absolute_error: 4.0385 - mean_absolute_percentage_error: 8.2192 - val_loss: 77.1917 - val_rmse: 8.7067 - val_mean_absolute_error: 6.3082 - val_mean_absolute_percentage_error: 13.3076\n",
      "Epoch 15/50\n",
      " - 3s - loss: 23.5004 - rmse: 4.7743 - mean_absolute_error: 3.6259 - mean_absolute_percentage_error: 7.4333 - val_loss: 56.9661 - val_rmse: 7.4643 - val_mean_absolute_error: 5.2946 - val_mean_absolute_percentage_error: 11.2398\n",
      "Epoch 16/50\n",
      " - 3s - loss: 19.6831 - rmse: 4.3826 - mean_absolute_error: 3.3004 - mean_absolute_percentage_error: 6.8153 - val_loss: 41.8418 - val_rmse: 6.3847 - val_mean_absolute_error: 4.4713 - val_mean_absolute_percentage_error: 9.5000\n",
      "Epoch 17/50\n",
      " - 3s - loss: 16.8041 - rmse: 4.0560 - mean_absolute_error: 3.0248 - mean_absolute_percentage_error: 6.2906 - val_loss: 35.3364 - val_rmse: 5.8605 - val_mean_absolute_error: 4.1002 - val_mean_absolute_percentage_error: 8.7147\n",
      "Epoch 18/50\n",
      " - 3s - loss: 14.6919 - rmse: 3.7953 - mean_absolute_error: 2.8035 - mean_absolute_percentage_error: 5.8653 - val_loss: 31.6818 - val_rmse: 5.5448 - val_mean_absolute_error: 3.8671 - val_mean_absolute_percentage_error: 8.2391\n",
      "Epoch 19/50\n",
      " - 3s - loss: 13.0698 - rmse: 3.5804 - mean_absolute_error: 2.6231 - mean_absolute_percentage_error: 5.5142 - val_loss: 29.5551 - val_rmse: 5.3527 - val_mean_absolute_error: 3.7116 - val_mean_absolute_percentage_error: 7.9282\n",
      "Epoch 20/50\n",
      " - 3s - loss: 11.7976 - rmse: 3.4015 - mean_absolute_error: 2.4743 - mean_absolute_percentage_error: 5.2212 - val_loss: 28.1234 - val_rmse: 5.2189 - val_mean_absolute_error: 3.5954 - val_mean_absolute_percentage_error: 7.7005\n",
      "Epoch 21/50\n",
      " - 3s - loss: 10.7377 - rmse: 3.2442 - mean_absolute_error: 2.3449 - mean_absolute_percentage_error: 4.9645 - val_loss: 27.2625 - val_rmse: 5.1382 - val_mean_absolute_error: 3.5205 - val_mean_absolute_percentage_error: 7.5582\n",
      "Epoch 22/50\n",
      " - 3s - loss: 9.8307 - rmse: 3.1028 - mean_absolute_error: 2.2295 - mean_absolute_percentage_error: 4.7336 - val_loss: 26.2914 - val_rmse: 5.0458 - val_mean_absolute_error: 3.4448 - val_mean_absolute_percentage_error: 7.4075\n",
      "Epoch 23/50\n",
      " - 3s - loss: 9.0533 - rmse: 2.9762 - mean_absolute_error: 2.1287 - mean_absolute_percentage_error: 4.5305 - val_loss: 25.4884 - val_rmse: 4.9683 - val_mean_absolute_error: 3.3820 - val_mean_absolute_percentage_error: 7.2815\n",
      "Epoch 24/50\n",
      " - 3s - loss: 8.4282 - rmse: 2.8707 - mean_absolute_error: 2.0468 - mean_absolute_percentage_error: 4.3629 - val_loss: 24.9370 - val_rmse: 4.9147 - val_mean_absolute_error: 3.3370 - val_mean_absolute_percentage_error: 7.1886\n",
      "Epoch 25/50\n",
      " - 3s - loss: 7.8368 - rmse: 2.7672 - mean_absolute_error: 1.9679 - mean_absolute_percentage_error: 4.2017 - val_loss: 24.1176 - val_rmse: 4.8333 - val_mean_absolute_error: 3.2784 - val_mean_absolute_percentage_error: 7.0648\n",
      "Epoch 26/50\n",
      " - 3s - loss: 7.3496 - rmse: 2.6789 - mean_absolute_error: 1.9006 - mean_absolute_percentage_error: 4.0619 - val_loss: 23.6008 - val_rmse: 4.7806 - val_mean_absolute_error: 3.2342 - val_mean_absolute_percentage_error: 6.9741\n",
      "Epoch 27/50\n",
      " - 3s - loss: 6.9583 - rmse: 2.6054 - mean_absolute_error: 1.8448 - mean_absolute_percentage_error: 3.9446 - val_loss: 22.9642 - val_rmse: 4.7152 - val_mean_absolute_error: 3.1896 - val_mean_absolute_percentage_error: 6.8823\n",
      "Epoch 28/50\n",
      " - 3s - loss: 6.4418 - rmse: 2.5064 - mean_absolute_error: 1.7745 - mean_absolute_percentage_error: 3.7999 - val_loss: 22.2777 - val_rmse: 4.6450 - val_mean_absolute_error: 3.1495 - val_mean_absolute_percentage_error: 6.8020\n",
      "Epoch 29/50\n",
      " - 3s - loss: 6.0053 - rmse: 2.4188 - mean_absolute_error: 1.7119 - mean_absolute_percentage_error: 3.6697 - val_loss: 22.7599 - val_rmse: 4.6951 - val_mean_absolute_error: 3.1688 - val_mean_absolute_percentage_error: 6.8516\n",
      "Epoch 30/50\n",
      " - 3s - loss: 5.8270 - rmse: 2.3791 - mean_absolute_error: 1.6800 - mean_absolute_percentage_error: 3.5962 - val_loss: 22.0907 - val_rmse: 4.6275 - val_mean_absolute_error: 3.1361 - val_mean_absolute_percentage_error: 6.8029\n",
      "Epoch 31/50\n",
      " - 3s - loss: 5.8292 - rmse: 2.3651 - mean_absolute_error: 1.6611 - mean_absolute_percentage_error: 3.5478 - val_loss: 21.6554 - val_rmse: 4.5857 - val_mean_absolute_error: 3.1287 - val_mean_absolute_percentage_error: 6.8352\n",
      "Epoch 32/50\n",
      " - 3s - loss: 5.1650 - rmse: 2.2391 - mean_absolute_error: 1.5856 - mean_absolute_percentage_error: 3.3936 - val_loss: 22.6723 - val_rmse: 4.6915 - val_mean_absolute_error: 3.1904 - val_mean_absolute_percentage_error: 6.9526\n",
      "Epoch 33/50\n",
      " - 3s - loss: 4.8277 - rmse: 2.1656 - mean_absolute_error: 1.5465 - mean_absolute_percentage_error: 3.3046 - val_loss: 23.7683 - val_rmse: 4.8021 - val_mean_absolute_error: 3.2639 - val_mean_absolute_percentage_error: 7.1317\n",
      "Epoch 34/50\n",
      " - 3s - loss: 6.0766 - rmse: 2.3955 - mean_absolute_error: 1.7282 - mean_absolute_percentage_error: 3.6343 - val_loss: 20.0885 - val_rmse: 4.4128 - val_mean_absolute_error: 3.0331 - val_mean_absolute_percentage_error: 6.5707\n",
      "Epoch 35/50\n",
      " - 3s - loss: 5.7966 - rmse: 2.3476 - mean_absolute_error: 1.6932 - mean_absolute_percentage_error: 3.5644 - val_loss: 21.1874 - val_rmse: 4.5451 - val_mean_absolute_error: 3.1458 - val_mean_absolute_percentage_error: 6.7163\n"
     ]
    },
    {
     "name": "stdout",
     "output_type": "stream",
     "text": [
      "Epoch 36/50\n",
      " - 3s - loss: 4.4003 - rmse: 2.0686 - mean_absolute_error: 1.4903 - mean_absolute_percentage_error: 3.1627 - val_loss: 21.6400 - val_rmse: 4.5933 - val_mean_absolute_error: 3.1704 - val_mean_absolute_percentage_error: 6.7842\n",
      "Epoch 37/50\n",
      " - 3s - loss: 4.2092 - rmse: 2.0195 - mean_absolute_error: 1.4583 - mean_absolute_percentage_error: 3.0887 - val_loss: 21.4128 - val_rmse: 4.5703 - val_mean_absolute_error: 3.1599 - val_mean_absolute_percentage_error: 6.7554\n",
      "Epoch 38/50\n",
      " - 3s - loss: 4.4346 - rmse: 2.0674 - mean_absolute_error: 1.5069 - mean_absolute_percentage_error: 3.1792 - val_loss: 20.0206 - val_rmse: 4.4156 - val_mean_absolute_error: 3.0580 - val_mean_absolute_percentage_error: 6.5427\n",
      "Epoch 39/50\n",
      " - 3s - loss: 5.7184 - rmse: 2.3459 - mean_absolute_error: 1.7612 - mean_absolute_percentage_error: 3.6854 - val_loss: 23.2260 - val_rmse: 4.7598 - val_mean_absolute_error: 3.3373 - val_mean_absolute_percentage_error: 7.2803\n",
      "Epoch 40/50\n",
      " - 3s - loss: 7.1160 - rmse: 2.5953 - mean_absolute_error: 1.9839 - mean_absolute_percentage_error: 4.1375 - val_loss: 37.9603 - val_rmse: 6.1158 - val_mean_absolute_error: 4.5544 - val_mean_absolute_percentage_error: 9.7221\n",
      "Epoch 41/50\n",
      " - 3s - loss: 7.8768 - rmse: 2.7141 - mean_absolute_error: 2.0483 - mean_absolute_percentage_error: 4.1953 - val_loss: 18.3537 - val_rmse: 4.2344 - val_mean_absolute_error: 2.9265 - val_mean_absolute_percentage_error: 6.2568\n",
      "Epoch 42/50\n",
      " - 3s - loss: 6.0363 - rmse: 2.4073 - mean_absolute_error: 1.7888 - mean_absolute_percentage_error: 3.6914 - val_loss: 19.3746 - val_rmse: 4.3551 - val_mean_absolute_error: 3.0210 - val_mean_absolute_percentage_error: 6.4240\n",
      "Epoch 43/50\n",
      " - 3s - loss: 5.7444 - rmse: 2.3502 - mean_absolute_error: 1.7487 - mean_absolute_percentage_error: 3.6014 - val_loss: 19.1291 - val_rmse: 4.3232 - val_mean_absolute_error: 2.9697 - val_mean_absolute_percentage_error: 6.3915\n",
      "Epoch 44/50\n",
      " - 3s - loss: 5.9045 - rmse: 2.3813 - mean_absolute_error: 1.7881 - mean_absolute_percentage_error: 3.7105 - val_loss: 17.9268 - val_rmse: 4.1778 - val_mean_absolute_error: 2.8808 - val_mean_absolute_percentage_error: 6.3067\n",
      "Epoch 45/50\n",
      " - 3s - loss: 6.2791 - rmse: 2.4459 - mean_absolute_error: 1.8577 - mean_absolute_percentage_error: 3.8748 - val_loss: 17.8011 - val_rmse: 4.1677 - val_mean_absolute_error: 2.9040 - val_mean_absolute_percentage_error: 6.2621\n",
      "Epoch 46/50\n",
      " - 3s - loss: 6.3890 - rmse: 2.4726 - mean_absolute_error: 1.8907 - mean_absolute_percentage_error: 3.9719 - val_loss: 19.3139 - val_rmse: 4.3543 - val_mean_absolute_error: 3.1063 - val_mean_absolute_percentage_error: 6.6398\n",
      "Epoch 47/50\n",
      " - 3s - loss: 7.4608 - rmse: 2.6621 - mean_absolute_error: 2.0413 - mean_absolute_percentage_error: 4.2190 - val_loss: 21.2528 - val_rmse: 4.5729 - val_mean_absolute_error: 3.2471 - val_mean_absolute_percentage_error: 6.8395\n",
      "Epoch 48/50\n",
      " - 3s - loss: 7.5783 - rmse: 2.7039 - mean_absolute_error: 2.0417 - mean_absolute_percentage_error: 4.2459 - val_loss: 19.0108 - val_rmse: 4.3125 - val_mean_absolute_error: 3.0546 - val_mean_absolute_percentage_error: 6.7188\n",
      "Epoch 49/50\n",
      " - 3s - loss: 6.6158 - rmse: 2.5214 - mean_absolute_error: 1.9156 - mean_absolute_percentage_error: 4.1080 - val_loss: 21.1635 - val_rmse: 4.5642 - val_mean_absolute_error: 3.2843 - val_mean_absolute_percentage_error: 7.0724\n",
      "Epoch 50/50\n",
      " - 3s - loss: 6.5085 - rmse: 2.5051 - mean_absolute_error: 1.9193 - mean_absolute_percentage_error: 4.1146 - val_loss: 23.0427 - val_rmse: 4.7622 - val_mean_absolute_error: 3.3140 - val_mean_absolute_percentage_error: 6.9355\n",
      "Wall time: 2min 45s\n"
     ]
    }
   ],
   "source": [
    "# compile and fit model\n",
    "model = SimpleModel_1()\n",
    "model.compile(loss='mean_squared_error', optimizer='adam', metrics=[rmse, 'mae', 'mape'])\n",
    "%time history_SimpleModel_1_contrast_80 = model.fit(X_train_model, y_train_model, \\\n",
    "                                        epochs=50, shuffle=False, batch_size=50, \\\n",
    "                                        validation_data=(X_val_model, y_val_model), \\\n",
    "                                        verbose=2)"
   ]
  },
  {
   "cell_type": "code",
   "execution_count": 103,
   "metadata": {},
   "outputs": [
    {
     "name": "stdout",
     "output_type": "stream",
     "text": [
      "4.167687917148205\n"
     ]
    },
    {
     "data": {
      "image/png": "[encoded data removed]",
      "text/plain": [
       "<Figure size 432x288 with 1 Axes>"
      ]
     },
     "metadata": {
      "needs_background": "light"
     },
     "output_type": "display_data"
    }
   ],
   "source": [
    "# plot metrics\n",
    "print(min(history_SimpleModel_1_contrast_80.history['val_rmse']))\n",
    "plt.plot(history_SimpleModel_1_contrast_80.history['rmse'])\n",
    "plt.plot(history_SimpleModel_1_contrast_80.history['val_rmse'])\n",
    "plt.show()"
   ]
  },
  {
   "cell_type": "markdown",
   "metadata": {},
   "source": [
    "**70 percent**"
   ]
  },
  {
   "cell_type": "code",
   "execution_count": 104,
   "metadata": {},
   "outputs": [
    {
     "name": "stdout",
     "output_type": "stream",
     "text": [
      "(11206, 96, 96, 1)\n",
      "(11206, 8)\n",
      "(1397, 96, 96, 1)\n",
      "(1397, 8)\n"
     ]
    }
   ],
   "source": [
    "# transform data\n",
    "percent = 0.7\n",
    "X_train_model = np.concatenate((X_train_nm, reduce_contrast(X_train_nm, percent)), axis=0).reshape(-1,96,96,1)\n",
    "y_train_model = np.concatenate((y_train_nm, y_train_nm), axis=0)\n",
    "# X_val_model = np.concatenate((X_val_nm, reduce_contrast(X_val_nm, percent)), axis=0).reshape(-1,96,96,1)\n",
    "# y_val_model = np.concatenate((y_val_nm, y_val_nm), axis=0)\n",
    "X_val_model = X_val_nm.reshape(-1,96,96,1)\n",
    "y_val_model = y_val_nm\n",
    "\n",
    "print(X_train_model.shape)\n",
    "print(y_train_model.shape)\n",
    "print(X_val_model.shape)\n",
    "print(y_val_model.shape)"
   ]
  },
  {
   "cell_type": "code",
   "execution_count": 105,
   "metadata": {},
   "outputs": [
    {
     "name": "stdout",
     "output_type": "stream",
     "text": [
      "Train on 11206 samples, validate on 1397 samples\n",
      "Epoch 1/50\n",
      " - 4s - loss: 353.1104 - rmse: 15.8972 - mean_absolute_error: 12.8317 - mean_absolute_percentage_error: 25.5167 - val_loss: 194.6360 - val_rmse: 13.8966 - val_mean_absolute_error: 10.7606 - val_mean_absolute_percentage_error: 22.1309\n",
      "Epoch 2/50\n",
      " - 3s - loss: 102.2706 - rmse: 9.9355 - mean_absolute_error: 7.6921 - mean_absolute_percentage_error: 15.3024 - val_loss: 228.3941 - val_rmse: 15.0332 - val_mean_absolute_error: 11.7363 - val_mean_absolute_percentage_error: 24.0733\n",
      "Epoch 3/50\n",
      " - 3s - loss: 98.5715 - rmse: 9.7191 - mean_absolute_error: 7.5662 - mean_absolute_percentage_error: 15.0444 - val_loss: 164.0048 - val_rmse: 12.7273 - val_mean_absolute_error: 9.6688 - val_mean_absolute_percentage_error: 19.6482\n",
      "Epoch 4/50\n",
      " - 3s - loss: 106.6885 - rmse: 10.0867 - mean_absolute_error: 7.9267 - mean_absolute_percentage_error: 15.7277 - val_loss: 185.2214 - val_rmse: 13.4737 - val_mean_absolute_error: 10.1003 - val_mean_absolute_percentage_error: 20.1962\n",
      "Epoch 5/50\n",
      " - 3s - loss: 71.5846 - rmse: 8.2774 - mean_absolute_error: 6.3091 - mean_absolute_percentage_error: 12.5347 - val_loss: 150.6464 - val_rmse: 12.1789 - val_mean_absolute_error: 9.2691 - val_mean_absolute_percentage_error: 18.9455\n",
      "Epoch 6/50\n",
      " - 3s - loss: 60.5640 - rmse: 7.5942 - mean_absolute_error: 5.8126 - mean_absolute_percentage_error: 11.6268 - val_loss: 178.4725 - val_rmse: 13.2583 - val_mean_absolute_error: 9.9667 - val_mean_absolute_percentage_error: 19.7037\n",
      "Epoch 7/50\n",
      " - 3s - loss: 51.6783 - rmse: 7.0489 - mean_absolute_error: 5.3754 - mean_absolute_percentage_error: 10.7664 - val_loss: 144.2690 - val_rmse: 11.9141 - val_mean_absolute_error: 9.1394 - val_mean_absolute_percentage_error: 19.0845\n",
      "Epoch 8/50\n",
      " - 3s - loss: 45.8242 - rmse: 6.6340 - mean_absolute_error: 5.0699 - mean_absolute_percentage_error: 10.1454 - val_loss: 149.3863 - val_rmse: 12.1384 - val_mean_absolute_error: 9.0730 - val_mean_absolute_percentage_error: 18.2400\n",
      "Epoch 9/50\n",
      " - 3s - loss: 52.9209 - rmse: 7.0819 - mean_absolute_error: 5.4990 - mean_absolute_percentage_error: 10.9325 - val_loss: 127.6180 - val_rmse: 11.2167 - val_mean_absolute_error: 8.2736 - val_mean_absolute_percentage_error: 16.6547\n",
      "Epoch 10/50\n",
      " - 3s - loss: 65.7122 - rmse: 7.8481 - mean_absolute_error: 6.1475 - mean_absolute_percentage_error: 12.2631 - val_loss: 214.6207 - val_rmse: 14.5618 - val_mean_absolute_error: 11.1159 - val_mean_absolute_percentage_error: 22.4352\n",
      "Epoch 11/50\n",
      " - 3s - loss: 54.0194 - rmse: 7.0888 - mean_absolute_error: 5.4888 - mean_absolute_percentage_error: 11.0197 - val_loss: 166.0520 - val_rmse: 12.8003 - val_mean_absolute_error: 9.8972 - val_mean_absolute_percentage_error: 20.6585\n",
      "Epoch 12/50\n",
      " - 3s - loss: 39.3764 - rmse: 6.0921 - mean_absolute_error: 4.6544 - mean_absolute_percentage_error: 9.3747 - val_loss: 128.3013 - val_rmse: 11.2413 - val_mean_absolute_error: 8.4168 - val_mean_absolute_percentage_error: 17.1015\n",
      "Epoch 13/50\n",
      " - 3s - loss: 28.4352 - rmse: 5.2054 - mean_absolute_error: 3.9110 - mean_absolute_percentage_error: 7.8159 - val_loss: 113.6050 - val_rmse: 10.5749 - val_mean_absolute_error: 7.9403 - val_mean_absolute_percentage_error: 16.3095\n",
      "Epoch 14/50\n",
      " - 3s - loss: 21.7876 - rmse: 4.5780 - mean_absolute_error: 3.4176 - mean_absolute_percentage_error: 6.8388 - val_loss: 98.3761 - val_rmse: 9.8356 - val_mean_absolute_error: 7.3024 - val_mean_absolute_percentage_error: 15.0093\n",
      "Epoch 15/50\n",
      " - 3s - loss: 20.1360 - rmse: 4.3976 - mean_absolute_error: 3.3055 - mean_absolute_percentage_error: 6.6196 - val_loss: 84.3446 - val_rmse: 9.1087 - val_mean_absolute_error: 6.7274 - val_mean_absolute_percentage_error: 13.8468\n",
      "Epoch 16/50\n",
      " - 3s - loss: 23.9711 - rmse: 4.7456 - mean_absolute_error: 3.6177 - mean_absolute_percentage_error: 7.2145 - val_loss: 113.7610 - val_rmse: 10.5733 - val_mean_absolute_error: 7.9631 - val_mean_absolute_percentage_error: 16.4278\n",
      "Epoch 17/50\n",
      " - 3s - loss: 42.8633 - rmse: 6.2803 - mean_absolute_error: 4.9550 - mean_absolute_percentage_error: 9.8228 - val_loss: 125.4422 - val_rmse: 11.1202 - val_mean_absolute_error: 8.3635 - val_mean_absolute_percentage_error: 17.1993\n",
      "Epoch 18/50\n",
      " - 3s - loss: 52.4541 - rmse: 6.9341 - mean_absolute_error: 5.4212 - mean_absolute_percentage_error: 10.7778 - val_loss: 149.5647 - val_rmse: 12.1173 - val_mean_absolute_error: 9.0599 - val_mean_absolute_percentage_error: 18.3819\n",
      "Epoch 19/50\n",
      " - 3s - loss: 38.4861 - rmse: 5.8589 - mean_absolute_error: 4.5416 - mean_absolute_percentage_error: 9.0314 - val_loss: 123.0229 - val_rmse: 10.9796 - val_mean_absolute_error: 8.1930 - val_mean_absolute_percentage_error: 16.9440\n",
      "Epoch 20/50\n",
      " - 3s - loss: 37.5699 - rmse: 5.8618 - mean_absolute_error: 4.5302 - mean_absolute_percentage_error: 9.0111 - val_loss: 88.3280 - val_rmse: 9.2930 - val_mean_absolute_error: 6.8683 - val_mean_absolute_percentage_error: 14.2199\n",
      "Epoch 21/50\n",
      " - 3s - loss: 23.2069 - rmse: 4.6686 - mean_absolute_error: 3.5758 - mean_absolute_percentage_error: 7.1597 - val_loss: 87.6082 - val_rmse: 9.2553 - val_mean_absolute_error: 6.7857 - val_mean_absolute_percentage_error: 13.9296\n",
      "Epoch 22/50\n",
      " - 3s - loss: 39.9451 - rmse: 5.8858 - mean_absolute_error: 4.6324 - mean_absolute_percentage_error: 9.2115 - val_loss: 117.4368 - val_rmse: 10.6892 - val_mean_absolute_error: 7.7773 - val_mean_absolute_percentage_error: 15.7170\n",
      "Epoch 23/50\n",
      " - 3s - loss: 29.8013 - rmse: 5.1478 - mean_absolute_error: 4.0310 - mean_absolute_percentage_error: 8.0405 - val_loss: 88.6456 - val_rmse: 9.2843 - val_mean_absolute_error: 6.7871 - val_mean_absolute_percentage_error: 13.9608\n",
      "Epoch 24/50\n",
      " - 3s - loss: 22.2918 - rmse: 4.4679 - mean_absolute_error: 3.4532 - mean_absolute_percentage_error: 6.9160 - val_loss: 73.7478 - val_rmse: 8.4658 - val_mean_absolute_error: 6.1475 - val_mean_absolute_percentage_error: 12.6810\n",
      "Epoch 25/50\n",
      " - 3s - loss: 13.9726 - rmse: 3.6320 - mean_absolute_error: 2.7555 - mean_absolute_percentage_error: 5.5679 - val_loss: 71.3070 - val_rmse: 8.3222 - val_mean_absolute_error: 6.0384 - val_mean_absolute_percentage_error: 12.4214\n",
      "Epoch 26/50\n",
      " - 3s - loss: 10.0531 - rmse: 3.1134 - mean_absolute_error: 2.3400 - mean_absolute_percentage_error: 4.7591 - val_loss: 57.7885 - val_rmse: 7.4936 - val_mean_absolute_error: 5.3846 - val_mean_absolute_percentage_error: 11.1327\n",
      "Epoch 27/50\n",
      " - 3s - loss: 8.3310 - rmse: 2.8354 - mean_absolute_error: 2.1256 - mean_absolute_percentage_error: 4.3420 - val_loss: 55.8079 - val_rmse: 7.3675 - val_mean_absolute_error: 5.2945 - val_mean_absolute_percentage_error: 10.9710\n",
      "Epoch 28/50\n",
      " - 3s - loss: 7.5206 - rmse: 2.6981 - mean_absolute_error: 2.0169 - mean_absolute_percentage_error: 4.1205 - val_loss: 52.9326 - val_rmse: 7.1769 - val_mean_absolute_error: 5.1471 - val_mean_absolute_percentage_error: 10.6829\n",
      "Epoch 29/50\n",
      " - 3s - loss: 7.1617 - rmse: 2.6256 - mean_absolute_error: 1.9661 - mean_absolute_percentage_error: 4.0125 - val_loss: 51.7886 - val_rmse: 7.1003 - val_mean_absolute_error: 5.0878 - val_mean_absolute_percentage_error: 10.5705\n",
      "Epoch 30/50\n",
      " - 3s - loss: 9.4351 - rmse: 2.9561 - mean_absolute_error: 2.2754 - mean_absolute_percentage_error: 4.5981 - val_loss: 59.1283 - val_rmse: 7.6225 - val_mean_absolute_error: 5.6302 - val_mean_absolute_percentage_error: 11.5054\n",
      "Epoch 31/50\n",
      " - 3s - loss: 14.0576 - rmse: 3.5487 - mean_absolute_error: 2.8069 - mean_absolute_percentage_error: 5.6113 - val_loss: 100.1639 - val_rmse: 9.8946 - val_mean_absolute_error: 7.4971 - val_mean_absolute_percentage_error: 15.5515\n",
      "Epoch 32/50\n",
      " - 3s - loss: 11.9320 - rmse: 3.2944 - mean_absolute_error: 2.5548 - mean_absolute_percentage_error: 5.1468 - val_loss: 61.6232 - val_rmse: 7.7292 - val_mean_absolute_error: 5.5823 - val_mean_absolute_percentage_error: 11.5746\n",
      "Epoch 33/50\n",
      " - 3s - loss: 12.0321 - rmse: 3.3248 - mean_absolute_error: 2.5618 - mean_absolute_percentage_error: 5.1738 - val_loss: 68.5315 - val_rmse: 8.1599 - val_mean_absolute_error: 5.9633 - val_mean_absolute_percentage_error: 12.3877\n",
      "Epoch 34/50\n",
      " - 3s - loss: 28.0965 - rmse: 5.0155 - mean_absolute_error: 4.0052 - mean_absolute_percentage_error: 8.0076 - val_loss: 48.9985 - val_rmse: 6.9301 - val_mean_absolute_error: 5.0589 - val_mean_absolute_percentage_error: 10.4575\n"
     ]
    },
    {
     "name": "stdout",
     "output_type": "stream",
     "text": [
      "Epoch 35/50\n",
      " - 3s - loss: 14.7246 - rmse: 3.6278 - mean_absolute_error: 2.8329 - mean_absolute_percentage_error: 5.7932 - val_loss: 45.5059 - val_rmse: 6.6657 - val_mean_absolute_error: 4.8013 - val_mean_absolute_percentage_error: 10.0997\n",
      "Epoch 36/50\n",
      " - 3s - loss: 9.3607 - rmse: 2.9458 - mean_absolute_error: 2.2673 - mean_absolute_percentage_error: 4.6751 - val_loss: 47.3943 - val_rmse: 6.7983 - val_mean_absolute_error: 4.8721 - val_mean_absolute_percentage_error: 10.1827\n",
      "Epoch 37/50\n",
      " - 3s - loss: 7.5069 - rmse: 2.6592 - mean_absolute_error: 2.0359 - mean_absolute_percentage_error: 4.2061 - val_loss: 48.6905 - val_rmse: 6.8944 - val_mean_absolute_error: 4.9516 - val_mean_absolute_percentage_error: 10.3151\n",
      "Epoch 38/50\n",
      " - 3s - loss: 7.2754 - rmse: 2.6116 - mean_absolute_error: 2.0030 - mean_absolute_percentage_error: 4.1285 - val_loss: 52.2699 - val_rmse: 7.1490 - val_mean_absolute_error: 5.1601 - val_mean_absolute_percentage_error: 10.7266\n",
      "Epoch 39/50\n",
      " - 3s - loss: 8.8962 - rmse: 2.8601 - mean_absolute_error: 2.2158 - mean_absolute_percentage_error: 4.5403 - val_loss: 53.8400 - val_rmse: 7.2662 - val_mean_absolute_error: 5.3143 - val_mean_absolute_percentage_error: 11.0410\n",
      "Epoch 40/50\n",
      " - 3s - loss: 16.7449 - rmse: 3.8751 - mean_absolute_error: 3.0474 - mean_absolute_percentage_error: 6.1933 - val_loss: 20.5528 - val_rmse: 4.4902 - val_mean_absolute_error: 3.1946 - val_mean_absolute_percentage_error: 6.8601\n",
      "Epoch 41/50\n",
      " - 3s - loss: 10.8965 - rmse: 3.2467 - mean_absolute_error: 2.3976 - mean_absolute_percentage_error: 4.9665 - val_loss: 18.1495 - val_rmse: 4.2170 - val_mean_absolute_error: 3.0057 - val_mean_absolute_percentage_error: 6.5286\n",
      "Epoch 42/50\n",
      " - 3s - loss: 7.4827 - rmse: 2.7010 - mean_absolute_error: 2.0065 - mean_absolute_percentage_error: 4.1725 - val_loss: 17.5731 - val_rmse: 4.1516 - val_mean_absolute_error: 2.9620 - val_mean_absolute_percentage_error: 6.4409\n",
      "Epoch 43/50\n",
      " - 3s - loss: 6.0423 - rmse: 2.4292 - mean_absolute_error: 1.8028 - mean_absolute_percentage_error: 3.7594 - val_loss: 17.4123 - val_rmse: 4.1336 - val_mean_absolute_error: 2.9508 - val_mean_absolute_percentage_error: 6.4264\n",
      "Epoch 44/50\n",
      " - 3s - loss: 5.1156 - rmse: 2.2349 - mean_absolute_error: 1.6549 - mean_absolute_percentage_error: 3.4584 - val_loss: 17.4611 - val_rmse: 4.1404 - val_mean_absolute_error: 2.9539 - val_mean_absolute_percentage_error: 6.4382\n",
      "Epoch 45/50\n",
      " - 3s - loss: 4.4453 - rmse: 2.0817 - mean_absolute_error: 1.5372 - mean_absolute_percentage_error: 3.2171 - val_loss: 17.5641 - val_rmse: 4.1535 - val_mean_absolute_error: 2.9589 - val_mean_absolute_percentage_error: 6.4423\n",
      "Epoch 46/50\n",
      " - 3s - loss: 3.9283 - rmse: 1.9545 - mean_absolute_error: 1.4403 - mean_absolute_percentage_error: 3.0166 - val_loss: 17.7396 - val_rmse: 4.1761 - val_mean_absolute_error: 2.9764 - val_mean_absolute_percentage_error: 6.4722\n",
      "Epoch 47/50\n",
      " - 3s - loss: 3.5114 - rmse: 1.8449 - mean_absolute_error: 1.3575 - mean_absolute_percentage_error: 2.8442 - val_loss: 18.0691 - val_rmse: 4.2163 - val_mean_absolute_error: 3.0089 - val_mean_absolute_percentage_error: 6.5399\n",
      "Epoch 48/50\n",
      " - 3s - loss: 3.1644 - rmse: 1.7484 - mean_absolute_error: 1.2842 - mean_absolute_percentage_error: 2.6907 - val_loss: 18.5056 - val_rmse: 4.2683 - val_mean_absolute_error: 3.0447 - val_mean_absolute_percentage_error: 6.6068\n",
      "Epoch 49/50\n",
      " - 3s - loss: 2.8801 - rmse: 1.6646 - mean_absolute_error: 1.2228 - mean_absolute_percentage_error: 2.5626 - val_loss: 18.6834 - val_rmse: 4.2893 - val_mean_absolute_error: 3.0537 - val_mean_absolute_percentage_error: 6.6222\n",
      "Epoch 50/50\n",
      " - 3s - loss: 2.6871 - rmse: 1.6044 - mean_absolute_error: 1.1813 - mean_absolute_percentage_error: 2.4772 - val_loss: 18.4004 - val_rmse: 4.2547 - val_mean_absolute_error: 3.0079 - val_mean_absolute_percentage_error: 6.5565\n",
      "Wall time: 2min 44s\n"
     ]
    }
   ],
   "source": [
    "# compile and fit model\n",
    "model = SimpleModel_1()\n",
    "model.compile(loss='mean_squared_error', optimizer='adam', metrics=[rmse, 'mae', 'mape'])\n",
    "%time history_SimpleModel_1_contrast_70 = model.fit(X_train_model, y_train_model, \\\n",
    "                                        epochs=50, shuffle=False, batch_size=50, \\\n",
    "                                        validation_data=(X_val_model, y_val_model), \\\n",
    "                                        verbose=2)"
   ]
  },
  {
   "cell_type": "code",
   "execution_count": 106,
   "metadata": {},
   "outputs": [
    {
     "name": "stdout",
     "output_type": "stream",
     "text": [
      "4.133630291427471\n"
     ]
    },
    {
     "data": {
      "image/png": "[encoded data removed]",
      "text/plain": [
       "<Figure size 432x288 with 1 Axes>"
      ]
     },
     "metadata": {
      "needs_background": "light"
     },
     "output_type": "display_data"
    }
   ],
   "source": [
    "# plot metrics\n",
    "print(min(history_SimpleModel_1_contrast_70.history['val_rmse']))\n",
    "plt.plot(history_SimpleModel_1_contrast_70.history['rmse'])\n",
    "plt.plot(history_SimpleModel_1_contrast_70.history['val_rmse'])\n",
    "plt.show()"
   ]
  },
  {
   "cell_type": "markdown",
   "metadata": {},
   "source": [
    "### 4. Test all transformations combined"
   ]
  },
  {
   "cell_type": "code",
   "execution_count": 156,
   "metadata": {},
   "outputs": [
    {
     "name": "stdout",
     "output_type": "stream",
     "text": [
      "(11206, 96, 96, 1)\n",
      "(11206, 8)\n",
      "(1397, 96, 96, 1)\n",
      "(1397, 8)\n"
     ]
    }
   ],
   "source": [
    "# transform data\n",
    "degree1 = -10\n",
    "degree2 = 10\n",
    "n_point = 8\n",
    "percent = 0.9\n",
    "\n",
    "X_rotated = np.zeros((X_train_nm.shape), dtype=np.float64)\n",
    "X_rotated[range(0, len(X_train_nm), 2)] = rotate_X(X_train_nm[range(0, len(X_train_nm), 2)], degree1)\n",
    "X_rotated[range(1, len(X_train_nm), 2)] = rotate_X(X_train_nm[range(1, len(X_train_nm), 2)], degree2)\n",
    "\n",
    "y_rotated = np.zeros((y_train_nm.shape), dtype=np.float64)\n",
    "y_rotated[range(0, len(y_train_nm), 2)] = rotate_y(y_train_nm[range(0, len(y_train_nm), 2)], degree1, n_point)\n",
    "y_rotated[range(1, len(y_train_nm), 2)] = rotate_y(y_train_nm[range(1, len(y_train_nm), 2)], degree2, n_point)   \n",
    "\n",
    "X_train_model = np.concatenate((X_train_nm, reduce_contrast(X_rotated, percent)), axis=0).reshape(-1,96,96,1)\n",
    "y_train_model = np.concatenate((y_train_nm, y_rotated), axis=0)\n",
    "# X_val_model = np.concatenate((X_val_nm, reduce_contrast(rotate_X(mirror_X(X_val_nm), degree), percent)), axis=0).reshape(-1,96,96,1)\n",
    "# y_val_model = np.concatenate((y_val_nm, rotate_y(mirror_y(y_val_nm, n_point), degree, n_point)), axis=0)\n",
    "X_val_model = X_val_nm.reshape(-1,96,96,1)\n",
    "y_val_model = y_val_nm\n",
    "\n",
    "print(X_train_model.shape)\n",
    "print(y_train_model.shape)\n",
    "print(X_val_model.shape)\n",
    "print(y_val_model.shape)"
   ]
  },
  {
   "cell_type": "code",
   "execution_count": 157,
   "metadata": {},
   "outputs": [
    {
     "name": "stdout",
     "output_type": "stream",
     "text": [
      "Train on 11206 samples, validate on 1397 samples\n",
      "Epoch 1/50\n",
      " - 5s - loss: 159.0503 - rmse: 11.1798 - mean_absolute_error: 8.7670 - mean_absolute_percentage_error: 17.6583 - val_loss: 255.1291 - val_rmse: 15.9280 - val_mean_absolute_error: 12.5257 - val_mean_absolute_percentage_error: 24.6871\n",
      "Epoch 2/50\n",
      " - 3s - loss: 94.5890 - rmse: 9.0853 - mean_absolute_error: 6.9820 - mean_absolute_percentage_error: 14.0939 - val_loss: 257.8458 - val_rmse: 16.0164 - val_mean_absolute_error: 12.8022 - val_mean_absolute_percentage_error: 25.3090\n",
      "Epoch 3/50\n",
      " - 3s - loss: 82.7357 - rmse: 8.5703 - mean_absolute_error: 6.5531 - mean_absolute_percentage_error: 13.1942 - val_loss: 173.7959 - val_rmse: 13.1419 - val_mean_absolute_error: 10.2771 - val_mean_absolute_percentage_error: 20.7536\n",
      "Epoch 4/50\n",
      " - 3s - loss: 79.1306 - rmse: 8.4420 - mean_absolute_error: 6.5304 - mean_absolute_percentage_error: 13.1675 - val_loss: 240.6091 - val_rmse: 15.4721 - val_mean_absolute_error: 12.6039 - val_mean_absolute_percentage_error: 25.3372\n",
      "Epoch 5/50\n",
      " - 3s - loss: 91.7006 - rmse: 8.8827 - mean_absolute_error: 6.9828 - mean_absolute_percentage_error: 14.1081 - val_loss: 281.5949 - val_rmse: 16.7468 - val_mean_absolute_error: 14.2253 - val_mean_absolute_percentage_error: 28.3099\n",
      "Epoch 6/50\n",
      " - 3s - loss: 78.6092 - rmse: 8.2372 - mean_absolute_error: 6.4474 - mean_absolute_percentage_error: 12.9597 - val_loss: 144.0322 - val_rmse: 11.9554 - val_mean_absolute_error: 9.3271 - val_mean_absolute_percentage_error: 18.6025\n",
      "Epoch 7/50\n",
      " - 3s - loss: 61.4065 - rmse: 7.4633 - mean_absolute_error: 5.7909 - mean_absolute_percentage_error: 11.6538 - val_loss: 129.9934 - val_rmse: 11.3527 - val_mean_absolute_error: 8.7942 - val_mean_absolute_percentage_error: 17.6114\n",
      "Epoch 8/50\n",
      " - 3s - loss: 57.9888 - rmse: 7.3653 - mean_absolute_error: 5.7281 - mean_absolute_percentage_error: 11.4683 - val_loss: 141.2420 - val_rmse: 11.8329 - val_mean_absolute_error: 9.2526 - val_mean_absolute_percentage_error: 18.4321\n",
      "Epoch 9/50\n",
      " - 3s - loss: 62.7204 - rmse: 7.6162 - mean_absolute_error: 5.9729 - mean_absolute_percentage_error: 11.9837 - val_loss: 145.2920 - val_rmse: 12.0127 - val_mean_absolute_error: 9.5158 - val_mean_absolute_percentage_error: 18.8307\n",
      "Epoch 10/50\n",
      " - 3s - loss: 65.2052 - rmse: 7.6369 - mean_absolute_error: 5.9895 - mean_absolute_percentage_error: 11.9787 - val_loss: 130.4289 - val_rmse: 11.3727 - val_mean_absolute_error: 8.8446 - val_mean_absolute_percentage_error: 17.5035\n",
      "Epoch 11/50\n",
      " - 3s - loss: 55.7779 - rmse: 7.0538 - mean_absolute_error: 5.4922 - mean_absolute_percentage_error: 10.9548 - val_loss: 119.1201 - val_rmse: 10.8700 - val_mean_absolute_error: 8.3703 - val_mean_absolute_percentage_error: 16.4755\n",
      "Epoch 12/50\n",
      " - 3s - loss: 47.0957 - rmse: 6.5212 - mean_absolute_error: 5.0331 - mean_absolute_percentage_error: 10.0925 - val_loss: 120.8911 - val_rmse: 10.9549 - val_mean_absolute_error: 8.5210 - val_mean_absolute_percentage_error: 16.7572\n",
      "Epoch 13/50\n",
      " - 3s - loss: 38.8924 - rmse: 5.9277 - mean_absolute_error: 4.5692 - mean_absolute_percentage_error: 9.2384 - val_loss: 116.1580 - val_rmse: 10.7412 - val_mean_absolute_error: 8.4104 - val_mean_absolute_percentage_error: 16.5983\n",
      "Epoch 14/50\n",
      " - 3s - loss: 31.7312 - rmse: 5.4012 - mean_absolute_error: 4.1147 - mean_absolute_percentage_error: 8.3172 - val_loss: 106.6868 - val_rmse: 10.2934 - val_mean_absolute_error: 8.0603 - val_mean_absolute_percentage_error: 15.9964\n",
      "Epoch 15/50\n",
      " - 3s - loss: 26.2878 - rmse: 4.9418 - mean_absolute_error: 3.7339 - mean_absolute_percentage_error: 7.5320 - val_loss: 92.6245 - val_rmse: 9.5889 - val_mean_absolute_error: 7.4387 - val_mean_absolute_percentage_error: 14.7773\n",
      "Epoch 16/50\n",
      " - 3s - loss: 21.7906 - rmse: 4.5426 - mean_absolute_error: 3.4154 - mean_absolute_percentage_error: 6.8975 - val_loss: 88.3672 - val_rmse: 9.3684 - val_mean_absolute_error: 7.2499 - val_mean_absolute_percentage_error: 14.2627\n",
      "Epoch 17/50\n",
      " - 3s - loss: 19.1275 - rmse: 4.2706 - mean_absolute_error: 3.2042 - mean_absolute_percentage_error: 6.4870 - val_loss: 78.3106 - val_rmse: 8.8191 - val_mean_absolute_error: 6.8043 - val_mean_absolute_percentage_error: 13.3827\n",
      "Epoch 18/50\n",
      " - 3s - loss: 17.0083 - rmse: 4.0475 - mean_absolute_error: 3.0386 - mean_absolute_percentage_error: 6.1632 - val_loss: 74.6536 - val_rmse: 8.6112 - val_mean_absolute_error: 6.6549 - val_mean_absolute_percentage_error: 13.0928\n",
      "Epoch 19/50\n",
      " - 3s - loss: 15.9971 - rmse: 3.9356 - mean_absolute_error: 2.9731 - mean_absolute_percentage_error: 6.0295 - val_loss: 60.0623 - val_rmse: 7.7195 - val_mean_absolute_error: 5.8313 - val_mean_absolute_percentage_error: 11.6774\n",
      "Epoch 20/50\n",
      " - 3s - loss: 17.5463 - rmse: 4.0824 - mean_absolute_error: 3.1222 - mean_absolute_percentage_error: 6.2862 - val_loss: 77.3333 - val_rmse: 8.7650 - val_mean_absolute_error: 6.7851 - val_mean_absolute_percentage_error: 13.3852\n",
      "Epoch 21/50\n",
      " - 3s - loss: 20.4607 - rmse: 4.3544 - mean_absolute_error: 3.3614 - mean_absolute_percentage_error: 6.7479 - val_loss: 53.6007 - val_rmse: 7.2916 - val_mean_absolute_error: 5.4798 - val_mean_absolute_percentage_error: 11.1555\n",
      "Epoch 22/50\n",
      " - 3s - loss: 20.1949 - rmse: 4.3024 - mean_absolute_error: 3.3263 - mean_absolute_percentage_error: 6.7046 - val_loss: 61.2959 - val_rmse: 7.8027 - val_mean_absolute_error: 5.9517 - val_mean_absolute_percentage_error: 11.8832\n",
      "Epoch 23/50\n",
      " - 3s - loss: 20.8773 - rmse: 4.4082 - mean_absolute_error: 3.4313 - mean_absolute_percentage_error: 6.9160 - val_loss: 92.7638 - val_rmse: 9.6060 - val_mean_absolute_error: 7.6839 - val_mean_absolute_percentage_error: 15.0564\n",
      "Epoch 24/50\n",
      " - 3s - loss: 20.2509 - rmse: 4.3580 - mean_absolute_error: 3.4002 - mean_absolute_percentage_error: 6.8587 - val_loss: 98.9585 - val_rmse: 9.9230 - val_mean_absolute_error: 8.0922 - val_mean_absolute_percentage_error: 15.8742\n",
      "Epoch 25/50\n",
      " - 3s - loss: 22.9804 - rmse: 4.5435 - mean_absolute_error: 3.5823 - mean_absolute_percentage_error: 7.2208 - val_loss: 57.5013 - val_rmse: 7.5566 - val_mean_absolute_error: 5.8062 - val_mean_absolute_percentage_error: 11.5751\n",
      "Epoch 26/50\n",
      " - 3s - loss: 24.6408 - rmse: 4.6698 - mean_absolute_error: 3.6587 - mean_absolute_percentage_error: 7.3648 - val_loss: 41.6608 - val_rmse: 6.4285 - val_mean_absolute_error: 4.8978 - val_mean_absolute_percentage_error: 9.8855\n",
      "Epoch 27/50\n",
      " - 3s - loss: 15.4251 - rmse: 3.7627 - mean_absolute_error: 2.9083 - mean_absolute_percentage_error: 5.9193 - val_loss: 43.4898 - val_rmse: 6.5684 - val_mean_absolute_error: 5.1045 - val_mean_absolute_percentage_error: 10.2780\n",
      "Epoch 28/50\n",
      " - 3s - loss: 11.9743 - rmse: 3.3533 - mean_absolute_error: 2.5707 - mean_absolute_percentage_error: 5.2658 - val_loss: 40.1173 - val_rmse: 6.3080 - val_mean_absolute_error: 4.8936 - val_mean_absolute_percentage_error: 9.8903\n",
      "Epoch 29/50\n",
      " - 3s - loss: 10.0858 - rmse: 3.1049 - mean_absolute_error: 2.3596 - mean_absolute_percentage_error: 4.8533 - val_loss: 37.4057 - val_rmse: 6.0905 - val_mean_absolute_error: 4.7060 - val_mean_absolute_percentage_error: 9.5349\n",
      "Epoch 30/50\n",
      " - 3s - loss: 9.1450 - rmse: 2.9696 - mean_absolute_error: 2.2475 - mean_absolute_percentage_error: 4.6298 - val_loss: 35.4870 - val_rmse: 5.9317 - val_mean_absolute_error: 4.5724 - val_mean_absolute_percentage_error: 9.2936\n",
      "Epoch 31/50\n",
      " - 3s - loss: 8.5599 - rmse: 2.8686 - mean_absolute_error: 2.1721 - mean_absolute_percentage_error: 4.4808 - val_loss: 32.4026 - val_rmse: 5.6661 - val_mean_absolute_error: 4.3296 - val_mean_absolute_percentage_error: 8.8576\n",
      "Epoch 32/50\n",
      " - 3s - loss: 8.9931 - rmse: 2.9380 - mean_absolute_error: 2.2342 - mean_absolute_percentage_error: 4.6071 - val_loss: 28.3957 - val_rmse: 5.3005 - val_mean_absolute_error: 3.9889 - val_mean_absolute_percentage_error: 8.2302\n",
      "Epoch 33/50\n",
      " - 3s - loss: 8.5842 - rmse: 2.8715 - mean_absolute_error: 2.1871 - mean_absolute_percentage_error: 4.5171 - val_loss: 28.2980 - val_rmse: 5.2902 - val_mean_absolute_error: 3.9889 - val_mean_absolute_percentage_error: 8.2439\n",
      "Epoch 34/50\n",
      " - 3s - loss: 7.7240 - rmse: 2.7292 - mean_absolute_error: 2.0742 - mean_absolute_percentage_error: 4.2931 - val_loss: 30.1227 - val_rmse: 5.4608 - val_mean_absolute_error: 4.1650 - val_mean_absolute_percentage_error: 8.5636\n"
     ]
    },
    {
     "name": "stdout",
     "output_type": "stream",
     "text": [
      "Epoch 35/50\n",
      " - 3s - loss: 7.1142 - rmse: 2.6174 - mean_absolute_error: 1.9804 - mean_absolute_percentage_error: 4.1022 - val_loss: 30.0841 - val_rmse: 5.4585 - val_mean_absolute_error: 4.1788 - val_mean_absolute_percentage_error: 8.5970\n",
      "Epoch 36/50\n",
      " - 3s - loss: 6.4972 - rmse: 2.5027 - mean_absolute_error: 1.8832 - mean_absolute_percentage_error: 3.9037 - val_loss: 29.3825 - val_rmse: 5.3937 - val_mean_absolute_error: 4.1036 - val_mean_absolute_percentage_error: 8.4705\n",
      "Epoch 37/50\n",
      " - 3s - loss: 5.7104 - rmse: 2.3492 - mean_absolute_error: 1.7542 - mean_absolute_percentage_error: 3.6552 - val_loss: 27.4427 - val_rmse: 5.2107 - val_mean_absolute_error: 3.9323 - val_mean_absolute_percentage_error: 8.1622\n",
      "Epoch 38/50\n",
      " - 3s - loss: 5.1568 - rmse: 2.2331 - mean_absolute_error: 1.6623 - mean_absolute_percentage_error: 3.4707 - val_loss: 27.6343 - val_rmse: 5.2288 - val_mean_absolute_error: 3.9363 - val_mean_absolute_percentage_error: 8.1814\n",
      "Epoch 39/50\n",
      " - 3s - loss: 4.8973 - rmse: 2.1764 - mean_absolute_error: 1.6210 - mean_absolute_percentage_error: 3.3900 - val_loss: 28.0527 - val_rmse: 5.2704 - val_mean_absolute_error: 4.0010 - val_mean_absolute_percentage_error: 8.3588\n",
      "Epoch 40/50\n",
      " - 3s - loss: 4.9637 - rmse: 2.1896 - mean_absolute_error: 1.6295 - mean_absolute_percentage_error: 3.4115 - val_loss: 31.8568 - val_rmse: 5.6242 - val_mean_absolute_error: 4.3219 - val_mean_absolute_percentage_error: 9.1076\n",
      "Epoch 41/50\n",
      " - 3s - loss: 5.7576 - rmse: 2.3456 - mean_absolute_error: 1.7604 - mean_absolute_percentage_error: 3.6985 - val_loss: 28.2398 - val_rmse: 5.2888 - val_mean_absolute_error: 3.9706 - val_mean_absolute_percentage_error: 8.1107\n",
      "Epoch 42/50\n",
      " - 3s - loss: 5.7998 - rmse: 2.3618 - mean_absolute_error: 1.7808 - mean_absolute_percentage_error: 3.7507 - val_loss: 28.1048 - val_rmse: 5.2755 - val_mean_absolute_error: 3.9327 - val_mean_absolute_percentage_error: 8.0145\n",
      "Epoch 43/50\n",
      " - 3s - loss: 5.8643 - rmse: 2.3796 - mean_absolute_error: 1.8166 - mean_absolute_percentage_error: 3.8366 - val_loss: 28.7033 - val_rmse: 5.3343 - val_mean_absolute_error: 4.0728 - val_mean_absolute_percentage_error: 8.5065\n",
      "Epoch 44/50\n",
      " - 3s - loss: 6.7871 - rmse: 2.5552 - mean_absolute_error: 1.9611 - mean_absolute_percentage_error: 4.1490 - val_loss: 30.1557 - val_rmse: 5.4632 - val_mean_absolute_error: 4.1357 - val_mean_absolute_percentage_error: 8.4597\n",
      "Epoch 45/50\n",
      " - 3s - loss: 7.0814 - rmse: 2.6246 - mean_absolute_error: 2.0098 - mean_absolute_percentage_error: 4.2312 - val_loss: 28.4333 - val_rmse: 5.3033 - val_mean_absolute_error: 4.0102 - val_mean_absolute_percentage_error: 8.4139\n",
      "Epoch 46/50\n",
      " - 3s - loss: 7.5228 - rmse: 2.7050 - mean_absolute_error: 2.0735 - mean_absolute_percentage_error: 4.3587 - val_loss: 20.0829 - val_rmse: 4.4433 - val_mean_absolute_error: 3.2731 - val_mean_absolute_percentage_error: 7.0160\n",
      "Epoch 47/50\n",
      " - 3s - loss: 7.1542 - rmse: 2.6369 - mean_absolute_error: 2.0228 - mean_absolute_percentage_error: 4.2241 - val_loss: 19.7750 - val_rmse: 4.4047 - val_mean_absolute_error: 3.1536 - val_mean_absolute_percentage_error: 6.7396\n",
      "Epoch 48/50\n",
      " - 3s - loss: 6.7374 - rmse: 2.5575 - mean_absolute_error: 1.9630 - mean_absolute_percentage_error: 4.0780 - val_loss: 18.9189 - val_rmse: 4.2973 - val_mean_absolute_error: 3.0542 - val_mean_absolute_percentage_error: 6.7090\n",
      "Epoch 49/50\n",
      " - 3s - loss: 7.3331 - rmse: 2.6520 - mean_absolute_error: 2.0439 - mean_absolute_percentage_error: 4.2142 - val_loss: 26.7511 - val_rmse: 5.1196 - val_mean_absolute_error: 3.7387 - val_mean_absolute_percentage_error: 8.1653\n",
      "Epoch 50/50\n",
      " - 3s - loss: 8.8730 - rmse: 2.8743 - mean_absolute_error: 2.2056 - mean_absolute_percentage_error: 4.5656 - val_loss: 15.6379 - val_rmse: 3.9035 - val_mean_absolute_error: 2.7287 - val_mean_absolute_percentage_error: 6.0096\n",
      "Wall time: 2min 47s\n"
     ]
    }
   ],
   "source": [
    "# compile and fit model\n",
    "model = SimpleModel_1()\n",
    "model.compile(loss='mean_squared_error', optimizer='adam', metrics=[rmse, 'mae', 'mape'])\n",
    "%time history_SimpleModel_1_trans = model.fit(X_train_model, y_train_model, \\\n",
    "                                        epochs=100, shuffle=False, batch_size=50, \\\n",
    "                                        validation_data=(X_val_model, y_val_model), \\\n",
    "                                        verbose=2)"
   ]
  },
  {
   "cell_type": "code",
   "execution_count": 158,
   "metadata": {},
   "outputs": [
    {
     "name": "stdout",
     "output_type": "stream",
     "text": [
      "3.9034531084059303\n"
     ]
    },
    {
     "data": {
      "image/png": "[encoded data removed]",
      "text/plain": [
       "<Figure size 432x288 with 1 Axes>"
      ]
     },
     "metadata": {
      "needs_background": "light"
     },
     "output_type": "display_data"
    }
   ],
   "source": [
    "# plot metrics\n",
    "print(min(history_SimpleModel_1_trans.history['val_rmse']))\n",
    "plt.plot(history_SimpleModel_1_trans.history['rmse'])\n",
    "plt.plot(history_SimpleModel_1_trans.history['val_rmse'])\n",
    "plt.show()"
   ]
  },
  {
   "cell_type": "code",
   "execution_count": 159,
   "metadata": {
    "scrolled": true
   },
   "outputs": [
    {
     "name": "stdout",
     "output_type": "stream",
     "text": [
      "Train on 11206 samples, validate on 1397 samples\n",
      "Epoch 1/30\n",
      " - 3s - loss: 7.8469 - rmse: 2.7266 - mean_absolute_error: 2.0758 - mean_absolute_percentage_error: 4.2778 - val_loss: 16.8864 - val_rmse: 4.0646 - val_mean_absolute_error: 2.8760 - val_mean_absolute_percentage_error: 6.2209\n",
      "Epoch 2/30\n",
      " - 3s - loss: 6.2777 - rmse: 2.4570 - mean_absolute_error: 1.8636 - mean_absolute_percentage_error: 3.8773 - val_loss: 16.1716 - val_rmse: 3.9776 - val_mean_absolute_error: 2.8195 - val_mean_absolute_percentage_error: 6.0596\n",
      "Epoch 3/30\n",
      " - 3s - loss: 5.8618 - rmse: 2.3769 - mean_absolute_error: 1.8007 - mean_absolute_percentage_error: 3.7543 - val_loss: 19.7475 - val_rmse: 4.4112 - val_mean_absolute_error: 3.1849 - val_mean_absolute_percentage_error: 6.6361\n",
      "Epoch 4/30\n",
      " - 3s - loss: 5.5279 - rmse: 2.3133 - mean_absolute_error: 1.7501 - mean_absolute_percentage_error: 3.6514 - val_loss: 21.2635 - val_rmse: 4.5821 - val_mean_absolute_error: 3.2779 - val_mean_absolute_percentage_error: 6.7204\n",
      "Epoch 5/30\n",
      " - 3s - loss: 5.6566 - rmse: 2.3408 - mean_absolute_error: 1.7730 - mean_absolute_percentage_error: 3.6951 - val_loss: 20.8950 - val_rmse: 4.5437 - val_mean_absolute_error: 3.2540 - val_mean_absolute_percentage_error: 6.6920\n",
      "Epoch 6/30\n",
      " - 3s - loss: 5.8573 - rmse: 2.3863 - mean_absolute_error: 1.8119 - mean_absolute_percentage_error: 3.7806 - val_loss: 25.2232 - val_rmse: 5.0019 - val_mean_absolute_error: 3.6712 - val_mean_absolute_percentage_error: 7.4027\n",
      "Epoch 7/30\n",
      " - 3s - loss: 5.8878 - rmse: 2.3943 - mean_absolute_error: 1.8258 - mean_absolute_percentage_error: 3.8137 - val_loss: 30.2670 - val_rmse: 5.4838 - val_mean_absolute_error: 4.1592 - val_mean_absolute_percentage_error: 8.4334\n",
      "Epoch 8/30\n",
      " - 3s - loss: 6.1542 - rmse: 2.4492 - mean_absolute_error: 1.8717 - mean_absolute_percentage_error: 3.9075 - val_loss: 30.9468 - val_rmse: 5.5421 - val_mean_absolute_error: 4.2195 - val_mean_absolute_percentage_error: 8.7157\n",
      "Epoch 9/30\n",
      " - 3s - loss: 6.6888 - rmse: 2.5522 - mean_absolute_error: 1.9588 - mean_absolute_percentage_error: 4.0649 - val_loss: 25.6177 - val_rmse: 5.0392 - val_mean_absolute_error: 3.7530 - val_mean_absolute_percentage_error: 7.7681\n",
      "Epoch 10/30\n",
      " - 3s - loss: 7.6293 - rmse: 2.7076 - mean_absolute_error: 2.0886 - mean_absolute_percentage_error: 4.2726 - val_loss: 24.7042 - val_rmse: 4.9445 - val_mean_absolute_error: 3.6645 - val_mean_absolute_percentage_error: 7.6200\n",
      "Epoch 11/30\n",
      " - 3s - loss: 8.8710 - rmse: 2.9023 - mean_absolute_error: 2.2277 - mean_absolute_percentage_error: 4.5269 - val_loss: 22.1153 - val_rmse: 4.6519 - val_mean_absolute_error: 3.3157 - val_mean_absolute_percentage_error: 7.1816\n",
      "Epoch 12/30\n",
      " - 3s - loss: 8.1268 - rmse: 2.7722 - mean_absolute_error: 2.1182 - mean_absolute_percentage_error: 4.3454 - val_loss: 15.7576 - val_rmse: 3.9174 - val_mean_absolute_error: 2.7390 - val_mean_absolute_percentage_error: 6.0838\n",
      "Epoch 13/30\n",
      " - 3s - loss: 8.1205 - rmse: 2.7683 - mean_absolute_error: 2.1447 - mean_absolute_percentage_error: 4.3781 - val_loss: 14.5318 - val_rmse: 3.7613 - val_mean_absolute_error: 2.6065 - val_mean_absolute_percentage_error: 5.7630\n",
      "Epoch 14/30\n",
      " - 3s - loss: 8.4185 - rmse: 2.8265 - mean_absolute_error: 2.1976 - mean_absolute_percentage_error: 4.4891 - val_loss: 14.0130 - val_rmse: 3.6886 - val_mean_absolute_error: 2.5392 - val_mean_absolute_percentage_error: 5.6533\n",
      "Epoch 15/30\n",
      " - 3s - loss: 7.7594 - rmse: 2.7270 - mean_absolute_error: 2.1177 - mean_absolute_percentage_error: 4.3499 - val_loss: 14.6185 - val_rmse: 3.7783 - val_mean_absolute_error: 2.6700 - val_mean_absolute_percentage_error: 5.8864\n",
      "Epoch 16/30\n",
      " - 3s - loss: 7.2121 - rmse: 2.6358 - mean_absolute_error: 2.0447 - mean_absolute_percentage_error: 4.2083 - val_loss: 14.5202 - val_rmse: 3.7630 - val_mean_absolute_error: 2.6662 - val_mean_absolute_percentage_error: 5.8718\n",
      "Epoch 17/30\n",
      " - 3s - loss: 6.3522 - rmse: 2.4783 - mean_absolute_error: 1.9068 - mean_absolute_percentage_error: 3.9276 - val_loss: 13.9658 - val_rmse: 3.6845 - val_mean_absolute_error: 2.5884 - val_mean_absolute_percentage_error: 5.7486\n",
      "Epoch 18/30\n",
      " - 3s - loss: 5.5877 - rmse: 2.3265 - mean_absolute_error: 1.7839 - mean_absolute_percentage_error: 3.6777 - val_loss: 13.8715 - val_rmse: 3.6707 - val_mean_absolute_error: 2.5659 - val_mean_absolute_percentage_error: 5.7257\n",
      "Epoch 19/30\n",
      " - 3s - loss: 4.9319 - rmse: 2.1889 - mean_absolute_error: 1.6624 - mean_absolute_percentage_error: 3.4199 - val_loss: 13.8806 - val_rmse: 3.6713 - val_mean_absolute_error: 2.5541 - val_mean_absolute_percentage_error: 5.6722\n",
      "Epoch 20/30\n",
      " - 3s - loss: 4.3701 - rmse: 2.0606 - mean_absolute_error: 1.5543 - mean_absolute_percentage_error: 3.2041 - val_loss: 14.2241 - val_rmse: 3.7171 - val_mean_absolute_error: 2.5860 - val_mean_absolute_percentage_error: 5.6941\n",
      "Epoch 21/30\n",
      " - 3s - loss: 4.0247 - rmse: 1.9767 - mean_absolute_error: 1.4818 - mean_absolute_percentage_error: 3.0646 - val_loss: 15.0373 - val_rmse: 3.8279 - val_mean_absolute_error: 2.6633 - val_mean_absolute_percentage_error: 5.7898\n",
      "Epoch 22/30\n",
      " - 3s - loss: 3.7599 - rmse: 1.9098 - mean_absolute_error: 1.4251 - mean_absolute_percentage_error: 2.9453 - val_loss: 16.1125 - val_rmse: 3.9665 - val_mean_absolute_error: 2.7582 - val_mean_absolute_percentage_error: 5.9327\n",
      "Epoch 23/30\n",
      " - 3s - loss: 3.6344 - rmse: 1.8766 - mean_absolute_error: 1.3984 - mean_absolute_percentage_error: 2.8853 - val_loss: 17.0788 - val_rmse: 4.0897 - val_mean_absolute_error: 2.8291 - val_mean_absolute_percentage_error: 6.0151\n",
      "Epoch 24/30\n",
      " - 3s - loss: 3.8886 - rmse: 1.9411 - mean_absolute_error: 1.4456 - mean_absolute_percentage_error: 2.9832 - val_loss: 16.1522 - val_rmse: 3.9729 - val_mean_absolute_error: 2.7432 - val_mean_absolute_percentage_error: 5.8839\n",
      "Epoch 25/30\n",
      " - 3s - loss: 4.2177 - rmse: 2.0240 - mean_absolute_error: 1.5065 - mean_absolute_percentage_error: 3.0944 - val_loss: 14.9645 - val_rmse: 3.8196 - val_mean_absolute_error: 2.7179 - val_mean_absolute_percentage_error: 6.0964\n",
      "Epoch 26/30\n",
      " - 3s - loss: 4.2945 - rmse: 2.0390 - mean_absolute_error: 1.5092 - mean_absolute_percentage_error: 3.0874 - val_loss: 14.6339 - val_rmse: 3.7649 - val_mean_absolute_error: 2.5942 - val_mean_absolute_percentage_error: 5.7622\n",
      "Epoch 27/30\n",
      " - 3s - loss: 4.2928 - rmse: 2.0295 - mean_absolute_error: 1.4995 - mean_absolute_percentage_error: 3.0730 - val_loss: 15.2092 - val_rmse: 3.8470 - val_mean_absolute_error: 2.6595 - val_mean_absolute_percentage_error: 5.8347\n",
      "Epoch 28/30\n",
      " - 3s - loss: 4.1823 - rmse: 2.0037 - mean_absolute_error: 1.4903 - mean_absolute_percentage_error: 3.0628 - val_loss: 14.4857 - val_rmse: 3.7477 - val_mean_absolute_error: 2.5794 - val_mean_absolute_percentage_error: 5.6763\n",
      "Epoch 29/30\n",
      " - 3s - loss: 3.9860 - rmse: 1.9591 - mean_absolute_error: 1.4739 - mean_absolute_percentage_error: 3.0380 - val_loss: 15.0256 - val_rmse: 3.8202 - val_mean_absolute_error: 2.6749 - val_mean_absolute_percentage_error: 5.8891\n",
      "Epoch 30/30\n",
      " - 3s - loss: 4.3124 - rmse: 2.0378 - mean_absolute_error: 1.5432 - mean_absolute_percentage_error: 3.1873 - val_loss: 14.6916 - val_rmse: 3.7699 - val_mean_absolute_error: 2.5938 - val_mean_absolute_percentage_error: 5.7492\n",
      "Wall time: 1min 39s\n"
     ]
    }
   ],
   "source": [
    "%time history_SimpleModel_1_trans_cont = model.fit(X_train_model, y_train_model, \\\n",
    "                                        epochs=30, shuffle=False, batch_size=50, \\\n",
    "                                        validation_data=(X_val_model, y_val_model), \\\n",
    "                                        verbose=2)"
   ]
  },
  {
   "cell_type": "code",
   "execution_count": 160,
   "metadata": {},
   "outputs": [
    {
     "name": "stdout",
     "output_type": "stream",
     "text": [
      "3.670743286908313\n"
     ]
    },
    {
     "data": {
      "image/png": "[encoded data removed]",
      "text/plain": [
       "<Figure size 432x288 with 1 Axes>"
      ]
     },
     "metadata": {
      "needs_background": "light"
     },
     "output_type": "display_data"
    }
   ],
   "source": [
    "# plot metrics\n",
    "print(min(history_SimpleModel_1_trans_cont.history['val_rmse']))\n",
    "plt.plot(history_SimpleModel_1_trans_cont.history['rmse'])\n",
    "plt.plot(history_SimpleModel_1_trans_cont.history['val_rmse'])\n",
    "plt.show()"
   ]
  },
  {
   "cell_type": "code",
   "execution_count": 161,
   "metadata": {
    "scrolled": true
   },
   "outputs": [
    {
     "name": "stdout",
     "output_type": "stream",
     "text": [
      "Train on 11206 samples, validate on 1397 samples\n",
      "Epoch 1/30\n",
      " - 3s - loss: 5.2838 - rmse: 2.2537 - mean_absolute_error: 1.7241 - mean_absolute_percentage_error: 3.5744 - val_loss: 14.9090 - val_rmse: 3.8008 - val_mean_absolute_error: 2.6156 - val_mean_absolute_percentage_error: 5.8432\n",
      "Epoch 2/30\n",
      " - 3s - loss: 5.6097 - rmse: 2.3080 - mean_absolute_error: 1.7702 - mean_absolute_percentage_error: 3.6883 - val_loss: 14.0250 - val_rmse: 3.6992 - val_mean_absolute_error: 2.6192 - val_mean_absolute_percentage_error: 5.8286\n",
      "Epoch 3/30\n",
      " - 3s - loss: 4.9537 - rmse: 2.1684 - mean_absolute_error: 1.6524 - mean_absolute_percentage_error: 3.4411 - val_loss: 15.1249 - val_rmse: 3.8457 - val_mean_absolute_error: 2.7409 - val_mean_absolute_percentage_error: 5.9814\n",
      "Epoch 4/30\n",
      " - 3s - loss: 4.2576 - rmse: 2.0178 - mean_absolute_error: 1.5314 - mean_absolute_percentage_error: 3.1870 - val_loss: 15.2121 - val_rmse: 3.8574 - val_mean_absolute_error: 2.8130 - val_mean_absolute_percentage_error: 6.2225\n",
      "Epoch 5/30\n",
      " - 3s - loss: 4.0058 - rmse: 1.9563 - mean_absolute_error: 1.4855 - mean_absolute_percentage_error: 3.0857 - val_loss: 15.0869 - val_rmse: 3.8429 - val_mean_absolute_error: 2.8028 - val_mean_absolute_percentage_error: 6.2166\n",
      "Epoch 6/30\n",
      " - 3s - loss: 4.0701 - rmse: 1.9758 - mean_absolute_error: 1.5029 - mean_absolute_percentage_error: 3.1133 - val_loss: 15.4339 - val_rmse: 3.8843 - val_mean_absolute_error: 2.8314 - val_mean_absolute_percentage_error: 6.3334\n",
      "Epoch 7/30\n",
      " - 3s - loss: 4.2225 - rmse: 2.0103 - mean_absolute_error: 1.5337 - mean_absolute_percentage_error: 3.1640 - val_loss: 16.0845 - val_rmse: 3.9655 - val_mean_absolute_error: 2.9157 - val_mean_absolute_percentage_error: 6.4687\n",
      "Epoch 8/30\n",
      " - 3s - loss: 4.3927 - rmse: 2.0516 - mean_absolute_error: 1.5712 - mean_absolute_percentage_error: 3.2564 - val_loss: 14.6630 - val_rmse: 3.7800 - val_mean_absolute_error: 2.7143 - val_mean_absolute_percentage_error: 5.9787\n",
      "Epoch 9/30\n",
      " - 3s - loss: 4.6108 - rmse: 2.1006 - mean_absolute_error: 1.6096 - mean_absolute_percentage_error: 3.3548 - val_loss: 13.4676 - val_rmse: 3.6162 - val_mean_absolute_error: 2.5292 - val_mean_absolute_percentage_error: 5.6312\n",
      "Epoch 10/30\n",
      " - 3s - loss: 4.7004 - rmse: 2.1185 - mean_absolute_error: 1.6286 - mean_absolute_percentage_error: 3.3892 - val_loss: 14.0987 - val_rmse: 3.6959 - val_mean_absolute_error: 2.5749 - val_mean_absolute_percentage_error: 5.8003\n",
      "Epoch 11/30\n",
      " - 3s - loss: 4.8032 - rmse: 2.1396 - mean_absolute_error: 1.6500 - mean_absolute_percentage_error: 3.4258 - val_loss: 13.5508 - val_rmse: 3.6216 - val_mean_absolute_error: 2.5311 - val_mean_absolute_percentage_error: 5.6794\n",
      "Epoch 12/30\n",
      " - 3s - loss: 5.1287 - rmse: 2.2007 - mean_absolute_error: 1.7011 - mean_absolute_percentage_error: 3.5469 - val_loss: 13.7165 - val_rmse: 3.6523 - val_mean_absolute_error: 2.5651 - val_mean_absolute_percentage_error: 5.5929\n",
      "Epoch 13/30\n",
      " - 3s - loss: 5.0659 - rmse: 2.1989 - mean_absolute_error: 1.6939 - mean_absolute_percentage_error: 3.5070 - val_loss: 17.3142 - val_rmse: 4.1249 - val_mean_absolute_error: 2.9542 - val_mean_absolute_percentage_error: 6.2524\n",
      "Epoch 14/30\n",
      " - 3s - loss: 5.0244 - rmse: 2.2036 - mean_absolute_error: 1.6999 - mean_absolute_percentage_error: 3.5174 - val_loss: 15.0496 - val_rmse: 3.8363 - val_mean_absolute_error: 2.7303 - val_mean_absolute_percentage_error: 5.9128\n",
      "Epoch 15/30\n",
      " - 3s - loss: 5.3321 - rmse: 2.2677 - mean_absolute_error: 1.7552 - mean_absolute_percentage_error: 3.6367 - val_loss: 15.3195 - val_rmse: 3.8712 - val_mean_absolute_error: 2.7767 - val_mean_absolute_percentage_error: 6.0199\n",
      "Epoch 16/30\n",
      " - 3s - loss: 5.6802 - rmse: 2.3412 - mean_absolute_error: 1.8130 - mean_absolute_percentage_error: 3.7429 - val_loss: 14.2512 - val_rmse: 3.7268 - val_mean_absolute_error: 2.6650 - val_mean_absolute_percentage_error: 5.8930\n",
      "Epoch 17/30\n",
      " - 3s - loss: 5.7303 - rmse: 2.3449 - mean_absolute_error: 1.8230 - mean_absolute_percentage_error: 3.7595 - val_loss: 15.7697 - val_rmse: 3.9178 - val_mean_absolute_error: 2.7650 - val_mean_absolute_percentage_error: 6.1576\n",
      "Epoch 18/30\n",
      " - 3s - loss: 5.6684 - rmse: 2.3362 - mean_absolute_error: 1.8116 - mean_absolute_percentage_error: 3.7447 - val_loss: 17.3038 - val_rmse: 4.1127 - val_mean_absolute_error: 2.8731 - val_mean_absolute_percentage_error: 6.3600\n",
      "Epoch 19/30\n",
      " - 3s - loss: 5.9101 - rmse: 2.3846 - mean_absolute_error: 1.8650 - mean_absolute_percentage_error: 3.8683 - val_loss: 15.7782 - val_rmse: 3.9158 - val_mean_absolute_error: 2.7395 - val_mean_absolute_percentage_error: 6.0813\n",
      "Epoch 20/30\n",
      " - 3s - loss: 5.4859 - rmse: 2.2975 - mean_absolute_error: 1.7886 - mean_absolute_percentage_error: 3.7259 - val_loss: 18.0625 - val_rmse: 4.2076 - val_mean_absolute_error: 2.9864 - val_mean_absolute_percentage_error: 6.4768\n",
      "Epoch 21/30\n",
      " - 3s - loss: 5.1764 - rmse: 2.2257 - mean_absolute_error: 1.7308 - mean_absolute_percentage_error: 3.5876 - val_loss: 13.6267 - val_rmse: 3.6448 - val_mean_absolute_error: 2.5152 - val_mean_absolute_percentage_error: 5.5689\n",
      "Epoch 22/30\n",
      " - 3s - loss: 5.1362 - rmse: 2.2219 - mean_absolute_error: 1.7275 - mean_absolute_percentage_error: 3.6012 - val_loss: 12.6872 - val_rmse: 3.5156 - val_mean_absolute_error: 2.4123 - val_mean_absolute_percentage_error: 5.3410\n",
      "Epoch 23/30\n",
      " - 3s - loss: 4.9388 - rmse: 2.1769 - mean_absolute_error: 1.6979 - mean_absolute_percentage_error: 3.5365 - val_loss: 13.0649 - val_rmse: 3.5641 - val_mean_absolute_error: 2.4763 - val_mean_absolute_percentage_error: 5.5521\n",
      "Epoch 24/30\n",
      " - 3s - loss: 5.2582 - rmse: 2.2422 - mean_absolute_error: 1.7524 - mean_absolute_percentage_error: 3.6556 - val_loss: 13.6556 - val_rmse: 3.6452 - val_mean_absolute_error: 2.5371 - val_mean_absolute_percentage_error: 5.6321\n",
      "Epoch 25/30\n",
      " - 3s - loss: 5.3118 - rmse: 2.2519 - mean_absolute_error: 1.7559 - mean_absolute_percentage_error: 3.6305 - val_loss: 18.5720 - val_rmse: 4.2792 - val_mean_absolute_error: 3.0617 - val_mean_absolute_percentage_error: 6.3719\n",
      "Epoch 26/30\n",
      " - 3s - loss: 5.3455 - rmse: 2.2550 - mean_absolute_error: 1.7480 - mean_absolute_percentage_error: 3.6057 - val_loss: 20.4450 - val_rmse: 4.4973 - val_mean_absolute_error: 3.2805 - val_mean_absolute_percentage_error: 6.7130\n",
      "Epoch 27/30\n",
      " - 3s - loss: 4.5920 - rmse: 2.0887 - mean_absolute_error: 1.6049 - mean_absolute_percentage_error: 3.3249 - val_loss: 18.9353 - val_rmse: 4.3248 - val_mean_absolute_error: 3.1455 - val_mean_absolute_percentage_error: 6.5427\n",
      "Epoch 28/30\n",
      " - 3s - loss: 4.2336 - rmse: 2.0175 - mean_absolute_error: 1.5560 - mean_absolute_percentage_error: 3.2475 - val_loss: 19.3955 - val_rmse: 4.3814 - val_mean_absolute_error: 3.2541 - val_mean_absolute_percentage_error: 6.8435\n",
      "Epoch 29/30\n",
      " - 3s - loss: 4.3550 - rmse: 2.0408 - mean_absolute_error: 1.5914 - mean_absolute_percentage_error: 3.3643 - val_loss: 20.0807 - val_rmse: 4.4605 - val_mean_absolute_error: 3.4543 - val_mean_absolute_percentage_error: 7.3830\n",
      "Epoch 30/30\n",
      " - 3s - loss: 4.4195 - rmse: 2.0643 - mean_absolute_error: 1.6055 - mean_absolute_percentage_error: 3.3636 - val_loss: 19.2684 - val_rmse: 4.3670 - val_mean_absolute_error: 3.3367 - val_mean_absolute_percentage_error: 7.1335\n",
      "Wall time: 1min 39s\n"
     ]
    }
   ],
   "source": [
    "%time history_SimpleModel_1_trans_cont2 = model.fit(X_train_model, y_train_model, \\\n",
    "                                        epochs=30, shuffle=False, batch_size=50, \\\n",
    "                                        validation_data=(X_val_model, y_val_model), \\\n",
    "                                        verbose=2)"
   ]
  },
  {
   "cell_type": "markdown",
   "metadata": {},
   "source": [
    "## Test Architectures\n",
    "### Use random search"
   ]
  },
  {
   "cell_type": "code",
   "execution_count": null,
   "metadata": {},
   "outputs": [],
   "source": [
    "from randomized_relu import randomized_relu\n",
    "from drop_activation import drop_activation\n",
    "from keras.utils.generic_utils import get_custom_objects\n",
    "\n",
    "get_custom_objects().update({'randomized_relu': Activation(randomized_relu)})\n",
    "get_custom_objects().update({'drop_activation': Activation(drop_activation)})"
   ]
  },
  {
   "cell_type": "code",
   "execution_count": 11,
   "metadata": {},
   "outputs": [],
   "source": [
    "# load data\n",
    "X = np.load('X.npy')\n",
    "y = np.load('y.npy')"
   ]
  },
  {
   "cell_type": "code",
   "execution_count": 14,
   "metadata": {},
   "outputs": [],
   "source": [
    "# prep data\n",
    "def prep_data(X, y, points):\n",
    "    \n",
    "    # model with specific points \n",
    "    y_model = y[:, points]\n",
    "\n",
    "    # get index of non-missing labels\n",
    "    index = ~np.isnan(y_model).any(axis=1)\n",
    "\n",
    "    # filter out missing labels on training and validation data\n",
    "    X_model = X[index]\n",
    "    y_model = y_model[index]\n",
    "\n",
    "    # data transformation\n",
    "    degree1 = -10\n",
    "    degree2 = 10\n",
    "    n_point = len(points)\n",
    "    percent = 0.9\n",
    "\n",
    "    X_rotated = np.zeros((X_model.shape), dtype=np.float64)\n",
    "    X_rotated[range(0, len(X_model), 2)] = rotate_X(X_model[range(0, len(X_model), 2)], degree1)\n",
    "    X_rotated[range(1, len(X_model), 2)] = rotate_X(X_model[range(1, len(X_model), 2)], degree2)\n",
    "\n",
    "    y_rotated = np.zeros((y_model.shape), dtype=np.float64)\n",
    "    y_rotated[range(0, len(y_model), 2)] = rotate_y(y_model[range(0, len(y_model), 2)], degree1, n_point)\n",
    "    y_rotated[range(1, len(y_model), 2)] = rotate_y(y_model[range(1, len(y_model), 2)], degree2, n_point)   \n",
    "\n",
    "    X_rotated = np.concatenate((X_model, X_rotated), axis=0)\n",
    "    y_rotated = np.concatenate((y_model, y_rotated), axis=0)\n",
    "    \n",
    "    X_contrast = X_rotated.copy()\n",
    "    X_contrast[range(1, len(X_rotated), 2)] = reduce_contrast(X_rotated[range(1, len(X_rotated), 2)], percent)\n",
    "    \n",
    "    return X_contrast.reshape(-1,96,96,1), y_rotated"
   ]
  },
  {
   "cell_type": "markdown",
   "metadata": {},
   "source": [
    "### Batch 1 - at least 2 and up to 5 conv layers, at least 1 and up to 2 dense layers, optional dropout, 5 activations"
   ]
  },
  {
   "cell_type": "code",
   "execution_count": 106,
   "metadata": {},
   "outputs": [],
   "source": [
    "# define RMSE\n",
    "def rmse (y_true, y_pred):\n",
    "    return K.sqrt(K.mean(K.square(y_pred - y_true)))\n",
    "\n",
    "# create model - use random search - batch 1\n",
    "def create_model(x_train, y_train, n_point):\n",
    "\n",
    "    conv_filters_S = [8, 16, 28]\n",
    "    conv_filters_M = [28, 32, 64]\n",
    "    conv_filters_L = [64, 96, 128]\n",
    "    conv_filters_XL = [128, 256, 384]\n",
    "    add_layer = ['Y', 'N']\n",
    "    dense_neurons1 = [64, 96, 128, 256]\n",
    "    dense_neurons2 = [32, 64, 96, 128]\n",
    "    activations = ['relu', 'LeakyReLU', 'PReLU', 'randomized_relu', 'drop_activation']\n",
    "    \n",
    "    activation = choice(activations, p=[0.6, 0.1, 0.1, 0.1, 0.1])\n",
    "    conv_filter1 = choice(conv_filters_S)\n",
    "    conv_filter2 = choice(conv_filters_M)\n",
    "    conv_filter3 = 0\n",
    "    conv_filter4 = 0\n",
    "    conv_filter5 = 0\n",
    "    \n",
    "    conv_layer_3 = choice(add_layer, p=[0.8, 0.2])\n",
    "    if conv_layer_3 == 'Y':\n",
    "        conv_filter3 = choice(conv_filters_L)\n",
    "        conv_layer_4 = choice(add_layer, p=[0.6, 0.4])\n",
    "        if conv_layer_4 == 'Y':\n",
    "            conv_filter4 = choice(conv_filters_L)\n",
    "            conv_layer_5 = choice(add_layer)\n",
    "            if conv_layer_5 == 'Y':\n",
    "                conv_filter5 = choice(conv_filters_XL)\n",
    "                n_conv_layer = 5\n",
    "            else:\n",
    "                n_conv_layer = 4\n",
    "        else:\n",
    "            n_conv_layer = 3\n",
    "    else:\n",
    "        n_conv_layer = 2\n",
    "        \n",
    "    dense_neuron1 = choice(dense_neurons1)\n",
    "    dense_neuron2 = 0\n",
    "    dense_layer_2 = choice(add_layer)\n",
    "    if dense_layer_2 == 'Y':\n",
    "        dense_neuron2 = choice(dense_neurons2)\n",
    "        n_dense_layer = 2\n",
    "    else:\n",
    "        n_dense_layer = 1\n",
    "                \n",
    "    dropout_layer = choice(add_layer, p=[0.05, 0.95])\n",
    "    if dropout_layer == 'Y':\n",
    "        dropout_p = uniform(0, 0.5)\n",
    "    else:\n",
    "        dropout_p = 0\n",
    "        \n",
    "    description = 'ConvLayer-{}-Filter-{}-{}-{}-{}-{}-DenseLayer-{}-Neuron-{}-{}-DropoutLayer-{:.2f}-Activation-{}'.format( \\\n",
    "            n_conv_layer, conv_filter1, conv_filter2, conv_filter3, conv_filter4, conv_filter5, \\\n",
    "            n_dense_layer, dense_neuron1, dense_neuron2, dropout_p, activation)\n",
    "    \n",
    "    \n",
    "    # define model\n",
    "    model = Sequential()\n",
    "    \n",
    "    # conv layer 1\n",
    "    model.add(Conv2D(conv_filter1, (3, 3), strides=(1,1), padding='same', \\\n",
    "                     input_shape=(96,96,1), data_format='channels_last'))\n",
    "    model.add(BatchNormalization())\n",
    "    if activation == 'LeakyReLU':\n",
    "        model.add(LeakyReLU())\n",
    "    elif activation == 'PReLU':\n",
    "        model.add(PReLU())\n",
    "    else:\n",
    "        model.add(Activation(activation))\n",
    "    model.add(MaxPooling2D(pool_size=(3,3), strides=(2,2)))\n",
    "    \n",
    "    # conv layer 2\n",
    "    model.add(Conv2D(conv_filter2, (3, 3), strides=(1,1), padding='same'))\n",
    "    model.add(BatchNormalization())\n",
    "    if activation == 'LeakyReLU':\n",
    "        model.add(LeakyReLU())\n",
    "    elif activation == 'PReLU':\n",
    "        model.add(PReLU())\n",
    "    else:\n",
    "        model.add(Activation(activation))\n",
    "    model.add(MaxPooling2D(pool_size=(3,3), strides=(2,2)))\n",
    "\n",
    "    # optional conv layer 3\n",
    "    if conv_layer_3 == 'Y':\n",
    "        model.add(Conv2D(conv_filter3, (3, 3), strides=(1,1), padding='same'))\n",
    "        model.add(BatchNormalization())\n",
    "        if activation == 'LeakyReLU':\n",
    "            model.add(LeakyReLU())\n",
    "        elif activation == 'PReLU':\n",
    "            model.add(PReLU())\n",
    "        else:\n",
    "            model.add(Activation(activation))\n",
    "        \n",
    "        if conv_layer_4 == 'N':\n",
    "            model.add(MaxPooling2D(pool_size=(3,3), strides=(2,2)))\n",
    "\n",
    "        # optional conv layer 4\n",
    "        elif conv_layer_4 == 'Y':\n",
    "            model.add(Conv2D(conv_filter4, (3, 3), strides=(1,1), padding='same'))\n",
    "            model.add(BatchNormalization())\n",
    "            if activation == 'LeakyReLU':\n",
    "                model.add(LeakyReLU())\n",
    "            elif activation == 'PReLU':\n",
    "                model.add(PReLU())\n",
    "            else:\n",
    "                model.add(Activation(activation))\n",
    "            \n",
    "            if conv_layer_5 =='N':\n",
    "                model.add(MaxPooling2D(pool_size=(3,3), strides=(2,2)))\n",
    "            \n",
    "            # optional conv layer 5\n",
    "            elif conv_layer_5 == 'Y':\n",
    "                model.add(Conv2D(conv_filter5, (3, 3), strides=(1,1), padding='same'))\n",
    "                model.add(BatchNormalization())\n",
    "                if activation == 'LeakyReLU':\n",
    "                    model.add(LeakyReLU())\n",
    "                elif activation == 'PReLU':\n",
    "                    model.add(PReLU())\n",
    "                else:\n",
    "                    model.add(Activation(activation))\n",
    "                model.add(MaxPooling2D(pool_size=(3,3), strides=(2,2)))\n",
    "\n",
    "    model.add(Flatten())\n",
    "    \n",
    "    # fully connected layer 1\n",
    "    model.add(Dense(dense_neuron1))\n",
    "    if activation == 'LeakyReLU':\n",
    "        model.add(LeakyReLU())\n",
    "    elif activation == 'PReLU':\n",
    "        model.add(PReLU())\n",
    "    else:\n",
    "        model.add(Activation(activation))\n",
    "    \n",
    "    # optional fully connected layer 2\n",
    "    if dense_layer_2 == 'Y':\n",
    "        model.add(Dense(dense_neuron2))\n",
    "        if activation == 'LeakyReLU':\n",
    "            model.add(LeakyReLU())\n",
    "        elif activation == 'PReLU':\n",
    "            model.add(PReLU())\n",
    "        else:\n",
    "            model.add(Activation(activation))\n",
    "        \n",
    "    # optional dropout layer before output\n",
    "    if dropout_layer == 'Y':\n",
    "        model.add(Dropout(rate=dropout_p))\n",
    "    \n",
    "    # output layer\n",
    "    model.add(Dense(n_point))\n",
    "\n",
    "\n",
    "    # compile model\n",
    "    model.compile(loss='mean_squared_error', metrics=[rmse], optimizer='adam')\n",
    "\n",
    "    return model, description"
   ]
  },
  {
   "cell_type": "code",
   "execution_count": 17,
   "metadata": {},
   "outputs": [],
   "source": [
    "# create data\n",
    "X_model1, y_model1 = prep_data(X, y, points = [0, 1, 2, 3, 20, 21, 28, 29])"
   ]
  },
  {
   "cell_type": "code",
   "execution_count": 107,
   "metadata": {
    "scrolled": true
   },
   "outputs": [
    {
     "name": "stdout",
     "output_type": "stream",
     "text": [
      "ConvLayer-3-Filter-8-28-96-0-0-DenseLayer-2-Neuron-128-32-DropoutLayer-0.00-Activation-relu\n"
     ]
    }
   ],
   "source": [
    "model, description = create_model(X_model1, y_model1, 8)\n",
    "print(description)"
   ]
  },
  {
   "cell_type": "code",
   "execution_count": 113,
   "metadata": {
    "scrolled": true
   },
   "outputs": [
    {
     "name": "stdout",
     "output_type": "stream",
     "text": [
      "Model 1: ConvLayer-3-Filter-28-28-64-0-0-DenseLayer-2-Neuron-128-128-DropoutLayer-0.00-Activation-drop_activation\n",
      "Best validation RMSE: 2.206572147096906\n",
      "Model 2: ConvLayer-4-Filter-16-28-96-128-0-DenseLayer-1-Neuron-256-0-DropoutLayer-0.00-Activation-randomized_relu\n",
      "Best validation RMSE: 2.2464510686056953\n",
      "Model 3: ConvLayer-5-Filter-8-32-128-96-256-DenseLayer-2-Neuron-64-32-DropoutLayer-0.00-Activation-relu\n",
      "Best validation RMSE: 2.2190891333988736\n",
      "Model 4: ConvLayer-3-Filter-28-32-128-0-0-DenseLayer-1-Neuron-64-0-DropoutLayer-0.00-Activation-LeakyReLU\n",
      "Best validation RMSE: 2.5826294817243305\n",
      "Model 5: ConvLayer-3-Filter-28-28-64-0-0-DenseLayer-1-Neuron-256-0-DropoutLayer-0.00-Activation-relu\n",
      "Best validation RMSE: 2.457849260057722\n",
      "Model 6: ConvLayer-5-Filter-28-64-64-64-128-DenseLayer-1-Neuron-128-0-DropoutLayer-0.00-Activation-PReLU\n",
      "Best validation RMSE: 2.2580609703063965\n",
      "Model 7: ConvLayer-4-Filter-8-64-128-96-0-DenseLayer-1-Neuron-64-0-DropoutLayer-0.00-Activation-relu\n",
      "Best validation RMSE: 2.2660561684199743\n",
      "Model 8: ConvLayer-3-Filter-28-32-96-0-0-DenseLayer-1-Neuron-96-0-DropoutLayer-0.00-Activation-LeakyReLU\n",
      "Best validation RMSE: 2.6235972608838765\n",
      "Model 9: ConvLayer-2-Filter-28-28-0-0-0-DenseLayer-1-Neuron-96-0-DropoutLayer-0.00-Activation-relu\n",
      "Best validation RMSE: 2.6715995134626116\n",
      "Model 10: ConvLayer-3-Filter-28-64-64-0-0-DenseLayer-2-Neuron-64-128-DropoutLayer-0.00-Activation-relu\n",
      "Best validation RMSE: 2.396210354396275\n",
      "Model 11: ConvLayer-3-Filter-16-28-96-0-0-DenseLayer-1-Neuron-64-0-DropoutLayer-0.00-Activation-relu\n",
      "Best validation RMSE: 2.4930085263933455\n",
      "Model 12: ConvLayer-3-Filter-8-64-128-0-0-DenseLayer-1-Neuron-128-0-DropoutLayer-0.00-Activation-relu\n",
      "Best validation RMSE: 2.2626181738717217\n",
      "Model 13: ConvLayer-3-Filter-28-32-128-0-0-DenseLayer-1-Neuron-96-0-DropoutLayer-0.00-Activation-relu\n",
      "Best validation RMSE: 2.631747451509748\n",
      "Model 14: ConvLayer-4-Filter-8-32-64-64-0-DenseLayer-2-Neuron-256-64-DropoutLayer-0.00-Activation-relu\n",
      "Best validation RMSE: 2.2015529537200926\n",
      "Model 15: ConvLayer-4-Filter-8-64-96-128-0-DenseLayer-2-Neuron-64-128-DropoutLayer-0.00-Activation-PReLU\n",
      "Best validation RMSE: 2.125483121871948\n",
      "Model 16: ConvLayer-3-Filter-28-28-64-0-0-DenseLayer-1-Neuron-64-0-DropoutLayer-0.00-Activation-relu\n",
      "Best validation RMSE: 2.4635573468889507\n",
      "Model 17: ConvLayer-3-Filter-16-32-96-0-0-DenseLayer-2-Neuron-96-96-DropoutLayer-0.00-Activation-relu\n",
      "Best validation RMSE: 2.480457626070295\n",
      "Model 18: ConvLayer-5-Filter-28-28-64-96-384-DenseLayer-2-Neuron-64-128-DropoutLayer-0.00-Activation-relu\n",
      "Best validation RMSE: 2.2144845962524413\n",
      "Model 19: ConvLayer-4-Filter-8-64-96-96-0-DenseLayer-1-Neuron-256-0-DropoutLayer-0.00-Activation-relu\n",
      "Best validation RMSE: 2.292819788796561\n",
      "Model 20: ConvLayer-5-Filter-8-32-64-128-256-DenseLayer-2-Neuron-96-96-DropoutLayer-0.00-Activation-relu\n",
      "Best validation RMSE: 1.9775424017224994\n",
      "Model 21: ConvLayer-3-Filter-8-64-96-0-0-DenseLayer-1-Neuron-256-0-DropoutLayer-0.00-Activation-relu\n",
      "Best validation RMSE: 2.4220020525796073\n",
      "Model 22: ConvLayer-4-Filter-8-32-96-64-0-DenseLayer-1-Neuron-96-0-DropoutLayer-0.00-Activation-LeakyReLU\n",
      "Best validation RMSE: 2.366309086935861\n",
      "Model 23: ConvLayer-3-Filter-16-64-128-0-0-DenseLayer-2-Neuron-128-96-DropoutLayer-0.00-Activation-relu\n",
      "Best validation RMSE: 2.1931315980638777\n",
      "Model 24: ConvLayer-3-Filter-8-64-128-0-0-DenseLayer-1-Neuron-64-0-DropoutLayer-0.00-Activation-relu\n",
      "Best validation RMSE: 2.560265051977975\n",
      "Model 25: ConvLayer-5-Filter-28-64-64-64-256-DenseLayer-2-Neuron-96-96-DropoutLayer-0.00-Activation-relu\n",
      "Best validation RMSE: 1.9595165484292167\n",
      "Model 26: ConvLayer-4-Filter-16-32-128-128-0-DenseLayer-1-Neuron-256-0-DropoutLayer-0.00-Activation-relu\n",
      "Best validation RMSE: 2.1517182370594568\n",
      "Model 27: ConvLayer-4-Filter-28-64-64-96-0-DenseLayer-2-Neuron-256-64-DropoutLayer-0.00-Activation-PReLU\n",
      "Best validation RMSE: 2.154227876663208\n",
      "Model 28: ConvLayer-3-Filter-16-28-64-0-0-DenseLayer-1-Neuron-256-0-DropoutLayer-0.00-Activation-relu\n",
      "Best validation RMSE: 2.439938670567104\n",
      "Model 29: ConvLayer-4-Filter-8-32-128-128-0-DenseLayer-1-Neuron-256-0-DropoutLayer-0.00-Activation-relu\n",
      "Best validation RMSE: 2.088134343283517\n",
      "Model 30: ConvLayer-2-Filter-28-64-0-0-0-DenseLayer-1-Neuron-128-0-DropoutLayer-0.00-Activation-LeakyReLU\n",
      "Best validation RMSE: 2.782309341430664\n",
      "Model 31: ConvLayer-4-Filter-16-32-128-64-0-DenseLayer-1-Neuron-128-0-DropoutLayer-0.00-Activation-relu\n",
      "Best validation RMSE: 2.337925562177386\n",
      "Model 32: ConvLayer-2-Filter-8-64-0-0-0-DenseLayer-2-Neuron-256-32-DropoutLayer-0.00-Activation-relu\n",
      "Best validation RMSE: 2.400993924822126\n",
      "Model 33: ConvLayer-2-Filter-16-32-0-0-0-DenseLayer-2-Neuron-128-64-DropoutLayer-0.00-Activation-PReLU\n",
      "Best validation RMSE: 2.6166521072387696\n",
      "Model 34: ConvLayer-5-Filter-8-32-128-96-256-DenseLayer-1-Neuron-96-0-DropoutLayer-0.00-Activation-relu\n",
      "Best validation RMSE: 2.2989451694488525\n",
      "Model 35: ConvLayer-4-Filter-28-32-128-128-0-DenseLayer-2-Neuron-128-96-DropoutLayer-0.00-Activation-relu\n",
      "Best validation RMSE: 2.2276326547350203\n",
      "Model 36: ConvLayer-2-Filter-16-28-0-0-0-DenseLayer-2-Neuron-256-128-DropoutLayer-0.00-Activation-relu\n",
      "Best validation RMSE: 2.4047647517068045\n",
      "Model 37: ConvLayer-4-Filter-28-64-64-64-0-DenseLayer-2-Neuron-256-96-DropoutLayer-0.00-Activation-relu\n",
      "Best validation RMSE: 2.0495268549237933\n",
      "Model 38: ConvLayer-3-Filter-8-32-128-0-0-DenseLayer-2-Neuron-96-32-DropoutLayer-0.00-Activation-LeakyReLU\n",
      "Best validation RMSE: 2.4796633243560793\n",
      "Model 39: ConvLayer-3-Filter-28-64-128-0-0-DenseLayer-1-Neuron-96-0-DropoutLayer-0.00-Activation-drop_activation\n",
      "Best validation RMSE: 2.4405858530317035\n",
      "Model 40: ConvLayer-5-Filter-8-28-64-128-384-DenseLayer-1-Neuron-256-0-DropoutLayer-0.00-Activation-PReLU\n",
      "Best validation RMSE: 2.3580653994424003\n",
      "Model 41: ConvLayer-2-Filter-28-32-0-0-0-DenseLayer-1-Neuron-256-0-DropoutLayer-0.00-Activation-randomized_relu\n",
      "Best validation RMSE: 2.5772973224094935\n",
      "Model 42: ConvLayer-3-Filter-16-32-64-0-0-DenseLayer-2-Neuron-128-128-DropoutLayer-0.00-Activation-relu\n",
      "Best validation RMSE: 2.436761997767857\n",
      "Model 43: ConvLayer-2-Filter-28-64-0-0-0-DenseLayer-2-Neuron-128-64-DropoutLayer-0.00-Activation-relu\n",
      "Best validation RMSE: 2.4821183626992362\n",
      "Model 44: ConvLayer-4-Filter-8-32-64-128-0-DenseLayer-1-Neuron-64-0-DropoutLayer-0.00-Activation-relu\n",
      "Best validation RMSE: 2.407886828013829\n",
      "Model 45: ConvLayer-2-Filter-28-64-0-0-0-DenseLayer-2-Neuron-96-128-DropoutLayer-0.00-Activation-relu\n",
      "Best validation RMSE: 2.496244430541992\n",
      "Model 46: ConvLayer-3-Filter-8-32-64-0-0-DenseLayer-1-Neuron-96-0-DropoutLayer-0.00-Activation-relu\n",
      "Best validation RMSE: 2.5746481364113945\n",
      "Model 47: ConvLayer-5-Filter-16-64-96-64-256-DenseLayer-2-Neuron-128-64-DropoutLayer-0.00-Activation-PReLU\n",
      "Best validation RMSE: 2.180591105052403\n",
      "Model 48: ConvLayer-4-Filter-16-32-96-128-0-DenseLayer-2-Neuron-256-96-DropoutLayer-0.00-Activation-relu\n",
      "Best validation RMSE: 2.0527452291761126\n",
      "Model 49: ConvLayer-5-Filter-28-64-96-128-128-DenseLayer-1-Neuron-256-0-DropoutLayer-0.00-Activation-drop_activation\n",
      "Best validation RMSE: 2.056938898903983\n",
      "Model 50: ConvLayer-5-Filter-16-32-96-64-128-DenseLayer-1-Neuron-96-0-DropoutLayer-0.00-Activation-relu\n",
      "Best validation RMSE: 1.9957137489318848\n",
      "Model 51: ConvLayer-3-Filter-28-28-96-0-0-DenseLayer-2-Neuron-256-128-DropoutLayer-0.00-Activation-randomized_relu\n",
      "Best validation RMSE: 2.227790358407157\n",
      "Model 52: ConvLayer-5-Filter-16-64-64-96-128-DenseLayer-1-Neuron-96-0-DropoutLayer-0.00-Activation-drop_activation\n",
      "Best validation RMSE: 2.2102490275246756\n",
      "Model 53: ConvLayer-3-Filter-16-28-96-0-0-DenseLayer-2-Neuron-96-128-DropoutLayer-0.00-Activation-randomized_relu\n",
      "Best validation RMSE: 2.315706559589931\n",
      "Model 54: ConvLayer-3-Filter-28-64-128-0-0-DenseLayer-2-Neuron-256-64-DropoutLayer-0.00-Activation-relu\n",
      "Best validation RMSE: 2.1865517888750348\n",
      "Model 55: ConvLayer-5-Filter-8-32-128-128-128-DenseLayer-2-Neuron-64-128-DropoutLayer-0.00-Activation-relu\n",
      "Best validation RMSE: 2.126863833836147\n",
      "Model 56: ConvLayer-2-Filter-28-28-0-0-0-DenseLayer-2-Neuron-128-32-DropoutLayer-0.00-Activation-PReLU\n",
      "Best validation RMSE: 2.5250123473576136\n",
      "Model 57: ConvLayer-2-Filter-28-32-0-0-0-DenseLayer-2-Neuron-96-64-DropoutLayer-0.00-Activation-randomized_relu\n"
     ]
    },
    {
     "name": "stdout",
     "output_type": "stream",
     "text": [
      "Best validation RMSE: 2.3845750386374336\n",
      "Model 58: ConvLayer-3-Filter-16-28-128-0-0-DenseLayer-2-Neuron-128-64-DropoutLayer-0.00-Activation-LeakyReLU\n",
      "Best validation RMSE: 2.2814936651502338\n",
      "Model 59: ConvLayer-5-Filter-8-32-128-64-256-DenseLayer-2-Neuron-64-128-DropoutLayer-0.00-Activation-PReLU\n",
      "Best validation RMSE: 1.9776926027025494\n",
      "Model 60: ConvLayer-2-Filter-8-28-0-0-0-DenseLayer-1-Neuron-256-0-DropoutLayer-0.00-Activation-randomized_relu\n",
      "Best validation RMSE: 2.5874791254316056\n",
      "Model 61: ConvLayer-3-Filter-16-64-64-0-0-DenseLayer-1-Neuron-256-0-DropoutLayer-0.00-Activation-randomized_relu\n",
      "Best validation RMSE: 2.231810438973563\n",
      "Model 62: ConvLayer-5-Filter-8-32-96-64-256-DenseLayer-2-Neuron-128-96-DropoutLayer-0.00-Activation-relu\n",
      "Best validation RMSE: 2.1485912677219936\n",
      "Model 63: ConvLayer-3-Filter-16-32-96-0-0-DenseLayer-2-Neuron-96-96-DropoutLayer-0.00-Activation-relu\n",
      "Best validation RMSE: 2.326189569745745\n",
      "Model 64: ConvLayer-5-Filter-28-64-64-96-128-DenseLayer-1-Neuron-64-0-DropoutLayer-0.00-Activation-relu\n",
      "Best validation RMSE: 2.099843417576381\n",
      "Model 65: ConvLayer-4-Filter-8-32-64-128-0-DenseLayer-2-Neuron-256-96-DropoutLayer-0.00-Activation-relu\n",
      "Best validation RMSE: 2.1300009591238838\n",
      "Model 66: ConvLayer-3-Filter-8-28-64-0-0-DenseLayer-2-Neuron-64-64-DropoutLayer-0.00-Activation-relu\n",
      "Best validation RMSE: 2.5049941648755754\n",
      "Model 67: ConvLayer-2-Filter-28-32-0-0-0-DenseLayer-2-Neuron-256-128-DropoutLayer-0.00-Activation-relu\n",
      "Best validation RMSE: 2.4193981756482805\n",
      "Model 68: ConvLayer-5-Filter-8-32-96-96-128-DenseLayer-1-Neuron-256-0-DropoutLayer-0.00-Activation-PReLU\n",
      "Best validation RMSE: 2.1929548958369662\n",
      "Model 69: ConvLayer-4-Filter-28-32-96-64-0-DenseLayer-1-Neuron-128-0-DropoutLayer-0.00-Activation-PReLU\n",
      "Best validation RMSE: 2.2513164602007185\n",
      "Model 70: ConvLayer-4-Filter-8-32-128-64-0-DenseLayer-1-Neuron-128-0-DropoutLayer-0.00-Activation-drop_activation\n",
      "Best validation RMSE: 2.3193803787231446\n",
      "Model 71: ConvLayer-5-Filter-16-28-128-64-256-DenseLayer-2-Neuron-128-32-DropoutLayer-0.00-Activation-drop_activation\n",
      "Best validation RMSE: 2.24303334917341\n",
      "Model 72: ConvLayer-2-Filter-8-64-0-0-0-DenseLayer-2-Neuron-128-64-DropoutLayer-0.00-Activation-drop_activation\n",
      "Best validation RMSE: 2.5072616154806955\n",
      "Model 73: ConvLayer-4-Filter-8-32-64-96-0-DenseLayer-1-Neuron-96-0-DropoutLayer-0.00-Activation-PReLU\n",
      "Best validation RMSE: 2.134844699587141\n",
      "Model 74: ConvLayer-5-Filter-16-32-96-96-256-DenseLayer-2-Neuron-256-64-DropoutLayer-0.00-Activation-randomized_relu\n",
      "Best validation RMSE: 2.1848906462533133\n",
      "Model 75: ConvLayer-5-Filter-8-64-64-128-128-DenseLayer-1-Neuron-128-0-DropoutLayer-0.00-Activation-drop_activation\n",
      "Best validation RMSE: 2.1956394454411097\n",
      "Model 76: ConvLayer-3-Filter-28-32-64-0-0-DenseLayer-2-Neuron-64-32-DropoutLayer-0.00-Activation-relu\n",
      "Best validation RMSE: 2.5078689411708286\n",
      "Model 77: ConvLayer-3-Filter-8-28-64-0-0-DenseLayer-2-Neuron-128-32-DropoutLayer-0.00-Activation-relu\n",
      "Best validation RMSE: 2.396905235563006\n",
      "Model 78: ConvLayer-4-Filter-16-32-96-128-0-DenseLayer-1-Neuron-64-0-DropoutLayer-0.00-Activation-relu\n",
      "Best validation RMSE: 2.2136977086748395\n",
      "Model 79: ConvLayer-2-Filter-8-32-0-0-0-DenseLayer-1-Neuron-256-0-DropoutLayer-0.00-Activation-relu\n",
      "Best validation RMSE: 2.650168582371303\n",
      "Model 80: ConvLayer-5-Filter-28-32-96-64-128-DenseLayer-1-Neuron-256-0-DropoutLayer-0.00-Activation-relu\n",
      "Best validation RMSE: 2.0902832875932966\n",
      "Model 81: ConvLayer-5-Filter-28-28-128-64-256-DenseLayer-2-Neuron-128-64-DropoutLayer-0.00-Activation-relu\n",
      "Best validation RMSE: 2.1957273864746094\n",
      "Model 82: ConvLayer-5-Filter-16-64-128-96-256-DenseLayer-1-Neuron-256-0-DropoutLayer-0.00-Activation-randomized_relu\n",
      "Best validation RMSE: 2.2834954575129918\n",
      "Model 83: ConvLayer-2-Filter-8-28-0-0-0-DenseLayer-2-Neuron-96-128-DropoutLayer-0.00-Activation-relu\n",
      "Best validation RMSE: 2.4794142763955254\n",
      "Model 84: ConvLayer-2-Filter-16-28-0-0-0-DenseLayer-1-Neuron-96-0-DropoutLayer-0.00-Activation-LeakyReLU\n",
      "Best validation RMSE: 2.6324708134787422\n",
      "Model 85: ConvLayer-3-Filter-28-32-64-0-0-DenseLayer-2-Neuron-64-64-DropoutLayer-0.00-Activation-relu\n",
      "Best validation RMSE: 2.523610428401402\n",
      "Model 86: ConvLayer-5-Filter-16-32-128-64-128-DenseLayer-2-Neuron-96-96-DropoutLayer-0.00-Activation-relu\n",
      "Best validation RMSE: 2.1224354812077113\n",
      "Model 87: ConvLayer-5-Filter-28-28-96-128-384-DenseLayer-1-Neuron-64-0-DropoutLayer-0.00-Activation-relu\n",
      "Best validation RMSE: 2.3094830335889545\n",
      "Model 88: ConvLayer-2-Filter-8-64-0-0-0-DenseLayer-1-Neuron-96-0-DropoutLayer-0.00-Activation-relu\n",
      "Best validation RMSE: 2.7815780912126815\n",
      "Model 89: ConvLayer-3-Filter-28-64-96-0-0-DenseLayer-2-Neuron-96-96-DropoutLayer-0.00-Activation-randomized_relu\n",
      "Best validation RMSE: 2.3916239302498954\n",
      "Model 90: ConvLayer-3-Filter-28-64-64-0-0-DenseLayer-2-Neuron-256-128-DropoutLayer-0.00-Activation-relu\n",
      "Best validation RMSE: 2.3286374241965158\n",
      "Model 91: ConvLayer-4-Filter-28-28-128-96-0-DenseLayer-2-Neuron-128-128-DropoutLayer-0.00-Activation-relu\n",
      "Best validation RMSE: 2.191042684827532\n",
      "Model 92: ConvLayer-5-Filter-8-64-64-96-128-DenseLayer-2-Neuron-96-32-DropoutLayer-0.00-Activation-PReLU\n",
      "Best validation RMSE: 1.955190703528268\n",
      "Model 93: ConvLayer-2-Filter-8-28-0-0-0-DenseLayer-1-Neuron-128-0-DropoutLayer-0.00-Activation-relu\n",
      "Best validation RMSE: 2.7637200341905865\n",
      "Model 94: ConvLayer-2-Filter-28-32-0-0-0-DenseLayer-2-Neuron-96-96-DropoutLayer-0.00-Activation-randomized_relu\n",
      "Best validation RMSE: 2.4811591257367813\n",
      "Model 95: ConvLayer-3-Filter-8-28-64-0-0-DenseLayer-2-Neuron-256-128-DropoutLayer-0.00-Activation-relu\n",
      "Best validation RMSE: 2.263995451245989\n",
      "Model 96: ConvLayer-4-Filter-28-28-96-64-0-DenseLayer-2-Neuron-128-96-DropoutLayer-0.00-Activation-relu\n",
      "Best validation RMSE: 2.1411731215885705\n",
      "Model 97: ConvLayer-5-Filter-8-28-96-64-384-DenseLayer-2-Neuron-96-32-DropoutLayer-0.00-Activation-relu\n",
      "Best validation RMSE: 2.281890790121896\n",
      "Model 98: ConvLayer-4-Filter-28-32-64-96-0-DenseLayer-2-Neuron-96-32-DropoutLayer-0.00-Activation-drop_activation\n",
      "Best validation RMSE: 2.2217010811397007\n",
      "Model 99: ConvLayer-5-Filter-16-32-96-96-256-DenseLayer-2-Neuron-64-32-DropoutLayer-0.00-Activation-relu\n",
      "Best validation RMSE: 2.0522208411352976\n",
      "Model 100: ConvLayer-3-Filter-8-32-96-0-0-DenseLayer-1-Neuron-96-0-DropoutLayer-0.00-Activation-LeakyReLU\n",
      "Best validation RMSE: 2.6404296888623917\n",
      "Model 101: ConvLayer-5-Filter-16-32-64-64-128-DenseLayer-2-Neuron-64-96-DropoutLayer-0.00-Activation-LeakyReLU\n",
      "Best validation RMSE: 2.026500061580113\n",
      "Model 102: ConvLayer-2-Filter-8-64-0-0-0-DenseLayer-1-Neuron-64-0-DropoutLayer-0.49-Activation-relu\n",
      "Best validation RMSE: 5.147372561863491\n",
      "Model 103: ConvLayer-3-Filter-16-32-128-0-0-DenseLayer-2-Neuron-128-64-DropoutLayer-0.00-Activation-randomized_relu\n",
      "Best validation RMSE: 2.3110513169424873\n",
      "Model 104: ConvLayer-3-Filter-16-28-96-0-0-DenseLayer-2-Neuron-128-128-DropoutLayer-0.00-Activation-relu\n",
      "Best validation RMSE: 2.3583989783695767\n",
      "Model 105: ConvLayer-4-Filter-16-32-128-64-0-DenseLayer-1-Neuron-256-0-DropoutLayer-0.00-Activation-relu\n",
      "Best validation RMSE: 2.190115075792585\n",
      "Model 106: ConvLayer-4-Filter-16-32-96-128-0-DenseLayer-1-Neuron-96-0-DropoutLayer-0.00-Activation-relu\n",
      "Best validation RMSE: 2.374208526611328\n",
      "Model 107: ConvLayer-5-Filter-16-32-96-64-384-DenseLayer-1-Neuron-96-0-DropoutLayer-0.00-Activation-drop_activation\n",
      "Best validation RMSE: 2.388987855911255\n",
      "Model 108: ConvLayer-3-Filter-28-28-96-0-0-DenseLayer-1-Neuron-64-0-DropoutLayer-0.00-Activation-relu\n",
      "Best validation RMSE: 2.570503260748727\n",
      "Model 109: ConvLayer-5-Filter-28-64-64-128-384-DenseLayer-2-Neuron-64-32-DropoutLayer-0.00-Activation-relu\n",
      "Best validation RMSE: 2.229271539960589\n",
      "Model 110: ConvLayer-2-Filter-28-32-0-0-0-DenseLayer-2-Neuron-128-64-DropoutLayer-0.00-Activation-drop_activation\n",
      "Best validation RMSE: 2.4716166945866176\n",
      "Model 111: ConvLayer-3-Filter-28-32-96-0-0-DenseLayer-1-Neuron-64-0-DropoutLayer-0.00-Activation-relu\n",
      "Best validation RMSE: 2.511966656276158\n",
      "Model 112: ConvLayer-3-Filter-8-64-64-0-0-DenseLayer-2-Neuron-128-32-DropoutLayer-0.00-Activation-LeakyReLU\n",
      "Best validation RMSE: 2.3548505851200647\n",
      "Model 113: ConvLayer-5-Filter-8-28-64-128-128-DenseLayer-2-Neuron-96-64-DropoutLayer-0.00-Activation-PReLU\n"
     ]
    },
    {
     "name": "stdout",
     "output_type": "stream",
     "text": [
      "Best validation RMSE: 2.059187844140189\n",
      "Model 114: ConvLayer-5-Filter-28-32-96-64-128-DenseLayer-2-Neuron-64-64-DropoutLayer-0.00-Activation-randomized_relu\n",
      "Best validation RMSE: 2.0894539472035\n",
      "Model 115: ConvLayer-4-Filter-16-28-128-96-0-DenseLayer-1-Neuron-64-0-DropoutLayer-0.00-Activation-drop_activation\n",
      "Best validation RMSE: 2.261029564993722\n",
      "Model 116: ConvLayer-3-Filter-8-32-64-0-0-DenseLayer-1-Neuron-256-0-DropoutLayer-0.00-Activation-randomized_relu\n",
      "Best validation RMSE: 2.536481956754412\n",
      "Model 117: ConvLayer-5-Filter-16-32-96-96-256-DenseLayer-1-Neuron-256-0-DropoutLayer-0.00-Activation-relu\n",
      "Best validation RMSE: 2.072691796166556\n",
      "Model 118: ConvLayer-5-Filter-16-32-64-128-384-DenseLayer-1-Neuron-96-0-DropoutLayer-0.00-Activation-randomized_relu\n",
      "Best validation RMSE: 2.405302559988839\n",
      "Model 119: ConvLayer-5-Filter-28-64-128-128-128-DenseLayer-1-Neuron-128-0-DropoutLayer-0.00-Activation-relu\n",
      "Best validation RMSE: 2.0294959769930156\n",
      "Model 120: ConvLayer-4-Filter-28-32-128-96-0-DenseLayer-2-Neuron-64-32-DropoutLayer-0.00-Activation-relu\n",
      "Best validation RMSE: 2.205656074796404\n",
      "Model 121: ConvLayer-3-Filter-16-32-64-0-0-DenseLayer-2-Neuron-64-32-DropoutLayer-0.00-Activation-relu\n",
      "Best validation RMSE: 2.44881472996303\n",
      "Model 122: ConvLayer-2-Filter-28-28-0-0-0-DenseLayer-1-Neuron-256-0-DropoutLayer-0.00-Activation-relu\n",
      "Best validation RMSE: 2.4260093239375524\n",
      "Model 123: ConvLayer-3-Filter-28-64-96-0-0-DenseLayer-1-Neuron-96-0-DropoutLayer-0.00-Activation-PReLU\n",
      "Best validation RMSE: 2.501065186091832\n",
      "Model 124: ConvLayer-2-Filter-16-28-0-0-0-DenseLayer-2-Neuron-96-32-DropoutLayer-0.00-Activation-relu\n",
      "Best validation RMSE: 2.7946814114706857\n",
      "Model 125: ConvLayer-5-Filter-16-32-64-128-128-DenseLayer-2-Neuron-96-96-DropoutLayer-0.00-Activation-drop_activation\n",
      "Best validation RMSE: 2.0169451904296873\n",
      "Model 126: ConvLayer-3-Filter-28-64-128-0-0-DenseLayer-1-Neuron-96-0-DropoutLayer-0.00-Activation-randomized_relu\n",
      "Best validation RMSE: 2.549358673095703\n",
      "Model 127: ConvLayer-4-Filter-28-64-96-64-0-DenseLayer-1-Neuron-96-0-DropoutLayer-0.00-Activation-drop_activation\n",
      "Best validation RMSE: 2.2518341050829207\n",
      "Model 128: ConvLayer-5-Filter-8-64-96-64-128-DenseLayer-1-Neuron-96-0-DropoutLayer-0.00-Activation-relu\n",
      "Best validation RMSE: 2.074353814806257\n",
      "Model 129: ConvLayer-3-Filter-8-64-96-0-0-DenseLayer-2-Neuron-128-32-DropoutLayer-0.00-Activation-randomized_relu\n",
      "Best validation RMSE: 2.362889317103795\n",
      "Model 130: ConvLayer-5-Filter-16-64-128-64-384-DenseLayer-2-Neuron-256-32-DropoutLayer-0.00-Activation-relu\n"
     ]
    },
    {
     "ename": "ResourceExhaustedError",
     "evalue": "OOM when allocating tensor with shape[64,384,23,23] and type float on /job:localhost/replica:0/task:0/device:GPU:0 by allocator GPU_0_bfc\n\t [[{{node conv2d_555/convolution}} = Conv2D[T=DT_FLOAT, _class=[\"loc:@train...kpropInput\"], data_format=\"NCHW\", dilations=[1, 1, 1, 1], padding=\"SAME\", strides=[1, 1, 1, 1], use_cudnn_on_gpu=true, _device=\"/job:localhost/replica:0/task:0/device:GPU:0\"](activation_615/Relu, conv2d_555/kernel/read)]]\nHint: If you want to see a list of allocated tensors when OOM happens, add report_tensor_allocations_upon_oom to RunOptions for current allocation info.\n\n\t [[{{node loss_155/mul/_39377}} = _Recv[client_terminated=false, recv_device=\"/job:localhost/replica:0/task:0/device:CPU:0\", send_device=\"/job:localhost/replica:0/task:0/device:GPU:0\", send_device_incarnation=1, tensor_name=\"edge_2260_loss_155/mul\", tensor_type=DT_FLOAT, _device=\"/job:localhost/replica:0/task:0/device:CPU:0\"]()]]\nHint: If you want to see a list of allocated tensors when OOM happens, add report_tensor_allocations_upon_oom to RunOptions for current allocation info.\n",
     "output_type": "error",
     "traceback": [
      "\u001b[1;31m---------------------------------------------------------------------------\u001b[0m",
      "\u001b[1;31mResourceExhaustedError\u001b[0m                    Traceback (most recent call last)",
      "\u001b[1;32m<ipython-input-113-3fdab58d19b9>\u001b[0m in \u001b[0;36m<module>\u001b[1;34m\u001b[0m\n\u001b[0;32m      9\u001b[0m \u001b[1;33m\u001b[0m\u001b[0m\n\u001b[0;32m     10\u001b[0m     \u001b[1;31m# fit model\u001b[0m\u001b[1;33m\u001b[0m\u001b[1;33m\u001b[0m\u001b[0m\n\u001b[1;32m---> 11\u001b[1;33m     \u001b[0mresult\u001b[0m \u001b[1;33m=\u001b[0m \u001b[0mmodel\u001b[0m\u001b[1;33m.\u001b[0m\u001b[0mfit\u001b[0m\u001b[1;33m(\u001b[0m\u001b[0mX_model1\u001b[0m\u001b[1;33m,\u001b[0m \u001b[0my_model1\u001b[0m\u001b[1;33m,\u001b[0m \u001b[0mbatch_size\u001b[0m\u001b[1;33m=\u001b[0m\u001b[1;36m64\u001b[0m\u001b[1;33m,\u001b[0m \u001b[0mepochs\u001b[0m\u001b[1;33m=\u001b[0m\u001b[1;36m20\u001b[0m\u001b[1;33m,\u001b[0m \u001b[0mverbose\u001b[0m\u001b[1;33m=\u001b[0m\u001b[1;36m0\u001b[0m\u001b[1;33m,\u001b[0m \u001b[0mvalidation_split\u001b[0m\u001b[1;33m=\u001b[0m\u001b[1;36m0.1\u001b[0m\u001b[1;33m)\u001b[0m\u001b[1;33m\u001b[0m\u001b[0m\n\u001b[0m\u001b[0;32m     12\u001b[0m \u001b[1;33m\u001b[0m\u001b[0m\n\u001b[0;32m     13\u001b[0m     \u001b[1;31m#get the highest validation accuracy of the training epochs\u001b[0m\u001b[1;33m\u001b[0m\u001b[1;33m\u001b[0m\u001b[0m\n",
      "\u001b[1;32m~\\Anaconda3\\envs\\py36\\lib\\site-packages\\keras\\engine\\training.py\u001b[0m in \u001b[0;36mfit\u001b[1;34m(self, x, y, batch_size, epochs, verbose, callbacks, validation_split, validation_data, shuffle, class_weight, sample_weight, initial_epoch, steps_per_epoch, validation_steps, **kwargs)\u001b[0m\n\u001b[0;32m   1037\u001b[0m                                         \u001b[0minitial_epoch\u001b[0m\u001b[1;33m=\u001b[0m\u001b[0minitial_epoch\u001b[0m\u001b[1;33m,\u001b[0m\u001b[1;33m\u001b[0m\u001b[0m\n\u001b[0;32m   1038\u001b[0m                                         \u001b[0msteps_per_epoch\u001b[0m\u001b[1;33m=\u001b[0m\u001b[0msteps_per_epoch\u001b[0m\u001b[1;33m,\u001b[0m\u001b[1;33m\u001b[0m\u001b[0m\n\u001b[1;32m-> 1039\u001b[1;33m                                         validation_steps=validation_steps)\n\u001b[0m\u001b[0;32m   1040\u001b[0m \u001b[1;33m\u001b[0m\u001b[0m\n\u001b[0;32m   1041\u001b[0m     def evaluate(self, x=None, y=None,\n",
      "\u001b[1;32m~\\Anaconda3\\envs\\py36\\lib\\site-packages\\keras\\engine\\training_arrays.py\u001b[0m in \u001b[0;36mfit_loop\u001b[1;34m(model, f, ins, out_labels, batch_size, epochs, verbose, callbacks, val_f, val_ins, shuffle, callback_metrics, initial_epoch, steps_per_epoch, validation_steps)\u001b[0m\n\u001b[0;32m    197\u001b[0m                     \u001b[0mins_batch\u001b[0m\u001b[1;33m[\u001b[0m\u001b[0mi\u001b[0m\u001b[1;33m]\u001b[0m \u001b[1;33m=\u001b[0m \u001b[0mins_batch\u001b[0m\u001b[1;33m[\u001b[0m\u001b[0mi\u001b[0m\u001b[1;33m]\u001b[0m\u001b[1;33m.\u001b[0m\u001b[0mtoarray\u001b[0m\u001b[1;33m(\u001b[0m\u001b[1;33m)\u001b[0m\u001b[1;33m\u001b[0m\u001b[0m\n\u001b[0;32m    198\u001b[0m \u001b[1;33m\u001b[0m\u001b[0m\n\u001b[1;32m--> 199\u001b[1;33m                 \u001b[0mouts\u001b[0m \u001b[1;33m=\u001b[0m \u001b[0mf\u001b[0m\u001b[1;33m(\u001b[0m\u001b[0mins_batch\u001b[0m\u001b[1;33m)\u001b[0m\u001b[1;33m\u001b[0m\u001b[0m\n\u001b[0m\u001b[0;32m    200\u001b[0m                 \u001b[0mouts\u001b[0m \u001b[1;33m=\u001b[0m \u001b[0mto_list\u001b[0m\u001b[1;33m(\u001b[0m\u001b[0mouts\u001b[0m\u001b[1;33m)\u001b[0m\u001b[1;33m\u001b[0m\u001b[0m\n\u001b[0;32m    201\u001b[0m                 \u001b[1;32mfor\u001b[0m \u001b[0ml\u001b[0m\u001b[1;33m,\u001b[0m \u001b[0mo\u001b[0m \u001b[1;32min\u001b[0m \u001b[0mzip\u001b[0m\u001b[1;33m(\u001b[0m\u001b[0mout_labels\u001b[0m\u001b[1;33m,\u001b[0m \u001b[0mouts\u001b[0m\u001b[1;33m)\u001b[0m\u001b[1;33m:\u001b[0m\u001b[1;33m\u001b[0m\u001b[0m\n",
      "\u001b[1;32m~\\Anaconda3\\envs\\py36\\lib\\site-packages\\keras\\backend\\tensorflow_backend.py\u001b[0m in \u001b[0;36m__call__\u001b[1;34m(self, inputs)\u001b[0m\n\u001b[0;32m   2713\u001b[0m                 \u001b[1;32mreturn\u001b[0m \u001b[0mself\u001b[0m\u001b[1;33m.\u001b[0m\u001b[0m_legacy_call\u001b[0m\u001b[1;33m(\u001b[0m\u001b[0minputs\u001b[0m\u001b[1;33m)\u001b[0m\u001b[1;33m\u001b[0m\u001b[0m\n\u001b[0;32m   2714\u001b[0m \u001b[1;33m\u001b[0m\u001b[0m\n\u001b[1;32m-> 2715\u001b[1;33m             \u001b[1;32mreturn\u001b[0m \u001b[0mself\u001b[0m\u001b[1;33m.\u001b[0m\u001b[0m_call\u001b[0m\u001b[1;33m(\u001b[0m\u001b[0minputs\u001b[0m\u001b[1;33m)\u001b[0m\u001b[1;33m\u001b[0m\u001b[0m\n\u001b[0m\u001b[0;32m   2716\u001b[0m         \u001b[1;32melse\u001b[0m\u001b[1;33m:\u001b[0m\u001b[1;33m\u001b[0m\u001b[0m\n\u001b[0;32m   2717\u001b[0m             \u001b[1;32mif\u001b[0m \u001b[0mpy_any\u001b[0m\u001b[1;33m(\u001b[0m\u001b[0mis_tensor\u001b[0m\u001b[1;33m(\u001b[0m\u001b[0mx\u001b[0m\u001b[1;33m)\u001b[0m \u001b[1;32mfor\u001b[0m \u001b[0mx\u001b[0m \u001b[1;32min\u001b[0m \u001b[0minputs\u001b[0m\u001b[1;33m)\u001b[0m\u001b[1;33m:\u001b[0m\u001b[1;33m\u001b[0m\u001b[0m\n",
      "\u001b[1;32m~\\Anaconda3\\envs\\py36\\lib\\site-packages\\keras\\backend\\tensorflow_backend.py\u001b[0m in \u001b[0;36m_call\u001b[1;34m(self, inputs)\u001b[0m\n\u001b[0;32m   2673\u001b[0m             \u001b[0mfetched\u001b[0m \u001b[1;33m=\u001b[0m \u001b[0mself\u001b[0m\u001b[1;33m.\u001b[0m\u001b[0m_callable_fn\u001b[0m\u001b[1;33m(\u001b[0m\u001b[1;33m*\u001b[0m\u001b[0marray_vals\u001b[0m\u001b[1;33m,\u001b[0m \u001b[0mrun_metadata\u001b[0m\u001b[1;33m=\u001b[0m\u001b[0mself\u001b[0m\u001b[1;33m.\u001b[0m\u001b[0mrun_metadata\u001b[0m\u001b[1;33m)\u001b[0m\u001b[1;33m\u001b[0m\u001b[0m\n\u001b[0;32m   2674\u001b[0m         \u001b[1;32melse\u001b[0m\u001b[1;33m:\u001b[0m\u001b[1;33m\u001b[0m\u001b[0m\n\u001b[1;32m-> 2675\u001b[1;33m             \u001b[0mfetched\u001b[0m \u001b[1;33m=\u001b[0m \u001b[0mself\u001b[0m\u001b[1;33m.\u001b[0m\u001b[0m_callable_fn\u001b[0m\u001b[1;33m(\u001b[0m\u001b[1;33m*\u001b[0m\u001b[0marray_vals\u001b[0m\u001b[1;33m)\u001b[0m\u001b[1;33m\u001b[0m\u001b[0m\n\u001b[0m\u001b[0;32m   2676\u001b[0m         \u001b[1;32mreturn\u001b[0m \u001b[0mfetched\u001b[0m\u001b[1;33m[\u001b[0m\u001b[1;33m:\u001b[0m\u001b[0mlen\u001b[0m\u001b[1;33m(\u001b[0m\u001b[0mself\u001b[0m\u001b[1;33m.\u001b[0m\u001b[0moutputs\u001b[0m\u001b[1;33m)\u001b[0m\u001b[1;33m]\u001b[0m\u001b[1;33m\u001b[0m\u001b[0m\n\u001b[0;32m   2677\u001b[0m \u001b[1;33m\u001b[0m\u001b[0m\n",
      "\u001b[1;32m~\\Anaconda3\\envs\\py36\\lib\\site-packages\\tensorflow\\python\\client\\session.py\u001b[0m in \u001b[0;36m__call__\u001b[1;34m(self, *args, **kwargs)\u001b[0m\n\u001b[0;32m   1437\u001b[0m           ret = tf_session.TF_SessionRunCallable(\n\u001b[0;32m   1438\u001b[0m               \u001b[0mself\u001b[0m\u001b[1;33m.\u001b[0m\u001b[0m_session\u001b[0m\u001b[1;33m.\u001b[0m\u001b[0m_session\u001b[0m\u001b[1;33m,\u001b[0m \u001b[0mself\u001b[0m\u001b[1;33m.\u001b[0m\u001b[0m_handle\u001b[0m\u001b[1;33m,\u001b[0m \u001b[0margs\u001b[0m\u001b[1;33m,\u001b[0m \u001b[0mstatus\u001b[0m\u001b[1;33m,\u001b[0m\u001b[1;33m\u001b[0m\u001b[0m\n\u001b[1;32m-> 1439\u001b[1;33m               run_metadata_ptr)\n\u001b[0m\u001b[0;32m   1440\u001b[0m         \u001b[1;32mif\u001b[0m \u001b[0mrun_metadata\u001b[0m\u001b[1;33m:\u001b[0m\u001b[1;33m\u001b[0m\u001b[0m\n\u001b[0;32m   1441\u001b[0m           \u001b[0mproto_data\u001b[0m \u001b[1;33m=\u001b[0m \u001b[0mtf_session\u001b[0m\u001b[1;33m.\u001b[0m\u001b[0mTF_GetBuffer\u001b[0m\u001b[1;33m(\u001b[0m\u001b[0mrun_metadata_ptr\u001b[0m\u001b[1;33m)\u001b[0m\u001b[1;33m\u001b[0m\u001b[0m\n",
      "\u001b[1;32m~\\Anaconda3\\envs\\py36\\lib\\site-packages\\tensorflow\\python\\framework\\errors_impl.py\u001b[0m in \u001b[0;36m__exit__\u001b[1;34m(self, type_arg, value_arg, traceback_arg)\u001b[0m\n\u001b[0;32m    526\u001b[0m             \u001b[1;32mNone\u001b[0m\u001b[1;33m,\u001b[0m \u001b[1;32mNone\u001b[0m\u001b[1;33m,\u001b[0m\u001b[1;33m\u001b[0m\u001b[0m\n\u001b[0;32m    527\u001b[0m             \u001b[0mcompat\u001b[0m\u001b[1;33m.\u001b[0m\u001b[0mas_text\u001b[0m\u001b[1;33m(\u001b[0m\u001b[0mc_api\u001b[0m\u001b[1;33m.\u001b[0m\u001b[0mTF_Message\u001b[0m\u001b[1;33m(\u001b[0m\u001b[0mself\u001b[0m\u001b[1;33m.\u001b[0m\u001b[0mstatus\u001b[0m\u001b[1;33m.\u001b[0m\u001b[0mstatus\u001b[0m\u001b[1;33m)\u001b[0m\u001b[1;33m)\u001b[0m\u001b[1;33m,\u001b[0m\u001b[1;33m\u001b[0m\u001b[0m\n\u001b[1;32m--> 528\u001b[1;33m             c_api.TF_GetCode(self.status.status))\n\u001b[0m\u001b[0;32m    529\u001b[0m     \u001b[1;31m# Delete the underlying status object from memory otherwise it stays alive\u001b[0m\u001b[1;33m\u001b[0m\u001b[1;33m\u001b[0m\u001b[0m\n\u001b[0;32m    530\u001b[0m     \u001b[1;31m# as there is a reference to status from this from the traceback due to\u001b[0m\u001b[1;33m\u001b[0m\u001b[1;33m\u001b[0m\u001b[0m\n",
      "\u001b[1;31mResourceExhaustedError\u001b[0m: OOM when allocating tensor with shape[64,384,23,23] and type float on /job:localhost/replica:0/task:0/device:GPU:0 by allocator GPU_0_bfc\n\t [[{{node conv2d_555/convolution}} = Conv2D[T=DT_FLOAT, _class=[\"loc:@train...kpropInput\"], data_format=\"NCHW\", dilations=[1, 1, 1, 1], padding=\"SAME\", strides=[1, 1, 1, 1], use_cudnn_on_gpu=true, _device=\"/job:localhost/replica:0/task:0/device:GPU:0\"](activation_615/Relu, conv2d_555/kernel/read)]]\nHint: If you want to see a list of allocated tensors when OOM happens, add report_tensor_allocations_upon_oom to RunOptions for current allocation info.\n\n\t [[{{node loss_155/mul/_39377}} = _Recv[client_terminated=false, recv_device=\"/job:localhost/replica:0/task:0/device:CPU:0\", send_device=\"/job:localhost/replica:0/task:0/device:GPU:0\", send_device_incarnation=1, tensor_name=\"edge_2260_loss_155/mul\", tensor_type=DT_FLOAT, _device=\"/job:localhost/replica:0/task:0/device:CPU:0\"]()]]\nHint: If you want to see a list of allocated tensors when OOM happens, add report_tensor_allocations_upon_oom to RunOptions for current allocation info.\n"
     ]
    }
   ],
   "source": [
    "model_num = []\n",
    "model_desc = []\n",
    "model_result = []\n",
    "model_eval = []\n",
    "\n",
    "for i in range(200):\n",
    "    model, description = create_model(X_model1, y_model1, 8)\n",
    "    print('Model {}: {}'.format(i+1, description))\n",
    "    \n",
    "    # fit model\n",
    "    result = model.fit(X_model1, y_model1, batch_size=64, epochs=20, verbose=0, validation_split=0.1)\n",
    "\n",
    "    #get the highest validation accuracy of the training epochs\n",
    "    validation_RMSE = np.amin(result.history['val_rmse'])\n",
    "    print('Best validation RMSE:', validation_RMSE)\n",
    "    \n",
    "    model_num.append(i+1)\n",
    "    model_desc.append(description)\n",
    "    model_result.append(result)\n",
    "    model_eval.append(validation_RMSE)\n"
   ]
  },
  {
   "cell_type": "code",
   "execution_count": 116,
   "metadata": {},
   "outputs": [],
   "source": [
    "rand_search_output = np.vstack((np.array(model_num), np.array(model_desc), np.array(model_eval))).transpose()\n",
    "np.save('random_search_output.npy', rand_search_output)\n",
    "rand_search_output2 = pd.DataFrame(rand_search_output, columns=['Model_Num', 'Description', 'Validation_RMSE']) "
   ]
  },
  {
   "cell_type": "code",
   "execution_count": 121,
   "metadata": {
    "scrolled": true
   },
   "outputs": [
    {
     "data": {
      "text/html": [
       "<div>\n",
       "<style scoped>\n",
       "    .dataframe tbody tr th:only-of-type {\n",
       "        vertical-align: middle;\n",
       "    }\n",
       "\n",
       "    .dataframe tbody tr th {\n",
       "        vertical-align: top;\n",
       "    }\n",
       "\n",
       "    .dataframe thead th {\n",
       "        text-align: right;\n",
       "    }\n",
       "</style>\n",
       "<table border=\"1\" class=\"dataframe\">\n",
       "  <thead>\n",
       "    <tr style=\"text-align: right;\">\n",
       "      <th></th>\n",
       "      <th>Model_Num</th>\n",
       "      <th>Description</th>\n",
       "      <th>Validation_RMSE</th>\n",
       "    </tr>\n",
       "  </thead>\n",
       "  <tbody>\n",
       "    <tr>\n",
       "      <th>91</th>\n",
       "      <td>92</td>\n",
       "      <td>ConvLayer-5-Filter-8-64-64-96-128-DenseLayer-2-Neuron-96-32-DropoutLayer-0.00-Activation-PReLU</td>\n",
       "      <td>1.955190703528268</td>\n",
       "    </tr>\n",
       "    <tr>\n",
       "      <th>24</th>\n",
       "      <td>25</td>\n",
       "      <td>ConvLayer-5-Filter-28-64-64-64-256-DenseLayer-2-Neuron-96-96-DropoutLayer-0.00-Activation-relu</td>\n",
       "      <td>1.9595165484292167</td>\n",
       "    </tr>\n",
       "    <tr>\n",
       "      <th>19</th>\n",
       "      <td>20</td>\n",
       "      <td>ConvLayer-5-Filter-8-32-64-128-256-DenseLayer-2-Neuron-96-96-DropoutLayer-0.00-Activation-relu</td>\n",
       "      <td>1.9775424017224994</td>\n",
       "    </tr>\n",
       "    <tr>\n",
       "      <th>58</th>\n",
       "      <td>59</td>\n",
       "      <td>ConvLayer-5-Filter-8-32-128-64-256-DenseLayer-2-Neuron-64-128-DropoutLayer-0.00-Activation-PReLU</td>\n",
       "      <td>1.9776926027025494</td>\n",
       "    </tr>\n",
       "    <tr>\n",
       "      <th>49</th>\n",
       "      <td>50</td>\n",
       "      <td>ConvLayer-5-Filter-16-32-96-64-128-DenseLayer-1-Neuron-96-0-DropoutLayer-0.00-Activation-relu</td>\n",
       "      <td>1.9957137489318848</td>\n",
       "    </tr>\n",
       "    <tr>\n",
       "      <th>124</th>\n",
       "      <td>125</td>\n",
       "      <td>ConvLayer-5-Filter-16-32-64-128-128-DenseLayer-2-Neuron-96-96-DropoutLayer-0.00-Activation-drop_activation</td>\n",
       "      <td>2.0169451904296873</td>\n",
       "    </tr>\n",
       "    <tr>\n",
       "      <th>100</th>\n",
       "      <td>101</td>\n",
       "      <td>ConvLayer-5-Filter-16-32-64-64-128-DenseLayer-2-Neuron-64-96-DropoutLayer-0.00-Activation-LeakyReLU</td>\n",
       "      <td>2.026500061580113</td>\n",
       "    </tr>\n",
       "    <tr>\n",
       "      <th>118</th>\n",
       "      <td>119</td>\n",
       "      <td>ConvLayer-5-Filter-28-64-128-128-128-DenseLayer-1-Neuron-128-0-DropoutLayer-0.00-Activation-relu</td>\n",
       "      <td>2.0294959769930156</td>\n",
       "    </tr>\n",
       "    <tr>\n",
       "      <th>36</th>\n",
       "      <td>37</td>\n",
       "      <td>ConvLayer-4-Filter-28-64-64-64-0-DenseLayer-2-Neuron-256-96-DropoutLayer-0.00-Activation-relu</td>\n",
       "      <td>2.0495268549237933</td>\n",
       "    </tr>\n",
       "    <tr>\n",
       "      <th>98</th>\n",
       "      <td>99</td>\n",
       "      <td>ConvLayer-5-Filter-16-32-96-96-256-DenseLayer-2-Neuron-64-32-DropoutLayer-0.00-Activation-relu</td>\n",
       "      <td>2.0522208411352976</td>\n",
       "    </tr>\n",
       "    <tr>\n",
       "      <th>47</th>\n",
       "      <td>48</td>\n",
       "      <td>ConvLayer-4-Filter-16-32-96-128-0-DenseLayer-2-Neuron-256-96-DropoutLayer-0.00-Activation-relu</td>\n",
       "      <td>2.0527452291761126</td>\n",
       "    </tr>\n",
       "    <tr>\n",
       "      <th>48</th>\n",
       "      <td>49</td>\n",
       "      <td>ConvLayer-5-Filter-28-64-96-128-128-DenseLayer-1-Neuron-256-0-DropoutLayer-0.00-Activation-drop_activation</td>\n",
       "      <td>2.056938898903983</td>\n",
       "    </tr>\n",
       "    <tr>\n",
       "      <th>112</th>\n",
       "      <td>113</td>\n",
       "      <td>ConvLayer-5-Filter-8-28-64-128-128-DenseLayer-2-Neuron-96-64-DropoutLayer-0.00-Activation-PReLU</td>\n",
       "      <td>2.059187844140189</td>\n",
       "    </tr>\n",
       "    <tr>\n",
       "      <th>116</th>\n",
       "      <td>117</td>\n",
       "      <td>ConvLayer-5-Filter-16-32-96-96-256-DenseLayer-1-Neuron-256-0-DropoutLayer-0.00-Activation-relu</td>\n",
       "      <td>2.072691796166556</td>\n",
       "    </tr>\n",
       "    <tr>\n",
       "      <th>127</th>\n",
       "      <td>128</td>\n",
       "      <td>ConvLayer-5-Filter-8-64-96-64-128-DenseLayer-1-Neuron-96-0-DropoutLayer-0.00-Activation-relu</td>\n",
       "      <td>2.074353814806257</td>\n",
       "    </tr>\n",
       "    <tr>\n",
       "      <th>28</th>\n",
       "      <td>29</td>\n",
       "      <td>ConvLayer-4-Filter-8-32-128-128-0-DenseLayer-1-Neuron-256-0-DropoutLayer-0.00-Activation-relu</td>\n",
       "      <td>2.088134343283517</td>\n",
       "    </tr>\n",
       "    <tr>\n",
       "      <th>113</th>\n",
       "      <td>114</td>\n",
       "      <td>ConvLayer-5-Filter-28-32-96-64-128-DenseLayer-2-Neuron-64-64-DropoutLayer-0.00-Activation-randomized_relu</td>\n",
       "      <td>2.0894539472035</td>\n",
       "    </tr>\n",
       "    <tr>\n",
       "      <th>79</th>\n",
       "      <td>80</td>\n",
       "      <td>ConvLayer-5-Filter-28-32-96-64-128-DenseLayer-1-Neuron-256-0-DropoutLayer-0.00-Activation-relu</td>\n",
       "      <td>2.0902832875932966</td>\n",
       "    </tr>\n",
       "    <tr>\n",
       "      <th>63</th>\n",
       "      <td>64</td>\n",
       "      <td>ConvLayer-5-Filter-28-64-64-96-128-DenseLayer-1-Neuron-64-0-DropoutLayer-0.00-Activation-relu</td>\n",
       "      <td>2.099843417576381</td>\n",
       "    </tr>\n",
       "    <tr>\n",
       "      <th>85</th>\n",
       "      <td>86</td>\n",
       "      <td>ConvLayer-5-Filter-16-32-128-64-128-DenseLayer-2-Neuron-96-96-DropoutLayer-0.00-Activation-relu</td>\n",
       "      <td>2.1224354812077113</td>\n",
       "    </tr>\n",
       "    <tr>\n",
       "      <th>14</th>\n",
       "      <td>15</td>\n",
       "      <td>ConvLayer-4-Filter-8-64-96-128-0-DenseLayer-2-Neuron-64-128-DropoutLayer-0.00-Activation-PReLU</td>\n",
       "      <td>2.125483121871948</td>\n",
       "    </tr>\n",
       "    <tr>\n",
       "      <th>54</th>\n",
       "      <td>55</td>\n",
       "      <td>ConvLayer-5-Filter-8-32-128-128-128-DenseLayer-2-Neuron-64-128-DropoutLayer-0.00-Activation-relu</td>\n",
       "      <td>2.126863833836147</td>\n",
       "    </tr>\n",
       "    <tr>\n",
       "      <th>64</th>\n",
       "      <td>65</td>\n",
       "      <td>ConvLayer-4-Filter-8-32-64-128-0-DenseLayer-2-Neuron-256-96-DropoutLayer-0.00-Activation-relu</td>\n",
       "      <td>2.1300009591238838</td>\n",
       "    </tr>\n",
       "    <tr>\n",
       "      <th>72</th>\n",
       "      <td>73</td>\n",
       "      <td>ConvLayer-4-Filter-8-32-64-96-0-DenseLayer-1-Neuron-96-0-DropoutLayer-0.00-Activation-PReLU</td>\n",
       "      <td>2.134844699587141</td>\n",
       "    </tr>\n",
       "    <tr>\n",
       "      <th>95</th>\n",
       "      <td>96</td>\n",
       "      <td>ConvLayer-4-Filter-28-28-96-64-0-DenseLayer-2-Neuron-128-96-DropoutLayer-0.00-Activation-relu</td>\n",
       "      <td>2.1411731215885705</td>\n",
       "    </tr>\n",
       "    <tr>\n",
       "      <th>61</th>\n",
       "      <td>62</td>\n",
       "      <td>ConvLayer-5-Filter-8-32-96-64-256-DenseLayer-2-Neuron-128-96-DropoutLayer-0.00-Activation-relu</td>\n",
       "      <td>2.1485912677219936</td>\n",
       "    </tr>\n",
       "    <tr>\n",
       "      <th>25</th>\n",
       "      <td>26</td>\n",
       "      <td>ConvLayer-4-Filter-16-32-128-128-0-DenseLayer-1-Neuron-256-0-DropoutLayer-0.00-Activation-relu</td>\n",
       "      <td>2.1517182370594568</td>\n",
       "    </tr>\n",
       "    <tr>\n",
       "      <th>26</th>\n",
       "      <td>27</td>\n",
       "      <td>ConvLayer-4-Filter-28-64-64-96-0-DenseLayer-2-Neuron-256-64-DropoutLayer-0.00-Activation-PReLU</td>\n",
       "      <td>2.154227876663208</td>\n",
       "    </tr>\n",
       "    <tr>\n",
       "      <th>46</th>\n",
       "      <td>47</td>\n",
       "      <td>ConvLayer-5-Filter-16-64-96-64-256-DenseLayer-2-Neuron-128-64-DropoutLayer-0.00-Activation-PReLU</td>\n",
       "      <td>2.180591105052403</td>\n",
       "    </tr>\n",
       "    <tr>\n",
       "      <th>73</th>\n",
       "      <td>74</td>\n",
       "      <td>ConvLayer-5-Filter-16-32-96-96-256-DenseLayer-2-Neuron-256-64-DropoutLayer-0.00-Activation-randomized_relu</td>\n",
       "      <td>2.1848906462533133</td>\n",
       "    </tr>\n",
       "    <tr>\n",
       "      <th>...</th>\n",
       "      <td>...</td>\n",
       "      <td>...</td>\n",
       "      <td>...</td>\n",
       "    </tr>\n",
       "    <tr>\n",
       "      <th>42</th>\n",
       "      <td>43</td>\n",
       "      <td>ConvLayer-2-Filter-28-64-0-0-0-DenseLayer-2-Neuron-128-64-DropoutLayer-0.00-Activation-relu</td>\n",
       "      <td>2.4821183626992362</td>\n",
       "    </tr>\n",
       "    <tr>\n",
       "      <th>10</th>\n",
       "      <td>11</td>\n",
       "      <td>ConvLayer-3-Filter-16-28-96-0-0-DenseLayer-1-Neuron-64-0-DropoutLayer-0.00-Activation-relu</td>\n",
       "      <td>2.4930085263933455</td>\n",
       "    </tr>\n",
       "    <tr>\n",
       "      <th>44</th>\n",
       "      <td>45</td>\n",
       "      <td>ConvLayer-2-Filter-28-64-0-0-0-DenseLayer-2-Neuron-96-128-DropoutLayer-0.00-Activation-relu</td>\n",
       "      <td>2.496244430541992</td>\n",
       "    </tr>\n",
       "    <tr>\n",
       "      <th>122</th>\n",
       "      <td>123</td>\n",
       "      <td>ConvLayer-3-Filter-28-64-96-0-0-DenseLayer-1-Neuron-96-0-DropoutLayer-0.00-Activation-PReLU</td>\n",
       "      <td>2.501065186091832</td>\n",
       "    </tr>\n",
       "    <tr>\n",
       "      <th>65</th>\n",
       "      <td>66</td>\n",
       "      <td>ConvLayer-3-Filter-8-28-64-0-0-DenseLayer-2-Neuron-64-64-DropoutLayer-0.00-Activation-relu</td>\n",
       "      <td>2.5049941648755754</td>\n",
       "    </tr>\n",
       "    <tr>\n",
       "      <th>71</th>\n",
       "      <td>72</td>\n",
       "      <td>ConvLayer-2-Filter-8-64-0-0-0-DenseLayer-2-Neuron-128-64-DropoutLayer-0.00-Activation-drop_activation</td>\n",
       "      <td>2.5072616154806955</td>\n",
       "    </tr>\n",
       "    <tr>\n",
       "      <th>75</th>\n",
       "      <td>76</td>\n",
       "      <td>ConvLayer-3-Filter-28-32-64-0-0-DenseLayer-2-Neuron-64-32-DropoutLayer-0.00-Activation-relu</td>\n",
       "      <td>2.5078689411708286</td>\n",
       "    </tr>\n",
       "    <tr>\n",
       "      <th>110</th>\n",
       "      <td>111</td>\n",
       "      <td>ConvLayer-3-Filter-28-32-96-0-0-DenseLayer-1-Neuron-64-0-DropoutLayer-0.00-Activation-relu</td>\n",
       "      <td>2.511966656276158</td>\n",
       "    </tr>\n",
       "    <tr>\n",
       "      <th>84</th>\n",
       "      <td>85</td>\n",
       "      <td>ConvLayer-3-Filter-28-32-64-0-0-DenseLayer-2-Neuron-64-64-DropoutLayer-0.00-Activation-relu</td>\n",
       "      <td>2.523610428401402</td>\n",
       "    </tr>\n",
       "    <tr>\n",
       "      <th>55</th>\n",
       "      <td>56</td>\n",
       "      <td>ConvLayer-2-Filter-28-28-0-0-0-DenseLayer-2-Neuron-128-32-DropoutLayer-0.00-Activation-PReLU</td>\n",
       "      <td>2.5250123473576136</td>\n",
       "    </tr>\n",
       "    <tr>\n",
       "      <th>115</th>\n",
       "      <td>116</td>\n",
       "      <td>ConvLayer-3-Filter-8-32-64-0-0-DenseLayer-1-Neuron-256-0-DropoutLayer-0.00-Activation-randomized_relu</td>\n",
       "      <td>2.536481956754412</td>\n",
       "    </tr>\n",
       "    <tr>\n",
       "      <th>125</th>\n",
       "      <td>126</td>\n",
       "      <td>ConvLayer-3-Filter-28-64-128-0-0-DenseLayer-1-Neuron-96-0-DropoutLayer-0.00-Activation-randomized_relu</td>\n",
       "      <td>2.549358673095703</td>\n",
       "    </tr>\n",
       "    <tr>\n",
       "      <th>23</th>\n",
       "      <td>24</td>\n",
       "      <td>ConvLayer-3-Filter-8-64-128-0-0-DenseLayer-1-Neuron-64-0-DropoutLayer-0.00-Activation-relu</td>\n",
       "      <td>2.560265051977975</td>\n",
       "    </tr>\n",
       "    <tr>\n",
       "      <th>107</th>\n",
       "      <td>108</td>\n",
       "      <td>ConvLayer-3-Filter-28-28-96-0-0-DenseLayer-1-Neuron-64-0-DropoutLayer-0.00-Activation-relu</td>\n",
       "      <td>2.570503260748727</td>\n",
       "    </tr>\n",
       "    <tr>\n",
       "      <th>45</th>\n",
       "      <td>46</td>\n",
       "      <td>ConvLayer-3-Filter-8-32-64-0-0-DenseLayer-1-Neuron-96-0-DropoutLayer-0.00-Activation-relu</td>\n",
       "      <td>2.5746481364113945</td>\n",
       "    </tr>\n",
       "    <tr>\n",
       "      <th>40</th>\n",
       "      <td>41</td>\n",
       "      <td>ConvLayer-2-Filter-28-32-0-0-0-DenseLayer-1-Neuron-256-0-DropoutLayer-0.00-Activation-randomized_relu</td>\n",
       "      <td>2.5772973224094935</td>\n",
       "    </tr>\n",
       "    <tr>\n",
       "      <th>3</th>\n",
       "      <td>4</td>\n",
       "      <td>ConvLayer-3-Filter-28-32-128-0-0-DenseLayer-1-Neuron-64-0-DropoutLayer-0.00-Activation-LeakyReLU</td>\n",
       "      <td>2.5826294817243305</td>\n",
       "    </tr>\n",
       "    <tr>\n",
       "      <th>59</th>\n",
       "      <td>60</td>\n",
       "      <td>ConvLayer-2-Filter-8-28-0-0-0-DenseLayer-1-Neuron-256-0-DropoutLayer-0.00-Activation-randomized_relu</td>\n",
       "      <td>2.5874791254316056</td>\n",
       "    </tr>\n",
       "    <tr>\n",
       "      <th>32</th>\n",
       "      <td>33</td>\n",
       "      <td>ConvLayer-2-Filter-16-32-0-0-0-DenseLayer-2-Neuron-128-64-DropoutLayer-0.00-Activation-PReLU</td>\n",
       "      <td>2.6166521072387696</td>\n",
       "    </tr>\n",
       "    <tr>\n",
       "      <th>7</th>\n",
       "      <td>8</td>\n",
       "      <td>ConvLayer-3-Filter-28-32-96-0-0-DenseLayer-1-Neuron-96-0-DropoutLayer-0.00-Activation-LeakyReLU</td>\n",
       "      <td>2.6235972608838765</td>\n",
       "    </tr>\n",
       "    <tr>\n",
       "      <th>12</th>\n",
       "      <td>13</td>\n",
       "      <td>ConvLayer-3-Filter-28-32-128-0-0-DenseLayer-1-Neuron-96-0-DropoutLayer-0.00-Activation-relu</td>\n",
       "      <td>2.631747451509748</td>\n",
       "    </tr>\n",
       "    <tr>\n",
       "      <th>83</th>\n",
       "      <td>84</td>\n",
       "      <td>ConvLayer-2-Filter-16-28-0-0-0-DenseLayer-1-Neuron-96-0-DropoutLayer-0.00-Activation-LeakyReLU</td>\n",
       "      <td>2.6324708134787422</td>\n",
       "    </tr>\n",
       "    <tr>\n",
       "      <th>99</th>\n",
       "      <td>100</td>\n",
       "      <td>ConvLayer-3-Filter-8-32-96-0-0-DenseLayer-1-Neuron-96-0-DropoutLayer-0.00-Activation-LeakyReLU</td>\n",
       "      <td>2.6404296888623917</td>\n",
       "    </tr>\n",
       "    <tr>\n",
       "      <th>78</th>\n",
       "      <td>79</td>\n",
       "      <td>ConvLayer-2-Filter-8-32-0-0-0-DenseLayer-1-Neuron-256-0-DropoutLayer-0.00-Activation-relu</td>\n",
       "      <td>2.650168582371303</td>\n",
       "    </tr>\n",
       "    <tr>\n",
       "      <th>8</th>\n",
       "      <td>9</td>\n",
       "      <td>ConvLayer-2-Filter-28-28-0-0-0-DenseLayer-1-Neuron-96-0-DropoutLayer-0.00-Activation-relu</td>\n",
       "      <td>2.6715995134626116</td>\n",
       "    </tr>\n",
       "    <tr>\n",
       "      <th>92</th>\n",
       "      <td>93</td>\n",
       "      <td>ConvLayer-2-Filter-8-28-0-0-0-DenseLayer-1-Neuron-128-0-DropoutLayer-0.00-Activation-relu</td>\n",
       "      <td>2.7637200341905865</td>\n",
       "    </tr>\n",
       "    <tr>\n",
       "      <th>87</th>\n",
       "      <td>88</td>\n",
       "      <td>ConvLayer-2-Filter-8-64-0-0-0-DenseLayer-1-Neuron-96-0-DropoutLayer-0.00-Activation-relu</td>\n",
       "      <td>2.7815780912126815</td>\n",
       "    </tr>\n",
       "    <tr>\n",
       "      <th>29</th>\n",
       "      <td>30</td>\n",
       "      <td>ConvLayer-2-Filter-28-64-0-0-0-DenseLayer-1-Neuron-128-0-DropoutLayer-0.00-Activation-LeakyReLU</td>\n",
       "      <td>2.782309341430664</td>\n",
       "    </tr>\n",
       "    <tr>\n",
       "      <th>123</th>\n",
       "      <td>124</td>\n",
       "      <td>ConvLayer-2-Filter-16-28-0-0-0-DenseLayer-2-Neuron-96-32-DropoutLayer-0.00-Activation-relu</td>\n",
       "      <td>2.7946814114706857</td>\n",
       "    </tr>\n",
       "    <tr>\n",
       "      <th>101</th>\n",
       "      <td>102</td>\n",
       "      <td>ConvLayer-2-Filter-8-64-0-0-0-DenseLayer-1-Neuron-64-0-DropoutLayer-0.49-Activation-relu</td>\n",
       "      <td>5.147372561863491</td>\n",
       "    </tr>\n",
       "  </tbody>\n",
       "</table>\n",
       "<p>129 rows × 3 columns</p>\n",
       "</div>"
      ],
      "text/plain": [
       "    Model_Num  \\\n",
       "91         92   \n",
       "24         25   \n",
       "19         20   \n",
       "58         59   \n",
       "49         50   \n",
       "124       125   \n",
       "100       101   \n",
       "118       119   \n",
       "36         37   \n",
       "98         99   \n",
       "47         48   \n",
       "48         49   \n",
       "112       113   \n",
       "116       117   \n",
       "127       128   \n",
       "28         29   \n",
       "113       114   \n",
       "79         80   \n",
       "63         64   \n",
       "85         86   \n",
       "14         15   \n",
       "54         55   \n",
       "64         65   \n",
       "72         73   \n",
       "95         96   \n",
       "61         62   \n",
       "25         26   \n",
       "26         27   \n",
       "46         47   \n",
       "73         74   \n",
       "..        ...   \n",
       "42         43   \n",
       "10         11   \n",
       "44         45   \n",
       "122       123   \n",
       "65         66   \n",
       "71         72   \n",
       "75         76   \n",
       "110       111   \n",
       "84         85   \n",
       "55         56   \n",
       "115       116   \n",
       "125       126   \n",
       "23         24   \n",
       "107       108   \n",
       "45         46   \n",
       "40         41   \n",
       "3           4   \n",
       "59         60   \n",
       "32         33   \n",
       "7           8   \n",
       "12         13   \n",
       "83         84   \n",
       "99        100   \n",
       "78         79   \n",
       "8           9   \n",
       "92         93   \n",
       "87         88   \n",
       "29         30   \n",
       "123       124   \n",
       "101       102   \n",
       "\n",
       "                                                                                                    Description  \\\n",
       "91               ConvLayer-5-Filter-8-64-64-96-128-DenseLayer-2-Neuron-96-32-DropoutLayer-0.00-Activation-PReLU   \n",
       "24               ConvLayer-5-Filter-28-64-64-64-256-DenseLayer-2-Neuron-96-96-DropoutLayer-0.00-Activation-relu   \n",
       "19               ConvLayer-5-Filter-8-32-64-128-256-DenseLayer-2-Neuron-96-96-DropoutLayer-0.00-Activation-relu   \n",
       "58             ConvLayer-5-Filter-8-32-128-64-256-DenseLayer-2-Neuron-64-128-DropoutLayer-0.00-Activation-PReLU   \n",
       "49                ConvLayer-5-Filter-16-32-96-64-128-DenseLayer-1-Neuron-96-0-DropoutLayer-0.00-Activation-relu   \n",
       "124  ConvLayer-5-Filter-16-32-64-128-128-DenseLayer-2-Neuron-96-96-DropoutLayer-0.00-Activation-drop_activation   \n",
       "100         ConvLayer-5-Filter-16-32-64-64-128-DenseLayer-2-Neuron-64-96-DropoutLayer-0.00-Activation-LeakyReLU   \n",
       "118            ConvLayer-5-Filter-28-64-128-128-128-DenseLayer-1-Neuron-128-0-DropoutLayer-0.00-Activation-relu   \n",
       "36                ConvLayer-4-Filter-28-64-64-64-0-DenseLayer-2-Neuron-256-96-DropoutLayer-0.00-Activation-relu   \n",
       "98               ConvLayer-5-Filter-16-32-96-96-256-DenseLayer-2-Neuron-64-32-DropoutLayer-0.00-Activation-relu   \n",
       "47               ConvLayer-4-Filter-16-32-96-128-0-DenseLayer-2-Neuron-256-96-DropoutLayer-0.00-Activation-relu   \n",
       "48   ConvLayer-5-Filter-28-64-96-128-128-DenseLayer-1-Neuron-256-0-DropoutLayer-0.00-Activation-drop_activation   \n",
       "112             ConvLayer-5-Filter-8-28-64-128-128-DenseLayer-2-Neuron-96-64-DropoutLayer-0.00-Activation-PReLU   \n",
       "116              ConvLayer-5-Filter-16-32-96-96-256-DenseLayer-1-Neuron-256-0-DropoutLayer-0.00-Activation-relu   \n",
       "127                ConvLayer-5-Filter-8-64-96-64-128-DenseLayer-1-Neuron-96-0-DropoutLayer-0.00-Activation-relu   \n",
       "28                ConvLayer-4-Filter-8-32-128-128-0-DenseLayer-1-Neuron-256-0-DropoutLayer-0.00-Activation-relu   \n",
       "113   ConvLayer-5-Filter-28-32-96-64-128-DenseLayer-2-Neuron-64-64-DropoutLayer-0.00-Activation-randomized_relu   \n",
       "79               ConvLayer-5-Filter-28-32-96-64-128-DenseLayer-1-Neuron-256-0-DropoutLayer-0.00-Activation-relu   \n",
       "63                ConvLayer-5-Filter-28-64-64-96-128-DenseLayer-1-Neuron-64-0-DropoutLayer-0.00-Activation-relu   \n",
       "85              ConvLayer-5-Filter-16-32-128-64-128-DenseLayer-2-Neuron-96-96-DropoutLayer-0.00-Activation-relu   \n",
       "14               ConvLayer-4-Filter-8-64-96-128-0-DenseLayer-2-Neuron-64-128-DropoutLayer-0.00-Activation-PReLU   \n",
       "54             ConvLayer-5-Filter-8-32-128-128-128-DenseLayer-2-Neuron-64-128-DropoutLayer-0.00-Activation-relu   \n",
       "64                ConvLayer-4-Filter-8-32-64-128-0-DenseLayer-2-Neuron-256-96-DropoutLayer-0.00-Activation-relu   \n",
       "72                  ConvLayer-4-Filter-8-32-64-96-0-DenseLayer-1-Neuron-96-0-DropoutLayer-0.00-Activation-PReLU   \n",
       "95                ConvLayer-4-Filter-28-28-96-64-0-DenseLayer-2-Neuron-128-96-DropoutLayer-0.00-Activation-relu   \n",
       "61               ConvLayer-5-Filter-8-32-96-64-256-DenseLayer-2-Neuron-128-96-DropoutLayer-0.00-Activation-relu   \n",
       "25               ConvLayer-4-Filter-16-32-128-128-0-DenseLayer-1-Neuron-256-0-DropoutLayer-0.00-Activation-relu   \n",
       "26               ConvLayer-4-Filter-28-64-64-96-0-DenseLayer-2-Neuron-256-64-DropoutLayer-0.00-Activation-PReLU   \n",
       "46             ConvLayer-5-Filter-16-64-96-64-256-DenseLayer-2-Neuron-128-64-DropoutLayer-0.00-Activation-PReLU   \n",
       "73   ConvLayer-5-Filter-16-32-96-96-256-DenseLayer-2-Neuron-256-64-DropoutLayer-0.00-Activation-randomized_relu   \n",
       "..                                                                                                          ...   \n",
       "42                  ConvLayer-2-Filter-28-64-0-0-0-DenseLayer-2-Neuron-128-64-DropoutLayer-0.00-Activation-relu   \n",
       "10                   ConvLayer-3-Filter-16-28-96-0-0-DenseLayer-1-Neuron-64-0-DropoutLayer-0.00-Activation-relu   \n",
       "44                  ConvLayer-2-Filter-28-64-0-0-0-DenseLayer-2-Neuron-96-128-DropoutLayer-0.00-Activation-relu   \n",
       "122                 ConvLayer-3-Filter-28-64-96-0-0-DenseLayer-1-Neuron-96-0-DropoutLayer-0.00-Activation-PReLU   \n",
       "65                   ConvLayer-3-Filter-8-28-64-0-0-DenseLayer-2-Neuron-64-64-DropoutLayer-0.00-Activation-relu   \n",
       "71        ConvLayer-2-Filter-8-64-0-0-0-DenseLayer-2-Neuron-128-64-DropoutLayer-0.00-Activation-drop_activation   \n",
       "75                  ConvLayer-3-Filter-28-32-64-0-0-DenseLayer-2-Neuron-64-32-DropoutLayer-0.00-Activation-relu   \n",
       "110                  ConvLayer-3-Filter-28-32-96-0-0-DenseLayer-1-Neuron-64-0-DropoutLayer-0.00-Activation-relu   \n",
       "84                  ConvLayer-3-Filter-28-32-64-0-0-DenseLayer-2-Neuron-64-64-DropoutLayer-0.00-Activation-relu   \n",
       "55                 ConvLayer-2-Filter-28-28-0-0-0-DenseLayer-2-Neuron-128-32-DropoutLayer-0.00-Activation-PReLU   \n",
       "115       ConvLayer-3-Filter-8-32-64-0-0-DenseLayer-1-Neuron-256-0-DropoutLayer-0.00-Activation-randomized_relu   \n",
       "125      ConvLayer-3-Filter-28-64-128-0-0-DenseLayer-1-Neuron-96-0-DropoutLayer-0.00-Activation-randomized_relu   \n",
       "23                   ConvLayer-3-Filter-8-64-128-0-0-DenseLayer-1-Neuron-64-0-DropoutLayer-0.00-Activation-relu   \n",
       "107                  ConvLayer-3-Filter-28-28-96-0-0-DenseLayer-1-Neuron-64-0-DropoutLayer-0.00-Activation-relu   \n",
       "45                    ConvLayer-3-Filter-8-32-64-0-0-DenseLayer-1-Neuron-96-0-DropoutLayer-0.00-Activation-relu   \n",
       "40        ConvLayer-2-Filter-28-32-0-0-0-DenseLayer-1-Neuron-256-0-DropoutLayer-0.00-Activation-randomized_relu   \n",
       "3              ConvLayer-3-Filter-28-32-128-0-0-DenseLayer-1-Neuron-64-0-DropoutLayer-0.00-Activation-LeakyReLU   \n",
       "59         ConvLayer-2-Filter-8-28-0-0-0-DenseLayer-1-Neuron-256-0-DropoutLayer-0.00-Activation-randomized_relu   \n",
       "32                 ConvLayer-2-Filter-16-32-0-0-0-DenseLayer-2-Neuron-128-64-DropoutLayer-0.00-Activation-PReLU   \n",
       "7               ConvLayer-3-Filter-28-32-96-0-0-DenseLayer-1-Neuron-96-0-DropoutLayer-0.00-Activation-LeakyReLU   \n",
       "12                  ConvLayer-3-Filter-28-32-128-0-0-DenseLayer-1-Neuron-96-0-DropoutLayer-0.00-Activation-relu   \n",
       "83               ConvLayer-2-Filter-16-28-0-0-0-DenseLayer-1-Neuron-96-0-DropoutLayer-0.00-Activation-LeakyReLU   \n",
       "99               ConvLayer-3-Filter-8-32-96-0-0-DenseLayer-1-Neuron-96-0-DropoutLayer-0.00-Activation-LeakyReLU   \n",
       "78                    ConvLayer-2-Filter-8-32-0-0-0-DenseLayer-1-Neuron-256-0-DropoutLayer-0.00-Activation-relu   \n",
       "8                     ConvLayer-2-Filter-28-28-0-0-0-DenseLayer-1-Neuron-96-0-DropoutLayer-0.00-Activation-relu   \n",
       "92                    ConvLayer-2-Filter-8-28-0-0-0-DenseLayer-1-Neuron-128-0-DropoutLayer-0.00-Activation-relu   \n",
       "87                     ConvLayer-2-Filter-8-64-0-0-0-DenseLayer-1-Neuron-96-0-DropoutLayer-0.00-Activation-relu   \n",
       "29              ConvLayer-2-Filter-28-64-0-0-0-DenseLayer-1-Neuron-128-0-DropoutLayer-0.00-Activation-LeakyReLU   \n",
       "123                  ConvLayer-2-Filter-16-28-0-0-0-DenseLayer-2-Neuron-96-32-DropoutLayer-0.00-Activation-relu   \n",
       "101                    ConvLayer-2-Filter-8-64-0-0-0-DenseLayer-1-Neuron-64-0-DropoutLayer-0.49-Activation-relu   \n",
       "\n",
       "        Validation_RMSE  \n",
       "91    1.955190703528268  \n",
       "24   1.9595165484292167  \n",
       "19   1.9775424017224994  \n",
       "58   1.9776926027025494  \n",
       "49   1.9957137489318848  \n",
       "124  2.0169451904296873  \n",
       "100   2.026500061580113  \n",
       "118  2.0294959769930156  \n",
       "36   2.0495268549237933  \n",
       "98   2.0522208411352976  \n",
       "47   2.0527452291761126  \n",
       "48    2.056938898903983  \n",
       "112   2.059187844140189  \n",
       "116   2.072691796166556  \n",
       "127   2.074353814806257  \n",
       "28    2.088134343283517  \n",
       "113     2.0894539472035  \n",
       "79   2.0902832875932966  \n",
       "63    2.099843417576381  \n",
       "85   2.1224354812077113  \n",
       "14    2.125483121871948  \n",
       "54    2.126863833836147  \n",
       "64   2.1300009591238838  \n",
       "72    2.134844699587141  \n",
       "95   2.1411731215885705  \n",
       "61   2.1485912677219936  \n",
       "25   2.1517182370594568  \n",
       "26    2.154227876663208  \n",
       "46    2.180591105052403  \n",
       "73   2.1848906462533133  \n",
       "..                  ...  \n",
       "42   2.4821183626992362  \n",
       "10   2.4930085263933455  \n",
       "44    2.496244430541992  \n",
       "122   2.501065186091832  \n",
       "65   2.5049941648755754  \n",
       "71   2.5072616154806955  \n",
       "75   2.5078689411708286  \n",
       "110   2.511966656276158  \n",
       "84    2.523610428401402  \n",
       "55   2.5250123473576136  \n",
       "115   2.536481956754412  \n",
       "125   2.549358673095703  \n",
       "23    2.560265051977975  \n",
       "107   2.570503260748727  \n",
       "45   2.5746481364113945  \n",
       "40   2.5772973224094935  \n",
       "3    2.5826294817243305  \n",
       "59   2.5874791254316056  \n",
       "32   2.6166521072387696  \n",
       "7    2.6235972608838765  \n",
       "12    2.631747451509748  \n",
       "83   2.6324708134787422  \n",
       "99   2.6404296888623917  \n",
       "78    2.650168582371303  \n",
       "8    2.6715995134626116  \n",
       "92   2.7637200341905865  \n",
       "87   2.7815780912126815  \n",
       "29    2.782309341430664  \n",
       "123  2.7946814114706857  \n",
       "101   5.147372561863491  \n",
       "\n",
       "[129 rows x 3 columns]"
      ]
     },
     "execution_count": 121,
     "metadata": {},
     "output_type": "execute_result"
    }
   ],
   "source": [
    "pd.options.display.max_colwidth = 1010\n",
    "rand_search_output2.sort_values('Validation_RMSE')"
   ]
  },
  {
   "cell_type": "code",
   "execution_count": 125,
   "metadata": {},
   "outputs": [
    {
     "data": {
      "image/png": "[encoded data removed]",
      "text/plain": [
       "<Figure size 432x288 with 1 Axes>"
      ]
     },
     "metadata": {
      "needs_background": "light"
     },
     "output_type": "display_data"
    }
   ],
   "source": [
    "plt.plot(model_result[91].history['rmse'])\n",
    "plt.plot(model_result[91].history['val_rmse'])\n",
    "plt.show()"
   ]
  },
  {
   "cell_type": "code",
   "execution_count": 127,
   "metadata": {},
   "outputs": [
    {
     "data": {
      "image/png": "[encoded data removed]",
      "text/plain": [
       "<Figure size 432x288 with 1 Axes>"
      ]
     },
     "metadata": {
      "needs_background": "light"
     },
     "output_type": "display_data"
    }
   ],
   "source": [
    "plt.plot(model_result[24].history['rmse'])\n",
    "plt.plot(model_result[24].history['val_rmse'])\n",
    "plt.show()"
   ]
  },
  {
   "cell_type": "code",
   "execution_count": 128,
   "metadata": {},
   "outputs": [
    {
     "data": {
      "image/png": "[encoded data removed]",
      "text/plain": [
       "<Figure size 432x288 with 1 Axes>"
      ]
     },
     "metadata": {
      "needs_background": "light"
     },
     "output_type": "display_data"
    }
   ],
   "source": [
    "plt.plot(model_result[19].history['rmse'])\n",
    "plt.plot(model_result[19].history['val_rmse'])\n",
    "plt.show()"
   ]
  },
  {
   "cell_type": "code",
   "execution_count": 129,
   "metadata": {
    "scrolled": true
   },
   "outputs": [
    {
     "data": {
      "image/png": "[encoded data removed]",
      "text/plain": [
       "<Figure size 432x288 with 1 Axes>"
      ]
     },
     "metadata": {
      "needs_background": "light"
     },
     "output_type": "display_data"
    }
   ],
   "source": [
    "plt.plot(model_result[58].history['rmse'])\n",
    "plt.plot(model_result[58].history['val_rmse'])\n",
    "plt.show()"
   ]
  },
  {
   "cell_type": "code",
   "execution_count": 130,
   "metadata": {},
   "outputs": [
    {
     "data": {
      "image/png": "[encoded data removed]",
      "text/plain": [
       "<Figure size 432x288 with 1 Axes>"
      ]
     },
     "metadata": {
      "needs_background": "light"
     },
     "output_type": "display_data"
    }
   ],
   "source": [
    "plt.plot(model_result[49].history['rmse'])\n",
    "plt.plot(model_result[49].history['val_rmse'])\n",
    "plt.show()"
   ]
  },
  {
   "cell_type": "markdown",
   "metadata": {},
   "source": [
    "### Batch 2 - Test deeper networks"
   ]
  },
  {
   "cell_type": "code",
   "execution_count": 124,
   "metadata": {},
   "outputs": [],
   "source": [
    "# define RMSE\n",
    "def rmse (y_true, y_pred):\n",
    "    return K.sqrt(K.mean(K.square(y_pred - y_true)))\n",
    "\n",
    "# create model - use random search\n",
    "def create_model(x_train, y_train, n_point, activation):\n",
    "\n",
    "    n_conv_layer = 6\n",
    "    conv_filter1 = 8\n",
    "    conv_filter2 = 32\n",
    "    conv_filter3 = 64\n",
    "    conv_filter4 = 96\n",
    "    conv_filter5 = 128\n",
    "    conv_filter6 = 256\n",
    "    \n",
    "    n_dense_layer = 3\n",
    "    dense_neuron1 = 96\n",
    "    dense_neuron2 = 96\n",
    "    dense_neuron3 = 32\n",
    "     \n",
    "    description = 'ConvLayer-{}-Filter-{}-{}-{}-{}-{}-{}-DenseLayer-{}-Neuron-{}-{}-{}-Activation-{}'.format( \\\n",
    "            n_conv_layer, conv_filter1, conv_filter2, conv_filter3, conv_filter4, conv_filter5, conv_filter6, \\\n",
    "            n_dense_layer, dense_neuron1, dense_neuron2, dense_neuron3, activation)\n",
    "    \n",
    "    \n",
    "    # define model\n",
    "    model = Sequential()\n",
    "    \n",
    "    # conv layer 1\n",
    "    model.add(Conv2D(conv_filter1, (3, 3), strides=(1,1), padding='same', \\\n",
    "                     input_shape=(96,96,1), data_format='channels_last'))\n",
    "    model.add(BatchNormalization())\n",
    "    if activation == 'LeakyReLU':\n",
    "        model.add(LeakyReLU())\n",
    "    elif activation == 'PReLU':\n",
    "        model.add(PReLU())\n",
    "    else:\n",
    "        model.add(Activation(activation))\n",
    "    model.add(MaxPooling2D(pool_size=(3,3), strides=(2,2)))\n",
    "    \n",
    "    # conv layer 2\n",
    "    model.add(Conv2D(conv_filter2, (3, 3), strides=(1,1), padding='same'))\n",
    "    model.add(BatchNormalization())\n",
    "    if activation == 'LeakyReLU':\n",
    "        model.add(LeakyReLU())\n",
    "    elif activation == 'PReLU':\n",
    "        model.add(PReLU())\n",
    "    else:\n",
    "        model.add(Activation(activation))\n",
    "    model.add(MaxPooling2D(pool_size=(3,3), strides=(2,2)))\n",
    "\n",
    "    # conv layer 3\n",
    "    model.add(Conv2D(conv_filter3, (3, 3), strides=(1,1), padding='same'))\n",
    "    model.add(BatchNormalization())\n",
    "    if activation == 'LeakyReLU':\n",
    "        model.add(LeakyReLU())\n",
    "    elif activation == 'PReLU':\n",
    "        model.add(PReLU())\n",
    "    else:\n",
    "        model.add(Activation(activation))\n",
    "        \n",
    "    # conv layer 4\n",
    "    model.add(Conv2D(conv_filter4, (3, 3), strides=(1,1), padding='same'))\n",
    "    model.add(BatchNormalization())\n",
    "    if activation == 'LeakyReLU':\n",
    "        model.add(LeakyReLU())\n",
    "    elif activation == 'PReLU':\n",
    "        model.add(PReLU())\n",
    "    else:\n",
    "        model.add(Activation(activation))\n",
    "            \n",
    "    # conv layer 5\n",
    "    model.add(Conv2D(conv_filter5, (3, 3), strides=(1,1), padding='same'))\n",
    "    model.add(BatchNormalization())\n",
    "    if activation == 'LeakyReLU':\n",
    "        model.add(LeakyReLU())\n",
    "    elif activation == 'PReLU':\n",
    "        model.add(PReLU())\n",
    "    else:\n",
    "        model.add(Activation(activation))\n",
    "    model.add(MaxPooling2D(pool_size=(3,3), strides=(2,2)))\n",
    "\n",
    "    # conv layer 6\n",
    "    model.add(Conv2D(conv_filter6, (3, 3), strides=(1,1), padding='same'))\n",
    "    model.add(BatchNormalization())\n",
    "    if activation == 'LeakyReLU':\n",
    "        model.add(LeakyReLU())\n",
    "    elif activation == 'PReLU':\n",
    "        model.add(PReLU())\n",
    "    else:\n",
    "        model.add(Activation(activation))\n",
    "    model.add(MaxPooling2D(pool_size=(3,3), strides=(2,2)))\n",
    "    \n",
    "    \n",
    "    model.add(Flatten())\n",
    "    \n",
    "    # fully connected layer 1\n",
    "    model.add(Dense(dense_neuron1))\n",
    "    if activation == 'LeakyReLU':\n",
    "        model.add(LeakyReLU())\n",
    "    elif activation == 'PReLU':\n",
    "        model.add(PReLU())\n",
    "    else:\n",
    "        model.add(Activation(activation))\n",
    "    \n",
    "    # fully connected layer 2\n",
    "    model.add(Dense(dense_neuron2))\n",
    "    if activation == 'LeakyReLU':\n",
    "        model.add(LeakyReLU())\n",
    "    elif activation == 'PReLU':\n",
    "        model.add(PReLU())\n",
    "    else:\n",
    "        model.add(Activation(activation))\n",
    "        \n",
    "    # fully connected layer 3\n",
    "    model.add(Dense(dense_neuron3))\n",
    "    if activation == 'LeakyReLU':\n",
    "        model.add(LeakyReLU())\n",
    "    elif activation == 'PReLU':\n",
    "        model.add(PReLU())\n",
    "    else:\n",
    "        model.add(Activation(activation))    \n",
    "    \n",
    "    # output layer\n",
    "    model.add(Dense(n_point))\n",
    "\n",
    "\n",
    "    # compile model\n",
    "    model.compile(loss='mean_squared_error', metrics=[rmse], optimizer='adam')\n",
    "\n",
    "    return model, description"
   ]
  },
  {
   "cell_type": "code",
   "execution_count": 136,
   "metadata": {
    "scrolled": true
   },
   "outputs": [
    {
     "name": "stdout",
     "output_type": "stream",
     "text": [
      "Model 0: ConvLayer-6-Filter-8-32-64-96-128-256-DenseLayer-3-Neuron-96-96-32-Activation-relu\n",
      "Best validation RMSE: 2.2345300483703614\n",
      "Model 1: ConvLayer-6-Filter-8-32-64-96-128-256-DenseLayer-3-Neuron-96-96-32-Activation-LeakyReLU\n",
      "Best validation RMSE: 2.0406975167138235\n",
      "Model 2: ConvLayer-6-Filter-8-32-64-96-128-256-DenseLayer-3-Neuron-96-96-32-Activation-PReLU\n"
     ]
    },
    {
     "ename": "ResourceExhaustedError",
     "evalue": "OOM when allocating tensor with shape[64,128,23,23] and type float on /job:localhost/replica:0/task:0/device:GPU:0 by allocator GPU_0_bfc\n\t [[{{node training/Adam/gradients/zeros_5}} = Fill[T=DT_FLOAT, _class=[\"loc:@training/Adam/gradients/conv2d_5/BiasAdd_grad/BiasAddGrad\"], index_type=DT_INT32, _device=\"/job:localhost/replica:0/task:0/device:GPU:0\"](training/Adam/gradients/Shape_6, training/Adam/gradients/zeros_5/Const)]]\nHint: If you want to see a list of allocated tensors when OOM happens, add report_tensor_allocations_upon_oom to RunOptions for current allocation info.\n\n\t [[{{node metrics/rmse/Mean_1/_459}} = _Recv[client_terminated=false, recv_device=\"/job:localhost/replica:0/task:0/device:CPU:0\", send_device=\"/job:localhost/replica:0/task:0/device:GPU:0\", send_device_incarnation=1, tensor_name=\"edge_3429_metrics/rmse/Mean_1\", tensor_type=DT_FLOAT, _device=\"/job:localhost/replica:0/task:0/device:CPU:0\"]()]]\nHint: If you want to see a list of allocated tensors when OOM happens, add report_tensor_allocations_upon_oom to RunOptions for current allocation info.\n",
     "output_type": "error",
     "traceback": [
      "\u001b[1;31m---------------------------------------------------------------------------\u001b[0m",
      "\u001b[1;31mResourceExhaustedError\u001b[0m                    Traceback (most recent call last)",
      "\u001b[1;32m<ipython-input-136-b38f55c04f0b>\u001b[0m in \u001b[0;36m<module>\u001b[1;34m\u001b[0m\n\u001b[0;32m     11\u001b[0m \u001b[1;33m\u001b[0m\u001b[0m\n\u001b[0;32m     12\u001b[0m     \u001b[1;31m# fit model\u001b[0m\u001b[1;33m\u001b[0m\u001b[1;33m\u001b[0m\u001b[0m\n\u001b[1;32m---> 13\u001b[1;33m     \u001b[0mresult\u001b[0m \u001b[1;33m=\u001b[0m \u001b[0mmodel\u001b[0m\u001b[1;33m.\u001b[0m\u001b[0mfit\u001b[0m\u001b[1;33m(\u001b[0m\u001b[0mX_model1\u001b[0m\u001b[1;33m,\u001b[0m \u001b[0my_model1\u001b[0m\u001b[1;33m,\u001b[0m \u001b[0mbatch_size\u001b[0m\u001b[1;33m=\u001b[0m\u001b[1;36m64\u001b[0m\u001b[1;33m,\u001b[0m \u001b[0mepochs\u001b[0m\u001b[1;33m=\u001b[0m\u001b[1;36m20\u001b[0m\u001b[1;33m,\u001b[0m \u001b[0mverbose\u001b[0m\u001b[1;33m=\u001b[0m\u001b[1;36m0\u001b[0m\u001b[1;33m,\u001b[0m \u001b[0mvalidation_split\u001b[0m\u001b[1;33m=\u001b[0m\u001b[1;36m0.1\u001b[0m\u001b[1;33m)\u001b[0m\u001b[1;33m\u001b[0m\u001b[0m\n\u001b[0m\u001b[0;32m     14\u001b[0m \u001b[1;33m\u001b[0m\u001b[0m\n\u001b[0;32m     15\u001b[0m     \u001b[1;31m#get the highest validation accuracy of the training epochs\u001b[0m\u001b[1;33m\u001b[0m\u001b[1;33m\u001b[0m\u001b[0m\n",
      "\u001b[1;32m~\\Anaconda3\\envs\\py36\\lib\\site-packages\\keras\\engine\\training.py\u001b[0m in \u001b[0;36mfit\u001b[1;34m(self, x, y, batch_size, epochs, verbose, callbacks, validation_split, validation_data, shuffle, class_weight, sample_weight, initial_epoch, steps_per_epoch, validation_steps, **kwargs)\u001b[0m\n\u001b[0;32m   1037\u001b[0m                                         \u001b[0minitial_epoch\u001b[0m\u001b[1;33m=\u001b[0m\u001b[0minitial_epoch\u001b[0m\u001b[1;33m,\u001b[0m\u001b[1;33m\u001b[0m\u001b[0m\n\u001b[0;32m   1038\u001b[0m                                         \u001b[0msteps_per_epoch\u001b[0m\u001b[1;33m=\u001b[0m\u001b[0msteps_per_epoch\u001b[0m\u001b[1;33m,\u001b[0m\u001b[1;33m\u001b[0m\u001b[0m\n\u001b[1;32m-> 1039\u001b[1;33m                                         validation_steps=validation_steps)\n\u001b[0m\u001b[0;32m   1040\u001b[0m \u001b[1;33m\u001b[0m\u001b[0m\n\u001b[0;32m   1041\u001b[0m     def evaluate(self, x=None, y=None,\n",
      "\u001b[1;32m~\\Anaconda3\\envs\\py36\\lib\\site-packages\\keras\\engine\\training_arrays.py\u001b[0m in \u001b[0;36mfit_loop\u001b[1;34m(model, f, ins, out_labels, batch_size, epochs, verbose, callbacks, val_f, val_ins, shuffle, callback_metrics, initial_epoch, steps_per_epoch, validation_steps)\u001b[0m\n\u001b[0;32m    197\u001b[0m                     \u001b[0mins_batch\u001b[0m\u001b[1;33m[\u001b[0m\u001b[0mi\u001b[0m\u001b[1;33m]\u001b[0m \u001b[1;33m=\u001b[0m \u001b[0mins_batch\u001b[0m\u001b[1;33m[\u001b[0m\u001b[0mi\u001b[0m\u001b[1;33m]\u001b[0m\u001b[1;33m.\u001b[0m\u001b[0mtoarray\u001b[0m\u001b[1;33m(\u001b[0m\u001b[1;33m)\u001b[0m\u001b[1;33m\u001b[0m\u001b[0m\n\u001b[0;32m    198\u001b[0m \u001b[1;33m\u001b[0m\u001b[0m\n\u001b[1;32m--> 199\u001b[1;33m                 \u001b[0mouts\u001b[0m \u001b[1;33m=\u001b[0m \u001b[0mf\u001b[0m\u001b[1;33m(\u001b[0m\u001b[0mins_batch\u001b[0m\u001b[1;33m)\u001b[0m\u001b[1;33m\u001b[0m\u001b[0m\n\u001b[0m\u001b[0;32m    200\u001b[0m                 \u001b[0mouts\u001b[0m \u001b[1;33m=\u001b[0m \u001b[0mto_list\u001b[0m\u001b[1;33m(\u001b[0m\u001b[0mouts\u001b[0m\u001b[1;33m)\u001b[0m\u001b[1;33m\u001b[0m\u001b[0m\n\u001b[0;32m    201\u001b[0m                 \u001b[1;32mfor\u001b[0m \u001b[0ml\u001b[0m\u001b[1;33m,\u001b[0m \u001b[0mo\u001b[0m \u001b[1;32min\u001b[0m \u001b[0mzip\u001b[0m\u001b[1;33m(\u001b[0m\u001b[0mout_labels\u001b[0m\u001b[1;33m,\u001b[0m \u001b[0mouts\u001b[0m\u001b[1;33m)\u001b[0m\u001b[1;33m:\u001b[0m\u001b[1;33m\u001b[0m\u001b[0m\n",
      "\u001b[1;32m~\\Anaconda3\\envs\\py36\\lib\\site-packages\\keras\\backend\\tensorflow_backend.py\u001b[0m in \u001b[0;36m__call__\u001b[1;34m(self, inputs)\u001b[0m\n\u001b[0;32m   2713\u001b[0m                 \u001b[1;32mreturn\u001b[0m \u001b[0mself\u001b[0m\u001b[1;33m.\u001b[0m\u001b[0m_legacy_call\u001b[0m\u001b[1;33m(\u001b[0m\u001b[0minputs\u001b[0m\u001b[1;33m)\u001b[0m\u001b[1;33m\u001b[0m\u001b[0m\n\u001b[0;32m   2714\u001b[0m \u001b[1;33m\u001b[0m\u001b[0m\n\u001b[1;32m-> 2715\u001b[1;33m             \u001b[1;32mreturn\u001b[0m \u001b[0mself\u001b[0m\u001b[1;33m.\u001b[0m\u001b[0m_call\u001b[0m\u001b[1;33m(\u001b[0m\u001b[0minputs\u001b[0m\u001b[1;33m)\u001b[0m\u001b[1;33m\u001b[0m\u001b[0m\n\u001b[0m\u001b[0;32m   2716\u001b[0m         \u001b[1;32melse\u001b[0m\u001b[1;33m:\u001b[0m\u001b[1;33m\u001b[0m\u001b[0m\n\u001b[0;32m   2717\u001b[0m             \u001b[1;32mif\u001b[0m \u001b[0mpy_any\u001b[0m\u001b[1;33m(\u001b[0m\u001b[0mis_tensor\u001b[0m\u001b[1;33m(\u001b[0m\u001b[0mx\u001b[0m\u001b[1;33m)\u001b[0m \u001b[1;32mfor\u001b[0m \u001b[0mx\u001b[0m \u001b[1;32min\u001b[0m \u001b[0minputs\u001b[0m\u001b[1;33m)\u001b[0m\u001b[1;33m:\u001b[0m\u001b[1;33m\u001b[0m\u001b[0m\n",
      "\u001b[1;32m~\\Anaconda3\\envs\\py36\\lib\\site-packages\\keras\\backend\\tensorflow_backend.py\u001b[0m in \u001b[0;36m_call\u001b[1;34m(self, inputs)\u001b[0m\n\u001b[0;32m   2673\u001b[0m             \u001b[0mfetched\u001b[0m \u001b[1;33m=\u001b[0m \u001b[0mself\u001b[0m\u001b[1;33m.\u001b[0m\u001b[0m_callable_fn\u001b[0m\u001b[1;33m(\u001b[0m\u001b[1;33m*\u001b[0m\u001b[0marray_vals\u001b[0m\u001b[1;33m,\u001b[0m \u001b[0mrun_metadata\u001b[0m\u001b[1;33m=\u001b[0m\u001b[0mself\u001b[0m\u001b[1;33m.\u001b[0m\u001b[0mrun_metadata\u001b[0m\u001b[1;33m)\u001b[0m\u001b[1;33m\u001b[0m\u001b[0m\n\u001b[0;32m   2674\u001b[0m         \u001b[1;32melse\u001b[0m\u001b[1;33m:\u001b[0m\u001b[1;33m\u001b[0m\u001b[0m\n\u001b[1;32m-> 2675\u001b[1;33m             \u001b[0mfetched\u001b[0m \u001b[1;33m=\u001b[0m \u001b[0mself\u001b[0m\u001b[1;33m.\u001b[0m\u001b[0m_callable_fn\u001b[0m\u001b[1;33m(\u001b[0m\u001b[1;33m*\u001b[0m\u001b[0marray_vals\u001b[0m\u001b[1;33m)\u001b[0m\u001b[1;33m\u001b[0m\u001b[0m\n\u001b[0m\u001b[0;32m   2676\u001b[0m         \u001b[1;32mreturn\u001b[0m \u001b[0mfetched\u001b[0m\u001b[1;33m[\u001b[0m\u001b[1;33m:\u001b[0m\u001b[0mlen\u001b[0m\u001b[1;33m(\u001b[0m\u001b[0mself\u001b[0m\u001b[1;33m.\u001b[0m\u001b[0moutputs\u001b[0m\u001b[1;33m)\u001b[0m\u001b[1;33m]\u001b[0m\u001b[1;33m\u001b[0m\u001b[0m\n\u001b[0;32m   2677\u001b[0m \u001b[1;33m\u001b[0m\u001b[0m\n",
      "\u001b[1;32m~\\Anaconda3\\envs\\py36\\lib\\site-packages\\tensorflow\\python\\client\\session.py\u001b[0m in \u001b[0;36m__call__\u001b[1;34m(self, *args, **kwargs)\u001b[0m\n\u001b[0;32m   1437\u001b[0m           ret = tf_session.TF_SessionRunCallable(\n\u001b[0;32m   1438\u001b[0m               \u001b[0mself\u001b[0m\u001b[1;33m.\u001b[0m\u001b[0m_session\u001b[0m\u001b[1;33m.\u001b[0m\u001b[0m_session\u001b[0m\u001b[1;33m,\u001b[0m \u001b[0mself\u001b[0m\u001b[1;33m.\u001b[0m\u001b[0m_handle\u001b[0m\u001b[1;33m,\u001b[0m \u001b[0margs\u001b[0m\u001b[1;33m,\u001b[0m \u001b[0mstatus\u001b[0m\u001b[1;33m,\u001b[0m\u001b[1;33m\u001b[0m\u001b[0m\n\u001b[1;32m-> 1439\u001b[1;33m               run_metadata_ptr)\n\u001b[0m\u001b[0;32m   1440\u001b[0m         \u001b[1;32mif\u001b[0m \u001b[0mrun_metadata\u001b[0m\u001b[1;33m:\u001b[0m\u001b[1;33m\u001b[0m\u001b[0m\n\u001b[0;32m   1441\u001b[0m           \u001b[0mproto_data\u001b[0m \u001b[1;33m=\u001b[0m \u001b[0mtf_session\u001b[0m\u001b[1;33m.\u001b[0m\u001b[0mTF_GetBuffer\u001b[0m\u001b[1;33m(\u001b[0m\u001b[0mrun_metadata_ptr\u001b[0m\u001b[1;33m)\u001b[0m\u001b[1;33m\u001b[0m\u001b[0m\n",
      "\u001b[1;32m~\\Anaconda3\\envs\\py36\\lib\\site-packages\\tensorflow\\python\\framework\\errors_impl.py\u001b[0m in \u001b[0;36m__exit__\u001b[1;34m(self, type_arg, value_arg, traceback_arg)\u001b[0m\n\u001b[0;32m    526\u001b[0m             \u001b[1;32mNone\u001b[0m\u001b[1;33m,\u001b[0m \u001b[1;32mNone\u001b[0m\u001b[1;33m,\u001b[0m\u001b[1;33m\u001b[0m\u001b[0m\n\u001b[0;32m    527\u001b[0m             \u001b[0mcompat\u001b[0m\u001b[1;33m.\u001b[0m\u001b[0mas_text\u001b[0m\u001b[1;33m(\u001b[0m\u001b[0mc_api\u001b[0m\u001b[1;33m.\u001b[0m\u001b[0mTF_Message\u001b[0m\u001b[1;33m(\u001b[0m\u001b[0mself\u001b[0m\u001b[1;33m.\u001b[0m\u001b[0mstatus\u001b[0m\u001b[1;33m.\u001b[0m\u001b[0mstatus\u001b[0m\u001b[1;33m)\u001b[0m\u001b[1;33m)\u001b[0m\u001b[1;33m,\u001b[0m\u001b[1;33m\u001b[0m\u001b[0m\n\u001b[1;32m--> 528\u001b[1;33m             c_api.TF_GetCode(self.status.status))\n\u001b[0m\u001b[0;32m    529\u001b[0m     \u001b[1;31m# Delete the underlying status object from memory otherwise it stays alive\u001b[0m\u001b[1;33m\u001b[0m\u001b[1;33m\u001b[0m\u001b[0m\n\u001b[0;32m    530\u001b[0m     \u001b[1;31m# as there is a reference to status from this from the traceback due to\u001b[0m\u001b[1;33m\u001b[0m\u001b[1;33m\u001b[0m\u001b[0m\n",
      "\u001b[1;31mResourceExhaustedError\u001b[0m: OOM when allocating tensor with shape[64,128,23,23] and type float on /job:localhost/replica:0/task:0/device:GPU:0 by allocator GPU_0_bfc\n\t [[{{node training/Adam/gradients/zeros_5}} = Fill[T=DT_FLOAT, _class=[\"loc:@training/Adam/gradients/conv2d_5/BiasAdd_grad/BiasAddGrad\"], index_type=DT_INT32, _device=\"/job:localhost/replica:0/task:0/device:GPU:0\"](training/Adam/gradients/Shape_6, training/Adam/gradients/zeros_5/Const)]]\nHint: If you want to see a list of allocated tensors when OOM happens, add report_tensor_allocations_upon_oom to RunOptions for current allocation info.\n\n\t [[{{node metrics/rmse/Mean_1/_459}} = _Recv[client_terminated=false, recv_device=\"/job:localhost/replica:0/task:0/device:CPU:0\", send_device=\"/job:localhost/replica:0/task:0/device:GPU:0\", send_device_incarnation=1, tensor_name=\"edge_3429_metrics/rmse/Mean_1\", tensor_type=DT_FLOAT, _device=\"/job:localhost/replica:0/task:0/device:CPU:0\"]()]]\nHint: If you want to see a list of allocated tensors when OOM happens, add report_tensor_allocations_upon_oom to RunOptions for current allocation info.\n"
     ]
    }
   ],
   "source": [
    "activations = ['relu', 'LeakyReLU', 'PReLU', 'drop_activation']\n",
    "model_num = []\n",
    "model_desc = []\n",
    "model_result = []\n",
    "model_eval = []\n",
    "i = 0\n",
    "    \n",
    "for activation in activations:\n",
    "    model, description = create_model(X_model1, y_model1, 8, activation)\n",
    "    print('Model {}: {}'.format(i, description))\n",
    "\n",
    "    # fit model\n",
    "    result = model.fit(X_model1, y_model1, batch_size=64, epochs=20, verbose=0, validation_split=0.1)\n",
    "\n",
    "    #get the highest validation accuracy of the training epochs\n",
    "    validation_RMSE = np.amin(result.history['val_rmse'])\n",
    "    print('Best validation RMSE:', validation_RMSE)\n",
    "\n",
    "    model_num.append(i)\n",
    "    model_desc.append(description)\n",
    "    model_result.append(result)\n",
    "    model_eval.append(validation_RMSE)\n",
    "    \n",
    "    i += 1\n",
    "    K.clear_session()"
   ]
  },
  {
   "cell_type": "code",
   "execution_count": 137,
   "metadata": {},
   "outputs": [],
   "source": [
    "K.clear_session()"
   ]
  },
  {
   "cell_type": "code",
   "execution_count": null,
   "metadata": {},
   "outputs": [],
   "source": []
  },
  {
   "cell_type": "code",
   "execution_count": null,
   "metadata": {},
   "outputs": [],
   "source": []
  },
  {
   "cell_type": "code",
   "execution_count": null,
   "metadata": {},
   "outputs": [],
   "source": []
  },
  {
   "cell_type": "markdown",
   "metadata": {},
   "source": [
    "### Test Dropout vs. Batch Normalization"
   ]
  },
  {
   "cell_type": "markdown",
   "metadata": {},
   "source": [
    "### Test Activation Functions"
   ]
  },
  {
   "cell_type": "markdown",
   "metadata": {},
   "source": [
    "### Test Locally Connected Layers - after initial architecture selection"
   ]
  },
  {
   "cell_type": "markdown",
   "metadata": {},
   "source": [
    "### Test Batch Size??"
   ]
  },
  {
   "cell_type": "code",
   "execution_count": null,
   "metadata": {},
   "outputs": [],
   "source": []
  },
  {
   "cell_type": "code",
   "execution_count": null,
   "metadata": {},
   "outputs": [],
   "source": []
  },
  {
   "cell_type": "code",
   "execution_count": null,
   "metadata": {},
   "outputs": [],
   "source": []
  },
  {
   "cell_type": "code",
   "execution_count": null,
   "metadata": {},
   "outputs": [],
   "source": []
  },
  {
   "cell_type": "code",
   "execution_count": null,
   "metadata": {},
   "outputs": [],
   "source": []
  },
  {
   "cell_type": "code",
   "execution_count": null,
   "metadata": {},
   "outputs": [],
   "source": []
  },
  {
   "cell_type": "code",
   "execution_count": null,
   "metadata": {},
   "outputs": [],
   "source": []
  },
  {
   "cell_type": "code",
   "execution_count": null,
   "metadata": {},
   "outputs": [],
   "source": []
  },
  {
   "cell_type": "code",
   "execution_count": null,
   "metadata": {},
   "outputs": [],
   "source": []
  },
  {
   "cell_type": "code",
   "execution_count": null,
   "metadata": {},
   "outputs": [],
   "source": []
  },
  {
   "cell_type": "code",
   "execution_count": null,
   "metadata": {},
   "outputs": [],
   "source": []
  },
  {
   "cell_type": "code",
   "execution_count": null,
   "metadata": {},
   "outputs": [],
   "source": []
  },
  {
   "cell_type": "code",
   "execution_count": null,
   "metadata": {},
   "outputs": [],
   "source": []
  },
  {
   "cell_type": "code",
   "execution_count": null,
   "metadata": {},
   "outputs": [],
   "source": []
  },
  {
   "cell_type": "code",
   "execution_count": null,
   "metadata": {},
   "outputs": [],
   "source": []
  },
  {
   "cell_type": "code",
   "execution_count": null,
   "metadata": {},
   "outputs": [],
   "source": []
  },
  {
   "cell_type": "code",
   "execution_count": null,
   "metadata": {},
   "outputs": [],
   "source": []
  },
  {
   "cell_type": "code",
   "execution_count": null,
   "metadata": {},
   "outputs": [],
   "source": []
  },
  {
   "cell_type": "code",
   "execution_count": null,
   "metadata": {},
   "outputs": [],
   "source": []
  },
  {
   "cell_type": "code",
   "execution_count": null,
   "metadata": {},
   "outputs": [],
   "source": []
  },
  {
   "cell_type": "markdown",
   "metadata": {},
   "source": [
    "# Scratch Paper"
   ]
  },
  {
   "cell_type": "markdown",
   "metadata": {},
   "source": [
    "### Random parameter search with Hyperas (Keras wrapper for Hyperopt)"
   ]
  },
  {
   "cell_type": "code",
   "execution_count": 22,
   "metadata": {
    "scrolled": false
   },
   "outputs": [],
   "source": [
    "from hyperopt import Trials, STATUS_OK, tpe\n",
    "from hyperas import optim\n",
    "from hyperas.distributions import choice, uniform"
   ]
  },
  {
   "cell_type": "code",
   "execution_count": 57,
   "metadata": {},
   "outputs": [],
   "source": [
    "# prep data\n",
    "def prep_data(X, y, points):\n",
    "    \n",
    "    # load data\n",
    "    # X = np.load('X.npy')\n",
    "    # y = np.load('y.npy')\n",
    "    # points = [0, 1, 2, 3, 20, 21, 28, 29]\n",
    "    \n",
    "    # model with specific points \n",
    "    y_model = y[:, points]\n",
    "\n",
    "    # get index of non-missing labels\n",
    "    index = ~np.isnan(y_model).any(axis=1)\n",
    "\n",
    "    # filter out missing labels on training and validation data\n",
    "    X_model = X[index]\n",
    "    y_model = y_model[index]\n",
    "\n",
    "    # data transformation\n",
    "    degree1 = -10\n",
    "    degree2 = 10\n",
    "    n_point = len(points)\n",
    "    percent = 0.9\n",
    "\n",
    "    X_rotated = np.zeros((X_model.shape), dtype=np.float64)\n",
    "    X_rotated[range(0, len(X_model), 2)] = rotate_X(X_model[range(0, len(X_model), 2)], degree1)\n",
    "    X_rotated[range(1, len(X_model), 2)] = rotate_X(X_model[range(1, len(X_model), 2)], degree2)\n",
    "\n",
    "    y_rotated = np.zeros((y_model.shape), dtype=np.float64)\n",
    "    y_rotated[range(0, len(y_model), 2)] = rotate_y(y_model[range(0, len(y_model), 2)], degree1, n_point)\n",
    "    y_rotated[range(1, len(y_model), 2)] = rotate_y(y_model[range(1, len(y_model), 2)], degree2, n_point)   \n",
    "\n",
    "    X_rotated = np.concatenate((X_model, X_rotated), axis=0)\n",
    "    y_rotated = np.concatenate((y_model, y_rotated), axis=0)\n",
    "    \n",
    "    X_contrast = np.zeros((X_rotated.shape), dtype=np.float64)\n",
    "    X_contrast[range(1, len(X_rotated), 2)] = reduce_contrast(X_rotated[range(1, len(X_rotated), 2)], percent)\n",
    "    \n",
    "    return X_contrast.reshape(-1,96,96,1), y_rotated"
   ]
  },
  {
   "cell_type": "code",
   "execution_count": 60,
   "metadata": {},
   "outputs": [
    {
     "name": "stdout",
     "output_type": "stream",
     "text": [
      "(14000, 96, 96, 1)\n",
      "(14000, 8)\n",
      "(4310, 96, 96, 1)\n",
      "(4310, 22)\n"
     ]
    }
   ],
   "source": [
    "X_model1, y_model1 = prep_data(X, y, points = [0, 1, 2, 3, 20, 21, 28, 29])\n",
    "print(X_model1.shape)\n",
    "print(y_model1.shape)\n",
    "np.save('X_model1.npy', X_model1)\n",
    "np.save('y_model1.npy', y_model1)\n",
    "\n",
    "X_model2, y_model2 = prep_data(X, y, points = [4,5,6,7,8,9,10,11,12,13,14,15,16,17,18,19,22,23,24,25,26,27])\n",
    "print(X_model2.shape)\n",
    "print(y_model2.shape)\n",
    "np.save('X_model2.npy', X_model2)\n",
    "np.save('y_model2.npy', y_model2)"
   ]
  },
  {
   "cell_type": "code",
   "execution_count": 61,
   "metadata": {},
   "outputs": [],
   "source": [
    "def data():\n",
    "    return np.load('X_model1.npy'), np.load('y_model1.npy')"
   ]
  },
  {
   "cell_type": "code",
   "execution_count": 75,
   "metadata": {},
   "outputs": [],
   "source": [
    "def model(x_train, y_train, n_point):\n",
    "\n",
    "    conv_filters = [8, 16, 28, 32, 64, 96, 128]\n",
    "    \n",
    "    model = Sequential()\n",
    "    \n",
    "    # conv layer 1\n",
    "    model.add(Conv2D({{choice([8, 16, 28, 32, 64, 96, 128])}}, (3, 3), strides=(1,1), \\\n",
    "                     input_shape=(96,96,1), data_format='channels_last'))\n",
    "    model.add(Activation('relu'))\n",
    "    model.add(Dropout({{uniform(0, 1)}}))\n",
    "    \n",
    "    # conv layer 2\n",
    "    model.add(Conv2D({{choice([8, 16, 28, 32, 64, 96, 128])}}, (3, 3), strides=(1,1)))\n",
    "    model.add(Activation('relu'))\n",
    "    model.add(Dropout({{uniform(0, 1)}}))\n",
    "\n",
    "    # optional conv layer 3\n",
    "    if {{choice(['two', 'three'])}} == 'three':\n",
    "        model.add(Conv2D({{choice([8, 16, 28, 32, 64, 96, 128])}}, (3, 3), strides=(1,1)))\n",
    "        model.add(Activation('relu'))\n",
    "        model.add(Dropout({{uniform(0, 1)}}))\n",
    "\n",
    "        # optional conv layer 4\n",
    "        if {{choice(['three', 'four'])}} == 'four':\n",
    "            model.add(Conv2D({{choice([8, 16, 28, 32, 64, 96, 128])}}, (3, 3), strides=(1,1)))\n",
    "            model.add(Activation('relu'))\n",
    "            model.add(Dropout({{uniform(0, 1)}}))\n",
    "\n",
    "    model.add(Flatten())\n",
    "    \n",
    "    # fully connected layer 1\n",
    "    model.add(Dense({{choice([32, 64, 96, 128, 256, 512, 1024])}}, activation='relu'))\n",
    "    model.add(Dropout({{uniform(0, 1)}}))\n",
    "    \n",
    "    # optional fully connected layer 2\n",
    "    if {{choice(['one', 'two'])}} == 'two':\n",
    "        model.add(Dense({{choice([16, 32, 64, 96, 128, 256])}}, activation='relu'))\n",
    "        model.add(Dropout({{uniform(0, 1)}}))    \n",
    "    \n",
    "    # output layer\n",
    "    model.add(Dense(n_point))\n",
    "\n",
    "\n",
    "    # compile model\n",
    "    model.compile(loss='mean_squared_error', metrics=[rmse], optimizer='adam')\n",
    "\n",
    "    # fit model\n",
    "    result = model.fit(x_train, y_train,\n",
    "              batch_size={{choice([64, 128])}},\n",
    "              epochs=5,\n",
    "              verbose=2,\n",
    "              validation_split=0.1)\n",
    "    \n",
    "    #get the highest validation accuracy of the training epochs\n",
    "    validation_RMSE = np.amin(result.history['val_rmse']) \n",
    "    print('Best validation RMSE of epoch:', validation_RMSE)\n",
    "    return {'Validation RMSE': validation_RMSE, 'status': STATUS_OK, 'model': model}"
   ]
  },
  {
   "cell_type": "code",
   "execution_count": 76,
   "metadata": {
    "scrolled": true
   },
   "outputs": [
    {
     "name": "stdout",
     "output_type": "stream",
     "text": [
      ">>> Imports:\n",
      "#coding=utf-8\n",
      "\n",
      "try:\n",
      "    import pandas as pd\n",
      "except:\n",
      "    pass\n",
      "\n",
      "try:\n",
      "    import numpy as np\n",
      "except:\n",
      "    pass\n",
      "\n",
      "try:\n",
      "    from keras.models import Sequential\n",
      "except:\n",
      "    pass\n",
      "\n",
      "try:\n",
      "    from keras.layers.core import Dense, Dropout, Activation, Flatten\n",
      "except:\n",
      "    pass\n",
      "\n",
      "try:\n",
      "    from keras.layers.convolutional import Conv2D, MaxPooling2D, ZeroPadding2D\n",
      "except:\n",
      "    pass\n",
      "\n",
      "try:\n",
      "    from keras.utils import np_utils\n",
      "except:\n",
      "    pass\n",
      "\n",
      "try:\n",
      "    from keras import backend as K\n",
      "except:\n",
      "    pass\n",
      "\n",
      "try:\n",
      "    import tensorflow as tf\n",
      "except:\n",
      "    pass\n",
      "\n",
      "try:\n",
      "    from scipy.ndimage import rotate\n",
      "except:\n",
      "    pass\n",
      "\n",
      "try:\n",
      "    from matplotlib import pyplot as plt\n",
      "except:\n",
      "    pass\n",
      "\n",
      "try:\n",
      "    from hyperopt import Trials, STATUS_OK, tpe\n",
      "except:\n",
      "    pass\n",
      "\n",
      "try:\n",
      "    from hyperas import optim\n",
      "except:\n",
      "    pass\n",
      "\n",
      "try:\n",
      "    from hyperas.distributions import choice, uniform\n",
      "except:\n",
      "    pass\n",
      "\n",
      ">>> Hyperas search space:\n",
      "\n",
      "def get_space():\n",
      "    return {\n",
      "        'Conv2D': hp.choice('Conv2D', [8, 16, 28, 32, 64, 96, 128]),\n",
      "        'Dropout': hp.uniform('Dropout', 0, 1),\n",
      "        'Conv2D_1': hp.choice('Conv2D_1', [8, 16, 28, 32, 64, 96, 128]),\n",
      "        'Dropout_1': hp.uniform('Dropout_1', 0, 1),\n",
      "        'Dropout_2': hp.choice('Dropout_2', ['two', 'three']),\n",
      "        'Conv2D_2': hp.choice('Conv2D_2', [8, 16, 28, 32, 64, 96, 128]),\n",
      "        'Dropout_3': hp.uniform('Dropout_3', 0, 1),\n",
      "        'Dropout_4': hp.choice('Dropout_4', ['three', 'four']),\n",
      "        'Conv2D_3': hp.choice('Conv2D_3', [8, 16, 28, 32, 64, 96, 128]),\n",
      "        'Dropout_5': hp.uniform('Dropout_5', 0, 1),\n",
      "        'Dense': hp.choice('Dense', [32, 64, 96, 128, 256, 512, 1024]),\n",
      "        'Dropout_6': hp.uniform('Dropout_6', 0, 1),\n",
      "        'Dropout_7': hp.choice('Dropout_7', ['one', 'two']),\n",
      "        'Dense_1': hp.choice('Dense_1', [16, 32, 64, 96, 128, 256]),\n",
      "        'Dropout_8': hp.uniform('Dropout_8', 0, 1),\n",
      "        'batch_size': hp.choice('batch_size', [64, 128]),\n",
      "    }\n",
      "\n",
      ">>> Functions\n",
      " 1: def rmse (y_true, y_pred):\n",
      " 2:     return K.sqrt(K.mean(K.square(y_pred - y_true)))\n",
      " 3: \n",
      " 4: \n",
      ">>> Data\n",
      "1: \n",
      "2: \n",
      "3: \n",
      "4: \n",
      ">>> Resulting replaced keras model:\n",
      "\n",
      "   1: def keras_fmin_fnct(space):\n",
      "   2: \n",
      "   3:     \"\"\"\n",
      "   4:     Model providing function:\n",
      "   5: \n",
      "   6:     Create Keras model with double curly brackets dropped-in as needed.\n",
      "   7:     Return value has to be a valid python dictionary with two customary keys:\n",
      "   8:         - loss: Specify a numeric evaluation metric to be minimized\n",
      "   9:         - status: Just use STATUS_OK and see hyperopt documentation if not feasible\n",
      "  10:     The last one is optional, though recommended, namely:\n",
      "  11:         - model: specify the model just created so that we can later use it again.\n",
      "  12:     \"\"\"\n",
      "  13:     model = Sequential()\n",
      "  14:     \n",
      "  15:     # conv layer 1\n",
      "  16:     model.add(Conv2D(space['Conv2D'], (3, 3), strides=(1,1), \\\n",
      "  17:                      input_shape=(96,96,1), data_format='channels_last'))\n",
      "  18:     model.add(Activation('relu'))\n",
      "  19:     model.add(Dropout(space['Dropout']))\n",
      "  20:     \n",
      "  21:     # conv layer 2\n",
      "  22:     model.add(Conv2D(space['Conv2D_1'], (3, 3), strides=(1,1)))\n",
      "  23:     model.add(Activation('relu'))\n",
      "  24:     model.add(Dropout(space['Dropout_1']))\n",
      "  25: \n",
      "  26:     # optional conv layer 3\n",
      "  27:     if space['Dropout_2'] == 'three':\n",
      "  28:         model.add(Conv2D(space['Conv2D_2'], (3, 3), strides=(1,1)))\n",
      "  29:         model.add(Activation('relu'))\n",
      "  30:         model.add(Dropout(space['Dropout_3']))\n",
      "  31: \n",
      "  32:         # optional conv layer 4\n",
      "  33:         if space['Dropout_4'] == 'four':\n",
      "  34:             model.add(Conv2D(space['Conv2D_3'], (3, 3), strides=(1,1)))\n",
      "  35:             model.add(Activation('relu'))\n",
      "  36:             model.add(Dropout(space['Dropout_5']))\n",
      "  37: \n",
      "  38:     model.add(Flatten())\n",
      "  39:     \n",
      "  40:     # fully connected layer 1\n",
      "  41:     model.add(Dense(space['Dense'], activation='relu'))\n",
      "  42:     model.add(Dropout(space['Dropout_6']))\n",
      "  43:     \n",
      "  44:     # optional fully connected layer 2\n",
      "  45:     if space['Dropout_7'] == 'two':\n",
      "  46:         model.add(Dense(space['Dense_1'], activation='relu'))\n",
      "  47:         model.add(Dropout(space['Dropout_8']))    \n",
      "  48:     \n",
      "  49:     # output layer\n",
      "  50:     model.add(Dense(8))\n",
      "  51: \n",
      "  52: \n",
      "  53:     # compile model\n",
      "  54:     model.compile(loss='mean_squared_error', optimizer='adam')\n",
      "  55: \n",
      "  56:     # fit model\n",
      "  57:     result = model.fit(x_train, y_train,\n",
      "  58:               batch_size=space['batch_size'],\n",
      "  59:               epochs=5,\n",
      "  60:               verbose=2,\n",
      "  61:               validation_split=0.1)\n",
      "  62:     \n",
      "  63:     #get the highest validation accuracy of the training epochs\n",
      "  64:     validation_RMSE = np.amin(result.history['loss']) \n",
      "  65:     print('Best validation RMSE of epoch:', validation_RMSE)\n",
      "  66:     return {'Validation RMSE': validation_RMSE, 'status': STATUS_OK, 'model': model}\n",
      "  67: \n"
     ]
    },
    {
     "ename": "NameError",
     "evalue": "name 'rmse' is not defined",
     "output_type": "error",
     "traceback": [
      "\u001b[1;31m---------------------------------------------------------------------------\u001b[0m",
      "\u001b[1;31mNameError\u001b[0m                                 Traceback (most recent call last)",
      "\u001b[1;32m<ipython-input-76-327a9df741e2>\u001b[0m in \u001b[0;36m<module>\u001b[1;34m\u001b[0m\n\u001b[0;32m      9\u001b[0m                                       \u001b[0mmax_evals\u001b[0m\u001b[1;33m=\u001b[0m\u001b[1;36m5\u001b[0m\u001b[1;33m,\u001b[0m\u001b[1;33m\u001b[0m\u001b[0m\n\u001b[0;32m     10\u001b[0m                                       \u001b[0mtrials\u001b[0m\u001b[1;33m=\u001b[0m\u001b[0mTrials\u001b[0m\u001b[1;33m(\u001b[0m\u001b[1;33m)\u001b[0m\u001b[1;33m,\u001b[0m\u001b[1;33m\u001b[0m\u001b[0m\n\u001b[1;32m---> 11\u001b[1;33m                                       notebook_name='data_preprocessing')\n\u001b[0m",
      "\u001b[1;32m~\\Anaconda3\\envs\\py36\\lib\\site-packages\\hyperas\\optim.py\u001b[0m in \u001b[0;36mminimize\u001b[1;34m(model, data, algo, max_evals, trials, functions, rseed, notebook_name, verbose, eval_space, return_space)\u001b[0m\n\u001b[0;32m     65\u001b[0m                                      \u001b[0mfull_model_string\u001b[0m\u001b[1;33m=\u001b[0m\u001b[1;32mNone\u001b[0m\u001b[1;33m,\u001b[0m\u001b[1;33m\u001b[0m\u001b[0m\n\u001b[0;32m     66\u001b[0m                                      \u001b[0mnotebook_name\u001b[0m\u001b[1;33m=\u001b[0m\u001b[0mnotebook_name\u001b[0m\u001b[1;33m,\u001b[0m\u001b[1;33m\u001b[0m\u001b[0m\n\u001b[1;32m---> 67\u001b[1;33m                                      verbose=verbose)\n\u001b[0m\u001b[0;32m     68\u001b[0m \u001b[1;33m\u001b[0m\u001b[0m\n\u001b[0;32m     69\u001b[0m     \u001b[0mbest_model\u001b[0m \u001b[1;33m=\u001b[0m \u001b[1;32mNone\u001b[0m\u001b[1;33m\u001b[0m\u001b[0m\n",
      "\u001b[1;32m~\\Anaconda3\\envs\\py36\\lib\\site-packages\\hyperas\\optim.py\u001b[0m in \u001b[0;36mbase_minimizer\u001b[1;34m(model, data, functions, algo, max_evals, trials, rseed, full_model_string, notebook_name, verbose, stack)\u001b[0m\n\u001b[0;32m    131\u001b[0m              \u001b[0mtrials\u001b[0m\u001b[1;33m=\u001b[0m\u001b[0mtrials\u001b[0m\u001b[1;33m,\u001b[0m\u001b[1;33m\u001b[0m\u001b[0m\n\u001b[0;32m    132\u001b[0m              \u001b[0mrstate\u001b[0m\u001b[1;33m=\u001b[0m\u001b[0mnp\u001b[0m\u001b[1;33m.\u001b[0m\u001b[0mrandom\u001b[0m\u001b[1;33m.\u001b[0m\u001b[0mRandomState\u001b[0m\u001b[1;33m(\u001b[0m\u001b[0mrseed\u001b[0m\u001b[1;33m)\u001b[0m\u001b[1;33m,\u001b[0m\u001b[1;33m\u001b[0m\u001b[0m\n\u001b[1;32m--> 133\u001b[1;33m              return_argmin=True),\n\u001b[0m\u001b[0;32m    134\u001b[0m         \u001b[0mget_space\u001b[0m\u001b[1;33m(\u001b[0m\u001b[1;33m)\u001b[0m\u001b[1;33m\u001b[0m\u001b[0m\n\u001b[0;32m    135\u001b[0m     )\n",
      "\u001b[1;32m~\\Anaconda3\\envs\\py36\\lib\\site-packages\\hyperopt\\fmin.py\u001b[0m in \u001b[0;36mfmin\u001b[1;34m(fn, space, algo, max_evals, trials, rstate, allow_trials_fmin, pass_expr_memo_ctrl, catch_eval_exceptions, verbose, return_argmin, points_to_evaluate, max_queue_len)\u001b[0m\n\u001b[0;32m    365\u001b[0m             \u001b[0mverbose\u001b[0m\u001b[1;33m=\u001b[0m\u001b[0mverbose\u001b[0m\u001b[1;33m,\u001b[0m\u001b[1;33m\u001b[0m\u001b[0m\n\u001b[0;32m    366\u001b[0m             \u001b[0mcatch_eval_exceptions\u001b[0m\u001b[1;33m=\u001b[0m\u001b[0mcatch_eval_exceptions\u001b[0m\u001b[1;33m,\u001b[0m\u001b[1;33m\u001b[0m\u001b[0m\n\u001b[1;32m--> 367\u001b[1;33m             \u001b[0mreturn_argmin\u001b[0m\u001b[1;33m=\u001b[0m\u001b[0mreturn_argmin\u001b[0m\u001b[1;33m,\u001b[0m\u001b[1;33m\u001b[0m\u001b[0m\n\u001b[0m\u001b[0;32m    368\u001b[0m         )\n\u001b[0;32m    369\u001b[0m \u001b[1;33m\u001b[0m\u001b[0m\n",
      "\u001b[1;32m~\\Anaconda3\\envs\\py36\\lib\\site-packages\\hyperopt\\base.py\u001b[0m in \u001b[0;36mfmin\u001b[1;34m(self, fn, space, algo, max_evals, rstate, verbose, pass_expr_memo_ctrl, catch_eval_exceptions, return_argmin)\u001b[0m\n\u001b[0;32m    633\u001b[0m             \u001b[0mpass_expr_memo_ctrl\u001b[0m\u001b[1;33m=\u001b[0m\u001b[0mpass_expr_memo_ctrl\u001b[0m\u001b[1;33m,\u001b[0m\u001b[1;33m\u001b[0m\u001b[0m\n\u001b[0;32m    634\u001b[0m             \u001b[0mcatch_eval_exceptions\u001b[0m\u001b[1;33m=\u001b[0m\u001b[0mcatch_eval_exceptions\u001b[0m\u001b[1;33m,\u001b[0m\u001b[1;33m\u001b[0m\u001b[0m\n\u001b[1;32m--> 635\u001b[1;33m             return_argmin=return_argmin)\n\u001b[0m\u001b[0;32m    636\u001b[0m \u001b[1;33m\u001b[0m\u001b[0m\n\u001b[0;32m    637\u001b[0m \u001b[1;33m\u001b[0m\u001b[0m\n",
      "\u001b[1;32m~\\Anaconda3\\envs\\py36\\lib\\site-packages\\hyperopt\\fmin.py\u001b[0m in \u001b[0;36mfmin\u001b[1;34m(fn, space, algo, max_evals, trials, rstate, allow_trials_fmin, pass_expr_memo_ctrl, catch_eval_exceptions, verbose, return_argmin, points_to_evaluate, max_queue_len)\u001b[0m\n\u001b[0;32m    383\u001b[0m                     max_queue_len=max_queue_len)\n\u001b[0;32m    384\u001b[0m     \u001b[0mrval\u001b[0m\u001b[1;33m.\u001b[0m\u001b[0mcatch_eval_exceptions\u001b[0m \u001b[1;33m=\u001b[0m \u001b[0mcatch_eval_exceptions\u001b[0m\u001b[1;33m\u001b[0m\u001b[0m\n\u001b[1;32m--> 385\u001b[1;33m     \u001b[0mrval\u001b[0m\u001b[1;33m.\u001b[0m\u001b[0mexhaust\u001b[0m\u001b[1;33m(\u001b[0m\u001b[1;33m)\u001b[0m\u001b[1;33m\u001b[0m\u001b[0m\n\u001b[0m\u001b[0;32m    386\u001b[0m     \u001b[1;32mif\u001b[0m \u001b[0mreturn_argmin\u001b[0m\u001b[1;33m:\u001b[0m\u001b[1;33m\u001b[0m\u001b[0m\n\u001b[0;32m    387\u001b[0m         \u001b[1;32mreturn\u001b[0m \u001b[0mtrials\u001b[0m\u001b[1;33m.\u001b[0m\u001b[0margmin\u001b[0m\u001b[1;33m\u001b[0m\u001b[0m\n",
      "\u001b[1;32m~\\Anaconda3\\envs\\py36\\lib\\site-packages\\hyperopt\\fmin.py\u001b[0m in \u001b[0;36mexhaust\u001b[1;34m(self)\u001b[0m\n\u001b[0;32m    242\u001b[0m     \u001b[1;32mdef\u001b[0m \u001b[0mexhaust\u001b[0m\u001b[1;33m(\u001b[0m\u001b[0mself\u001b[0m\u001b[1;33m)\u001b[0m\u001b[1;33m:\u001b[0m\u001b[1;33m\u001b[0m\u001b[0m\n\u001b[0;32m    243\u001b[0m         \u001b[0mn_done\u001b[0m \u001b[1;33m=\u001b[0m \u001b[0mlen\u001b[0m\u001b[1;33m(\u001b[0m\u001b[0mself\u001b[0m\u001b[1;33m.\u001b[0m\u001b[0mtrials\u001b[0m\u001b[1;33m)\u001b[0m\u001b[1;33m\u001b[0m\u001b[0m\n\u001b[1;32m--> 244\u001b[1;33m         \u001b[0mself\u001b[0m\u001b[1;33m.\u001b[0m\u001b[0mrun\u001b[0m\u001b[1;33m(\u001b[0m\u001b[0mself\u001b[0m\u001b[1;33m.\u001b[0m\u001b[0mmax_evals\u001b[0m \u001b[1;33m-\u001b[0m \u001b[0mn_done\u001b[0m\u001b[1;33m,\u001b[0m \u001b[0mblock_until_done\u001b[0m\u001b[1;33m=\u001b[0m\u001b[0mself\u001b[0m\u001b[1;33m.\u001b[0m\u001b[0masynchronous\u001b[0m\u001b[1;33m)\u001b[0m\u001b[1;33m\u001b[0m\u001b[0m\n\u001b[0m\u001b[0;32m    245\u001b[0m         \u001b[0mself\u001b[0m\u001b[1;33m.\u001b[0m\u001b[0mtrials\u001b[0m\u001b[1;33m.\u001b[0m\u001b[0mrefresh\u001b[0m\u001b[1;33m(\u001b[0m\u001b[1;33m)\u001b[0m\u001b[1;33m\u001b[0m\u001b[0m\n\u001b[0;32m    246\u001b[0m         \u001b[1;32mreturn\u001b[0m \u001b[0mself\u001b[0m\u001b[1;33m\u001b[0m\u001b[0m\n",
      "\u001b[1;32m~\\Anaconda3\\envs\\py36\\lib\\site-packages\\hyperopt\\fmin.py\u001b[0m in \u001b[0;36mrun\u001b[1;34m(self, N, block_until_done)\u001b[0m\n\u001b[0;32m    216\u001b[0m             \u001b[1;32melse\u001b[0m\u001b[1;33m:\u001b[0m\u001b[1;33m\u001b[0m\u001b[0m\n\u001b[0;32m    217\u001b[0m                 \u001b[1;31m# -- loop over trials and do the jobs directly\u001b[0m\u001b[1;33m\u001b[0m\u001b[1;33m\u001b[0m\u001b[0m\n\u001b[1;32m--> 218\u001b[1;33m                 \u001b[0mself\u001b[0m\u001b[1;33m.\u001b[0m\u001b[0mserial_evaluate\u001b[0m\u001b[1;33m(\u001b[0m\u001b[1;33m)\u001b[0m\u001b[1;33m\u001b[0m\u001b[0m\n\u001b[0m\u001b[0;32m    219\u001b[0m \u001b[1;33m\u001b[0m\u001b[0m\n\u001b[0;32m    220\u001b[0m             \u001b[1;32mif\u001b[0m \u001b[0mstopped\u001b[0m\u001b[1;33m:\u001b[0m\u001b[1;33m\u001b[0m\u001b[0m\n",
      "\u001b[1;32m~\\Anaconda3\\envs\\py36\\lib\\site-packages\\hyperopt\\fmin.py\u001b[0m in \u001b[0;36mserial_evaluate\u001b[1;34m(self, N)\u001b[0m\n\u001b[0;32m    135\u001b[0m                 \u001b[0mctrl\u001b[0m \u001b[1;33m=\u001b[0m \u001b[0mbase\u001b[0m\u001b[1;33m.\u001b[0m\u001b[0mCtrl\u001b[0m\u001b[1;33m(\u001b[0m\u001b[0mself\u001b[0m\u001b[1;33m.\u001b[0m\u001b[0mtrials\u001b[0m\u001b[1;33m,\u001b[0m \u001b[0mcurrent_trial\u001b[0m\u001b[1;33m=\u001b[0m\u001b[0mtrial\u001b[0m\u001b[1;33m)\u001b[0m\u001b[1;33m\u001b[0m\u001b[0m\n\u001b[0;32m    136\u001b[0m                 \u001b[1;32mtry\u001b[0m\u001b[1;33m:\u001b[0m\u001b[1;33m\u001b[0m\u001b[0m\n\u001b[1;32m--> 137\u001b[1;33m                     \u001b[0mresult\u001b[0m \u001b[1;33m=\u001b[0m \u001b[0mself\u001b[0m\u001b[1;33m.\u001b[0m\u001b[0mdomain\u001b[0m\u001b[1;33m.\u001b[0m\u001b[0mevaluate\u001b[0m\u001b[1;33m(\u001b[0m\u001b[0mspec\u001b[0m\u001b[1;33m,\u001b[0m \u001b[0mctrl\u001b[0m\u001b[1;33m)\u001b[0m\u001b[1;33m\u001b[0m\u001b[0m\n\u001b[0m\u001b[0;32m    138\u001b[0m                 \u001b[1;32mexcept\u001b[0m \u001b[0mException\u001b[0m \u001b[1;32mas\u001b[0m \u001b[0me\u001b[0m\u001b[1;33m:\u001b[0m\u001b[1;33m\u001b[0m\u001b[0m\n\u001b[0;32m    139\u001b[0m                     \u001b[0mlogger\u001b[0m\u001b[1;33m.\u001b[0m\u001b[0minfo\u001b[0m\u001b[1;33m(\u001b[0m\u001b[1;34m'job exception: %s'\u001b[0m \u001b[1;33m%\u001b[0m \u001b[0mstr\u001b[0m\u001b[1;33m(\u001b[0m\u001b[0me\u001b[0m\u001b[1;33m)\u001b[0m\u001b[1;33m)\u001b[0m\u001b[1;33m\u001b[0m\u001b[0m\n",
      "\u001b[1;32m~\\Anaconda3\\envs\\py36\\lib\\site-packages\\hyperopt\\base.py\u001b[0m in \u001b[0;36mevaluate\u001b[1;34m(self, config, ctrl, attach_attachments)\u001b[0m\n\u001b[0;32m    838\u001b[0m                 \u001b[0mmemo\u001b[0m\u001b[1;33m=\u001b[0m\u001b[0mmemo\u001b[0m\u001b[1;33m,\u001b[0m\u001b[1;33m\u001b[0m\u001b[0m\n\u001b[0;32m    839\u001b[0m                 print_node_on_error=self.rec_eval_print_node_on_error)\n\u001b[1;32m--> 840\u001b[1;33m             \u001b[0mrval\u001b[0m \u001b[1;33m=\u001b[0m \u001b[0mself\u001b[0m\u001b[1;33m.\u001b[0m\u001b[0mfn\u001b[0m\u001b[1;33m(\u001b[0m\u001b[0mpyll_rval\u001b[0m\u001b[1;33m)\u001b[0m\u001b[1;33m\u001b[0m\u001b[0m\n\u001b[0m\u001b[0;32m    841\u001b[0m \u001b[1;33m\u001b[0m\u001b[0m\n\u001b[0;32m    842\u001b[0m         \u001b[1;32mif\u001b[0m \u001b[0misinstance\u001b[0m\u001b[1;33m(\u001b[0m\u001b[0mrval\u001b[0m\u001b[1;33m,\u001b[0m \u001b[1;33m(\u001b[0m\u001b[0mfloat\u001b[0m\u001b[1;33m,\u001b[0m \u001b[0mint\u001b[0m\u001b[1;33m,\u001b[0m \u001b[0mnp\u001b[0m\u001b[1;33m.\u001b[0m\u001b[0mnumber\u001b[0m\u001b[1;33m)\u001b[0m\u001b[1;33m)\u001b[0m\u001b[1;33m:\u001b[0m\u001b[1;33m\u001b[0m\u001b[0m\n",
      "\u001b[1;32m~\\Projects\\Facial_Key_Points_Detection\\temp_model.py\u001b[0m in \u001b[0;36mkeras_fmin_fnct\u001b[1;34m(space)\u001b[0m\n",
      "\u001b[1;31mNameError\u001b[0m: name 'rmse' is not defined"
     ]
    }
   ],
   "source": [
    "# define RMSE\n",
    "#def rmse (y_true, y_pred):\n",
    "#    return K.sqrt(K.mean(K.square(y_pred - y_true)))\n",
    "\n",
    "best_run, best_model = optim.minimize(model=create_model,\n",
    "                                      data=data,\n",
    "                                      functions=[rmse],\n",
    "                                      algo=tpe.suggest,\n",
    "                                      max_evals=5,\n",
    "                                      trials=Trials(),\n",
    "                                      notebook_name='data_preprocessing')"
   ]
  },
  {
   "cell_type": "code",
   "execution_count": null,
   "metadata": {},
   "outputs": [],
   "source": [
    "X_train, Y_train, X_test, Y_test = data(X, y, points = [0, 1, 2, 3, 20, 21, 28, 29])\n",
    "print(\"Evalutation of best performing model:\")\n",
    "print(best_model.evaluate(X_test, Y_test))\n",
    "print(\"Best performing model chosen hyper-parameters:\")\n",
    "print(best_run)\n",
    "\n"
   ]
  },
  {
   "cell_type": "code",
   "execution_count": 21,
   "metadata": {},
   "outputs": [
    {
     "data": {
      "text/plain": [
       "(14000, 96, 96, 1)"
      ]
     },
     "execution_count": 21,
     "metadata": {},
     "output_type": "execute_result"
    }
   ],
   "source": [
    "X_model1.shape"
   ]
  },
  {
   "cell_type": "code",
   "execution_count": 22,
   "metadata": {},
   "outputs": [
    {
     "data": {
      "text/plain": [
       "(14000, 8)"
      ]
     },
     "execution_count": 22,
     "metadata": {},
     "output_type": "execute_result"
    }
   ],
   "source": [
    "y_model1.shape"
   ]
  },
  {
   "cell_type": "code",
   "execution_count": 24,
   "metadata": {},
   "outputs": [
    {
     "data": {
      "image/png": "[encoded data removed]",
      "text/plain": [
       "<Figure size 432x288 with 1 Axes>"
      ]
     },
     "metadata": {
      "needs_background": "light"
     },
     "output_type": "display_data"
    },
    {
     "data": {
      "image/png": "[encoded data removed]",
      "text/plain": [
       "<Figure size 432x288 with 1 Axes>"
      ]
     },
     "metadata": {
      "needs_background": "light"
     },
     "output_type": "display_data"
    },
    {
     "data": {
      "image/png": "[encoded data removed]",
      "text/plain": [
       "<Figure size 432x288 with 1 Axes>"
      ]
     },
     "metadata": {
      "needs_background": "light"
     },
     "output_type": "display_data"
    },
    {
     "data": {
      "image/png": "[encoded data removed]",
      "text/plain": [
       "<Figure size 432x288 with 1 Axes>"
      ]
     },
     "metadata": {
      "needs_background": "light"
     },
     "output_type": "display_data"
    },
    {
     "data": {
      "image/png": "[encoded data removed]",
      "text/plain": [
       "<Figure size 432x288 with 1 Axes>"
      ]
     },
     "metadata": {
      "needs_background": "light"
     },
     "output_type": "display_data"
    },
    {
     "data": {
      "image/png": "[encoded data removed]",
      "text/plain": [
       "<Figure size 432x288 with 1 Axes>"
      ]
     },
     "metadata": {
      "needs_background": "light"
     },
     "output_type": "display_data"
    }
   ],
   "source": [
    "# check image\n",
    "X_plot = X_model1\n",
    "y_plot = y_model1\n",
    "\n",
    "i=0\n",
    "plt.imshow(X_plot[i].reshape(96,96),cmap='gray', vmin=0, vmax=255)\n",
    "plt.scatter(y_plot[i, range(0, 8, 2)], y_plot[i, range(1, 8, 2)], s=5, color='r')\n",
    "plt.show()\n",
    "i=7000\n",
    "plt.imshow(X_plot[i].reshape(96,96),cmap='gray', vmin=0, vmax=255)\n",
    "plt.scatter(y_plot[i, range(0, 8, 2)], y_plot[i, range(1, 8, 2)], s=5, color='r')\n",
    "plt.show()\n",
    "\n",
    "i=1\n",
    "plt.imshow(X_plot[i].reshape(96,96),cmap='gray', vmin=0, vmax=255)\n",
    "plt.scatter(y_plot[i, range(0, 8, 2)], y_plot[i, range(1, 8, 2)], s=5, color='r')\n",
    "plt.show()\n",
    "i=7001\n",
    "plt.imshow(X_plot[i].reshape(96,96),cmap='gray', vmin=0, vmax=255)\n",
    "plt.scatter(y_plot[i, range(0, 8, 2)], y_plot[i, range(1, 8, 2)], s=5, color='r')\n",
    "plt.show()\n",
    "\n",
    "i=2\n",
    "plt.imshow(X_plot[i].reshape(96,96),cmap='gray', vmin=0, vmax=255)\n",
    "plt.scatter(y_plot[i, range(0, 8, 2)], y_plot[i, range(1, 8, 2)], s=5, color='r')\n",
    "plt.show()\n",
    "i=7002\n",
    "plt.imshow(X_plot[i].reshape(96,96),cmap='gray', vmin=0, vmax=255)\n",
    "plt.scatter(y_plot[i, range(0, 8, 2)], y_plot[i, range(1, 8, 2)], s=5, color='r')\n",
    "plt.show()"
   ]
  },
  {
   "cell_type": "code",
   "execution_count": 520,
   "metadata": {
    "scrolled": true
   },
   "outputs": [
    {
     "data": {
      "text/plain": [
       "343.64848890014355"
      ]
     },
     "execution_count": 520,
     "metadata": {},
     "output_type": "execute_result"
    }
   ],
   "source": [
    "X_train_rotate.max()"
   ]
  },
  {
   "cell_type": "code",
   "execution_count": 502,
   "metadata": {},
   "outputs": [],
   "source": [
    "test = rotate(X_train.reshape(-1,96,96)[3], degree, reshape=False).reshape(96*96)"
   ]
  },
  {
   "cell_type": "code",
   "execution_count": 504,
   "metadata": {},
   "outputs": [
    {
     "data": {
      "text/plain": [
       "array([179., 179., 179., ...,  55.,  57.,  55.])"
      ]
     },
     "execution_count": 504,
     "metadata": {},
     "output_type": "execute_result"
    }
   ],
   "source": [
    "X_train[3]"
   ]
  },
  {
   "cell_type": "code",
   "execution_count": 506,
   "metadata": {},
   "outputs": [
    {
     "data": {
      "text/plain": [
       "239.34175779242386"
      ]
     },
     "execution_count": 506,
     "metadata": {},
     "output_type": "execute_result"
    }
   ],
   "source": [
    "test.max()"
   ]
  },
  {
   "cell_type": "code",
   "execution_count": null,
   "metadata": {},
   "outputs": [],
   "source": [
    "# mirroring\n",
    "# rotation\n",
    "# stretching\n",
    "# shift \n",
    "# contrast reduction"
   ]
  },
  {
   "cell_type": "code",
   "execution_count": 43,
   "metadata": {},
   "outputs": [
    {
     "data": {
      "text/plain": [
       "array([False, False,  True, False, False,  True, False, False, False,\n",
       "        True, False, False, False,  True, False, False, False, False,\n",
       "       False,  True, False, False, False, False,  True, False, False,\n",
       "       False, False, False,  True, False,  True, False,  True, False,\n",
       "       False, False, False, False, False, False, False,  True, False,\n",
       "       False,  True,  True, False,  True, False, False, False,  True,\n",
       "       False, False, False, False, False,  True,  True, False, False,\n",
       "        True, False, False, False, False, False,  True,  True,  True,\n",
       "       False,  True, False,  True,  True, False, False,  True, False,\n",
       "       False, False,  True, False,  True, False, False,  True,  True,\n",
       "        True, False,  True, False, False, False, False,  True, False,\n",
       "       False])"
      ]
     },
     "execution_count": 43,
     "metadata": {},
     "output_type": "execute_result"
    }
   ],
   "source": [
    "~np.isnan(y_train).any(axis=1)[:100]"
   ]
  },
  {
   "cell_type": "markdown",
   "metadata": {},
   "source": [
    "### test relu, randomized relu, and drop activation"
   ]
  },
  {
   "cell_type": "code",
   "execution_count": 65,
   "metadata": {},
   "outputs": [],
   "source": [
    "from randomized_relu import randomized_relu\n",
    "from drop_activation import drop_activation\n",
    "from keras.utils.generic_utils import get_custom_objects\n",
    "\n",
    "get_custom_objects().update({'randomized_relu': Activation(randomized_relu)})\n",
    "get_custom_objects().update({'drop_activation': Activation(drop_activation)})"
   ]
  },
  {
   "cell_type": "code",
   "execution_count": 66,
   "metadata": {},
   "outputs": [],
   "source": [
    "# test relu, randomized relu, and drop activation\n",
    "def test_relu():\n",
    "    model = Sequential()\n",
    "    model.add(Conv2D(8, (5, 5), strides=(1,1), activation='relu', input_shape=(96,96,1), \\\n",
    "                     data_format='channels_last'))\n",
    "    model.add(Conv2D(4, (3, 3), strides=(1,1), activation='relu'))\n",
    "    model.add(Flatten())\n",
    "    model.add(Dense(50, activation='relu'))\n",
    "    model.add(Dense(8))\n",
    "    \n",
    "    return model\n",
    "\n",
    "def test_randomized_relu():\n",
    "    model = Sequential()\n",
    "    model.add(Conv2D(8, (5, 5), strides=(1,1), activation='randomized_relu', input_shape=(96,96,1), \\\n",
    "                     data_format='channels_last'))\n",
    "    model.add(Conv2D(4, (3, 3), strides=(1,1), activation='randomized_relu'))\n",
    "    model.add(Flatten())\n",
    "    model.add(Dense(50, activation='randomized_relu'))\n",
    "    model.add(Dense(8))\n",
    "    \n",
    "    return model\n",
    "\n",
    "def test_drop_activation():\n",
    "    model = Sequential()\n",
    "    model.add(Conv2D(8, (5, 5), strides=(1,1), activation='drop_activation', input_shape=(96,96,1), \\\n",
    "                     data_format='channels_last'))\n",
    "    model.add(Conv2D(4, (3, 3), strides=(1,1), activation='drop_activation'))\n",
    "    model.add(Flatten())\n",
    "    model.add(Dense(50, activation='drop_activation'))\n",
    "    model.add(Dense(8))\n",
    "    \n",
    "    return model\n"
   ]
  },
  {
   "cell_type": "code",
   "execution_count": 74,
   "metadata": {},
   "outputs": [],
   "source": [
    "model1 = test_relu()\n",
    "model2 = test_randomized_relu()\n",
    "model3 = test_drop_activation()\n",
    "model1.compile(loss='mean_squared_error', metrics=[rmse], optimizer='adam')\n",
    "model2.compile(loss='mean_squared_error', metrics=[rmse], optimizer='adam')\n",
    "model3.compile(loss='mean_squared_error', metrics=[rmse], optimizer='adam')"
   ]
  },
  {
   "cell_type": "code",
   "execution_count": 75,
   "metadata": {
    "scrolled": true
   },
   "outputs": [
    {
     "name": "stdout",
     "output_type": "stream",
     "text": [
      "Train on 8400 samples, validate on 5600 samples\n",
      "Epoch 1/10\n",
      " - 3s - loss: 260.7073 - rmse: 14.1122 - val_loss: 111.0243 - val_rmse: 10.4950\n",
      "Epoch 2/10\n",
      " - 2s - loss: 101.0431 - rmse: 10.0011 - val_loss: 68.7175 - val_rmse: 8.2520\n",
      "Epoch 3/10\n",
      " - 2s - loss: 75.0113 - rmse: 8.6185 - val_loss: 99.3739 - val_rmse: 9.9277\n",
      "Epoch 4/10\n",
      " - 2s - loss: 59.5611 - rmse: 7.6730 - val_loss: 47.8289 - val_rmse: 6.8815\n",
      "Epoch 5/10\n",
      " - 2s - loss: 37.7164 - rmse: 6.0951 - val_loss: 28.6372 - val_rmse: 5.3224\n",
      "Epoch 6/10\n",
      " - 2s - loss: 17.0695 - rmse: 4.0837 - val_loss: 19.4909 - val_rmse: 4.3759\n",
      "Epoch 7/10\n",
      " - 2s - loss: 12.0809 - rmse: 3.4407 - val_loss: 17.1811 - val_rmse: 4.1074\n",
      "Epoch 8/10\n",
      " - 2s - loss: 10.5484 - rmse: 3.2044 - val_loss: 16.7008 - val_rmse: 4.0409\n",
      "Epoch 9/10\n",
      " - 2s - loss: 9.4084 - rmse: 3.0179 - val_loss: 15.7146 - val_rmse: 3.9246\n",
      "Epoch 10/10\n",
      " - 2s - loss: 8.3487 - rmse: 2.8439 - val_loss: 15.6424 - val_rmse: 3.9151\n",
      "Wall time: 26 s\n"
     ]
    }
   ],
   "source": [
    "%time result1 = model1.fit(X_model1, y_model1, batch_size=64, epochs=10, verbose=2, validation_split=0.4)"
   ]
  },
  {
   "cell_type": "code",
   "execution_count": 72,
   "metadata": {
    "scrolled": true
   },
   "outputs": [
    {
     "name": "stdout",
     "output_type": "stream",
     "text": [
      "Train on 8400 samples, validate on 5600 samples\n",
      "Epoch 1/10\n",
      " - 3s - loss: 102.5648 - rmse: 10.0887 - val_loss: 67.5372 - val_rmse: 8.1903\n",
      "Epoch 2/10\n",
      " - 3s - loss: 99.6459 - rmse: 9.9407 - val_loss: 74.3012 - val_rmse: 8.5946\n",
      "Epoch 3/10\n",
      " - 3s - loss: 96.8164 - rmse: 9.8017 - val_loss: 66.9642 - val_rmse: 8.1564\n",
      "Epoch 4/10\n",
      " - 3s - loss: 94.6526 - rmse: 9.6810 - val_loss: 103.3209 - val_rmse: 10.1388\n",
      "Epoch 5/10\n",
      " - 3s - loss: 94.1810 - rmse: 9.6646 - val_loss: 71.5321 - val_rmse: 8.4324\n",
      "Epoch 6/10\n",
      " - 3s - loss: 96.0061 - rmse: 9.7426 - val_loss: 62.8203 - val_rmse: 7.9032\n",
      "Epoch 7/10\n",
      " - 3s - loss: 90.3648 - rmse: 9.4611 - val_loss: 77.1100 - val_rmse: 8.7547\n",
      "Epoch 8/10\n",
      " - 3s - loss: 88.9232 - rmse: 9.3935 - val_loss: 97.0575 - val_rmse: 9.8264\n",
      "Epoch 9/10\n",
      " - 3s - loss: 79.7230 - rmse: 8.8871 - val_loss: 58.5163 - val_rmse: 7.6272\n",
      "Epoch 10/10\n",
      " - 3s - loss: 81.1238 - rmse: 8.9491 - val_loss: 54.2037 - val_rmse: 7.3361\n",
      "Wall time: 28.1 s\n"
     ]
    }
   ],
   "source": [
    "%time result2 = model2.fit(X_model1, y_model1, batch_size=64, epochs=10, verbose=2, validation_split=0.4)"
   ]
  },
  {
   "cell_type": "code",
   "execution_count": 73,
   "metadata": {
    "scrolled": true
   },
   "outputs": [
    {
     "name": "stdout",
     "output_type": "stream",
     "text": [
      "Train on 8400 samples, validate on 5600 samples\n",
      "Epoch 1/10\n",
      " - 3s - loss: 109.3603 - rmse: 10.4258 - val_loss: 81.1482 - val_rmse: 8.9797\n",
      "Epoch 2/10\n",
      " - 3s - loss: 107.6781 - rmse: 10.3446 - val_loss: 82.5813 - val_rmse: 9.0575\n",
      "Epoch 3/10\n",
      " - 3s - loss: 105.7454 - rmse: 10.2427 - val_loss: 79.3166 - val_rmse: 8.8772\n",
      "Epoch 4/10\n",
      " - 3s - loss: 104.8285 - rmse: 10.2023 - val_loss: 76.1190 - val_rmse: 8.6971\n",
      "Epoch 5/10\n",
      " - 3s - loss: 101.3723 - rmse: 10.0339 - val_loss: 75.6906 - val_rmse: 8.6729\n",
      "Epoch 6/10\n",
      " - 3s - loss: 101.5123 - rmse: 10.0386 - val_loss: 78.1856 - val_rmse: 8.8142\n",
      "Epoch 7/10\n",
      " - 3s - loss: 101.6332 - rmse: 10.0298 - val_loss: 90.4315 - val_rmse: 9.4843\n",
      "Epoch 8/10\n",
      " - 3s - loss: 97.2844 - rmse: 9.8270 - val_loss: 87.5773 - val_rmse: 9.3311\n",
      "Epoch 9/10\n",
      " - 3s - loss: 95.5099 - rmse: 9.7438 - val_loss: 70.7769 - val_rmse: 8.3845\n",
      "Epoch 10/10\n",
      " - 3s - loss: 99.0571 - rmse: 9.9099 - val_loss: 72.7262 - val_rmse: 8.4982\n",
      "Wall time: 28 s\n"
     ]
    }
   ],
   "source": [
    "%time result3 = model3.fit(X_model1, y_model1, batch_size=64, epochs=10, verbose=2, validation_split=0.4)"
   ]
  }
 ],
 "metadata": {
  "kernelspec": {
   "display_name": "Python 3",
   "language": "python",
   "name": "python3"
  },
  "language_info": {
   "codemirror_mode": {
    "name": "ipython",
    "version": 3
   },
   "file_extension": ".py",
   "mimetype": "text/x-python",
   "name": "python",
   "nbconvert_exporter": "python",
   "pygments_lexer": "ipython3",
   "version": "3.6.5"
  }
 },
 "nbformat": 4,
 "nbformat_minor": 2
}
